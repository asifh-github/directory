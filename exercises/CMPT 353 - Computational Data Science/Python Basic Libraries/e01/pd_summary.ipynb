{
 "cells": [
  {
   "cell_type": "code",
   "execution_count": 2,
   "id": "31fc5c09",
   "metadata": {},
   "outputs": [],
   "source": [
    "# import pandas\n",
    "import pandas as pd"
   ]
  },
  {
   "cell_type": "code",
   "execution_count": 3,
   "id": "f673f738",
   "metadata": {},
   "outputs": [
    {
     "data": {
      "text/html": [
       "<div>\n",
       "<style scoped>\n",
       "    .dataframe tbody tr th:only-of-type {\n",
       "        vertical-align: middle;\n",
       "    }\n",
       "\n",
       "    .dataframe tbody tr th {\n",
       "        vertical-align: top;\n",
       "    }\n",
       "\n",
       "    .dataframe thead th {\n",
       "        text-align: right;\n",
       "    }\n",
       "</style>\n",
       "<table border=\"1\" class=\"dataframe\">\n",
       "  <thead>\n",
       "    <tr style=\"text-align: right;\">\n",
       "      <th></th>\n",
       "      <th>2016-01</th>\n",
       "      <th>2016-02</th>\n",
       "      <th>2016-03</th>\n",
       "      <th>2016-04</th>\n",
       "      <th>2016-05</th>\n",
       "      <th>2016-06</th>\n",
       "      <th>2016-07</th>\n",
       "      <th>2016-08</th>\n",
       "      <th>2016-09</th>\n",
       "      <th>2016-10</th>\n",
       "      <th>2016-11</th>\n",
       "      <th>2016-12</th>\n",
       "    </tr>\n",
       "    <tr>\n",
       "      <th>name</th>\n",
       "      <th></th>\n",
       "      <th></th>\n",
       "      <th></th>\n",
       "      <th></th>\n",
       "      <th></th>\n",
       "      <th></th>\n",
       "      <th></th>\n",
       "      <th></th>\n",
       "      <th></th>\n",
       "      <th></th>\n",
       "      <th></th>\n",
       "      <th></th>\n",
       "    </tr>\n",
       "  </thead>\n",
       "  <tbody>\n",
       "    <tr>\n",
       "      <th>BURNABY SIMON FRASER U</th>\n",
       "      <td>30</td>\n",
       "      <td>22</td>\n",
       "      <td>30</td>\n",
       "      <td>30</td>\n",
       "      <td>21</td>\n",
       "      <td>21</td>\n",
       "      <td>20</td>\n",
       "      <td>25</td>\n",
       "      <td>20</td>\n",
       "      <td>19</td>\n",
       "      <td>17</td>\n",
       "      <td>16</td>\n",
       "    </tr>\n",
       "    <tr>\n",
       "      <th>CALGARY INTL A</th>\n",
       "      <td>31</td>\n",
       "      <td>29</td>\n",
       "      <td>31</td>\n",
       "      <td>30</td>\n",
       "      <td>31</td>\n",
       "      <td>30</td>\n",
       "      <td>31</td>\n",
       "      <td>30</td>\n",
       "      <td>30</td>\n",
       "      <td>30</td>\n",
       "      <td>30</td>\n",
       "      <td>30</td>\n",
       "    </tr>\n",
       "    <tr>\n",
       "      <th>GANDER INTL A</th>\n",
       "      <td>31</td>\n",
       "      <td>29</td>\n",
       "      <td>31</td>\n",
       "      <td>30</td>\n",
       "      <td>30</td>\n",
       "      <td>30</td>\n",
       "      <td>31</td>\n",
       "      <td>31</td>\n",
       "      <td>30</td>\n",
       "      <td>31</td>\n",
       "      <td>30</td>\n",
       "      <td>31</td>\n",
       "    </tr>\n",
       "    <tr>\n",
       "      <th>HALIFAX INTL A</th>\n",
       "      <td>31</td>\n",
       "      <td>29</td>\n",
       "      <td>31</td>\n",
       "      <td>30</td>\n",
       "      <td>31</td>\n",
       "      <td>30</td>\n",
       "      <td>31</td>\n",
       "      <td>31</td>\n",
       "      <td>29</td>\n",
       "      <td>30</td>\n",
       "      <td>30</td>\n",
       "      <td>31</td>\n",
       "    </tr>\n",
       "    <tr>\n",
       "      <th>REVELSTOKE</th>\n",
       "      <td>31</td>\n",
       "      <td>29</td>\n",
       "      <td>31</td>\n",
       "      <td>29</td>\n",
       "      <td>31</td>\n",
       "      <td>29</td>\n",
       "      <td>30</td>\n",
       "      <td>31</td>\n",
       "      <td>30</td>\n",
       "      <td>31</td>\n",
       "      <td>30</td>\n",
       "      <td>29</td>\n",
       "    </tr>\n",
       "  </tbody>\n",
       "</table>\n",
       "</div>"
      ],
      "text/plain": [
       "                        2016-01  2016-02  2016-03  2016-04  2016-05  2016-06  \\\n",
       "name                                                                           \n",
       "BURNABY SIMON FRASER U       30       22       30       30       21       21   \n",
       "CALGARY INTL A               31       29       31       30       31       30   \n",
       "GANDER INTL A                31       29       31       30       30       30   \n",
       "HALIFAX INTL A               31       29       31       30       31       30   \n",
       "REVELSTOKE                   31       29       31       29       31       29   \n",
       "\n",
       "                        2016-07  2016-08  2016-09  2016-10  2016-11  2016-12  \n",
       "name                                                                          \n",
       "BURNABY SIMON FRASER U       20       25       20       19       17       16  \n",
       "CALGARY INTL A               31       30       30       30       30       30  \n",
       "GANDER INTL A                31       31       30       31       30       31  \n",
       "HALIFAX INTL A               31       31       29       30       30       31  \n",
       "REVELSTOKE                   30       31       30       31       30       29  "
      ]
     },
     "execution_count": 3,
     "metadata": {},
     "output_type": "execute_result"
    }
   ],
   "source": [
    "# read csv files \n",
    "totals = pd.read_csv('totals.csv').set_index(keys=['name'])\n",
    "totals.head()\n",
    "counts = pd.read_csv('counts.csv').set_index(keys=['name'])\n",
    "counts.head()"
   ]
  },
  {
   "cell_type": "code",
   "execution_count": 7,
   "id": "829a0f7d",
   "metadata": {},
   "outputs": [
    {
     "data": {
      "text/plain": [
       "name\n",
       "BURNABY SIMON FRASER U            12948\n",
       "CALGARY INTL A                     5203\n",
       "GANDER INTL A                     14568\n",
       "HALIFAX INTL A                    15086\n",
       "REVELSTOKE                         8451\n",
       "SHERBROOKE                         8549\n",
       "TORONTO LESTER B. PEARSON INT'     6378\n",
       "VANCOUVER INTL A                  13148\n",
       "YELLOWKNIFE A                      2234\n",
       "dtype: int64"
      ]
     },
     "execution_count": 7,
     "metadata": {},
     "output_type": "execute_result"
    }
   ],
   "source": [
    "# which city had the lowest precipitation\n",
    "total_precp_city = totals.sum(axis=1)\n",
    "total_precp_city\n",
    "# print row name\n",
    "#total_precp_city.idxmin()\n"
   ]
  },
  {
   "cell_type": "code",
   "execution_count": 38,
   "id": "e80e34d5",
   "metadata": {},
   "outputs": [
    {
     "data": {
      "text/plain": [
       "2016-01    27.779783\n",
       "2016-02    30.426295\n",
       "2016-03    29.410072\n",
       "2016-04    17.966543\n",
       "2016-05    21.344569\n",
       "2016-06    20.694981\n",
       "2016-07    24.977186\n",
       "2016-08    19.856618\n",
       "2016-09    24.065637\n",
       "2016-10    44.684411\n",
       "2016-11    34.615686\n",
       "2016-12    32.366795\n",
       "dtype: float64"
      ]
     },
     "execution_count": 38,
     "metadata": {},
     "output_type": "execute_result"
    }
   ],
   "source": [
    "# determine average precp in these location for each month \n",
    "total_precp_month = totals.sum(axis=0)\n",
    "total_precp_month\n",
    "total_obs_month = counts.sum(axis=0)\n",
    "total_obs_month\n",
    "avg_precp_month = total_precp_month / total_obs_month\n",
    "avg_precp_month"
   ]
  },
  {
   "cell_type": "code",
   "execution_count": 40,
   "id": "66603570",
   "metadata": {},
   "outputs": [
    {
     "data": {
      "text/plain": [
       "name\n",
       "BURNABY SIMON FRASER U            47.778598\n",
       "CALGARY INTL A                    14.333333\n",
       "GANDER INTL A                     39.912329\n",
       "HALIFAX INTL A                    41.445055\n",
       "REVELSTOKE                        23.409972\n",
       "SHERBROOKE                        23.681440\n",
       "TORONTO LESTER B. PEARSON INT'    17.521978\n",
       "VANCOUVER INTL A                  36.522222\n",
       "YELLOWKNIFE A                      6.154270\n",
       "dtype: float64"
      ]
     },
     "execution_count": 40,
     "metadata": {},
     "output_type": "execute_result"
    }
   ],
   "source": [
    "# determine average precp (daily precp averaged over the month) for each city\n",
    "total_obs_city = counts.sum(axis=1)\n",
    "avg_precp_city = total_precp_city / total_obs_city\n",
    "avg_precp_city"
   ]
  }
 ],
 "metadata": {
  "kernelspec": {
   "display_name": "Python 3 (ipykernel)",
   "language": "python",
   "name": "python3"
  },
  "language_info": {
   "codemirror_mode": {
    "name": "ipython",
    "version": 3
   },
   "file_extension": ".py",
   "mimetype": "text/x-python",
   "name": "python",
   "nbconvert_exporter": "python",
   "pygments_lexer": "ipython3",
   "version": "3.9.7"
  }
 },
 "nbformat": 4,
 "nbformat_minor": 5
}
