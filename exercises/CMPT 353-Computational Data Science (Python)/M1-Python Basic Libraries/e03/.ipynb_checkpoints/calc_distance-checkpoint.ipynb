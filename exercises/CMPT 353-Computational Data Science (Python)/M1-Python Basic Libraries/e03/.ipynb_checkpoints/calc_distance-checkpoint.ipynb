{
 "cells": [
  {
   "cell_type": "code",
   "execution_count": 1,
   "id": "30dc190b",
   "metadata": {},
   "outputs": [],
   "source": [
    "import math\n",
    "import numpy as np\n",
    "import pandas as pd \n",
    "import matplotlib.pyplot as plt\n",
    "from pykalman import KalmanFilter\n",
    "from xml.dom.minidom import parse, parseString\n"
   ]
  },
  {
   "cell_type": "code",
   "execution_count": 2,
   "id": "055a6572",
   "metadata": {},
   "outputs": [],
   "source": [
    "gps_doc = parse('walk1.gpx')\n",
    "elements = gps_doc.getElementsByTagName('trkpt')"
   ]
  },
  {
   "cell_type": "code",
   "execution_count": 3,
   "id": "fc6f96b3",
   "metadata": {},
   "outputs": [
    {
     "data": {
      "text/plain": [
       "('49.2787398989', '-123.0161041655')"
      ]
     },
     "execution_count": 3,
     "metadata": {},
     "output_type": "execute_result"
    }
   ],
   "source": [
    "elements.item(0).getAttribute(\"lat\"), elements.item(0).getAttribute(\"lon\")"
   ]
  },
  {
   "cell_type": "code",
   "execution_count": 4,
   "id": "e94564c4",
   "metadata": {},
   "outputs": [
    {
     "data": {
      "text/plain": [
       "'2022-06-08T18:12:08Z'"
      ]
     },
     "execution_count": 4,
     "metadata": {},
     "output_type": "execute_result"
    }
   ],
   "source": [
    "t = elements.item(0).getElementsByTagName('time')\n",
    "t[0].firstChild.nodeValue"
   ]
  },
  {
   "cell_type": "code",
   "execution_count": 5,
   "id": "5ab337e9",
   "metadata": {},
   "outputs": [
    {
     "data": {
      "text/html": [
       "<div>\n",
       "<style scoped>\n",
       "    .dataframe tbody tr th:only-of-type {\n",
       "        vertical-align: middle;\n",
       "    }\n",
       "\n",
       "    .dataframe tbody tr th {\n",
       "        vertical-align: top;\n",
       "    }\n",
       "\n",
       "    .dataframe thead th {\n",
       "        text-align: right;\n",
       "    }\n",
       "</style>\n",
       "<table border=\"1\" class=\"dataframe\">\n",
       "  <thead>\n",
       "    <tr style=\"text-align: right;\">\n",
       "      <th></th>\n",
       "      <th>lat</th>\n",
       "      <th>lon</th>\n",
       "    </tr>\n",
       "    <tr>\n",
       "      <th>datetime</th>\n",
       "      <th></th>\n",
       "      <th></th>\n",
       "    </tr>\n",
       "  </thead>\n",
       "  <tbody>\n",
       "    <tr>\n",
       "      <th>2022-06-08 18:12:08+00:00</th>\n",
       "      <td>49.278740</td>\n",
       "      <td>-123.016104</td>\n",
       "    </tr>\n",
       "    <tr>\n",
       "      <th>2022-06-08 18:12:12+00:00</th>\n",
       "      <td>49.278679</td>\n",
       "      <td>-123.016151</td>\n",
       "    </tr>\n",
       "    <tr>\n",
       "      <th>2022-06-08 18:12:16+00:00</th>\n",
       "      <td>49.278673</td>\n",
       "      <td>-123.016120</td>\n",
       "    </tr>\n",
       "    <tr>\n",
       "      <th>2022-06-08 18:12:20+00:00</th>\n",
       "      <td>49.278570</td>\n",
       "      <td>-123.015954</td>\n",
       "    </tr>\n",
       "    <tr>\n",
       "      <th>2022-06-08 18:12:24+00:00</th>\n",
       "      <td>49.278584</td>\n",
       "      <td>-123.015928</td>\n",
       "    </tr>\n",
       "  </tbody>\n",
       "</table>\n",
       "</div>"
      ],
      "text/plain": [
       "                                 lat         lon\n",
       "datetime                                        \n",
       "2022-06-08 18:12:08+00:00  49.278740 -123.016104\n",
       "2022-06-08 18:12:12+00:00  49.278679 -123.016151\n",
       "2022-06-08 18:12:16+00:00  49.278673 -123.016120\n",
       "2022-06-08 18:12:20+00:00  49.278570 -123.015954\n",
       "2022-06-08 18:12:24+00:00  49.278584 -123.015928"
      ]
     },
     "execution_count": 5,
     "metadata": {},
     "output_type": "execute_result"
    }
   ],
   "source": [
    "# read data from gpx file \n",
    "# create function to extract cols \n",
    "def element_to_data(ele):\n",
    "    lat = float(ele.getAttribute(\"lat\"))\n",
    "    lon = float(ele.getAttribute(\"lon\"))\n",
    "    dtime = ele.getElementsByTagName('time')\n",
    "    dtime = pd.to_datetime(dtime[0].firstChild.nodeValue, utc=True)\n",
    "    \n",
    "    return lat, lon, dtime\n",
    "\n",
    "# read file\n",
    "gps_doc = parse('walk1.gpx')\n",
    "# get 'trkpt' element from file \n",
    "gps_elements = gps_doc.getElementsByTagName('trkpt')\n",
    "# get data from elment and create df with cols \n",
    "gps_data = pd.DataFrame(list(map(element_to_data, gps_elements)),\n",
    "                         columns=['lat', 'lon', 'datetime'])\n",
    "# set datetime as index\n",
    "gps_data = gps_data.set_index('datetime')\n",
    "gps_data.head()"
   ]
  },
  {
   "cell_type": "code",
   "execution_count": 6,
   "id": "0802a099",
   "metadata": {},
   "outputs": [
    {
     "data": {
      "text/html": [
       "<div>\n",
       "<style scoped>\n",
       "    .dataframe tbody tr th:only-of-type {\n",
       "        vertical-align: middle;\n",
       "    }\n",
       "\n",
       "    .dataframe tbody tr th {\n",
       "        vertical-align: top;\n",
       "    }\n",
       "\n",
       "    .dataframe thead th {\n",
       "        text-align: right;\n",
       "    }\n",
       "</style>\n",
       "<table border=\"1\" class=\"dataframe\">\n",
       "  <thead>\n",
       "    <tr style=\"text-align: right;\">\n",
       "      <th></th>\n",
       "      <th>lat</th>\n",
       "      <th>lon</th>\n",
       "      <th>Bx</th>\n",
       "      <th>By</th>\n",
       "    </tr>\n",
       "    <tr>\n",
       "      <th>datetime</th>\n",
       "      <th></th>\n",
       "      <th></th>\n",
       "      <th></th>\n",
       "      <th></th>\n",
       "    </tr>\n",
       "  </thead>\n",
       "  <tbody>\n",
       "    <tr>\n",
       "      <th>2022-06-08 18:12:08+00:00</th>\n",
       "      <td>49.278740</td>\n",
       "      <td>-123.016104</td>\n",
       "      <td>0.000000</td>\n",
       "      <td>0.000000</td>\n",
       "    </tr>\n",
       "    <tr>\n",
       "      <th>2022-06-08 18:12:12+00:00</th>\n",
       "      <td>49.278679</td>\n",
       "      <td>-123.016151</td>\n",
       "      <td>-18.596086</td>\n",
       "      <td>5.550491</td>\n",
       "    </tr>\n",
       "    <tr>\n",
       "      <th>2022-06-08 18:12:16+00:00</th>\n",
       "      <td>49.278673</td>\n",
       "      <td>-123.016120</td>\n",
       "      <td>-18.862977</td>\n",
       "      <td>1.294468</td>\n",
       "    </tr>\n",
       "    <tr>\n",
       "      <th>2022-06-08 18:12:20+00:00</th>\n",
       "      <td>49.278570</td>\n",
       "      <td>-123.015954</td>\n",
       "      <td>-15.199905</td>\n",
       "      <td>-8.701877</td>\n",
       "    </tr>\n",
       "    <tr>\n",
       "      <th>2022-06-08 18:12:24+00:00</th>\n",
       "      <td>49.278584</td>\n",
       "      <td>-123.015928</td>\n",
       "      <td>-13.832881</td>\n",
       "      <td>-11.560094</td>\n",
       "    </tr>\n",
       "  </tbody>\n",
       "</table>\n",
       "</div>"
      ],
      "text/plain": [
       "                                 lat         lon         Bx         By\n",
       "datetime                                                              \n",
       "2022-06-08 18:12:08+00:00  49.278740 -123.016104   0.000000   0.000000\n",
       "2022-06-08 18:12:12+00:00  49.278679 -123.016151 -18.596086   5.550491\n",
       "2022-06-08 18:12:16+00:00  49.278673 -123.016120 -18.862977   1.294468\n",
       "2022-06-08 18:12:20+00:00  49.278570 -123.015954 -15.199905  -8.701877\n",
       "2022-06-08 18:12:24+00:00  49.278584 -123.015928 -13.832881 -11.560094"
      ]
     },
     "execution_count": 6,
     "metadata": {},
     "output_type": "execute_result"
    }
   ],
   "source": [
    "# read data from csv file and add to gps df \n",
    "csv_data = pd.read_csv('walk1.csv', parse_dates=['datetime']).set_index('datetime')\n",
    "gps_data['Bx'] = csv_data['Bx']\n",
    "gps_data['By'] = csv_data['By']\n",
    "gps_data.head()"
   ]
  },
  {
   "cell_type": "code",
   "execution_count": 7,
   "id": "3822a778",
   "metadata": {
    "scrolled": true
   },
   "outputs": [],
   "source": [
    "# functions 'deg2rad' & 'distance' referenced from https://stackoverflow.com/questions/27928/calculate-distance-between-two-latitude-longitude-points-haversine-formula/21623206\n",
    "def deg2rad(deg) :\n",
    "  return deg * (math.pi/180)\n",
    "\n",
    "# write a function to calculate distance \n",
    "def distance(points):\n",
    "    R = 6371\n",
    "    points['lat1'] = points['lat'].shift(-1)\n",
    "    points['lon1'] = points['lon'].shift(-1)\n",
    "    points = points.dropna().copy()\n",
    "\n",
    "    points['dLat'] = deg2rad((points['lat1']-points['lat']))\n",
    "    points['dLon'] = deg2rad((points['lon1']-points['lon']))\n",
    "\n",
    "    points['a'] = np.sin(points['dLat']/2) * np.sin(points['dLat']/2) + np.cos(deg2rad(points['lat'])) * np.cos(deg2rad(points['lat1'])) * np.sin(points['dLon']/2) * np.sin(points['dLon']/2)\n",
    "\n",
    "    points['c'] = 2 * np.arctan2(np.sqrt(points['a']), np.sqrt(1-points['a']))\n",
    "\n",
    "    points['d'] = R * points['c'] * 1000\n",
    "\n",
    "    return(points['d'].sum())\n",
    "    \n"
   ]
  },
  {
   "cell_type": "code",
   "execution_count": 8,
   "id": "17ca8a4a",
   "metadata": {},
   "outputs": [
    {
     "name": "stdout",
     "output_type": "stream",
     "text": [
      "Unfiltered distance: 1095.76\n"
     ]
    },
    {
     "name": "stderr",
     "output_type": "stream",
     "text": [
      "/var/folders/9m/_507476d61b_2pb21qlmwzxh0000gn/T/ipykernel_26617/489318429.py:7: SettingWithCopyWarning: \n",
      "A value is trying to be set on a copy of a slice from a DataFrame.\n",
      "Try using .loc[row_indexer,col_indexer] = value instead\n",
      "\n",
      "See the caveats in the documentation: https://pandas.pydata.org/pandas-docs/stable/user_guide/indexing.html#returning-a-view-versus-a-copy\n",
      "  points['lat1'] = points['lat'].shift(-1)\n"
     ]
    }
   ],
   "source": [
    "# calculate unfiltered distance\n",
    "points = gps_data[['lat', 'lon']]\n",
    "\n",
    "dist = distance(points).round(6)\n",
    "print(f'Unfiltered distance: {dist:.2f}')"
   ]
  },
  {
   "cell_type": "code",
   "execution_count": 12,
   "id": "f0e22804",
   "metadata": {},
   "outputs": [],
   "source": [
    "# prepare data for kalman\n",
    "kalman_data = gps_data[['lat', 'lon', 'Bx', 'By']]\n",
    "initial_state = kalman_data.iloc[0]\n",
    "# observation_covariance expresses how much you believe the sensors\n",
    "# if the sensor is very accurate, small values should be used\n",
    "observation_covariance = np.diag([0.2, 0.2, 1, 1]) ** 2 # TODO: shouldn't be zero\n",
    "# transition_covariance expresses how accurate your prediction is\n",
    "transition_covariance = np.diag([0.5, 0.5, 1, 1]) ** 2 # TODO: shouldn't be zero\n",
    "transition = [[1, 0, 0.0000006, 0.00000029], [0, 1, -0.00000043, 0.00000012], [0, 0, 1, 0], [0, 0, 0, 1]] # TODO: shouldn't (all) be zero\n",
    "\n",
    "# apply kalman smoothing \n",
    "kf = KalmanFilter(\n",
    "    initial_state_mean=initial_state,\n",
    "    initial_state_covariance=observation_covariance,\n",
    "    observation_covariance=observation_covariance,\n",
    "    transition_covariance=transition_covariance,\n",
    "    transition_matrices=transition\n",
    ")\n",
    "kalman_smoothed, covar = kf.smooth(kalman_data)\n"
   ]
  },
  {
   "cell_type": "code",
   "execution_count": 13,
   "id": "cc8424df",
   "metadata": {},
   "outputs": [
    {
     "name": "stdout",
     "output_type": "stream",
     "text": [
      "Unfiltered distance: 898.58\n"
     ]
    }
   ],
   "source": [
    "# calculate unfiltered distance\n",
    "points1 = pd.DataFrame(kalman_smoothed[:, 0:2], columns=['lat', 'lon'])\n",
    "\n",
    "dist1 = distance(points1).round(6)\n",
    "print(f'Unfiltered distance: {dist1:.2f}')\n"
   ]
  },
  {
   "cell_type": "code",
   "execution_count": 11,
   "id": "e1a7f64d",
   "metadata": {},
   "outputs": [
    {
     "name": "stdout",
     "output_type": "stream",
     "text": [
      "   x   x1  distance\n",
      "0  1  2.0       1.0\n",
      "1  2  5.0       3.0\n",
      "2  5  8.0       3.0\n",
      "3  8  4.0       4.0\n"
     ]
    }
   ],
   "source": [
    "df = pd.DataFrame({'x': [1, 2, 5, 8, 4]})\n",
    "df['x1'] = df['x'].shift(-1)\n",
    "df = df.dropna().copy()\n",
    "df['distance'] = (df['x1'] - df['x']).abs()\n",
    "print(df)"
   ]
  },
  {
   "cell_type": "code",
   "execution_count": null,
   "id": "4807457f",
   "metadata": {},
   "outputs": [],
   "source": []
  }
 ],
 "metadata": {
  "kernelspec": {
   "display_name": "Python 3 (ipykernel)",
   "language": "python",
   "name": "python3"
  },
  "language_info": {
   "codemirror_mode": {
    "name": "ipython",
    "version": 3
   },
   "file_extension": ".py",
   "mimetype": "text/x-python",
   "name": "python",
   "nbconvert_exporter": "python",
   "pygments_lexer": "ipython3",
   "version": "3.9.7"
  }
 },
 "nbformat": 4,
 "nbformat_minor": 5
}
