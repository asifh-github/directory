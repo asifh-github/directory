{
 "cells": [
  {
   "cell_type": "code",
   "execution_count": 20,
   "id": "f4879d1f",
   "metadata": {},
   "outputs": [],
   "source": [
    "import pandas as pd\n",
    "from scipy import stats\n",
    "from statsmodels.stats.multicomp import pairwise_tukeyhsd"
   ]
  },
  {
   "cell_type": "code",
   "execution_count": 2,
   "id": "61782df8",
   "metadata": {},
   "outputs": [],
   "source": [
    "# read data from csv \n",
    "data = pd.read_csv('data.csv')"
   ]
  },
  {
   "cell_type": "code",
   "execution_count": 3,
   "id": "5d38a225",
   "metadata": {},
   "outputs": [
    {
     "data": {
      "text/html": [
       "<div>\n",
       "<style scoped>\n",
       "    .dataframe tbody tr th:only-of-type {\n",
       "        vertical-align: middle;\n",
       "    }\n",
       "\n",
       "    .dataframe tbody tr th {\n",
       "        vertical-align: top;\n",
       "    }\n",
       "\n",
       "    .dataframe thead th {\n",
       "        text-align: right;\n",
       "    }\n",
       "</style>\n",
       "<table border=\"1\" class=\"dataframe\">\n",
       "  <thead>\n",
       "    <tr style=\"text-align: right;\">\n",
       "      <th></th>\n",
       "      <th>qs1</th>\n",
       "      <th>qs2</th>\n",
       "      <th>qs3</th>\n",
       "      <th>qs4</th>\n",
       "      <th>qs5</th>\n",
       "      <th>merge1</th>\n",
       "      <th>partition_sort</th>\n",
       "    </tr>\n",
       "  </thead>\n",
       "  <tbody>\n",
       "    <tr>\n",
       "      <th>0</th>\n",
       "      <td>0.012239</td>\n",
       "      <td>0.028242</td>\n",
       "      <td>0.025211</td>\n",
       "      <td>0.165049</td>\n",
       "      <td>0.088542</td>\n",
       "      <td>0.085714</td>\n",
       "      <td>0.043208</td>\n",
       "    </tr>\n",
       "    <tr>\n",
       "      <th>1</th>\n",
       "      <td>0.007910</td>\n",
       "      <td>0.024616</td>\n",
       "      <td>0.025922</td>\n",
       "      <td>0.158215</td>\n",
       "      <td>0.082935</td>\n",
       "      <td>0.085167</td>\n",
       "      <td>0.042847</td>\n",
       "    </tr>\n",
       "    <tr>\n",
       "      <th>2</th>\n",
       "      <td>0.007956</td>\n",
       "      <td>0.025113</td>\n",
       "      <td>0.024541</td>\n",
       "      <td>0.159578</td>\n",
       "      <td>0.086219</td>\n",
       "      <td>0.089888</td>\n",
       "      <td>0.045437</td>\n",
       "    </tr>\n",
       "    <tr>\n",
       "      <th>3</th>\n",
       "      <td>0.008413</td>\n",
       "      <td>0.030145</td>\n",
       "      <td>0.026881</td>\n",
       "      <td>0.160898</td>\n",
       "      <td>0.087527</td>\n",
       "      <td>0.087367</td>\n",
       "      <td>0.043932</td>\n",
       "    </tr>\n",
       "    <tr>\n",
       "      <th>4</th>\n",
       "      <td>0.008532</td>\n",
       "      <td>0.025889</td>\n",
       "      <td>0.023769</td>\n",
       "      <td>0.163099</td>\n",
       "      <td>0.088294</td>\n",
       "      <td>0.085782</td>\n",
       "      <td>0.043838</td>\n",
       "    </tr>\n",
       "    <tr>\n",
       "      <th>...</th>\n",
       "      <td>...</td>\n",
       "      <td>...</td>\n",
       "      <td>...</td>\n",
       "      <td>...</td>\n",
       "      <td>...</td>\n",
       "      <td>...</td>\n",
       "      <td>...</td>\n",
       "    </tr>\n",
       "    <tr>\n",
       "      <th>95</th>\n",
       "      <td>0.009435</td>\n",
       "      <td>0.030847</td>\n",
       "      <td>0.027196</td>\n",
       "      <td>0.172949</td>\n",
       "      <td>0.090339</td>\n",
       "      <td>0.095188</td>\n",
       "      <td>0.047359</td>\n",
       "    </tr>\n",
       "    <tr>\n",
       "      <th>96</th>\n",
       "      <td>0.009304</td>\n",
       "      <td>0.028665</td>\n",
       "      <td>0.028282</td>\n",
       "      <td>0.172231</td>\n",
       "      <td>0.090032</td>\n",
       "      <td>0.089622</td>\n",
       "      <td>0.045465</td>\n",
       "    </tr>\n",
       "    <tr>\n",
       "      <th>97</th>\n",
       "      <td>0.008084</td>\n",
       "      <td>0.027142</td>\n",
       "      <td>0.026661</td>\n",
       "      <td>0.196759</td>\n",
       "      <td>0.097601</td>\n",
       "      <td>0.092756</td>\n",
       "      <td>0.045011</td>\n",
       "    </tr>\n",
       "    <tr>\n",
       "      <th>98</th>\n",
       "      <td>0.007974</td>\n",
       "      <td>0.025888</td>\n",
       "      <td>0.025221</td>\n",
       "      <td>0.170694</td>\n",
       "      <td>0.092343</td>\n",
       "      <td>0.090164</td>\n",
       "      <td>0.049470</td>\n",
       "    </tr>\n",
       "    <tr>\n",
       "      <th>99</th>\n",
       "      <td>0.008656</td>\n",
       "      <td>0.033363</td>\n",
       "      <td>0.028751</td>\n",
       "      <td>0.179091</td>\n",
       "      <td>0.092801</td>\n",
       "      <td>0.091118</td>\n",
       "      <td>0.046216</td>\n",
       "    </tr>\n",
       "  </tbody>\n",
       "</table>\n",
       "<p>100 rows × 7 columns</p>\n",
       "</div>"
      ],
      "text/plain": [
       "         qs1       qs2       qs3       qs4       qs5    merge1  partition_sort\n",
       "0   0.012239  0.028242  0.025211  0.165049  0.088542  0.085714        0.043208\n",
       "1   0.007910  0.024616  0.025922  0.158215  0.082935  0.085167        0.042847\n",
       "2   0.007956  0.025113  0.024541  0.159578  0.086219  0.089888        0.045437\n",
       "3   0.008413  0.030145  0.026881  0.160898  0.087527  0.087367        0.043932\n",
       "4   0.008532  0.025889  0.023769  0.163099  0.088294  0.085782        0.043838\n",
       "..       ...       ...       ...       ...       ...       ...             ...\n",
       "95  0.009435  0.030847  0.027196  0.172949  0.090339  0.095188        0.047359\n",
       "96  0.009304  0.028665  0.028282  0.172231  0.090032  0.089622        0.045465\n",
       "97  0.008084  0.027142  0.026661  0.196759  0.097601  0.092756        0.045011\n",
       "98  0.007974  0.025888  0.025221  0.170694  0.092343  0.090164        0.049470\n",
       "99  0.008656  0.033363  0.028751  0.179091  0.092801  0.091118        0.046216\n",
       "\n",
       "[100 rows x 7 columns]"
      ]
     },
     "execution_count": 3,
     "metadata": {},
     "output_type": "execute_result"
    }
   ],
   "source": [
    "data\n"
   ]
  },
  {
   "cell_type": "code",
   "execution_count": 11,
   "id": "a0cdae34",
   "metadata": {},
   "outputs": [
    {
     "name": "stdout",
     "output_type": "stream",
     "text": [
      "ANOVA p-value: 0.0\n"
     ]
    }
   ],
   "source": [
    "# do a avova test: to determine if the means of any of the groups differ\n",
    "anova = stats.f_oneway(data['qs1'], data['qs2'], data['qs3'], data['qs4'], data['qs5'], data['merge1'], data['partition_sort'])\n",
    "print('ANOVA p-value:', anova.pvalue)\n",
    "# ANOVA pvalue: 0.0 < 0.05, we can conclude that means amoung the distinct sorting algorithms differ"
   ]
  },
  {
   "cell_type": "code",
   "execution_count": 22,
   "id": "c137ad6b",
   "metadata": {},
   "outputs": [
    {
     "name": "stdout",
     "output_type": "stream",
     "text": [
      "        Multiple Comparison of Means - Tukey HSD, FWER=0.05        \n",
      "===================================================================\n",
      "    group1         group2     meandiff p-adj  lower   upper  reject\n",
      "-------------------------------------------------------------------\n",
      "        merge1 partition_sort   -0.045 0.001  -0.047  -0.043   True\n",
      "        merge1            qs1  -0.0824 0.001 -0.0844 -0.0804   True\n",
      "        merge1            qs2  -0.0634 0.001 -0.0654 -0.0614   True\n",
      "        merge1            qs3  -0.0636 0.001 -0.0656 -0.0616   True\n",
      "        merge1            qs4   0.0813 0.001  0.0793  0.0833   True\n",
      "        merge1            qs5   0.0004   0.9 -0.0017  0.0024  False\n",
      "partition_sort            qs1  -0.0374 0.001 -0.0394 -0.0354   True\n",
      "partition_sort            qs2  -0.0184 0.001 -0.0204 -0.0164   True\n",
      "partition_sort            qs3  -0.0186 0.001 -0.0206 -0.0166   True\n",
      "partition_sort            qs4   0.1263 0.001  0.1243  0.1284   True\n",
      "partition_sort            qs5   0.0454 0.001  0.0434  0.0474   True\n",
      "           qs1            qs2    0.019 0.001   0.017   0.021   True\n",
      "           qs1            qs3   0.0188 0.001  0.0168  0.0208   True\n",
      "           qs1            qs4   0.1637 0.001  0.1617  0.1657   True\n",
      "           qs1            qs5   0.0827 0.001  0.0807  0.0848   True\n",
      "           qs2            qs3  -0.0002   0.9 -0.0022  0.0019  False\n",
      "           qs2            qs4   0.1447 0.001  0.1427  0.1468   True\n",
      "           qs2            qs5   0.0638 0.001  0.0618  0.0658   True\n",
      "           qs3            qs4   0.1449 0.001  0.1429  0.1469   True\n",
      "           qs3            qs5   0.0639 0.001  0.0619   0.066   True\n",
      "           qs4            qs5   -0.081 0.001  -0.083  -0.079   True\n",
      "-------------------------------------------------------------------\n"
     ]
    }
   ],
   "source": [
    "# if you get significance in an ANOVA\n",
    "# do a post hoc tesh: do pairwise comparisons between each variable\n",
    "data_melt = pd.melt(data)\n",
    "posthoc = pairwise_tukeyhsd(\n",
    "    data_melt['value'], data_melt['variable'],\n",
    "    alpha=0.05)\n",
    "print(posthoc)\n",
    "# POST HOC analysis: looking at the results we can conclude that 'qs1' is the fastest \n",
    "#                   and we reject two pair-gorups, i.e., pair 'merge1' & 'qs5' and pair 'qs2' & 'qs3' (can not be distinguished)"
   ]
  },
  {
   "cell_type": "code",
   "execution_count": 25,
   "id": "83db7c4a",
   "metadata": {},
   "outputs": [
    {
     "name": "stderr",
     "output_type": "stream",
     "text": [
      "/opt/anaconda3/lib/python3.9/site-packages/statsmodels/sandbox/stats/multicomp.py:775: UserWarning: FixedFormatter should only be used together with FixedLocator\n",
      "  ax1.set_yticklabels(np.insert(self.groupsunique.astype(str), 0, ''))\n"
     ]
    },
    {
     "data": {
      "image/png": "[encoded data removed]",
      "text/plain": [
       "<Figure size 720x432 with 1 Axes>"
      ]
     },
     "metadata": {
      "needs_background": "light"
     },
     "output_type": "display_data"
    }
   ],
   "source": [
    "posthoc.plot_simultaneous();"
   ]
  },
  {
   "cell_type": "code",
   "execution_count": null,
   "id": "78915008",
   "metadata": {},
   "outputs": [],
   "source": []
  }
 ],
 "metadata": {
  "kernelspec": {
   "display_name": "Python 3 (ipykernel)",
   "language": "python",
   "name": "python3"
  },
  "language_info": {
   "codemirror_mode": {
    "name": "ipython",
    "version": 3
   },
   "file_extension": ".py",
   "mimetype": "text/x-python",
   "name": "python",
   "nbconvert_exporter": "python",
   "pygments_lexer": "ipython3",
   "version": "3.9.7"
  }
 },
 "nbformat": 4,
 "nbformat_minor": 5
}
