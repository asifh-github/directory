{
 "cells": [
  {
   "cell_type": "code",
   "execution_count": 68,
   "id": "a3ecfc24",
   "metadata": {},
   "outputs": [],
   "source": [
    "import numpy as np\n",
    "import pandas as pd\n",
    "import matplotlib.pyplot as plt\n",
    "from skimage.color import lab2rgb, rgb2lab\n",
    "from sklearn.model_selection import train_test_split\n",
    "from sklearn.pipeline import make_pipeline\n",
    "from sklearn.preprocessing import FunctionTransformer\n",
    "from sklearn.naive_bayes import GaussianNB\n",
    "from sklearn.neighbors import KNeighborsClassifier\n",
    "from sklearn.ensemble import RandomForestClassifier\n",
    "from sklearn.tree import export_graphviz"
   ]
  },
  {
   "cell_type": "code",
   "execution_count": 5,
   "id": "c6ea2c46",
   "metadata": {},
   "outputs": [],
   "source": [
    "# representative RGB colours for each label, for nice display\n",
    "COLOUR_RGB = {\n",
    "    'red': (255, 0, 0),\n",
    "    'orange': (255, 112, 0),\n",
    "    'yellow': (255, 255, 0),\n",
    "    'green': (0, 231, 0),\n",
    "    'blue': (0, 0, 255),\n",
    "    'purple': (185, 0, 185),\n",
    "    'brown': (117, 60, 0),\n",
    "    'pink': (255, 184, 184),\n",
    "    'black': (0, 0, 0),\n",
    "    'grey': (150, 150, 150),\n",
    "    'white': (255, 255, 255),\n",
    "}\n",
    "name_to_rgb = np.vectorize(COLOUR_RGB.get, otypes=[np.uint8, np.uint8, np.uint8])"
   ]
  },
  {
   "cell_type": "code",
   "execution_count": 6,
   "id": "92d8958b",
   "metadata": {},
   "outputs": [],
   "source": [
    "def plot_predictions(model, lum=67, resolution=300):\n",
    "    \"\"\"\n",
    "    Create a slice of LAB colour space with given luminance; predict with the model; plot the results.\n",
    "    \"\"\"\n",
    "    wid = resolution\n",
    "    hei = resolution\n",
    "    n_ticks = 5\n",
    "\n",
    "    # create a hei*wid grid of LAB colour values, with L=lum\n",
    "    ag = np.linspace(-100, 100, wid)\n",
    "    bg = np.linspace(-100, 100, hei)\n",
    "    aa, bb = np.meshgrid(ag, bg)\n",
    "    ll = lum * np.ones((hei, wid))\n",
    "    lab_grid = np.stack([ll, aa, bb], axis=2)\n",
    "\n",
    "    # convert to RGB for consistency with original input\n",
    "    X_grid = lab2rgb(lab_grid)\n",
    "\n",
    "    # predict and convert predictions to colours so we can see what's happening\n",
    "    y_grid = model.predict(X_grid.reshape((-1, 3)))\n",
    "    pixels = np.stack(name_to_rgb(y_grid), axis=1) / 255\n",
    "    pixels = pixels.reshape((hei, wid, 3))\n",
    "\n",
    "    # plot input and predictions\n",
    "    plt.figure(figsize=(10, 5))\n",
    "    plt.suptitle('Predictions at L=%g' % (lum,))\n",
    "    plt.subplot(1, 2, 1)\n",
    "    plt.title('Inputs')\n",
    "    plt.xticks(np.linspace(0, wid, n_ticks), np.linspace(-100, 100, n_ticks))\n",
    "    plt.yticks(np.linspace(0, hei, n_ticks), np.linspace(-100, 100, n_ticks))\n",
    "    plt.xlabel('A')\n",
    "    plt.ylabel('B')\n",
    "    plt.imshow(X_grid.reshape((hei, wid, -1)))\n",
    "\n",
    "    plt.subplot(1, 2, 2)\n",
    "    plt.title('Predicted Labels')\n",
    "    plt.xticks(np.linspace(0, wid, n_ticks), np.linspace(-100, 100, n_ticks))\n",
    "    plt.yticks(np.linspace(0, hei, n_ticks), np.linspace(-100, 100, n_ticks))\n",
    "    plt.xlabel('A')\n",
    "    plt.imshow(pixels)\n"
   ]
  },
  {
   "cell_type": "code",
   "execution_count": 8,
   "id": "3e9d6307",
   "metadata": {},
   "outputs": [
    {
     "data": {
      "text/plain": [
       "(array([[0.65882353, 0.82745098, 0.95294118],\n",
       "        [0.14509804, 0.1254902 , 0.15686275],\n",
       "        [0.1372549 , 0.13333333, 0.14901961],\n",
       "        ...,\n",
       "        [0.54509804, 0.6627451 , 0.40392157],\n",
       "        [0.67843137, 0.13333333, 0.83921569],\n",
       "        [0.38431373, 0.44705882, 0.58039216]]),\n",
       " array(['blue', 'black', 'black', ..., 'green', 'purple', 'blue'],\n",
       "       dtype=object))"
      ]
     },
     "execution_count": 8,
     "metadata": {},
     "output_type": "execute_result"
    }
   ],
   "source": [
    "data = pd.read_csv('colour-data.csv')"
   ]
  },
  {
   "cell_type": "code",
   "execution_count": 90,
   "id": "99b31ace",
   "metadata": {},
   "outputs": [
    {
     "data": {
      "text/html": [
       "<div>\n",
       "<style scoped>\n",
       "    .dataframe tbody tr th:only-of-type {\n",
       "        vertical-align: middle;\n",
       "    }\n",
       "\n",
       "    .dataframe tbody tr th {\n",
       "        vertical-align: top;\n",
       "    }\n",
       "\n",
       "    .dataframe thead th {\n",
       "        text-align: right;\n",
       "    }\n",
       "</style>\n",
       "<table border=\"1\" class=\"dataframe\">\n",
       "  <thead>\n",
       "    <tr style=\"text-align: right;\">\n",
       "      <th></th>\n",
       "      <th>R</th>\n",
       "      <th>G</th>\n",
       "      <th>B</th>\n",
       "    </tr>\n",
       "  </thead>\n",
       "  <tbody>\n",
       "    <tr>\n",
       "      <th>0</th>\n",
       "      <td>0.658824</td>\n",
       "      <td>0.827451</td>\n",
       "      <td>0.952941</td>\n",
       "    </tr>\n",
       "    <tr>\n",
       "      <th>1</th>\n",
       "      <td>0.145098</td>\n",
       "      <td>0.125490</td>\n",
       "      <td>0.156863</td>\n",
       "    </tr>\n",
       "    <tr>\n",
       "      <th>2</th>\n",
       "      <td>0.137255</td>\n",
       "      <td>0.133333</td>\n",
       "      <td>0.149020</td>\n",
       "    </tr>\n",
       "    <tr>\n",
       "      <th>3</th>\n",
       "      <td>0.309804</td>\n",
       "      <td>0.290196</td>\n",
       "      <td>0.623529</td>\n",
       "    </tr>\n",
       "    <tr>\n",
       "      <th>4</th>\n",
       "      <td>0.215686</td>\n",
       "      <td>0.388235</td>\n",
       "      <td>0.133333</td>\n",
       "    </tr>\n",
       "    <tr>\n",
       "      <th>...</th>\n",
       "      <td>...</td>\n",
       "      <td>...</td>\n",
       "      <td>...</td>\n",
       "    </tr>\n",
       "    <tr>\n",
       "      <th>4373</th>\n",
       "      <td>0.294118</td>\n",
       "      <td>0.549020</td>\n",
       "      <td>0.309804</td>\n",
       "    </tr>\n",
       "    <tr>\n",
       "      <th>4374</th>\n",
       "      <td>0.325490</td>\n",
       "      <td>0.050980</td>\n",
       "      <td>0.521569</td>\n",
       "    </tr>\n",
       "    <tr>\n",
       "      <th>4375</th>\n",
       "      <td>0.545098</td>\n",
       "      <td>0.662745</td>\n",
       "      <td>0.403922</td>\n",
       "    </tr>\n",
       "    <tr>\n",
       "      <th>4376</th>\n",
       "      <td>0.678431</td>\n",
       "      <td>0.133333</td>\n",
       "      <td>0.839216</td>\n",
       "    </tr>\n",
       "    <tr>\n",
       "      <th>4377</th>\n",
       "      <td>0.384314</td>\n",
       "      <td>0.447059</td>\n",
       "      <td>0.580392</td>\n",
       "    </tr>\n",
       "  </tbody>\n",
       "</table>\n",
       "<p>4378 rows × 3 columns</p>\n",
       "</div>"
      ],
      "text/plain": [
       "             R         G         B\n",
       "0     0.658824  0.827451  0.952941\n",
       "1     0.145098  0.125490  0.156863\n",
       "2     0.137255  0.133333  0.149020\n",
       "3     0.309804  0.290196  0.623529\n",
       "4     0.215686  0.388235  0.133333\n",
       "...        ...       ...       ...\n",
       "4373  0.294118  0.549020  0.309804\n",
       "4374  0.325490  0.050980  0.521569\n",
       "4375  0.545098  0.662745  0.403922\n",
       "4376  0.678431  0.133333  0.839216\n",
       "4377  0.384314  0.447059  0.580392\n",
       "\n",
       "[4378 rows x 3 columns]"
      ]
     },
     "execution_count": 90,
     "metadata": {},
     "output_type": "execute_result"
    }
   ],
   "source": []
  },
  {
   "cell_type": "code",
   "execution_count": 11,
   "id": "d7cc8be5",
   "metadata": {},
   "outputs": [],
   "source": [
    "# extract X values\n",
    "X = data[['R', 'G', 'B']]/255     # array with shape (n, 3). Divide by 255 so components are all 0-1\n",
    "# extract y values\n",
    "y = data['Label']                 # array with shape (n,) of colour words\n",
    "# split x & y values to training and validation sets\n",
    "X_train, X_valid, y_train, y_valid = train_test_split(X, y)"
   ]
  },
  {
   "cell_type": "code",
   "execution_count": 12,
   "id": "71686868",
   "metadata": {},
   "outputs": [],
   "source": [
    "# TODO: create six models"
   ]
  },
  {
   "cell_type": "code",
   "execution_count": 15,
   "id": "c5851812",
   "metadata": {},
   "outputs": [
    {
     "data": {
      "text/plain": [
       "Pipeline(steps=[('functiontransformer',\n",
       "                 FunctionTransformer(func=<function rgb2lab at 0x7f78dc2685e0>,\n",
       "                                     validate=True)),\n",
       "                ('gaussiannb', GaussianNB())])"
      ]
     },
     "execution_count": 15,
     "metadata": {},
     "output_type": "execute_result"
    }
   ],
   "source": [
    "# (1) create a naïve bayes classifier and train it\n",
    "bayes_rgb = GaussianNB()\n",
    "bayes_rgb.fit(X_train, y_train)\n",
    "# (2) create a naïve bayes classifier with different color values and train it\n",
    "# use pipeline for model\n",
    "bayes_convert = make_pipeline(\n",
    "    FunctionTransformer(rgb2lab, validate=True),\n",
    "    GaussianNB()\n",
    ")\n",
    "bayes_convert.fit(X_train, y_train)"
   ]
  },
  {
   "cell_type": "code",
   "execution_count": 19,
   "id": "0486b732",
   "metadata": {},
   "outputs": [
    {
     "data": {
      "text/plain": [
       "(0.5789954337899543, 0.6319634703196347)"
      ]
     },
     "execution_count": 19,
     "metadata": {},
     "output_type": "execute_result"
    }
   ],
   "source": [
    "bayes_rgb.score(X_valid, y_valid), bayes_convert.score(X_valid, y_valid)"
   ]
  },
  {
   "cell_type": "code",
   "execution_count": 54,
   "id": "1adbf850",
   "metadata": {},
   "outputs": [
    {
     "data": {
      "text/plain": [
       "Pipeline(steps=[('functiontransformer',\n",
       "                 FunctionTransformer(func=<function rgb2lab at 0x7f78dc2685e0>,\n",
       "                                     validate=True)),\n",
       "                ('kneighborsclassifier', KNeighborsClassifier(n_neighbors=10))])"
      ]
     },
     "execution_count": 54,
     "metadata": {},
     "output_type": "execute_result"
    }
   ],
   "source": [
    "# (3) create a k-nearest neighbours classifier and train it\n",
    "knn_rgb = KNeighborsClassifier(n_neighbors=10)\n",
    "knn_rgb.fit(X_train, y_train)\n",
    "# (4) create a k-nearest neighbours classifier with different color values and train it\n",
    "# use pipeline for model\n",
    "knn_convert = make_pipeline(\n",
    "    FunctionTransformer(rgb2lab, validate=True),\n",
    "    KNeighborsClassifier(n_neighbors=10)\n",
    ")\n",
    "knn_convert.fit(X_train, y_train)"
   ]
  },
  {
   "cell_type": "code",
   "execution_count": 55,
   "id": "35adafaa",
   "metadata": {},
   "outputs": [
    {
     "data": {
      "text/plain": [
       "(0.7561643835616438, 0.7579908675799086)"
      ]
     },
     "execution_count": 55,
     "metadata": {},
     "output_type": "execute_result"
    }
   ],
   "source": [
    "knn_rgb.score(X_valid, y_valid), knn_convert.score(X_valid, y_valid)"
   ]
  },
  {
   "cell_type": "code",
   "execution_count": 81,
   "id": "bc888065",
   "metadata": {},
   "outputs": [
    {
     "data": {
      "text/plain": [
       "Pipeline(steps=[('functiontransformer',\n",
       "                 FunctionTransformer(func=<function rgb2lab at 0x7f78dc2685e0>,\n",
       "                                     validate=True)),\n",
       "                ('randomforestclassifier',\n",
       "                 RandomForestClassifier(max_depth=10))])"
      ]
     },
     "execution_count": 81,
     "metadata": {},
     "output_type": "execute_result"
    }
   ],
   "source": [
    "# (5) create a random forest classifier and train it\n",
    "rf_rgb = RandomForestClassifier(n_estimators=100, max_depth=10)\n",
    "rf_rgb.fit(X_train, y_train)\n",
    "# (6) create a random forest classifier with different color values and train it\n",
    "# use pipeline for model\n",
    "rf_convert = make_pipeline(\n",
    "    FunctionTransformer(rgb2lab, validate=True),\n",
    "    RandomForestClassifier(n_estimators=100, max_depth=10)\n",
    ")\n",
    "rf_convert.fit(X_train, y_train)"
   ]
  },
  {
   "cell_type": "code",
   "execution_count": 82,
   "id": "f0346170",
   "metadata": {},
   "outputs": [
    {
     "data": {
      "text/plain": [
       "(0.7561643835616438, 0.7607305936073059)"
      ]
     },
     "execution_count": 82,
     "metadata": {},
     "output_type": "execute_result"
    }
   ],
   "source": [
    "rf_rgb.score(X_valid, y_valid), rf_convert.score(X_valid, y_valid)"
   ]
  },
  {
   "cell_type": "code",
   "execution_count": null,
   "id": "853038b2",
   "metadata": {},
   "outputs": [],
   "source": []
  }
 ],
 "metadata": {
  "kernelspec": {
   "display_name": "Python 3 (ipykernel)",
   "language": "python",
   "name": "python3"
  },
  "language_info": {
   "codemirror_mode": {
    "name": "ipython",
    "version": 3
   },
   "file_extension": ".py",
   "mimetype": "text/x-python",
   "name": "python",
   "nbconvert_exporter": "python",
   "pygments_lexer": "ipython3",
   "version": "3.9.7"
  }
 },
 "nbformat": 4,
 "nbformat_minor": 5
}
