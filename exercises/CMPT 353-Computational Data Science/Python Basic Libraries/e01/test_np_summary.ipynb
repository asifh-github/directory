{
 "cells": [
  {
   "cell_type": "code",
   "execution_count": 1,
   "id": "b96f1d68",
   "metadata": {},
   "outputs": [],
   "source": [
    "from np_summary import *"
   ]
  },
  {
   "cell_type": "code",
   "execution_count": 2,
   "id": "f7e35f3b",
   "metadata": {},
   "outputs": [
    {
     "name": "stdout",
     "output_type": "stream",
     "text": [
      "Row with lowest total precipitation:\n",
      "8\n",
      "Average precipitation in each month:\n",
      "[27.77978339 30.42629482 29.41007194 17.96654275 21.34456929 20.69498069\n",
      " 24.97718631 19.85661765 24.06563707 44.68441065 34.61568627 32.36679537]\n",
      "Average precipitation in each city:\n",
      "[47.77859779 14.33333333 39.91232877 41.44505495 23.4099723  23.68144044\n",
      " 17.52197802 36.52222222  6.15426997]\n",
      "Quarterly precipitation totals:\n",
      "[[5450 1408 1466 4624]\n",
      " [ 189 1339 3148  527]\n",
      " [3120 3357 3386 4705]\n",
      " [4416 3321 2024 5325]\n",
      " [2024 1498 1721 3208]\n",
      " [1786 1809 2557 2397]\n",
      " [1583 1296 1729 1770]\n",
      " [4602 1340 1250 5956]\n",
      " [ 338  524  922  450]]\n"
     ]
    }
   ],
   "source": [
    "main()"
   ]
  },
  {
   "cell_type": "code",
   "execution_count": null,
   "id": "a85e0808",
   "metadata": {},
   "outputs": [],
   "source": []
  }
 ],
 "metadata": {
  "kernelspec": {
   "display_name": "Python 3 (ipykernel)",
   "language": "python",
   "name": "python3"
  },
  "language_info": {
   "codemirror_mode": {
    "name": "ipython",
    "version": 3
   },
   "file_extension": ".py",
   "mimetype": "text/x-python",
   "name": "python",
   "nbconvert_exporter": "python",
   "pygments_lexer": "ipython3",
   "version": "3.9.7"
  }
 },
 "nbformat": 4,
 "nbformat_minor": 5
}
