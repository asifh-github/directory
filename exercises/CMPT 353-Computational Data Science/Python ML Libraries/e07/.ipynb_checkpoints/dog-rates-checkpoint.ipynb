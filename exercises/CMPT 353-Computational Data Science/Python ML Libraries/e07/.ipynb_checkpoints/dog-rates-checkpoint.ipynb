{
 "cells": [
  {
   "cell_type": "code",
   "execution_count": 1,
   "id": "21e41f20",
   "metadata": {},
   "outputs": [],
   "source": [
    "import pandas as pd"
   ]
  },
  {
   "cell_type": "code",
   "execution_count": 2,
   "id": "aa83970f",
   "metadata": {},
   "outputs": [
    {
     "data": {
      "text/plain": [
       "id             int64\n",
       "created_at    object\n",
       "text          object\n",
       "dtype: object"
      ]
     },
     "execution_count": 2,
     "metadata": {},
     "output_type": "execute_result"
    }
   ],
   "source": [
    "data = pd.read_csv(\"dog_rates_tweets.csv\")\n",
    "data.dtypes"
   ]
  },
  {
   "cell_type": "code",
   "execution_count": 3,
   "id": "b2ca23c7",
   "metadata": {},
   "outputs": [
    {
     "data": {
      "text/plain": [
       "id             int64\n",
       "created_at    object\n",
       "text          object\n",
       "dtype: object"
      ]
     },
     "execution_count": 3,
     "metadata": {},
     "output_type": "execute_result"
    }
   ],
   "source": [
    "# read csv file containing tweets \n",
    "# parse datetime_values druing reading file \n",
    "data = pd.read_csv(\"dog_rates_tweets.csv\", parse_dates=['created_at'])\n",
    "data.dtypes"
   ]
  },
  {
   "cell_type": "code",
   "execution_count": 4,
   "id": "0a58f698",
   "metadata": {},
   "outputs": [],
   "source": [
    "import warnings\n",
    "warnings.filterwarnings('ignore')"
   ]
  },
  {
   "cell_type": "code",
   "execution_count": 5,
   "id": "a436218b",
   "metadata": {},
   "outputs": [
    {
     "data": {
      "text/html": [
       "<div>\n",
       "<style scoped>\n",
       "    .dataframe tbody tr th:only-of-type {\n",
       "        vertical-align: middle;\n",
       "    }\n",
       "\n",
       "    .dataframe tbody tr th {\n",
       "        vertical-align: top;\n",
       "    }\n",
       "\n",
       "    .dataframe thead th {\n",
       "        text-align: right;\n",
       "    }\n",
       "</style>\n",
       "<table border=\"1\" class=\"dataframe\">\n",
       "  <thead>\n",
       "    <tr style=\"text-align: right;\">\n",
       "      <th></th>\n",
       "      <th>id</th>\n",
       "      <th>created_at</th>\n",
       "      <th>text</th>\n",
       "      <th>rating</th>\n",
       "    </tr>\n",
       "  </thead>\n",
       "  <tbody>\n",
       "    <tr>\n",
       "      <th>2</th>\n",
       "      <td>994363623421153280</td>\n",
       "      <td>2018-05-09 23:48:56</td>\n",
       "      <td>This is Louie. He has misplaced his Cheerio. W...</td>\n",
       "      <td>14.0</td>\n",
       "    </tr>\n",
       "    <tr>\n",
       "      <th>7</th>\n",
       "      <td>993889039714578432</td>\n",
       "      <td>2018-05-08 16:23:07</td>\n",
       "      <td>This is Manny. He hasn’t seen your croissant. ...</td>\n",
       "      <td>13.0</td>\n",
       "    </tr>\n",
       "    <tr>\n",
       "      <th>8</th>\n",
       "      <td>993629544463642624</td>\n",
       "      <td>2018-05-07 23:11:58</td>\n",
       "      <td>This is Libby. She leap. 14/10\\n(IG: libbythef...</td>\n",
       "      <td>14.0</td>\n",
       "    </tr>\n",
       "    <tr>\n",
       "      <th>24</th>\n",
       "      <td>992198572664860672</td>\n",
       "      <td>2018-05-04 00:25:48</td>\n",
       "      <td>This is Rosie. She thought Coachella was this ...</td>\n",
       "      <td>13.0</td>\n",
       "    </tr>\n",
       "    <tr>\n",
       "      <th>30</th>\n",
       "      <td>991744041351090177</td>\n",
       "      <td>2018-05-02 18:19:39</td>\n",
       "      <td>This is Riley. He’ll be your chauffeur this ev...</td>\n",
       "      <td>13.0</td>\n",
       "    </tr>\n",
       "  </tbody>\n",
       "</table>\n",
       "</div>"
      ],
      "text/plain": [
       "                    id           created_at  \\\n",
       "2   994363623421153280  2018-05-09 23:48:56   \n",
       "7   993889039714578432  2018-05-08 16:23:07   \n",
       "8   993629544463642624  2018-05-07 23:11:58   \n",
       "24  992198572664860672  2018-05-04 00:25:48   \n",
       "30  991744041351090177  2018-05-02 18:19:39   \n",
       "\n",
       "                                                 text  rating  \n",
       "2   This is Louie. He has misplaced his Cheerio. W...    14.0  \n",
       "7   This is Manny. He hasn’t seen your croissant. ...    13.0  \n",
       "8   This is Libby. She leap. 14/10\\n(IG: libbythef...    14.0  \n",
       "24  This is Rosie. She thought Coachella was this ...    13.0  \n",
       "30  This is Riley. He’ll be your chauffeur this ev...    13.0  "
      ]
     },
     "execution_count": 5,
     "metadata": {},
     "output_type": "execute_result"
    }
   ],
   "source": [
    "# acquiring rating using pandas lib \n",
    "# filter rows that does not contain ratings\n",
    "filtered_data = data[data['text'].str.contains(r'(\\d+(\\.\\d+)?)/10')]      # uses re.search()\n",
    "# extract rating as float & and add to df as col\n",
    "filtered_data['rating'] = filtered_data['text'].str.extract(r'(\\d+(\\.\\d+)?)/10')[0].astype(float)       # uses re.match()\n",
    "# filter rows that contain invalid rating such as greater than 25/10\n",
    "filtered_data = filtered_data[filtered_data['rating'] <= 25]\n",
    "filtered_data.head()"
   ]
  },
  {
   "cell_type": "code",
   "execution_count": 6,
   "id": "de1b09b6",
   "metadata": {},
   "outputs": [],
   "source": [
    "import matplotlib.pyplot as plt"
   ]
  },
  {
   "cell_type": "code",
   "execution_count": 7,
   "id": "af0d5395",
   "metadata": {},
   "outputs": [
    {
     "data": {
      "image/png": "[encoded data removed]",
      "text/plain": [
       "<Figure size 432x288 with 1 Axes>"
      ]
     },
     "metadata": {
      "needs_background": "light"
     },
     "output_type": "display_data"
    }
   ],
   "source": [
    "# plot ratings vs. dates \n",
    "plt.plot(filtered_data['created_at'], filtered_data['rating'], 'b.', alpha=0.5)\n",
    "# add title and label the axes\n",
    "plt.title(\"Dog Ratings w.r.t. Time from Twitter\")\n",
    "plt.xlabel(\"Dates\")\n",
    "plt.ylabel(\"Ratings\")\n",
    "plt.xticks(rotation=25)\n",
    "plt.show()"
   ]
  },
  {
   "cell_type": "code",
   "execution_count": 8,
   "id": "34bc03a1",
   "metadata": {
    "scrolled": true
   },
   "outputs": [
    {
     "data": {
      "text/html": [
       "<div>\n",
       "<style scoped>\n",
       "    .dataframe tbody tr th:only-of-type {\n",
       "        vertical-align: middle;\n",
       "    }\n",
       "\n",
       "    .dataframe tbody tr th {\n",
       "        vertical-align: top;\n",
       "    }\n",
       "\n",
       "    .dataframe thead th {\n",
       "        text-align: right;\n",
       "    }\n",
       "</style>\n",
       "<table border=\"1\" class=\"dataframe\">\n",
       "  <thead>\n",
       "    <tr style=\"text-align: right;\">\n",
       "      <th></th>\n",
       "      <th>id</th>\n",
       "      <th>created_at</th>\n",
       "      <th>text</th>\n",
       "      <th>rating</th>\n",
       "      <th>timestamp</th>\n",
       "    </tr>\n",
       "  </thead>\n",
       "  <tbody>\n",
       "    <tr>\n",
       "      <th>2</th>\n",
       "      <td>994363623421153280</td>\n",
       "      <td>2018-05-09 23:48:56</td>\n",
       "      <td>This is Louie. He has misplaced his Cheerio. W...</td>\n",
       "      <td>14.0</td>\n",
       "      <td>1.525935e+09</td>\n",
       "    </tr>\n",
       "    <tr>\n",
       "      <th>7</th>\n",
       "      <td>993889039714578432</td>\n",
       "      <td>2018-05-08 16:23:07</td>\n",
       "      <td>This is Manny. He hasn’t seen your croissant. ...</td>\n",
       "      <td>13.0</td>\n",
       "      <td>1.525822e+09</td>\n",
       "    </tr>\n",
       "    <tr>\n",
       "      <th>8</th>\n",
       "      <td>993629544463642624</td>\n",
       "      <td>2018-05-07 23:11:58</td>\n",
       "      <td>This is Libby. She leap. 14/10\\n(IG: libbythef...</td>\n",
       "      <td>14.0</td>\n",
       "      <td>1.525760e+09</td>\n",
       "    </tr>\n",
       "    <tr>\n",
       "      <th>24</th>\n",
       "      <td>992198572664860672</td>\n",
       "      <td>2018-05-04 00:25:48</td>\n",
       "      <td>This is Rosie. She thought Coachella was this ...</td>\n",
       "      <td>13.0</td>\n",
       "      <td>1.525419e+09</td>\n",
       "    </tr>\n",
       "    <tr>\n",
       "      <th>30</th>\n",
       "      <td>991744041351090177</td>\n",
       "      <td>2018-05-02 18:19:39</td>\n",
       "      <td>This is Riley. He’ll be your chauffeur this ev...</td>\n",
       "      <td>13.0</td>\n",
       "      <td>1.525310e+09</td>\n",
       "    </tr>\n",
       "  </tbody>\n",
       "</table>\n",
       "</div>"
      ],
      "text/plain": [
       "                    id           created_at  \\\n",
       "2   994363623421153280  2018-05-09 23:48:56   \n",
       "7   993889039714578432  2018-05-08 16:23:07   \n",
       "8   993629544463642624  2018-05-07 23:11:58   \n",
       "24  992198572664860672  2018-05-04 00:25:48   \n",
       "30  991744041351090177  2018-05-02 18:19:39   \n",
       "\n",
       "                                                 text  rating     timestamp  \n",
       "2   This is Louie. He has misplaced his Cheerio. W...    14.0  1.525935e+09  \n",
       "7   This is Manny. He hasn’t seen your croissant. ...    13.0  1.525822e+09  \n",
       "8   This is Libby. She leap. 14/10\\n(IG: libbythef...    14.0  1.525760e+09  \n",
       "24  This is Rosie. She thought Coachella was this ...    13.0  1.525419e+09  \n",
       "30  This is Riley. He’ll be your chauffeur this ev...    13.0  1.525310e+09  "
      ]
     },
     "execution_count": 8,
     "metadata": {},
     "output_type": "execute_result"
    }
   ],
   "source": [
    "# create function to generate timestamp from series \n",
    "def to_timestamp(t):\n",
    "    return t.timestamp()\n",
    "\n",
    "# make a copy of data \n",
    "data2 = filtered_data\n",
    "# add timestamp col to new df\n",
    "data2['timestamp'] = data2['created_at'].apply(to_timestamp)\n",
    "data2.head()"
   ]
  },
  {
   "cell_type": "code",
   "execution_count": 9,
   "id": "24b3fdd7",
   "metadata": {},
   "outputs": [],
   "source": [
    "from scipy import stats"
   ]
  },
  {
   "cell_type": "code",
   "execution_count": 10,
   "id": "2d32176c",
   "metadata": {},
   "outputs": [],
   "source": [
    "# compute linear regression of x=timestamp and y=rating\n",
    "result = stats.linregress(data2['timestamp'], data2['rating'])\n",
    "?result"
   ]
  },
  {
   "cell_type": "code",
   "execution_count": 11,
   "id": "d3bc1ee8",
   "metadata": {},
   "outputs": [
    {
     "data": {
      "text/html": [
       "<div>\n",
       "<style scoped>\n",
       "    .dataframe tbody tr th:only-of-type {\n",
       "        vertical-align: middle;\n",
       "    }\n",
       "\n",
       "    .dataframe tbody tr th {\n",
       "        vertical-align: top;\n",
       "    }\n",
       "\n",
       "    .dataframe thead th {\n",
       "        text-align: right;\n",
       "    }\n",
       "</style>\n",
       "<table border=\"1\" class=\"dataframe\">\n",
       "  <thead>\n",
       "    <tr style=\"text-align: right;\">\n",
       "      <th></th>\n",
       "      <th>id</th>\n",
       "      <th>created_at</th>\n",
       "      <th>text</th>\n",
       "      <th>rating</th>\n",
       "      <th>timestamp</th>\n",
       "      <th>prediction</th>\n",
       "    </tr>\n",
       "  </thead>\n",
       "  <tbody>\n",
       "    <tr>\n",
       "      <th>2</th>\n",
       "      <td>994363623421153280</td>\n",
       "      <td>2018-05-09 23:48:56</td>\n",
       "      <td>This is Louie. He has misplaced his Cheerio. W...</td>\n",
       "      <td>14.0</td>\n",
       "      <td>1.525935e+09</td>\n",
       "      <td>12.303514</td>\n",
       "    </tr>\n",
       "    <tr>\n",
       "      <th>7</th>\n",
       "      <td>993889039714578432</td>\n",
       "      <td>2018-05-08 16:23:07</td>\n",
       "      <td>This is Manny. He hasn’t seen your croissant. ...</td>\n",
       "      <td>13.0</td>\n",
       "      <td>1.525822e+09</td>\n",
       "      <td>12.301817</td>\n",
       "    </tr>\n",
       "    <tr>\n",
       "      <th>8</th>\n",
       "      <td>993629544463642624</td>\n",
       "      <td>2018-05-07 23:11:58</td>\n",
       "      <td>This is Libby. She leap. 14/10\\n(IG: libbythef...</td>\n",
       "      <td>14.0</td>\n",
       "      <td>1.525760e+09</td>\n",
       "      <td>12.300888</td>\n",
       "    </tr>\n",
       "    <tr>\n",
       "      <th>24</th>\n",
       "      <td>992198572664860672</td>\n",
       "      <td>2018-05-04 00:25:48</td>\n",
       "      <td>This is Rosie. She thought Coachella was this ...</td>\n",
       "      <td>13.0</td>\n",
       "      <td>1.525419e+09</td>\n",
       "      <td>12.295770</td>\n",
       "    </tr>\n",
       "    <tr>\n",
       "      <th>30</th>\n",
       "      <td>991744041351090177</td>\n",
       "      <td>2018-05-02 18:19:39</td>\n",
       "      <td>This is Riley. He’ll be your chauffeur this ev...</td>\n",
       "      <td>13.0</td>\n",
       "      <td>1.525310e+09</td>\n",
       "      <td>12.294144</td>\n",
       "    </tr>\n",
       "    <tr>\n",
       "      <th>...</th>\n",
       "      <td>...</td>\n",
       "      <td>...</td>\n",
       "      <td>...</td>\n",
       "      <td>...</td>\n",
       "      <td>...</td>\n",
       "      <td>...</td>\n",
       "    </tr>\n",
       "    <tr>\n",
       "      <th>14885</th>\n",
       "      <td>1275493485085245440</td>\n",
       "      <td>2020-06-23 18:18:39+00:00</td>\n",
       "      <td>This is Ruth. She was spotted at a rally doing...</td>\n",
       "      <td>14.0</td>\n",
       "      <td>1.592936e+09</td>\n",
       "      <td>13.308733</td>\n",
       "    </tr>\n",
       "    <tr>\n",
       "      <th>14895</th>\n",
       "      <td>1275102054608855040</td>\n",
       "      <td>2020-06-22 16:23:14+00:00</td>\n",
       "      <td>This is Narcos. He is very angry with you. The...</td>\n",
       "      <td>13.0</td>\n",
       "      <td>1.592843e+09</td>\n",
       "      <td>13.307333</td>\n",
       "    </tr>\n",
       "    <tr>\n",
       "      <th>14896</th>\n",
       "      <td>1274821722584125442</td>\n",
       "      <td>2020-06-21 21:49:18+00:00</td>\n",
       "      <td>@PatrickKenneyMD omg i’d say 13/10 but i’d hat...</td>\n",
       "      <td>13.0</td>\n",
       "      <td>1.592776e+09</td>\n",
       "      <td>13.306330</td>\n",
       "    </tr>\n",
       "    <tr>\n",
       "      <th>14906</th>\n",
       "      <td>1273774320519483392</td>\n",
       "      <td>2020-06-19 00:27:18+00:00</td>\n",
       "      <td>This is Oakley. He’s on his way home for the f...</td>\n",
       "      <td>12.0</td>\n",
       "      <td>1.592526e+09</td>\n",
       "      <td>13.302583</td>\n",
       "    </tr>\n",
       "    <tr>\n",
       "      <th>14917</th>\n",
       "      <td>1273345579829977088</td>\n",
       "      <td>2020-06-17 20:03:38+00:00</td>\n",
       "      <td>Not all superheroes wear capes, but this one d...</td>\n",
       "      <td>14.0</td>\n",
       "      <td>1.592424e+09</td>\n",
       "      <td>13.301050</td>\n",
       "    </tr>\n",
       "  </tbody>\n",
       "</table>\n",
       "<p>2116 rows × 6 columns</p>\n",
       "</div>"
      ],
      "text/plain": [
       "                        id                 created_at  \\\n",
       "2       994363623421153280        2018-05-09 23:48:56   \n",
       "7       993889039714578432        2018-05-08 16:23:07   \n",
       "8       993629544463642624        2018-05-07 23:11:58   \n",
       "24      992198572664860672        2018-05-04 00:25:48   \n",
       "30      991744041351090177        2018-05-02 18:19:39   \n",
       "...                    ...                        ...   \n",
       "14885  1275493485085245440  2020-06-23 18:18:39+00:00   \n",
       "14895  1275102054608855040  2020-06-22 16:23:14+00:00   \n",
       "14896  1274821722584125442  2020-06-21 21:49:18+00:00   \n",
       "14906  1273774320519483392  2020-06-19 00:27:18+00:00   \n",
       "14917  1273345579829977088  2020-06-17 20:03:38+00:00   \n",
       "\n",
       "                                                    text  rating  \\\n",
       "2      This is Louie. He has misplaced his Cheerio. W...    14.0   \n",
       "7      This is Manny. He hasn’t seen your croissant. ...    13.0   \n",
       "8      This is Libby. She leap. 14/10\\n(IG: libbythef...    14.0   \n",
       "24     This is Rosie. She thought Coachella was this ...    13.0   \n",
       "30     This is Riley. He’ll be your chauffeur this ev...    13.0   \n",
       "...                                                  ...     ...   \n",
       "14885  This is Ruth. She was spotted at a rally doing...    14.0   \n",
       "14895  This is Narcos. He is very angry with you. The...    13.0   \n",
       "14896  @PatrickKenneyMD omg i’d say 13/10 but i’d hat...    13.0   \n",
       "14906  This is Oakley. He’s on his way home for the f...    12.0   \n",
       "14917  Not all superheroes wear capes, but this one d...    14.0   \n",
       "\n",
       "          timestamp  prediction  \n",
       "2      1.525935e+09   12.303514  \n",
       "7      1.525822e+09   12.301817  \n",
       "8      1.525760e+09   12.300888  \n",
       "24     1.525419e+09   12.295770  \n",
       "30     1.525310e+09   12.294144  \n",
       "...             ...         ...  \n",
       "14885  1.592936e+09   13.308733  \n",
       "14895  1.592843e+09   13.307333  \n",
       "14896  1.592776e+09   13.306330  \n",
       "14906  1.592526e+09   13.302583  \n",
       "14917  1.592424e+09   13.301050  \n",
       "\n",
       "[2116 rows x 6 columns]"
      ]
     },
     "execution_count": 11,
     "metadata": {},
     "output_type": "execute_result"
    }
   ],
   "source": [
    "# make prediction using LR model and add col to df\n",
    "data2['prediction'] = result.slope*data2['timestamp'] + result.intercept\n",
    "data2"
   ]
  },
  {
   "cell_type": "code",
   "execution_count": 12,
   "id": "eb059796",
   "metadata": {},
   "outputs": [
    {
     "data": {
      "text/plain": [
       "(1.500295334373573e-08, -10.590016533606498)"
      ]
     },
     "execution_count": 12,
     "metadata": {},
     "output_type": "execute_result"
    }
   ],
   "source": [
    "# display model's fit and intercept \n",
    "result.slope, result.intercept"
   ]
  },
  {
   "cell_type": "code",
   "execution_count": 32,
   "id": "56db87d3",
   "metadata": {},
   "outputs": [
    {
     "data": {
      "image/png": "[encoded data removed]",
      "text/plain": [
       "<Figure size 432x288 with 1 Axes>"
      ]
     },
     "metadata": {},
     "output_type": "display_data"
    }
   ],
   "source": [
    "# plot ratings (original value) vs. dates\n",
    "plt.plot(filtered_data['created_at'], filtered_data['rating'], 'b.', alpha=0.5)\n",
    "# plot best fit line using model's prediction\n",
    "plt.plot(data2['created_at'], data2['prediction'], 'r-', linewidth=3)\n",
    "# add title and label the axes\n",
    "plt.title(\"Dog Ratings w.r.t. Time from Twitter\")\n",
    "plt.xlabel(\"Dates\")\n",
    "plt.ylabel(\"Ratings\")\n",
    "plt.xticks(rotation=25)\n",
    "plt.show()"
   ]
  },
  {
   "cell_type": "code",
   "execution_count": 14,
   "id": "a7609d76",
   "metadata": {},
   "outputs": [
    {
     "data": {
      "text/plain": [
       "2.536058725134726e-127"
      ]
     },
     "execution_count": 14,
     "metadata": {},
     "output_type": "execute_result"
    }
   ],
   "source": [
    "# display model's p-value\n",
    "result.pvalue"
   ]
  },
  {
   "cell_type": "markdown",
   "id": "588c9bfe",
   "metadata": {},
   "source": [
    "##### Hypothesis Testing:\n",
    "\n",
    "Let, $H_0: \\beta_1 = 0$ vs. $H_1: \\beta_1 \\neq 0$ <br/>\n",
    "Null hypothesis indicates there is no replationship between y and x and rejection of null indicates that there is a relationship. \n",
    "\n",
    "\n",
    "Since, the p-value < 0.05 \n",
    "\n",
    "\n",
    "Therefore, we reject the null hypothsis at o.o5 level of significance. And conclude that the relationship between Ratings and Dates is significant. That is, the ratings given by this Twitter account been (increasingly/positively) changing over time.\n",
    "\n",
    "Assumptions:<br/>\n",
    "a. Residuals are nornally distributed with a mean of zero and have a constant variance<br/>\n",
    "b. Residuals are independent of each other<br/>"
   ]
  },
  {
   "cell_type": "code",
   "execution_count": 35,
   "id": "f5c1d326",
   "metadata": {},
   "outputs": [
    {
     "data": {
      "image/png": "[encoded data removed]",
      "text/plain": [
       "<Figure size 432x288 with 1 Axes>"
      ]
     },
     "metadata": {},
     "output_type": "display_data"
    }
   ],
   "source": [
    "# plot the residuals \n",
    "residuals = (data2['rating'] - data2['prediction'])\n",
    "plt.hist(residuals)\n",
    "plt.xlabel(\"Residuals\")\n",
    "plt.ylabel(\"Frequency\");\n"
   ]
  },
  {
   "cell_type": "markdown",
   "id": "57f034e1",
   "metadata": {},
   "source": [
    "The distribution of residuals are left-skewed, however, we can see that this occurs due to having lower ratings and outliers in the year between 2016 and 2017. Therefore, we can use this model for prediction or transform the data in some form to make the residuals normal, for more accurate predictions. "
   ]
  },
  {
   "cell_type": "code",
   "execution_count": null,
   "id": "03870b56",
   "metadata": {},
   "outputs": [],
   "source": []
  }
 ],
 "metadata": {
  "kernelspec": {
   "display_name": "Python 3 (ipykernel)",
   "language": "python",
   "name": "python3"
  },
  "language_info": {
   "codemirror_mode": {
    "name": "ipython",
    "version": 3
   },
   "file_extension": ".py",
   "mimetype": "text/x-python",
   "name": "python",
   "nbconvert_exporter": "python",
   "pygments_lexer": "ipython3",
   "version": "3.9.7"
  }
 },
 "nbformat": 4,
 "nbformat_minor": 5
}
