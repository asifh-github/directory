{
 "cells": [
  {
   "cell_type": "code",
   "execution_count": 1,
   "id": "a3ecfc24",
   "metadata": {},
   "outputs": [],
   "source": [
    "import numpy as np\n",
    "import pandas as pd\n",
    "import matplotlib.pyplot as plt\n",
    "from skimage.color import lab2rgb, rgb2lab\n",
    "from sklearn.model_selection import train_test_split\n",
    "from sklearn.pipeline import make_pipeline\n",
    "from sklearn.preprocessing import FunctionTransformer\n",
    "from sklearn.naive_bayes import GaussianNB\n",
    "from sklearn.neighbors import KNeighborsClassifier\n",
    "from sklearn.ensemble import RandomForestClassifier\n",
    "from sklearn.tree import export_graphviz"
   ]
  },
  {
   "cell_type": "code",
   "execution_count": 2,
   "id": "c6ea2c46",
   "metadata": {},
   "outputs": [],
   "source": [
    "# representative RGB colours for each label, for nice display\n",
    "COLOUR_RGB = {\n",
    "    'red': (255, 0, 0),\n",
    "    'orange': (255, 112, 0),\n",
    "    'yellow': (255, 255, 0),\n",
    "    'green': (0, 231, 0),\n",
    "    'blue': (0, 0, 255),\n",
    "    'purple': (185, 0, 185),\n",
    "    'brown': (117, 60, 0),\n",
    "    'pink': (255, 184, 184),\n",
    "    'black': (0, 0, 0),\n",
    "    'grey': (150, 150, 150),\n",
    "    'white': (255, 255, 255),\n",
    "}\n",
    "name_to_rgb = np.vectorize(COLOUR_RGB.get, otypes=[np.uint8, np.uint8, np.uint8])"
   ]
  },
  {
   "cell_type": "code",
   "execution_count": 3,
   "id": "92d8958b",
   "metadata": {},
   "outputs": [],
   "source": [
    "def plot_predictions(model, lum=67, resolution=300):\n",
    "    \"\"\"\n",
    "    Create a slice of LAB colour space with given luminance; predict with the model; plot the results.\n",
    "    \"\"\"\n",
    "    wid = resolution\n",
    "    hei = resolution\n",
    "    n_ticks = 5\n",
    "\n",
    "    # create a hei*wid grid of LAB colour values, with L=lum\n",
    "    ag = np.linspace(-100, 100, wid)\n",
    "    bg = np.linspace(-100, 100, hei)\n",
    "    aa, bb = np.meshgrid(ag, bg)\n",
    "    ll = lum * np.ones((hei, wid))\n",
    "    lab_grid = np.stack([ll, aa, bb], axis=2)\n",
    "\n",
    "    # convert to RGB for consistency with original input\n",
    "    X_grid = lab2rgb(lab_grid)\n",
    "\n",
    "    # predict and convert predictions to colours so we can see what's happening\n",
    "    y_grid = model.predict(X_grid.reshape((-1, 3)))\n",
    "    pixels = np.stack(name_to_rgb(y_grid), axis=1) / 255\n",
    "    pixels = pixels.reshape((hei, wid, 3))\n",
    "\n",
    "    # plot input and predictions\n",
    "    plt.figure(figsize=(10, 5))\n",
    "    plt.suptitle('Predictions at L=%g' % (lum,))\n",
    "    plt.subplot(1, 2, 1)\n",
    "    plt.title('Inputs')\n",
    "    plt.xticks(np.linspace(0, wid, n_ticks), np.linspace(-100, 100, n_ticks))\n",
    "    plt.yticks(np.linspace(0, hei, n_ticks), np.linspace(-100, 100, n_ticks))\n",
    "    plt.xlabel('A')\n",
    "    plt.ylabel('B')\n",
    "    plt.imshow(X_grid.reshape((hei, wid, -1)))\n",
    "\n",
    "    plt.subplot(1, 2, 2)\n",
    "    plt.title('Predicted Labels')\n",
    "    plt.xticks(np.linspace(0, wid, n_ticks), np.linspace(-100, 100, n_ticks))\n",
    "    plt.yticks(np.linspace(0, hei, n_ticks), np.linspace(-100, 100, n_ticks))\n",
    "    plt.xlabel('A')\n",
    "    plt.imshow(pixels)\n"
   ]
  },
  {
   "cell_type": "code",
   "execution_count": 4,
   "id": "3e9d6307",
   "metadata": {},
   "outputs": [],
   "source": [
    "data = pd.read_csv('colour-data.csv')"
   ]
  },
  {
   "cell_type": "code",
   "execution_count": null,
   "id": "99b31ace",
   "metadata": {},
   "outputs": [],
   "source": []
  },
  {
   "cell_type": "code",
   "execution_count": 5,
   "id": "d7cc8be5",
   "metadata": {},
   "outputs": [],
   "source": [
    "# extract X values\n",
    "X = data[['R', 'G', 'B']]/255     # array with shape (n, 3). Divide by 255 so components are all 0-1\n",
    "# extract y values\n",
    "y = data['Label']                 # array with shape (n,) of colour words\n",
    "# split x & y values to training and validation sets\n",
    "X_train, X_valid, y_train, y_valid = train_test_split(X, y)"
   ]
  },
  {
   "cell_type": "code",
   "execution_count": 6,
   "id": "71686868",
   "metadata": {},
   "outputs": [],
   "source": [
    "# TODO: create six models"
   ]
  },
  {
   "cell_type": "code",
   "execution_count": 7,
   "id": "c5851812",
   "metadata": {},
   "outputs": [
    {
     "data": {
      "text/plain": [
       "Pipeline(steps=[('functiontransformer',\n",
       "                 FunctionTransformer(func=<function rgb2lab at 0x7f8abc410430>,\n",
       "                                     validate=True)),\n",
       "                ('gaussiannb', GaussianNB())])"
      ]
     },
     "execution_count": 7,
     "metadata": {},
     "output_type": "execute_result"
    }
   ],
   "source": [
    "# (1) create a naïve bayes classifier and train it\n",
    "bayes_rgb = GaussianNB()\n",
    "bayes_rgb.fit(X_train, y_train)\n",
    "# (2) create a naïve bayes classifier with different color values and train it\n",
    "# use pipeline for model\n",
    "bayes_convert = make_pipeline(\n",
    "    FunctionTransformer(rgb2lab, validate=True),\n",
    "    GaussianNB()\n",
    ")\n",
    "bayes_convert.fit(X_train, y_train)"
   ]
  },
  {
   "cell_type": "code",
   "execution_count": 8,
   "id": "0486b732",
   "metadata": {},
   "outputs": [
    {
     "data": {
      "text/plain": [
       "(0.5726027397260274, 0.6219178082191781)"
      ]
     },
     "execution_count": 8,
     "metadata": {},
     "output_type": "execute_result"
    }
   ],
   "source": [
    "bayes_rgb.score(X_valid, y_valid), bayes_convert.score(X_valid, y_valid)"
   ]
  },
  {
   "cell_type": "code",
   "execution_count": 9,
   "id": "1adbf850",
   "metadata": {},
   "outputs": [
    {
     "data": {
      "text/plain": [
       "Pipeline(steps=[('functiontransformer',\n",
       "                 FunctionTransformer(func=<function rgb2lab at 0x7f8abc410430>,\n",
       "                                     validate=True)),\n",
       "                ('kneighborsclassifier', KNeighborsClassifier(n_neighbors=10))])"
      ]
     },
     "execution_count": 9,
     "metadata": {},
     "output_type": "execute_result"
    }
   ],
   "source": [
    "# (3) create a k-nearest neighbours classifier and train it\n",
    "knn_rgb = KNeighborsClassifier(n_neighbors=10)\n",
    "knn_rgb.fit(X_train, y_train)\n",
    "# (4) create a k-nearest neighbours classifier with different color values and train it\n",
    "# use pipeline for model\n",
    "knn_convert = make_pipeline(\n",
    "    FunctionTransformer(rgb2lab, validate=True),\n",
    "    KNeighborsClassifier(n_neighbors=10)\n",
    ")\n",
    "knn_convert.fit(X_train, y_train)"
   ]
  },
  {
   "cell_type": "code",
   "execution_count": 10,
   "id": "35adafaa",
   "metadata": {},
   "outputs": [
    {
     "data": {
      "text/plain": [
       "(0.7570776255707763, 0.7643835616438356)"
      ]
     },
     "execution_count": 10,
     "metadata": {},
     "output_type": "execute_result"
    }
   ],
   "source": [
    "knn_rgb.score(X_valid, y_valid), knn_convert.score(X_valid, y_valid)"
   ]
  },
  {
   "cell_type": "code",
   "execution_count": 17,
   "id": "bc888065",
   "metadata": {},
   "outputs": [
    {
     "data": {
      "text/plain": [
       "Pipeline(steps=[('functiontransformer',\n",
       "                 FunctionTransformer(func=<function rgb2lab at 0x7f8abc410430>,\n",
       "                                     validate=True)),\n",
       "                ('randomforestclassifier',\n",
       "                 RandomForestClassifier(max_depth=10))])"
      ]
     },
     "execution_count": 17,
     "metadata": {},
     "output_type": "execute_result"
    }
   ],
   "source": [
    "# (5) create a random forest classifier and train it\n",
    "rf_rgb = RandomForestClassifier(n_estimators=100, max_depth=5)\n",
    "rf_rgb.fit(X_train, y_train)\n",
    "# (6) create a random forest classifier with different color values and train it\n",
    "# use pipeline for model\n",
    "rf_convert = make_pipeline(\n",
    "    FunctionTransformer(rgb2lab, validate=True),\n",
    "    RandomForestClassifier(n_estimators=100, max_depth=10)\n",
    ")\n",
    "rf_convert.fit(X_train, y_train)"
   ]
  },
  {
   "cell_type": "code",
   "execution_count": 16,
   "id": "f0346170",
   "metadata": {},
   "outputs": [
    {
     "data": {
      "text/plain": [
       "(0.7488584474885844, 0.7470319634703196)"
      ]
     },
     "execution_count": 16,
     "metadata": {},
     "output_type": "execute_result"
    }
   ],
   "source": [
    "rf_rgb.score(X_valid, y_valid), rf_convert.score(X_valid, y_valid)"
   ]
  },
  {
   "cell_type": "code",
   "execution_count": null,
   "id": "853038b2",
   "metadata": {},
   "outputs": [],
   "source": []
  }
 ],
 "metadata": {
  "kernelspec": {
   "display_name": "Python 3 (ipykernel)",
   "language": "python",
   "name": "python3"
  },
  "language_info": {
   "codemirror_mode": {
    "name": "ipython",
    "version": 3
   },
   "file_extension": ".py",
   "mimetype": "text/x-python",
   "name": "python",
   "nbconvert_exporter": "python",
   "pygments_lexer": "ipython3",
   "version": "3.9.7"
  }
 },
 "nbformat": 4,
 "nbformat_minor": 5
}
