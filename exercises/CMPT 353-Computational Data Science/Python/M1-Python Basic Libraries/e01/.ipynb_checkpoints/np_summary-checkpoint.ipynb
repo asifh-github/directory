{
 "cells": [
  {
   "cell_type": "code",
   "execution_count": 1,
   "id": "de694724",
   "metadata": {},
   "outputs": [],
   "source": [
    "# import numpy\n",
    "import numpy as np"
   ]
  },
  {
   "cell_type": "code",
   "execution_count": 41,
   "id": "2d97373e",
   "metadata": {},
   "outputs": [],
   "source": [
    "# load data from monthdata.npz\n",
    "data = np.load('monthdata.npz')\n",
    "?data.files\n",
    "totals = data['totals']\n",
    "counts = data['counts']"
   ]
  },
  {
   "cell_type": "code",
   "execution_count": 42,
   "id": "67ebda88",
   "metadata": {},
   "outputs": [
    {
     "data": {
      "text/plain": [
       "((9, 12), (9, 12))"
      ]
     },
     "execution_count": 42,
     "metadata": {},
     "output_type": "execute_result"
    }
   ],
   "source": [
    "# totals -> total precipitation observed \n",
    "# counts -> number of obs\n",
    "# rows -> distinct cities\n",
    "# cols -> distinct month\n",
    "totals, counts\n",
    "totals.shape, counts.shape"
   ]
  },
  {
   "cell_type": "code",
   "execution_count": 52,
   "id": "8a0b6bf1",
   "metadata": {},
   "outputs": [
    {
     "data": {
      "text/plain": [
       "8"
      ]
     },
     "execution_count": 52,
     "metadata": {},
     "output_type": "execute_result"
    }
   ],
   "source": [
    "# which city had the lowest precipitation\n",
    "total_precp_city = np.sum(totals, axis=1)\n",
    "total_precp_city\n",
    "# print row no.\n",
    "np.argmin(total_precp_city)\n",
    "\n"
   ]
  },
  {
   "cell_type": "code",
   "execution_count": 54,
   "id": "29b60c10",
   "metadata": {},
   "outputs": [
    {
     "data": {
      "text/plain": [
       "array([27.77978339, 30.42629482, 29.41007194, 17.96654275, 21.34456929,\n",
       "       20.69498069, 24.97718631, 19.85661765, 24.06563707, 44.68441065,\n",
       "       34.61568627, 32.36679537])"
      ]
     },
     "execution_count": 54,
     "metadata": {},
     "output_type": "execute_result"
    }
   ],
   "source": [
    "# determine average precp in these location for each month \n",
    "# total precp of each month / total no. of obs for that month\n",
    "total_precp_month = np.sum(totals, axis=0)\n",
    "total_precp_month\n",
    "total_obs_month = np.sum(counts, axis=0)\n",
    "total_obs_month\n",
    "avg_precp_month = total_precp_month / total_obs_month\n",
    "avg_precp_month"
   ]
  },
  {
   "cell_type": "code",
   "execution_count": 56,
   "id": "40186acc",
   "metadata": {},
   "outputs": [
    {
     "data": {
      "text/plain": [
       "array([47.77859779, 14.33333333, 39.91232877, 41.44505495, 23.4099723 ,\n",
       "       23.68144044, 17.52197802, 36.52222222,  6.15426997])"
      ]
     },
     "execution_count": 56,
     "metadata": {},
     "output_type": "execute_result"
    }
   ],
   "source": [
    "# determine average precp (daily precp averaged over the month) for each city\n",
    "total_obs_city = np.sum(counts, axis=1)\n",
    "total_obs_city\n",
    "avg_precp_city = total_precp_city / total_obs_city\n",
    "avg_precp_city"
   ]
  },
  {
   "cell_type": "code",
   "execution_count": 88,
   "id": "867646d2",
   "metadata": {},
   "outputs": [
    {
     "data": {
      "text/plain": [
       "array([[5450, 1408, 1466, 4624],\n",
       "       [ 189, 1339, 3148,  527],\n",
       "       [3120, 3357, 3386, 4705],\n",
       "       [4416, 3321, 2024, 5325],\n",
       "       [2024, 1498, 1721, 3208],\n",
       "       [1786, 1809, 2557, 2397],\n",
       "       [1583, 1296, 1729, 1770],\n",
       "       [4602, 1340, 1250, 5956],\n",
       "       [ 338,  524,  922,  450]])"
      ]
     },
     "execution_count": 88,
     "metadata": {},
     "output_type": "execute_result"
    }
   ],
   "source": [
    "# calculate total precp for each quarter in each city\n",
    "totals.shape\n",
    "# 4n, 3\n",
    "new_totals = np.reshape(totals, (totals.shape[0]*4, 3))\n",
    "quarterlyTotal_precp_city = np.sum(new_totals, axis=1)\n",
    "quarterlyTotal_precp_city\n",
    "# n, 4\n",
    "quarterlyTotal_precp_city = np.reshape(quarterlyTotal_precp_city, (totals.shape[0], 4))\n",
    "quarterlyTotal_precp_city\n",
    "\n",
    "\n"
   ]
  }
 ],
 "metadata": {
  "kernelspec": {
   "display_name": "Python 3 (ipykernel)",
   "language": "python",
   "name": "python3"
  },
  "language_info": {
   "codemirror_mode": {
    "name": "ipython",
    "version": 3
   },
   "file_extension": ".py",
   "mimetype": "text/x-python",
   "name": "python",
   "nbconvert_exporter": "python",
   "pygments_lexer": "ipython3",
   "version": "3.9.7"
  }
 },
 "nbformat": 4,
 "nbformat_minor": 5
}
