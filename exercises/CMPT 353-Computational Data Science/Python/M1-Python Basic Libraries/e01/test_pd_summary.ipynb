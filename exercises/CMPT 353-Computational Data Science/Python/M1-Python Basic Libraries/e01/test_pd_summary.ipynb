{
 "cells": [
  {
   "cell_type": "code",
   "execution_count": 1,
   "id": "b96f1d68",
   "metadata": {},
   "outputs": [],
   "source": [
    "from pd_summary import *"
   ]
  },
  {
   "cell_type": "code",
   "execution_count": 2,
   "id": "f7e35f3b",
   "metadata": {},
   "outputs": [
    {
     "name": "stdout",
     "output_type": "stream",
     "text": [
      "City with lowest total precipitation:\n",
      "YELLOWKNIFE A\n",
      "Average precipitation in each month:\n",
      "2016-01    27.779783\n",
      "2016-02    30.426295\n",
      "2016-03    29.410072\n",
      "2016-04    17.966543\n",
      "2016-05    21.344569\n",
      "2016-06    20.694981\n",
      "2016-07    24.977186\n",
      "2016-08    19.856618\n",
      "2016-09    24.065637\n",
      "2016-10    44.684411\n",
      "2016-11    34.615686\n",
      "2016-12    32.366795\n",
      "dtype: float64\n",
      "Average precipitation in each city:\n",
      "name\n",
      "BURNABY SIMON FRASER U            47.778598\n",
      "CALGARY INTL A                    14.333333\n",
      "GANDER INTL A                     39.912329\n",
      "HALIFAX INTL A                    41.445055\n",
      "REVELSTOKE                        23.409972\n",
      "SHERBROOKE                        23.681440\n",
      "TORONTO LESTER B. PEARSON INT'    17.521978\n",
      "VANCOUVER INTL A                  36.522222\n",
      "YELLOWKNIFE A                      6.154270\n",
      "dtype: float64\n"
     ]
    }
   ],
   "source": [
    "main()"
   ]
  },
  {
   "cell_type": "code",
   "execution_count": null,
   "id": "a85e0808",
   "metadata": {},
   "outputs": [],
   "source": []
  }
 ],
 "metadata": {
  "kernelspec": {
   "display_name": "Python 3 (ipykernel)",
   "language": "python",
   "name": "python3"
  },
  "language_info": {
   "codemirror_mode": {
    "name": "ipython",
    "version": 3
   },
   "file_extension": ".py",
   "mimetype": "text/x-python",
   "name": "python",
   "nbconvert_exporter": "python",
   "pygments_lexer": "ipython3",
   "version": "3.9.7"
  }
 },
 "nbformat": 4,
 "nbformat_minor": 5
}
