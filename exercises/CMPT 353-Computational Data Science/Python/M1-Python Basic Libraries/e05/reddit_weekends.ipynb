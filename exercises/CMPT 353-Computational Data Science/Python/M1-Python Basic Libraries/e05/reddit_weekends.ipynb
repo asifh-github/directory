{
 "cells": [
  {
   "cell_type": "code",
   "execution_count": 1,
   "id": "b2b90072",
   "metadata": {},
   "outputs": [],
   "source": [
    "import pandas as pd\n",
    "import numpy as np\n",
    "import matplotlib.pyplot as plt\n",
    "from scipy import stats\n"
   ]
  },
  {
   "cell_type": "code",
   "execution_count": 2,
   "id": "58a63f50",
   "metadata": {},
   "outputs": [],
   "source": [
    "reddit_counts = pd.read_json('reddit-counts.json.gz', lines=True)"
   ]
  },
  {
   "cell_type": "code",
   "execution_count": 3,
   "id": "31dad058",
   "metadata": {},
   "outputs": [],
   "source": [
    "counts = reddit_counts.copy()"
   ]
  },
  {
   "cell_type": "code",
   "execution_count": 4,
   "id": "0a3199e5",
   "metadata": {},
   "outputs": [
    {
     "data": {
      "text/plain": [
       "date             datetime64[ns]\n",
       "subreddit                object\n",
       "comment_count             int64\n",
       "dtype: object"
      ]
     },
     "execution_count": 4,
     "metadata": {},
     "output_type": "execute_result"
    }
   ],
   "source": [
    "counts.dtypes"
   ]
  },
  {
   "cell_type": "code",
   "execution_count": 5,
   "id": "3dd53a9a",
   "metadata": {},
   "outputs": [
    {
     "data": {
      "text/html": [
       "<div>\n",
       "<style scoped>\n",
       "    .dataframe tbody tr th:only-of-type {\n",
       "        vertical-align: middle;\n",
       "    }\n",
       "\n",
       "    .dataframe tbody tr th {\n",
       "        vertical-align: top;\n",
       "    }\n",
       "\n",
       "    .dataframe thead th {\n",
       "        text-align: right;\n",
       "    }\n",
       "</style>\n",
       "<table border=\"1\" class=\"dataframe\">\n",
       "  <thead>\n",
       "    <tr style=\"text-align: right;\">\n",
       "      <th></th>\n",
       "      <th>date</th>\n",
       "      <th>subreddit</th>\n",
       "      <th>comment_count</th>\n",
       "      <th>weekday</th>\n",
       "    </tr>\n",
       "  </thead>\n",
       "  <tbody>\n",
       "    <tr>\n",
       "      <th>0</th>\n",
       "      <td>2013-03-14</td>\n",
       "      <td>canada</td>\n",
       "      <td>1657</td>\n",
       "      <td>3</td>\n",
       "    </tr>\n",
       "    <tr>\n",
       "      <th>1</th>\n",
       "      <td>2013-07-08</td>\n",
       "      <td>canada</td>\n",
       "      <td>1369</td>\n",
       "      <td>0</td>\n",
       "    </tr>\n",
       "    <tr>\n",
       "      <th>2</th>\n",
       "      <td>2012-07-04</td>\n",
       "      <td>canada</td>\n",
       "      <td>1343</td>\n",
       "      <td>2</td>\n",
       "    </tr>\n",
       "    <tr>\n",
       "      <th>3</th>\n",
       "      <td>2013-03-11</td>\n",
       "      <td>canada</td>\n",
       "      <td>1619</td>\n",
       "      <td>0</td>\n",
       "    </tr>\n",
       "    <tr>\n",
       "      <th>4</th>\n",
       "      <td>2013-09-11</td>\n",
       "      <td>canada</td>\n",
       "      <td>1909</td>\n",
       "      <td>2</td>\n",
       "    </tr>\n",
       "    <tr>\n",
       "      <th>...</th>\n",
       "      <td>...</td>\n",
       "      <td>...</td>\n",
       "      <td>...</td>\n",
       "      <td>...</td>\n",
       "    </tr>\n",
       "    <tr>\n",
       "      <th>726</th>\n",
       "      <td>2013-01-01</td>\n",
       "      <td>canada</td>\n",
       "      <td>2113</td>\n",
       "      <td>1</td>\n",
       "    </tr>\n",
       "    <tr>\n",
       "      <th>727</th>\n",
       "      <td>2013-07-27</td>\n",
       "      <td>canada</td>\n",
       "      <td>1070</td>\n",
       "      <td>5</td>\n",
       "    </tr>\n",
       "    <tr>\n",
       "      <th>728</th>\n",
       "      <td>2012-10-19</td>\n",
       "      <td>canada</td>\n",
       "      <td>1486</td>\n",
       "      <td>4</td>\n",
       "    </tr>\n",
       "    <tr>\n",
       "      <th>729</th>\n",
       "      <td>2012-01-15</td>\n",
       "      <td>canada</td>\n",
       "      <td>1256</td>\n",
       "      <td>6</td>\n",
       "    </tr>\n",
       "    <tr>\n",
       "      <th>730</th>\n",
       "      <td>2012-01-02</td>\n",
       "      <td>canada</td>\n",
       "      <td>1127</td>\n",
       "      <td>0</td>\n",
       "    </tr>\n",
       "  </tbody>\n",
       "</table>\n",
       "<p>731 rows × 4 columns</p>\n",
       "</div>"
      ],
      "text/plain": [
       "          date subreddit  comment_count  weekday\n",
       "0   2013-03-14    canada           1657        3\n",
       "1   2013-07-08    canada           1369        0\n",
       "2   2012-07-04    canada           1343        2\n",
       "3   2013-03-11    canada           1619        0\n",
       "4   2013-09-11    canada           1909        2\n",
       "..         ...       ...            ...      ...\n",
       "726 2013-01-01    canada           2113        1\n",
       "727 2013-07-27    canada           1070        5\n",
       "728 2012-10-19    canada           1486        4\n",
       "729 2012-01-15    canada           1256        6\n",
       "730 2012-01-02    canada           1127        0\n",
       "\n",
       "[731 rows x 4 columns]"
      ]
     },
     "execution_count": 5,
     "metadata": {},
     "output_type": "execute_result"
    }
   ],
   "source": [
    "# filter values in 2012 and 2013\n",
    "counts = counts[(counts['date'] >= '2012-01-01') & (counts['date'] <'2014-01-01')]\n",
    "# filter values in the /r/canada subreddit\n",
    "counts = counts[counts['subreddit'] == 'canada']\n",
    "# reset index and drop index col\n",
    "counts = counts.reset_index()\n",
    "counts = counts.drop(columns='index')\n",
    "# assign weekday values to dates\n",
    "fil_counts = counts.copy()\n",
    "fil_counts['weekday'] = fil_counts['date'].dt.dayofweek\n",
    "fil_counts"
   ]
  },
  {
   "cell_type": "code",
   "execution_count": 6,
   "id": "bac5789a",
   "metadata": {},
   "outputs": [
    {
     "data": {
      "text/html": [
       "<div>\n",
       "<style scoped>\n",
       "    .dataframe tbody tr th:only-of-type {\n",
       "        vertical-align: middle;\n",
       "    }\n",
       "\n",
       "    .dataframe tbody tr th {\n",
       "        vertical-align: top;\n",
       "    }\n",
       "\n",
       "    .dataframe thead th {\n",
       "        text-align: right;\n",
       "    }\n",
       "</style>\n",
       "<table border=\"1\" class=\"dataframe\">\n",
       "  <thead>\n",
       "    <tr style=\"text-align: right;\">\n",
       "      <th></th>\n",
       "      <th>date</th>\n",
       "      <th>subreddit</th>\n",
       "      <th>comment_count</th>\n",
       "      <th>weekday</th>\n",
       "    </tr>\n",
       "  </thead>\n",
       "  <tbody>\n",
       "    <tr>\n",
       "      <th>5</th>\n",
       "      <td>2012-02-04</td>\n",
       "      <td>canada</td>\n",
       "      <td>1196</td>\n",
       "      <td>5</td>\n",
       "    </tr>\n",
       "    <tr>\n",
       "      <th>9</th>\n",
       "      <td>2012-11-17</td>\n",
       "      <td>canada</td>\n",
       "      <td>1570</td>\n",
       "      <td>5</td>\n",
       "    </tr>\n",
       "    <tr>\n",
       "      <th>17</th>\n",
       "      <td>2013-07-14</td>\n",
       "      <td>canada</td>\n",
       "      <td>908</td>\n",
       "      <td>6</td>\n",
       "    </tr>\n",
       "    <tr>\n",
       "      <th>21</th>\n",
       "      <td>2013-06-22</td>\n",
       "      <td>canada</td>\n",
       "      <td>984</td>\n",
       "      <td>5</td>\n",
       "    </tr>\n",
       "    <tr>\n",
       "      <th>22</th>\n",
       "      <td>2012-07-29</td>\n",
       "      <td>canada</td>\n",
       "      <td>1199</td>\n",
       "      <td>6</td>\n",
       "    </tr>\n",
       "    <tr>\n",
       "      <th>...</th>\n",
       "      <td>...</td>\n",
       "      <td>...</td>\n",
       "      <td>...</td>\n",
       "      <td>...</td>\n",
       "    </tr>\n",
       "    <tr>\n",
       "      <th>717</th>\n",
       "      <td>2012-11-04</td>\n",
       "      <td>canada</td>\n",
       "      <td>1772</td>\n",
       "      <td>6</td>\n",
       "    </tr>\n",
       "    <tr>\n",
       "      <th>721</th>\n",
       "      <td>2012-12-09</td>\n",
       "      <td>canada</td>\n",
       "      <td>1350</td>\n",
       "      <td>6</td>\n",
       "    </tr>\n",
       "    <tr>\n",
       "      <th>722</th>\n",
       "      <td>2012-12-02</td>\n",
       "      <td>canada</td>\n",
       "      <td>1725</td>\n",
       "      <td>6</td>\n",
       "    </tr>\n",
       "    <tr>\n",
       "      <th>727</th>\n",
       "      <td>2013-07-27</td>\n",
       "      <td>canada</td>\n",
       "      <td>1070</td>\n",
       "      <td>5</td>\n",
       "    </tr>\n",
       "    <tr>\n",
       "      <th>729</th>\n",
       "      <td>2012-01-15</td>\n",
       "      <td>canada</td>\n",
       "      <td>1256</td>\n",
       "      <td>6</td>\n",
       "    </tr>\n",
       "  </tbody>\n",
       "</table>\n",
       "<p>209 rows × 4 columns</p>\n",
       "</div>"
      ],
      "text/plain": [
       "          date subreddit  comment_count  weekday\n",
       "5   2012-02-04    canada           1196        5\n",
       "9   2012-11-17    canada           1570        5\n",
       "17  2013-07-14    canada            908        6\n",
       "21  2013-06-22    canada            984        5\n",
       "22  2012-07-29    canada           1199        6\n",
       "..         ...       ...            ...      ...\n",
       "717 2012-11-04    canada           1772        6\n",
       "721 2012-12-09    canada           1350        6\n",
       "722 2012-12-02    canada           1725        6\n",
       "727 2013-07-27    canada           1070        5\n",
       "729 2012-01-15    canada           1256        6\n",
       "\n",
       "[209 rows x 4 columns]"
      ]
     },
     "execution_count": 6,
     "metadata": {},
     "output_type": "execute_result"
    }
   ],
   "source": [
    "# seperate weekends in a seperate df\n",
    "weekends = fil_counts[fil_counts['weekday'] >= 5] \n",
    "weekends"
   ]
  },
  {
   "cell_type": "code",
   "execution_count": 7,
   "id": "3b225579",
   "metadata": {},
   "outputs": [
    {
     "data": {
      "text/html": [
       "<div>\n",
       "<style scoped>\n",
       "    .dataframe tbody tr th:only-of-type {\n",
       "        vertical-align: middle;\n",
       "    }\n",
       "\n",
       "    .dataframe tbody tr th {\n",
       "        vertical-align: top;\n",
       "    }\n",
       "\n",
       "    .dataframe thead th {\n",
       "        text-align: right;\n",
       "    }\n",
       "</style>\n",
       "<table border=\"1\" class=\"dataframe\">\n",
       "  <thead>\n",
       "    <tr style=\"text-align: right;\">\n",
       "      <th></th>\n",
       "      <th>date</th>\n",
       "      <th>subreddit</th>\n",
       "      <th>comment_count</th>\n",
       "      <th>weekday</th>\n",
       "    </tr>\n",
       "  </thead>\n",
       "  <tbody>\n",
       "    <tr>\n",
       "      <th>0</th>\n",
       "      <td>2013-03-14</td>\n",
       "      <td>canada</td>\n",
       "      <td>1657</td>\n",
       "      <td>3</td>\n",
       "    </tr>\n",
       "    <tr>\n",
       "      <th>1</th>\n",
       "      <td>2013-07-08</td>\n",
       "      <td>canada</td>\n",
       "      <td>1369</td>\n",
       "      <td>0</td>\n",
       "    </tr>\n",
       "    <tr>\n",
       "      <th>2</th>\n",
       "      <td>2012-07-04</td>\n",
       "      <td>canada</td>\n",
       "      <td>1343</td>\n",
       "      <td>2</td>\n",
       "    </tr>\n",
       "    <tr>\n",
       "      <th>3</th>\n",
       "      <td>2013-03-11</td>\n",
       "      <td>canada</td>\n",
       "      <td>1619</td>\n",
       "      <td>0</td>\n",
       "    </tr>\n",
       "    <tr>\n",
       "      <th>4</th>\n",
       "      <td>2013-09-11</td>\n",
       "      <td>canada</td>\n",
       "      <td>1909</td>\n",
       "      <td>2</td>\n",
       "    </tr>\n",
       "    <tr>\n",
       "      <th>...</th>\n",
       "      <td>...</td>\n",
       "      <td>...</td>\n",
       "      <td>...</td>\n",
       "      <td>...</td>\n",
       "    </tr>\n",
       "    <tr>\n",
       "      <th>724</th>\n",
       "      <td>2013-04-10</td>\n",
       "      <td>canada</td>\n",
       "      <td>2021</td>\n",
       "      <td>2</td>\n",
       "    </tr>\n",
       "    <tr>\n",
       "      <th>725</th>\n",
       "      <td>2013-03-19</td>\n",
       "      <td>canada</td>\n",
       "      <td>1630</td>\n",
       "      <td>1</td>\n",
       "    </tr>\n",
       "    <tr>\n",
       "      <th>726</th>\n",
       "      <td>2013-01-01</td>\n",
       "      <td>canada</td>\n",
       "      <td>2113</td>\n",
       "      <td>1</td>\n",
       "    </tr>\n",
       "    <tr>\n",
       "      <th>728</th>\n",
       "      <td>2012-10-19</td>\n",
       "      <td>canada</td>\n",
       "      <td>1486</td>\n",
       "      <td>4</td>\n",
       "    </tr>\n",
       "    <tr>\n",
       "      <th>730</th>\n",
       "      <td>2012-01-02</td>\n",
       "      <td>canada</td>\n",
       "      <td>1127</td>\n",
       "      <td>0</td>\n",
       "    </tr>\n",
       "  </tbody>\n",
       "</table>\n",
       "<p>522 rows × 4 columns</p>\n",
       "</div>"
      ],
      "text/plain": [
       "          date subreddit  comment_count  weekday\n",
       "0   2013-03-14    canada           1657        3\n",
       "1   2013-07-08    canada           1369        0\n",
       "2   2012-07-04    canada           1343        2\n",
       "3   2013-03-11    canada           1619        0\n",
       "4   2013-09-11    canada           1909        2\n",
       "..         ...       ...            ...      ...\n",
       "724 2013-04-10    canada           2021        2\n",
       "725 2013-03-19    canada           1630        1\n",
       "726 2013-01-01    canada           2113        1\n",
       "728 2012-10-19    canada           1486        4\n",
       "730 2012-01-02    canada           1127        0\n",
       "\n",
       "[522 rows x 4 columns]"
      ]
     },
     "execution_count": 7,
     "metadata": {},
     "output_type": "execute_result"
    }
   ],
   "source": [
    "# seperate weekdays in a seperate df\n",
    "weekdays = fil_counts[fil_counts['weekday'] <= 4] \n",
    "weekdays"
   ]
  },
  {
   "cell_type": "markdown",
   "id": "113efad0",
   "metadata": {},
   "source": [
    "##### Student's T-Test"
   ]
  },
  {
   "cell_type": "code",
   "execution_count": 8,
   "id": "c18bf729",
   "metadata": {},
   "outputs": [
    {
     "data": {
      "text/plain": [
       "1.3005502847207912e-58"
      ]
     },
     "execution_count": 8,
     "metadata": {},
     "output_type": "execute_result"
    }
   ],
   "source": [
    "# do a T-test on the data to get a p-value\n",
    "stats.ttest_ind(weekdays['comment_count'], weekends['comment_count']).pvalue"
   ]
  },
  {
   "cell_type": "code",
   "execution_count": 9,
   "id": "cba2c528",
   "metadata": {},
   "outputs": [
    {
     "data": {
      "text/plain": [
       "1.0091137251707994e-07"
      ]
     },
     "execution_count": 9,
     "metadata": {},
     "output_type": "execute_result"
    }
   ],
   "source": [
    "# try normality test to see if the data is normally-distributed\n",
    "stats.normaltest(weekdays['comment_count']).pvalue"
   ]
  },
  {
   "cell_type": "code",
   "execution_count": 10,
   "id": "17b46fb5",
   "metadata": {},
   "outputs": [
    {
     "data": {
      "text/plain": [
       "0.0015209196859635404"
      ]
     },
     "execution_count": 10,
     "metadata": {},
     "output_type": "execute_result"
    }
   ],
   "source": [
    "# try normality test to see if the data is normally-distributed\n",
    "stats.normaltest(weekends['comment_count']).pvalue"
   ]
  },
  {
   "cell_type": "code",
   "execution_count": 11,
   "id": "caa83566",
   "metadata": {},
   "outputs": [
    {
     "data": {
      "text/plain": [
       "0.04378740989202803"
      ]
     },
     "execution_count": 11,
     "metadata": {},
     "output_type": "execute_result"
    }
   ],
   "source": [
    "# check if the two data sets have equal variances\n",
    "stats.levene(weekdays['comment_count'], weekends['comment_count']).pvalue"
   ]
  },
  {
   "cell_type": "markdown",
   "id": "b636b28e",
   "metadata": {},
   "source": [
    "##### Fix 1: transforming data might save us"
   ]
  },
  {
   "cell_type": "code",
   "execution_count": 12,
   "id": "7638aa5b",
   "metadata": {},
   "outputs": [
    {
     "data": {
      "image/png": "[encoded data removed]",
      "text/plain": [
       "<Figure size 432x288 with 1 Axes>"
      ]
     },
     "metadata": {
      "needs_background": "light"
     },
     "output_type": "display_data"
    }
   ],
   "source": [
    "plt.hist(fil_counts['comment_count']);"
   ]
  },
  {
   "cell_type": "code",
   "execution_count": 13,
   "id": "8af2a182",
   "metadata": {},
   "outputs": [
    {
     "data": {
      "text/html": [
       "<div>\n",
       "<style scoped>\n",
       "    .dataframe tbody tr th:only-of-type {\n",
       "        vertical-align: middle;\n",
       "    }\n",
       "\n",
       "    .dataframe tbody tr th {\n",
       "        vertical-align: top;\n",
       "    }\n",
       "\n",
       "    .dataframe thead th {\n",
       "        text-align: right;\n",
       "    }\n",
       "</style>\n",
       "<table border=\"1\" class=\"dataframe\">\n",
       "  <thead>\n",
       "    <tr style=\"text-align: right;\">\n",
       "      <th></th>\n",
       "      <th>date</th>\n",
       "      <th>subreddit</th>\n",
       "      <th>comment_count</th>\n",
       "      <th>weekday</th>\n",
       "    </tr>\n",
       "  </thead>\n",
       "  <tbody>\n",
       "    <tr>\n",
       "      <th>0</th>\n",
       "      <td>2013-03-14</td>\n",
       "      <td>canada</td>\n",
       "      <td>1657</td>\n",
       "      <td>3</td>\n",
       "    </tr>\n",
       "    <tr>\n",
       "      <th>1</th>\n",
       "      <td>2013-07-08</td>\n",
       "      <td>canada</td>\n",
       "      <td>1369</td>\n",
       "      <td>0</td>\n",
       "    </tr>\n",
       "    <tr>\n",
       "      <th>2</th>\n",
       "      <td>2012-07-04</td>\n",
       "      <td>canada</td>\n",
       "      <td>1343</td>\n",
       "      <td>2</td>\n",
       "    </tr>\n",
       "    <tr>\n",
       "      <th>3</th>\n",
       "      <td>2013-03-11</td>\n",
       "      <td>canada</td>\n",
       "      <td>1619</td>\n",
       "      <td>0</td>\n",
       "    </tr>\n",
       "    <tr>\n",
       "      <th>4</th>\n",
       "      <td>2013-09-11</td>\n",
       "      <td>canada</td>\n",
       "      <td>1909</td>\n",
       "      <td>2</td>\n",
       "    </tr>\n",
       "    <tr>\n",
       "      <th>...</th>\n",
       "      <td>...</td>\n",
       "      <td>...</td>\n",
       "      <td>...</td>\n",
       "      <td>...</td>\n",
       "    </tr>\n",
       "    <tr>\n",
       "      <th>726</th>\n",
       "      <td>2013-01-01</td>\n",
       "      <td>canada</td>\n",
       "      <td>2113</td>\n",
       "      <td>1</td>\n",
       "    </tr>\n",
       "    <tr>\n",
       "      <th>727</th>\n",
       "      <td>2013-07-27</td>\n",
       "      <td>canada</td>\n",
       "      <td>1070</td>\n",
       "      <td>5</td>\n",
       "    </tr>\n",
       "    <tr>\n",
       "      <th>728</th>\n",
       "      <td>2012-10-19</td>\n",
       "      <td>canada</td>\n",
       "      <td>1486</td>\n",
       "      <td>4</td>\n",
       "    </tr>\n",
       "    <tr>\n",
       "      <th>729</th>\n",
       "      <td>2012-01-15</td>\n",
       "      <td>canada</td>\n",
       "      <td>1256</td>\n",
       "      <td>6</td>\n",
       "    </tr>\n",
       "    <tr>\n",
       "      <th>730</th>\n",
       "      <td>2012-01-02</td>\n",
       "      <td>canada</td>\n",
       "      <td>1127</td>\n",
       "      <td>0</td>\n",
       "    </tr>\n",
       "  </tbody>\n",
       "</table>\n",
       "<p>731 rows × 4 columns</p>\n",
       "</div>"
      ],
      "text/plain": [
       "          date subreddit  comment_count  weekday\n",
       "0   2013-03-14    canada           1657        3\n",
       "1   2013-07-08    canada           1369        0\n",
       "2   2012-07-04    canada           1343        2\n",
       "3   2013-03-11    canada           1619        0\n",
       "4   2013-09-11    canada           1909        2\n",
       "..         ...       ...            ...      ...\n",
       "726 2013-01-01    canada           2113        1\n",
       "727 2013-07-27    canada           1070        5\n",
       "728 2012-10-19    canada           1486        4\n",
       "729 2012-01-15    canada           1256        6\n",
       "730 2012-01-02    canada           1127        0\n",
       "\n",
       "[731 rows x 4 columns]"
      ]
     },
     "execution_count": 13,
     "metadata": {},
     "output_type": "execute_result"
    }
   ],
   "source": [
    "fil_counts"
   ]
  },
  {
   "cell_type": "code",
   "execution_count": 14,
   "id": "691fb63b",
   "metadata": {},
   "outputs": [
    {
     "data": {
      "image/png": "[encoded data removed]",
      "text/plain": [
       "<Figure size 432x288 with 1 Axes>"
      ]
     },
     "metadata": {
      "needs_background": "light"
     },
     "output_type": "display_data"
    }
   ],
   "source": [
    "# skewed: transform data\n",
    "t_counts = fil_counts.copy()\n",
    "t_counts['comment_count'] = np.sqrt(t_counts['comment_count'])\n",
    "plt.hist(t_counts['comment_count']);"
   ]
  },
  {
   "cell_type": "code",
   "execution_count": 15,
   "id": "6a13e9f3",
   "metadata": {},
   "outputs": [
    {
     "data": {
      "text/html": [
       "<div>\n",
       "<style scoped>\n",
       "    .dataframe tbody tr th:only-of-type {\n",
       "        vertical-align: middle;\n",
       "    }\n",
       "\n",
       "    .dataframe tbody tr th {\n",
       "        vertical-align: top;\n",
       "    }\n",
       "\n",
       "    .dataframe thead th {\n",
       "        text-align: right;\n",
       "    }\n",
       "</style>\n",
       "<table border=\"1\" class=\"dataframe\">\n",
       "  <thead>\n",
       "    <tr style=\"text-align: right;\">\n",
       "      <th></th>\n",
       "      <th>date</th>\n",
       "      <th>subreddit</th>\n",
       "      <th>comment_count</th>\n",
       "      <th>weekday</th>\n",
       "    </tr>\n",
       "  </thead>\n",
       "  <tbody>\n",
       "    <tr>\n",
       "      <th>5</th>\n",
       "      <td>2012-02-04</td>\n",
       "      <td>canada</td>\n",
       "      <td>34.583233</td>\n",
       "      <td>5</td>\n",
       "    </tr>\n",
       "    <tr>\n",
       "      <th>9</th>\n",
       "      <td>2012-11-17</td>\n",
       "      <td>canada</td>\n",
       "      <td>39.623226</td>\n",
       "      <td>5</td>\n",
       "    </tr>\n",
       "    <tr>\n",
       "      <th>17</th>\n",
       "      <td>2013-07-14</td>\n",
       "      <td>canada</td>\n",
       "      <td>30.133038</td>\n",
       "      <td>6</td>\n",
       "    </tr>\n",
       "    <tr>\n",
       "      <th>21</th>\n",
       "      <td>2013-06-22</td>\n",
       "      <td>canada</td>\n",
       "      <td>31.368774</td>\n",
       "      <td>5</td>\n",
       "    </tr>\n",
       "    <tr>\n",
       "      <th>22</th>\n",
       "      <td>2012-07-29</td>\n",
       "      <td>canada</td>\n",
       "      <td>34.626579</td>\n",
       "      <td>6</td>\n",
       "    </tr>\n",
       "    <tr>\n",
       "      <th>...</th>\n",
       "      <td>...</td>\n",
       "      <td>...</td>\n",
       "      <td>...</td>\n",
       "      <td>...</td>\n",
       "    </tr>\n",
       "    <tr>\n",
       "      <th>717</th>\n",
       "      <td>2012-11-04</td>\n",
       "      <td>canada</td>\n",
       "      <td>42.095130</td>\n",
       "      <td>6</td>\n",
       "    </tr>\n",
       "    <tr>\n",
       "      <th>721</th>\n",
       "      <td>2012-12-09</td>\n",
       "      <td>canada</td>\n",
       "      <td>36.742346</td>\n",
       "      <td>6</td>\n",
       "    </tr>\n",
       "    <tr>\n",
       "      <th>722</th>\n",
       "      <td>2012-12-02</td>\n",
       "      <td>canada</td>\n",
       "      <td>41.533119</td>\n",
       "      <td>6</td>\n",
       "    </tr>\n",
       "    <tr>\n",
       "      <th>727</th>\n",
       "      <td>2013-07-27</td>\n",
       "      <td>canada</td>\n",
       "      <td>32.710854</td>\n",
       "      <td>5</td>\n",
       "    </tr>\n",
       "    <tr>\n",
       "      <th>729</th>\n",
       "      <td>2012-01-15</td>\n",
       "      <td>canada</td>\n",
       "      <td>35.440090</td>\n",
       "      <td>6</td>\n",
       "    </tr>\n",
       "  </tbody>\n",
       "</table>\n",
       "<p>209 rows × 4 columns</p>\n",
       "</div>"
      ],
      "text/plain": [
       "          date subreddit  comment_count  weekday\n",
       "5   2012-02-04    canada      34.583233        5\n",
       "9   2012-11-17    canada      39.623226        5\n",
       "17  2013-07-14    canada      30.133038        6\n",
       "21  2013-06-22    canada      31.368774        5\n",
       "22  2012-07-29    canada      34.626579        6\n",
       "..         ...       ...            ...      ...\n",
       "717 2012-11-04    canada      42.095130        6\n",
       "721 2012-12-09    canada      36.742346        6\n",
       "722 2012-12-02    canada      41.533119        6\n",
       "727 2013-07-27    canada      32.710854        5\n",
       "729 2012-01-15    canada      35.440090        6\n",
       "\n",
       "[209 rows x 4 columns]"
      ]
     },
     "execution_count": 15,
     "metadata": {},
     "output_type": "execute_result"
    }
   ],
   "source": [
    "t_weekends = t_counts[t_counts['weekday'] >= 5] \n",
    "t_weekends"
   ]
  },
  {
   "cell_type": "code",
   "execution_count": 16,
   "id": "f71b4ecf",
   "metadata": {},
   "outputs": [
    {
     "data": {
      "text/html": [
       "<div>\n",
       "<style scoped>\n",
       "    .dataframe tbody tr th:only-of-type {\n",
       "        vertical-align: middle;\n",
       "    }\n",
       "\n",
       "    .dataframe tbody tr th {\n",
       "        vertical-align: top;\n",
       "    }\n",
       "\n",
       "    .dataframe thead th {\n",
       "        text-align: right;\n",
       "    }\n",
       "</style>\n",
       "<table border=\"1\" class=\"dataframe\">\n",
       "  <thead>\n",
       "    <tr style=\"text-align: right;\">\n",
       "      <th></th>\n",
       "      <th>date</th>\n",
       "      <th>subreddit</th>\n",
       "      <th>comment_count</th>\n",
       "      <th>weekday</th>\n",
       "    </tr>\n",
       "  </thead>\n",
       "  <tbody>\n",
       "    <tr>\n",
       "      <th>0</th>\n",
       "      <td>2013-03-14</td>\n",
       "      <td>canada</td>\n",
       "      <td>40.706265</td>\n",
       "      <td>3</td>\n",
       "    </tr>\n",
       "    <tr>\n",
       "      <th>1</th>\n",
       "      <td>2013-07-08</td>\n",
       "      <td>canada</td>\n",
       "      <td>37.000000</td>\n",
       "      <td>0</td>\n",
       "    </tr>\n",
       "    <tr>\n",
       "      <th>2</th>\n",
       "      <td>2012-07-04</td>\n",
       "      <td>canada</td>\n",
       "      <td>36.646964</td>\n",
       "      <td>2</td>\n",
       "    </tr>\n",
       "    <tr>\n",
       "      <th>3</th>\n",
       "      <td>2013-03-11</td>\n",
       "      <td>canada</td>\n",
       "      <td>40.236799</td>\n",
       "      <td>0</td>\n",
       "    </tr>\n",
       "    <tr>\n",
       "      <th>4</th>\n",
       "      <td>2013-09-11</td>\n",
       "      <td>canada</td>\n",
       "      <td>43.692105</td>\n",
       "      <td>2</td>\n",
       "    </tr>\n",
       "    <tr>\n",
       "      <th>...</th>\n",
       "      <td>...</td>\n",
       "      <td>...</td>\n",
       "      <td>...</td>\n",
       "      <td>...</td>\n",
       "    </tr>\n",
       "    <tr>\n",
       "      <th>724</th>\n",
       "      <td>2013-04-10</td>\n",
       "      <td>canada</td>\n",
       "      <td>44.955534</td>\n",
       "      <td>2</td>\n",
       "    </tr>\n",
       "    <tr>\n",
       "      <th>725</th>\n",
       "      <td>2013-03-19</td>\n",
       "      <td>canada</td>\n",
       "      <td>40.373258</td>\n",
       "      <td>1</td>\n",
       "    </tr>\n",
       "    <tr>\n",
       "      <th>726</th>\n",
       "      <td>2013-01-01</td>\n",
       "      <td>canada</td>\n",
       "      <td>45.967380</td>\n",
       "      <td>1</td>\n",
       "    </tr>\n",
       "    <tr>\n",
       "      <th>728</th>\n",
       "      <td>2012-10-19</td>\n",
       "      <td>canada</td>\n",
       "      <td>38.548671</td>\n",
       "      <td>4</td>\n",
       "    </tr>\n",
       "    <tr>\n",
       "      <th>730</th>\n",
       "      <td>2012-01-02</td>\n",
       "      <td>canada</td>\n",
       "      <td>33.570821</td>\n",
       "      <td>0</td>\n",
       "    </tr>\n",
       "  </tbody>\n",
       "</table>\n",
       "<p>522 rows × 4 columns</p>\n",
       "</div>"
      ],
      "text/plain": [
       "          date subreddit  comment_count  weekday\n",
       "0   2013-03-14    canada      40.706265        3\n",
       "1   2013-07-08    canada      37.000000        0\n",
       "2   2012-07-04    canada      36.646964        2\n",
       "3   2013-03-11    canada      40.236799        0\n",
       "4   2013-09-11    canada      43.692105        2\n",
       "..         ...       ...            ...      ...\n",
       "724 2013-04-10    canada      44.955534        2\n",
       "725 2013-03-19    canada      40.373258        1\n",
       "726 2013-01-01    canada      45.967380        1\n",
       "728 2012-10-19    canada      38.548671        4\n",
       "730 2012-01-02    canada      33.570821        0\n",
       "\n",
       "[522 rows x 4 columns]"
      ]
     },
     "execution_count": 16,
     "metadata": {},
     "output_type": "execute_result"
    }
   ],
   "source": [
    "t_weekdays = t_counts[t_counts['weekday'] <= 4] \n",
    "t_weekdays"
   ]
  },
  {
   "cell_type": "code",
   "execution_count": 17,
   "id": "4a56f1e1",
   "metadata": {},
   "outputs": [
    {
     "data": {
      "text/plain": [
       "(0.10760562894666933, 0.03687221613365365)"
      ]
     },
     "execution_count": 17,
     "metadata": {},
     "output_type": "execute_result"
    }
   ],
   "source": [
    "# try normality test to see if the transformed data is normally-distributed\n",
    "stats.normaltest(t_weekends['comment_count']).pvalue, stats.normaltest(t_weekdays['comment_count']).pvalue"
   ]
  },
  {
   "cell_type": "code",
   "execution_count": 18,
   "id": "82f2f5a4",
   "metadata": {},
   "outputs": [
    {
     "data": {
      "text/plain": [
       "0.5560544297516696"
      ]
     },
     "execution_count": 18,
     "metadata": {},
     "output_type": "execute_result"
    }
   ],
   "source": [
    "# check if the transformed data sets have equal variances\n",
    "stats.levene(t_weekdays['comment_count'], t_weekends['comment_count']).pvalue"
   ]
  },
  {
   "cell_type": "markdown",
   "id": "02d58253",
   "metadata": {},
   "source": [
    "##### Fix 2: the Central Limit Theorem might save us."
   ]
  },
  {
   "cell_type": "code",
   "execution_count": 19,
   "id": "1007928f",
   "metadata": {},
   "outputs": [
    {
     "data": {
      "text/html": [
       "<div>\n",
       "<style scoped>\n",
       "    .dataframe tbody tr th:only-of-type {\n",
       "        vertical-align: middle;\n",
       "    }\n",
       "\n",
       "    .dataframe tbody tr th {\n",
       "        vertical-align: top;\n",
       "    }\n",
       "\n",
       "    .dataframe thead th {\n",
       "        text-align: right;\n",
       "    }\n",
       "</style>\n",
       "<table border=\"1\" class=\"dataframe\">\n",
       "  <thead>\n",
       "    <tr style=\"text-align: right;\">\n",
       "      <th></th>\n",
       "      <th>date</th>\n",
       "      <th>subreddit</th>\n",
       "      <th>comment_count</th>\n",
       "      <th>year</th>\n",
       "      <th>week</th>\n",
       "      <th>day</th>\n",
       "    </tr>\n",
       "  </thead>\n",
       "  <tbody>\n",
       "    <tr>\n",
       "      <th>0</th>\n",
       "      <td>2013-03-14</td>\n",
       "      <td>canada</td>\n",
       "      <td>1657</td>\n",
       "      <td>2013</td>\n",
       "      <td>11</td>\n",
       "      <td>4</td>\n",
       "    </tr>\n",
       "    <tr>\n",
       "      <th>1</th>\n",
       "      <td>2013-07-08</td>\n",
       "      <td>canada</td>\n",
       "      <td>1369</td>\n",
       "      <td>2013</td>\n",
       "      <td>28</td>\n",
       "      <td>1</td>\n",
       "    </tr>\n",
       "    <tr>\n",
       "      <th>2</th>\n",
       "      <td>2012-07-04</td>\n",
       "      <td>canada</td>\n",
       "      <td>1343</td>\n",
       "      <td>2012</td>\n",
       "      <td>27</td>\n",
       "      <td>3</td>\n",
       "    </tr>\n",
       "    <tr>\n",
       "      <th>3</th>\n",
       "      <td>2013-03-11</td>\n",
       "      <td>canada</td>\n",
       "      <td>1619</td>\n",
       "      <td>2013</td>\n",
       "      <td>11</td>\n",
       "      <td>1</td>\n",
       "    </tr>\n",
       "    <tr>\n",
       "      <th>4</th>\n",
       "      <td>2013-09-11</td>\n",
       "      <td>canada</td>\n",
       "      <td>1909</td>\n",
       "      <td>2013</td>\n",
       "      <td>37</td>\n",
       "      <td>3</td>\n",
       "    </tr>\n",
       "    <tr>\n",
       "      <th>...</th>\n",
       "      <td>...</td>\n",
       "      <td>...</td>\n",
       "      <td>...</td>\n",
       "      <td>...</td>\n",
       "      <td>...</td>\n",
       "      <td>...</td>\n",
       "    </tr>\n",
       "    <tr>\n",
       "      <th>726</th>\n",
       "      <td>2013-01-01</td>\n",
       "      <td>canada</td>\n",
       "      <td>2113</td>\n",
       "      <td>2013</td>\n",
       "      <td>1</td>\n",
       "      <td>2</td>\n",
       "    </tr>\n",
       "    <tr>\n",
       "      <th>727</th>\n",
       "      <td>2013-07-27</td>\n",
       "      <td>canada</td>\n",
       "      <td>1070</td>\n",
       "      <td>2013</td>\n",
       "      <td>30</td>\n",
       "      <td>6</td>\n",
       "    </tr>\n",
       "    <tr>\n",
       "      <th>728</th>\n",
       "      <td>2012-10-19</td>\n",
       "      <td>canada</td>\n",
       "      <td>1486</td>\n",
       "      <td>2012</td>\n",
       "      <td>42</td>\n",
       "      <td>5</td>\n",
       "    </tr>\n",
       "    <tr>\n",
       "      <th>729</th>\n",
       "      <td>2012-01-15</td>\n",
       "      <td>canada</td>\n",
       "      <td>1256</td>\n",
       "      <td>2012</td>\n",
       "      <td>2</td>\n",
       "      <td>7</td>\n",
       "    </tr>\n",
       "    <tr>\n",
       "      <th>730</th>\n",
       "      <td>2012-01-02</td>\n",
       "      <td>canada</td>\n",
       "      <td>1127</td>\n",
       "      <td>2012</td>\n",
       "      <td>1</td>\n",
       "      <td>1</td>\n",
       "    </tr>\n",
       "  </tbody>\n",
       "</table>\n",
       "<p>731 rows × 6 columns</p>\n",
       "</div>"
      ],
      "text/plain": [
       "          date subreddit  comment_count  year  week  day\n",
       "0   2013-03-14    canada           1657  2013    11    4\n",
       "1   2013-07-08    canada           1369  2013    28    1\n",
       "2   2012-07-04    canada           1343  2012    27    3\n",
       "3   2013-03-11    canada           1619  2013    11    1\n",
       "4   2013-09-11    canada           1909  2013    37    3\n",
       "..         ...       ...            ...   ...   ...  ...\n",
       "726 2013-01-01    canada           2113  2013     1    2\n",
       "727 2013-07-27    canada           1070  2013    30    6\n",
       "728 2012-10-19    canada           1486  2012    42    5\n",
       "729 2012-01-15    canada           1256  2012     2    7\n",
       "730 2012-01-02    canada           1127  2012     1    1\n",
       "\n",
       "[731 rows x 6 columns]"
      ]
     },
     "execution_count": 19,
     "metadata": {},
     "output_type": "execute_result"
    }
   ],
   "source": [
    "# combine all weekdays and weekend days from each year/week pair and take the mean of their (non-transformed) counts\n",
    "f_counts = counts.copy()\n",
    "f_counts[['year', 'week', 'day']] = f_counts['date'].dt.isocalendar()\n",
    "f_counts"
   ]
  },
  {
   "cell_type": "code",
   "execution_count": 20,
   "id": "0f9d4c80",
   "metadata": {},
   "outputs": [
    {
     "data": {
      "text/html": [
       "<div>\n",
       "<style scoped>\n",
       "    .dataframe tbody tr th:only-of-type {\n",
       "        vertical-align: middle;\n",
       "    }\n",
       "\n",
       "    .dataframe tbody tr th {\n",
       "        vertical-align: top;\n",
       "    }\n",
       "\n",
       "    .dataframe thead th {\n",
       "        text-align: right;\n",
       "    }\n",
       "</style>\n",
       "<table border=\"1\" class=\"dataframe\">\n",
       "  <thead>\n",
       "    <tr style=\"text-align: right;\">\n",
       "      <th></th>\n",
       "      <th></th>\n",
       "      <th>comment_count</th>\n",
       "      <th>day</th>\n",
       "    </tr>\n",
       "    <tr>\n",
       "      <th>year</th>\n",
       "      <th>week</th>\n",
       "      <th></th>\n",
       "      <th></th>\n",
       "    </tr>\n",
       "  </thead>\n",
       "  <tbody>\n",
       "    <tr>\n",
       "      <th rowspan=\"5\" valign=\"top\">2012</th>\n",
       "      <th>1</th>\n",
       "      <td>1163.0</td>\n",
       "      <td>6.5</td>\n",
       "    </tr>\n",
       "    <tr>\n",
       "      <th>2</th>\n",
       "      <td>1372.0</td>\n",
       "      <td>6.5</td>\n",
       "    </tr>\n",
       "    <tr>\n",
       "      <th>3</th>\n",
       "      <td>915.5</td>\n",
       "      <td>6.5</td>\n",
       "    </tr>\n",
       "    <tr>\n",
       "      <th>4</th>\n",
       "      <td>1285.0</td>\n",
       "      <td>6.5</td>\n",
       "    </tr>\n",
       "    <tr>\n",
       "      <th>5</th>\n",
       "      <td>1228.0</td>\n",
       "      <td>6.5</td>\n",
       "    </tr>\n",
       "    <tr>\n",
       "      <th>...</th>\n",
       "      <th>...</th>\n",
       "      <td>...</td>\n",
       "      <td>...</td>\n",
       "    </tr>\n",
       "    <tr>\n",
       "      <th rowspan=\"5\" valign=\"top\">2013</th>\n",
       "      <th>48</th>\n",
       "      <td>1553.0</td>\n",
       "      <td>6.5</td>\n",
       "    </tr>\n",
       "    <tr>\n",
       "      <th>49</th>\n",
       "      <td>1412.5</td>\n",
       "      <td>6.5</td>\n",
       "    </tr>\n",
       "    <tr>\n",
       "      <th>50</th>\n",
       "      <td>1547.0</td>\n",
       "      <td>6.5</td>\n",
       "    </tr>\n",
       "    <tr>\n",
       "      <th>51</th>\n",
       "      <td>1173.5</td>\n",
       "      <td>6.5</td>\n",
       "    </tr>\n",
       "    <tr>\n",
       "      <th>52</th>\n",
       "      <td>1117.5</td>\n",
       "      <td>6.5</td>\n",
       "    </tr>\n",
       "  </tbody>\n",
       "</table>\n",
       "<p>104 rows × 2 columns</p>\n",
       "</div>"
      ],
      "text/plain": [
       "           comment_count  day\n",
       "year week                    \n",
       "2012 1            1163.0  6.5\n",
       "     2            1372.0  6.5\n",
       "     3             915.5  6.5\n",
       "     4            1285.0  6.5\n",
       "     5            1228.0  6.5\n",
       "...                  ...  ...\n",
       "2013 48           1553.0  6.5\n",
       "     49           1412.5  6.5\n",
       "     50           1547.0  6.5\n",
       "     51           1173.5  6.5\n",
       "     52           1117.5  6.5\n",
       "\n",
       "[104 rows x 2 columns]"
      ]
     },
     "execution_count": 20,
     "metadata": {},
     "output_type": "execute_result"
    }
   ],
   "source": [
    "f_weekends = f_counts[f_counts['day'] >= 6]\n",
    "f_weekends = f_weekends.groupby(by=['year', 'week']).aggregate('mean')\n",
    "f_weekends = f_weekends.drop(f_weekends.index[0])\n",
    "f_weekends"
   ]
  },
  {
   "cell_type": "code",
   "execution_count": 1,
   "id": "8a3c93c1",
   "metadata": {},
   "outputs": [
    {
     "ename": "NameError",
     "evalue": "name 'f_counts' is not defined",
     "output_type": "error",
     "traceback": [
      "\u001b[0;31m---------------------------------------------------------------------------\u001b[0m",
      "\u001b[0;31mNameError\u001b[0m                                 Traceback (most recent call last)",
      "\u001b[0;32m/var/folders/9m/_507476d61b_2pb21qlmwzxh0000gn/T/ipykernel_3415/3272948957.py\u001b[0m in \u001b[0;36m<module>\u001b[0;34m\u001b[0m\n\u001b[0;32m----> 1\u001b[0;31m \u001b[0mf_weekdays\u001b[0m \u001b[0;34m=\u001b[0m \u001b[0mf_counts\u001b[0m\u001b[0;34m[\u001b[0m\u001b[0mf_counts\u001b[0m\u001b[0;34m[\u001b[0m\u001b[0;34m'day'\u001b[0m\u001b[0;34m]\u001b[0m \u001b[0;34m<\u001b[0m \u001b[0;36m6\u001b[0m\u001b[0;34m]\u001b[0m\u001b[0;34m\u001b[0m\u001b[0;34m\u001b[0m\u001b[0m\n\u001b[0m\u001b[1;32m      2\u001b[0m \u001b[0mf_weekdays\u001b[0m \u001b[0;34m=\u001b[0m \u001b[0mf_weekdays\u001b[0m\u001b[0;34m.\u001b[0m\u001b[0mgroupby\u001b[0m\u001b[0;34m(\u001b[0m\u001b[0mby\u001b[0m\u001b[0;34m=\u001b[0m\u001b[0;34m[\u001b[0m\u001b[0;34m'year'\u001b[0m\u001b[0;34m,\u001b[0m \u001b[0;34m'week'\u001b[0m\u001b[0;34m]\u001b[0m\u001b[0;34m)\u001b[0m\u001b[0;34m.\u001b[0m\u001b[0maggregate\u001b[0m\u001b[0;34m(\u001b[0m\u001b[0;34m'mean'\u001b[0m\u001b[0;34m)\u001b[0m\u001b[0;34m\u001b[0m\u001b[0;34m\u001b[0m\u001b[0m\n\u001b[1;32m      3\u001b[0m \u001b[0mf_weekdays\u001b[0m \u001b[0;34m=\u001b[0m \u001b[0mf_weekdays\u001b[0m\u001b[0;34m.\u001b[0m\u001b[0mdrop\u001b[0m\u001b[0;34m(\u001b[0m\u001b[0mf_weekdays\u001b[0m\u001b[0;34m.\u001b[0m\u001b[0mindex\u001b[0m\u001b[0;34m[\u001b[0m\u001b[0;34m-\u001b[0m\u001b[0;36m1\u001b[0m\u001b[0;34m]\u001b[0m\u001b[0;34m)\u001b[0m\u001b[0;34m\u001b[0m\u001b[0;34m\u001b[0m\u001b[0m\n",
      "\u001b[0;31mNameError\u001b[0m: name 'f_counts' is not defined"
     ]
    }
   ],
   "source": [
    "f_weekdays = f_counts[f_counts['day'] < 6]\n",
    "f_weekdays = f_weekdays.groupby(by=['year', 'week']).aggregate('mean')\n",
    "f_weekdays = f_weekdays.drop(f_weekdays.index[-1])\n"
   ]
  },
  {
   "cell_type": "code",
   "execution_count": 22,
   "id": "e71b3a3f",
   "metadata": {},
   "outputs": [
    {
     "data": {
      "text/plain": [
       "0.1717955067860438"
      ]
     },
     "execution_count": 22,
     "metadata": {},
     "output_type": "execute_result"
    }
   ],
   "source": [
    "# now, try normality test to see if the data is normally-distributed\n",
    "stats.normaltest(f_weekends['comment_count']).pvalue"
   ]
  },
  {
   "cell_type": "code",
   "execution_count": 23,
   "id": "e60a7882",
   "metadata": {},
   "outputs": [
    {
     "data": {
      "text/plain": [
       "0.32667705109275175"
      ]
     },
     "execution_count": 23,
     "metadata": {},
     "output_type": "execute_result"
    }
   ],
   "source": [
    "# now, try normality test to see if the data is normally-distributed\n",
    "stats.normaltest(f_weekdays['comment_count']).pvalue"
   ]
  },
  {
   "cell_type": "code",
   "execution_count": 24,
   "id": "685d82ba",
   "metadata": {},
   "outputs": [
    {
     "data": {
      "text/plain": [
       "0.18667103349089625"
      ]
     },
     "execution_count": 24,
     "metadata": {},
     "output_type": "execute_result"
    }
   ],
   "source": [
    "# now, check if the transformed data sets have equal variances\n",
    "stats.levene(f_weekdays['comment_count'], f_weekends['comment_count']).pvalue"
   ]
  },
  {
   "cell_type": "code",
   "execution_count": 25,
   "id": "8cb0f807",
   "metadata": {},
   "outputs": [
    {
     "data": {
      "text/plain": [
       "1.6858630842787966e-34"
      ]
     },
     "execution_count": 25,
     "metadata": {},
     "output_type": "execute_result"
    }
   ],
   "source": [
    "# perform a T-test on the data to get a p-value\n",
    "stats.ttest_ind(f_weekdays['comment_count'], f_weekends['comment_count']).pvalue"
   ]
  },
  {
   "cell_type": "markdown",
   "id": "a935d324",
   "metadata": {},
   "source": [
    "##### Fix 3: a non-parametric test might save us."
   ]
  },
  {
   "cell_type": "code",
   "execution_count": 26,
   "id": "6b7ed9b6",
   "metadata": {},
   "outputs": [
    {
     "data": {
      "text/plain": [
       "93999.0"
      ]
     },
     "execution_count": 26,
     "metadata": {},
     "output_type": "execute_result"
    }
   ],
   "source": [
    "# perform a U-test on the (original non-transformed, non-aggregated) counts\n",
    "# note: do a two-sided test \n",
    "stats.mannwhitneyu(weekdays['comment_count'], weekends['comment_count']).statistic"
   ]
  },
  {
   "cell_type": "code",
   "execution_count": 28,
   "id": "21af497a",
   "metadata": {},
   "outputs": [
    {
     "data": {
      "text/plain": [
       "189806.8"
      ]
     },
     "execution_count": 28,
     "metadata": {},
     "output_type": "execute_result"
    }
   ],
   "source": [
    "np.sum(f_weekdays['comment_count'])"
   ]
  },
  {
   "cell_type": "code",
   "execution_count": 29,
   "id": "84d173cd",
   "metadata": {},
   "outputs": [
    {
     "data": {
      "text/plain": [
       "132166.0"
      ]
     },
     "execution_count": 29,
     "metadata": {},
     "output_type": "execute_result"
    }
   ],
   "source": [
    "np.sum(f_weekends['comment_count'])"
   ]
  },
  {
   "cell_type": "code",
   "execution_count": null,
   "id": "37d54939",
   "metadata": {},
   "outputs": [],
   "source": []
  }
 ],
 "metadata": {
  "kernelspec": {
   "display_name": "Python 3 (ipykernel)",
   "language": "python",
   "name": "python3"
  },
  "language_info": {
   "codemirror_mode": {
    "name": "ipython",
    "version": 3
   },
   "file_extension": ".py",
   "mimetype": "text/x-python",
   "name": "python",
   "nbconvert_exporter": "python",
   "pygments_lexer": "ipython3",
   "version": "3.9.7"
  }
 },
 "nbformat": 4,
 "nbformat_minor": 5
}
