{
 "cells": [
  {
   "cell_type": "code",
   "execution_count": 62,
   "id": "0e2c04f8",
   "metadata": {},
   "outputs": [],
   "source": [
    "import numpy as np\n",
    "import pandas as pd\n",
    "import matplotlib.pyplot as plt\n",
    "from sklearn.model_selection import train_test_split\n",
    "from sklearn.ensemble import RandomForestClassifier\n",
    "from sklearn.neighbors import KNeighborsClassifier\n",
    "from sklearn.tree import export_graphviz\n",
    "from sklearn.pipeline import make_pipeline\n",
    "from sklearn.preprocessing import StandardScaler"
   ]
  },
  {
   "cell_type": "code",
   "execution_count": 2,
   "id": "f695f4db",
   "metadata": {},
   "outputs": [],
   "source": [
    "# read datasets \n",
    "month_lab = pd.read_csv('monthly-data-labelled.csv')\n",
    "month_noLab = pd.read_csv('monthly-data-unlabelled.csv')"
   ]
  },
  {
   "cell_type": "code",
   "execution_count": 52,
   "id": "aa82ed5d",
   "metadata": {},
   "outputs": [],
   "source": [
    "# saperate features and target in dfs: X, y \n",
    "X = month_lab.loc[:, month_lab.columns != 'city']\n",
    "y = month_lab['city']\n",
    "# split X & y values to training and validation sets\n",
    "X_train, X_valid, y_train, y_valid = train_test_split(X, y)\n"
   ]
  },
  {
   "cell_type": "code",
   "execution_count": 91,
   "id": "6ba7ea32",
   "metadata": {},
   "outputs": [
    {
     "data": {
      "text/plain": [
       "0.7655172413793103"
      ]
     },
     "execution_count": 91,
     "metadata": {},
     "output_type": "execute_result"
    }
   ],
   "source": [
    "# train and validate a ml model on lablled daatset \n",
    "model1 = make_pipeline(\n",
    "    StandardScaler(),\n",
    "    RandomForestClassifier(n_estimators=250, max_depth=10)\n",
    ")\n",
    "model1.fit(X_train, y_train)"
   ]
  },
  {
   "cell_type": "code",
   "execution_count": 108,
   "id": "b3fdc510",
   "metadata": {},
   "outputs": [
    {
     "name": "stdout",
     "output_type": "stream",
     "text": [
      "Validation score: 0.766\n"
     ]
    }
   ],
   "source": [
    "# print model's val-score\n",
    "print(\"Validation score:\", model1.score(X_valid, y_valid).round(3))"
   ]
  },
  {
   "cell_type": "code",
   "execution_count": 93,
   "id": "37394584",
   "metadata": {},
   "outputs": [
    {
     "data": {
      "text/plain": [
       "0.7448275862068966"
      ]
     },
     "execution_count": 93,
     "metadata": {},
     "output_type": "execute_result"
    }
   ],
   "source": [
    "# train and validate a ml model on lablled daatset \n",
    "model2 = make_pipeline(\n",
    "    StandardScaler(),\n",
    "    KNeighborsClassifier(n_neighbors=15)\n",
    ")\n",
    "model2.fit(X_train, y_train)\n",
    "model2.score(X_valid, y_valid)"
   ]
  },
  {
   "cell_type": "code",
   "execution_count": 97,
   "id": "37aeabd7",
   "metadata": {},
   "outputs": [],
   "source": [
    "# predict non-labelled cities from other dataset\n",
    "temp = month_noLab[month_noLab['year'] == 2016]\n",
    "X_test = temp.loc[:, temp.columns != 'city']\n",
    "y_test = model1.predict(X_test)"
   ]
  },
  {
   "cell_type": "code",
   "execution_count": 98,
   "id": "819cd0b3",
   "metadata": {},
   "outputs": [
    {
     "data": {
      "text/plain": [
       "array(['Miami', 'Vancouver', 'Denver', 'Seattle', 'Atlantic City',\n",
       "       'Raleigh Durham', 'New Orleans', 'Portland', 'San Francisco',\n",
       "       'Chicago', 'Calgary', 'Los Angeles'], dtype=object)"
      ]
     },
     "execution_count": 98,
     "metadata": {},
     "output_type": "execute_result"
    }
   ],
   "source": [
    "y_test"
   ]
  },
  {
   "cell_type": "code",
   "execution_count": 112,
   "id": "5e07dd5d",
   "metadata": {},
   "outputs": [],
   "source": [
    "# save to file \n",
    "result = pd.Series(y_test)\n",
    "result.to_csv('labels.csv', index=False, header=False)"
   ]
  },
  {
   "cell_type": "code",
   "execution_count": null,
   "id": "787abf80",
   "metadata": {},
   "outputs": [],
   "source": []
  }
 ],
 "metadata": {
  "kernelspec": {
   "display_name": "Python 3 (ipykernel)",
   "language": "python",
   "name": "python3"
  },
  "language_info": {
   "codemirror_mode": {
    "name": "ipython",
    "version": 3
   },
   "file_extension": ".py",
   "mimetype": "text/x-python",
   "name": "python",
   "nbconvert_exporter": "python",
   "pygments_lexer": "ipython3",
   "version": "3.9.7"
  }
 },
 "nbformat": 4,
 "nbformat_minor": 5
}
