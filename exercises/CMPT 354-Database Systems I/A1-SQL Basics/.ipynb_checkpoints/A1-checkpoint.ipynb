{
 "cells": [
  {
   "cell_type": "markdown",
   "metadata": {},
   "source": [
    "# Assignment 1. SQL Basics"
   ]
  },
  {
   "cell_type": "markdown",
   "metadata": {},
   "source": [
    "## Objectives"
   ]
  },
  {
   "cell_type": "markdown",
   "metadata": {},
   "source": [
    "In this assignment, you will go through the pipeline of using SQL to store and query a database. You will learn the followings:\n",
    " - How to create a table \n",
    " - How to insert data into a table\n",
    " - How to select certain rows or columns from a table\n",
    " - How to join two tables together\n",
    " - How to use expressions"
   ]
  },
  {
   "cell_type": "markdown",
   "metadata": {},
   "source": [
    "In addition, you will get familiar with Jupyter (a widely-used tool in the data science world)."
   ]
  },
  {
   "cell_type": "markdown",
   "metadata": {},
   "source": [
    "We will choose [SQLite](https://en.wikipedia.org/wiki/SQLite) as our DBMS. In contrast to many other database management systems (e.g., Oracle, DB2, and SQL Servier), SQLite is not a client–server database engine. Rather, it is embedded into the end program. This unique feature has led it to be adopted by [billions of applications](https://www.sqlite.org/mostdeployed.html). \n"
   ]
  },
  {
   "cell_type": "markdown",
   "metadata": {},
   "source": [
    "## Setup & Warmup"
   ]
  },
  {
   "cell_type": "markdown",
   "metadata": {},
   "source": [
    "1. Please follow this [setup page](setup.html) to setup environment\n",
    "2. Please download the [warmup.ipynb](https://github.com/sfu-db/cmpt354/blob/master/Assignments/A1/Warmup.ipynb) notebook. It will help you get familiar with SQLite and Jupyter notebook. If you have any question, please ask on Piazza. "
   ]
  },
  {
   "cell_type": "markdown",
   "metadata": {},
   "source": [
    "## Task 1. Using SQL to create a database (9 points)"
   ]
  },
  {
   "cell_type": "markdown",
   "metadata": {},
   "source": [
    "In this task, your goal is to create a database (named `coursys`), and then create two tables in the database. The first table is named `students` and the second table is named `grades`. "
   ]
  },
  {
   "cell_type": "markdown",
   "metadata": {},
   "source": [
    "Please execute the following cell to load the [ipython-sql](https://github.com/catherinedevlin/ipython-sql) extension."
   ]
  },
  {
   "cell_type": "code",
   "execution_count": 1,
   "metadata": {},
   "outputs": [],
   "source": [
    "%load_ext sql"
   ]
  },
  {
   "cell_type": "markdown",
   "metadata": {},
   "source": [
    "### 1.1 (1 point) Create an empty database  named `coursys`"
   ]
  },
  {
   "cell_type": "code",
   "execution_count": 2,
   "metadata": {},
   "outputs": [
    {
     "data": {
      "text/plain": [
       "'Connected: @coursys'"
      ]
     },
     "execution_count": 2,
     "metadata": {},
     "output_type": "execute_result"
    }
   ],
   "source": [
    "%%sql\n",
    "sqlite:///coursys"
   ]
  },
  {
   "cell_type": "markdown",
   "metadata": {},
   "source": [
    "### 1.2 (4 points) Create a table  named `grades`"
   ]
  },
  {
   "cell_type": "markdown",
   "metadata": {},
   "source": [
    "The `grades` table has four columns and six rows as shown below.\n",
    "```\n",
    "studentid, course, mark, credit\n",
    "1, CMPT 354, 90,   3.5\n",
    "1, MATH 251, 85,   4\n",
    "1, CMPT 120, 79.5, 5\n",
    "2, CMPT 354, 95,   3.5\n",
    "2, CMPT 120, 59,   5\n",
    "2, MATH 251, 70,   4\n",
    "```\n",
    "**Please write an SQL query to create the `grades` table. Note that the table has to meet the following requirements.  **\n",
    " * `studentid` - integer\n",
    " * `course` - char(10)\n",
    " * `mark` and `credit` - double\n",
    " * (studentid, course) is Primary Key\n",
    " * studentid  references `students.id`"
   ]
  },
  {
   "cell_type": "code",
   "execution_count": 3,
   "metadata": {
    "scrolled": true
   },
   "outputs": [
    {
     "name": "stdout",
     "output_type": "stream",
     "text": [
      " * sqlite:///coursys\n",
      "Done.\n"
     ]
    },
    {
     "data": {
      "text/plain": [
       "[]"
      ]
     },
     "execution_count": 3,
     "metadata": {},
     "output_type": "execute_result"
    }
   ],
   "source": [
    "%%sql\n",
    "\n",
    "CREATE TABLE grades(\n",
    "    studentid int, \n",
    "    course char(10), \n",
    "    mark double, \n",
    "    credit double,\n",
    "    PRIMARY KEY(studentid, course),\n",
    "    FOREIGN KEY(studentid) REFERENCES students(id)\n",
    ");"
   ]
  },
  {
   "cell_type": "markdown",
   "metadata": {},
   "source": [
    "** Please write SQL queries to insert the above data (six rows) into the `grades` table **"
   ]
  },
  {
   "cell_type": "code",
   "execution_count": 4,
   "metadata": {},
   "outputs": [
    {
     "name": "stdout",
     "output_type": "stream",
     "text": [
      " * sqlite:///coursys\n",
      "1 rows affected.\n",
      "1 rows affected.\n",
      "1 rows affected.\n",
      "1 rows affected.\n",
      "1 rows affected.\n",
      "1 rows affected.\n"
     ]
    },
    {
     "data": {
      "text/plain": [
       "[]"
      ]
     },
     "execution_count": 4,
     "metadata": {},
     "output_type": "execute_result"
    }
   ],
   "source": [
    "%%sql\n",
    "\n",
    "INSERT INTO grades VALUES(1, \"CMPT 354\", 90, 3.5);\n",
    "INSERT INTO grades VALUES(1, \"MATH 251\", 85, 4);\n",
    "INSERT INTO grades VALUES(1, \"CMPT 120\", 79.5, 5);\n",
    "INSERT INTO grades VALUES(2, \"CMPT 354\", 95, 3.5);\n",
    "INSERT INTO grades VALUES(2, \"CMPT 120\", 59, 5);\n",
    "INSERT INTO grades VALUES(2, \"MATH 251\", 70, 4);"
   ]
  },
  {
   "cell_type": "markdown",
   "metadata": {},
   "source": [
    "### 1.3 (4 points) Create a table  named `students`"
   ]
  },
  {
   "cell_type": "markdown",
   "metadata": {},
   "source": [
    "The `students` table has four columns and two rows as shown below. \n",
    "```\n",
    "id, name, gender, age\n",
    "1, Justin Bieber, Male, 18\n",
    "2, Celine Dion, Female, 19\n",
    "```\n",
    "**Please write an SQL query to create the `students` table. Note that the table has to meet the following requirements. **\n",
    " * `id`, `age` - integer\n",
    " * `name` - varchar(30)\n",
    " * `gender` - char(6)\n",
    " * id is Primary Key\n",
    " * `name` cannot be NULL"
   ]
  },
  {
   "cell_type": "code",
   "execution_count": 5,
   "metadata": {},
   "outputs": [
    {
     "name": "stdout",
     "output_type": "stream",
     "text": [
      " * sqlite:///coursys\n",
      "Done.\n"
     ]
    },
    {
     "data": {
      "text/plain": [
       "[]"
      ]
     },
     "execution_count": 5,
     "metadata": {},
     "output_type": "execute_result"
    }
   ],
   "source": [
    "%%sql\n",
    "\n",
    "CREATE TABLE students(\n",
    "id int,\n",
    "name varchar(30) NOT NULL,\n",
    "gender char(6),\n",
    "age int,\n",
    "PRIMARY KEY(id)\n",
    ");"
   ]
  },
  {
   "cell_type": "markdown",
   "metadata": {},
   "source": [
    "** Please write SQL queries to insert the above data (2 rows) into the `student` table **"
   ]
  },
  {
   "cell_type": "code",
   "execution_count": 6,
   "metadata": {
    "scrolled": true
   },
   "outputs": [
    {
     "name": "stdout",
     "output_type": "stream",
     "text": [
      " * sqlite:///coursys\n",
      "1 rows affected.\n",
      "1 rows affected.\n"
     ]
    },
    {
     "data": {
      "text/plain": [
       "[]"
      ]
     },
     "execution_count": 6,
     "metadata": {},
     "output_type": "execute_result"
    }
   ],
   "source": [
    "%%sql\n",
    "\n",
    "INSERT INTO students VALUES(1, \"Justin Bieber\", \"Male\", 18);\n",
    "INSERT INTO students VALUES(2, \"Celine Dion\", \"Female\", 19);"
   ]
  },
  {
   "cell_type": "code",
   "execution_count": null,
   "metadata": {},
   "outputs": [],
   "source": [
    "%%sql\n",
    "\n",
    "SELECT * FROM students;"
   ]
  },
  {
   "cell_type": "markdown",
   "metadata": {},
   "source": [
    "## Task 2. Using SQL to query a database (11 points)"
   ]
  },
  {
   "cell_type": "markdown",
   "metadata": {},
   "source": [
    "**2.1 (1 point) Please write an SQL query to show all rows in the `grades` table **"
   ]
  },
  {
   "cell_type": "code",
   "execution_count": 7,
   "metadata": {},
   "outputs": [
    {
     "name": "stdout",
     "output_type": "stream",
     "text": [
      " * sqlite:///coursys\n",
      "Done.\n"
     ]
    },
    {
     "data": {
      "text/html": [
       "<table>\n",
       "    <thead>\n",
       "        <tr>\n",
       "            <th>studentid</th>\n",
       "            <th>course</th>\n",
       "            <th>mark</th>\n",
       "            <th>credit</th>\n",
       "        </tr>\n",
       "    </thead>\n",
       "    <tbody>\n",
       "        <tr>\n",
       "            <td>1</td>\n",
       "            <td>CMPT 354</td>\n",
       "            <td>90.0</td>\n",
       "            <td>3.5</td>\n",
       "        </tr>\n",
       "        <tr>\n",
       "            <td>1</td>\n",
       "            <td>MATH 251</td>\n",
       "            <td>85.0</td>\n",
       "            <td>4.0</td>\n",
       "        </tr>\n",
       "        <tr>\n",
       "            <td>1</td>\n",
       "            <td>CMPT 120</td>\n",
       "            <td>79.5</td>\n",
       "            <td>5.0</td>\n",
       "        </tr>\n",
       "        <tr>\n",
       "            <td>2</td>\n",
       "            <td>CMPT 354</td>\n",
       "            <td>95.0</td>\n",
       "            <td>3.5</td>\n",
       "        </tr>\n",
       "        <tr>\n",
       "            <td>2</td>\n",
       "            <td>CMPT 120</td>\n",
       "            <td>59.0</td>\n",
       "            <td>5.0</td>\n",
       "        </tr>\n",
       "        <tr>\n",
       "            <td>2</td>\n",
       "            <td>MATH 251</td>\n",
       "            <td>70.0</td>\n",
       "            <td>4.0</td>\n",
       "        </tr>\n",
       "    </tbody>\n",
       "</table>"
      ],
      "text/plain": [
       "[(1, 'CMPT 354', 90.0, 3.5),\n",
       " (1, 'MATH 251', 85.0, 4.0),\n",
       " (1, 'CMPT 120', 79.5, 5.0),\n",
       " (2, 'CMPT 354', 95.0, 3.5),\n",
       " (2, 'CMPT 120', 59.0, 5.0),\n",
       " (2, 'MATH 251', 70.0, 4.0)]"
      ]
     },
     "execution_count": 7,
     "metadata": {},
     "output_type": "execute_result"
    }
   ],
   "source": [
    "%%sql\n",
    "\n",
    "SELECT * FROM grades;"
   ]
  },
  {
   "cell_type": "markdown",
   "metadata": {},
   "source": [
    "**2.2 (1 point) Please write an SQL query to show the rows whose `course` is \"CMPT 354\" in the ``grades`` table**"
   ]
  },
  {
   "cell_type": "code",
   "execution_count": 8,
   "metadata": {
    "scrolled": true
   },
   "outputs": [
    {
     "name": "stdout",
     "output_type": "stream",
     "text": [
      " * sqlite:///coursys\n",
      "Done.\n"
     ]
    },
    {
     "data": {
      "text/html": [
       "<table>\n",
       "    <thead>\n",
       "        <tr>\n",
       "            <th>studentid</th>\n",
       "            <th>course</th>\n",
       "            <th>mark</th>\n",
       "            <th>credit</th>\n",
       "        </tr>\n",
       "    </thead>\n",
       "    <tbody>\n",
       "        <tr>\n",
       "            <td>1</td>\n",
       "            <td>CMPT 354</td>\n",
       "            <td>90.0</td>\n",
       "            <td>3.5</td>\n",
       "        </tr>\n",
       "        <tr>\n",
       "            <td>2</td>\n",
       "            <td>CMPT 354</td>\n",
       "            <td>95.0</td>\n",
       "            <td>3.5</td>\n",
       "        </tr>\n",
       "    </tbody>\n",
       "</table>"
      ],
      "text/plain": [
       "[(1, 'CMPT 354', 90.0, 3.5), (2, 'CMPT 354', 95.0, 3.5)]"
      ]
     },
     "execution_count": 8,
     "metadata": {},
     "output_type": "execute_result"
    }
   ],
   "source": [
    "%%sql\n",
    "\n",
    "SELECT * FROM grades WHERE course=\"CMPT 354\";"
   ]
  },
  {
   "cell_type": "markdown",
   "metadata": {},
   "source": [
    "**2.3 (1 point) Please write an SQL query to show the rows whose `mark` is larger than 60 and `credit` is no smaller than 4 in the ``grades`` table **"
   ]
  },
  {
   "cell_type": "code",
   "execution_count": 9,
   "metadata": {},
   "outputs": [
    {
     "name": "stdout",
     "output_type": "stream",
     "text": [
      " * sqlite:///coursys\n",
      "Done.\n"
     ]
    },
    {
     "data": {
      "text/html": [
       "<table>\n",
       "    <thead>\n",
       "        <tr>\n",
       "            <th>studentid</th>\n",
       "            <th>course</th>\n",
       "            <th>mark</th>\n",
       "            <th>credit</th>\n",
       "        </tr>\n",
       "    </thead>\n",
       "    <tbody>\n",
       "        <tr>\n",
       "            <td>1</td>\n",
       "            <td>MATH 251</td>\n",
       "            <td>85.0</td>\n",
       "            <td>4.0</td>\n",
       "        </tr>\n",
       "        <tr>\n",
       "            <td>1</td>\n",
       "            <td>CMPT 120</td>\n",
       "            <td>79.5</td>\n",
       "            <td>5.0</td>\n",
       "        </tr>\n",
       "        <tr>\n",
       "            <td>2</td>\n",
       "            <td>MATH 251</td>\n",
       "            <td>70.0</td>\n",
       "            <td>4.0</td>\n",
       "        </tr>\n",
       "    </tbody>\n",
       "</table>"
      ],
      "text/plain": [
       "[(1, 'MATH 251', 85.0, 4.0),\n",
       " (1, 'CMPT 120', 79.5, 5.0),\n",
       " (2, 'MATH 251', 70.0, 4.0)]"
      ]
     },
     "execution_count": 9,
     "metadata": {},
     "output_type": "execute_result"
    }
   ],
   "source": [
    "%%sql\n",
    "\n",
    "SELECT * \n",
    "FROM grades\n",
    "WHERE mark>60 AND credit>=4;"
   ]
  },
  {
   "cell_type": "markdown",
   "metadata": {},
   "source": [
    "** 2.4 (1 point) Please write an SQL query to show the rows whose `course` starts with \"CMPT\" in the ``grades`` table. **"
   ]
  },
  {
   "cell_type": "code",
   "execution_count": 10,
   "metadata": {},
   "outputs": [
    {
     "name": "stdout",
     "output_type": "stream",
     "text": [
      " * sqlite:///coursys\n",
      "Done.\n"
     ]
    },
    {
     "data": {
      "text/html": [
       "<table>\n",
       "    <thead>\n",
       "        <tr>\n",
       "            <th>studentid</th>\n",
       "            <th>course</th>\n",
       "            <th>mark</th>\n",
       "            <th>credit</th>\n",
       "        </tr>\n",
       "    </thead>\n",
       "    <tbody>\n",
       "        <tr>\n",
       "            <td>1</td>\n",
       "            <td>CMPT 354</td>\n",
       "            <td>90.0</td>\n",
       "            <td>3.5</td>\n",
       "        </tr>\n",
       "        <tr>\n",
       "            <td>1</td>\n",
       "            <td>CMPT 120</td>\n",
       "            <td>79.5</td>\n",
       "            <td>5.0</td>\n",
       "        </tr>\n",
       "        <tr>\n",
       "            <td>2</td>\n",
       "            <td>CMPT 354</td>\n",
       "            <td>95.0</td>\n",
       "            <td>3.5</td>\n",
       "        </tr>\n",
       "        <tr>\n",
       "            <td>2</td>\n",
       "            <td>CMPT 120</td>\n",
       "            <td>59.0</td>\n",
       "            <td>5.0</td>\n",
       "        </tr>\n",
       "    </tbody>\n",
       "</table>"
      ],
      "text/plain": [
       "[(1, 'CMPT 354', 90.0, 3.5),\n",
       " (1, 'CMPT 120', 79.5, 5.0),\n",
       " (2, 'CMPT 354', 95.0, 3.5),\n",
       " (2, 'CMPT 120', 59.0, 5.0)]"
      ]
     },
     "execution_count": 10,
     "metadata": {},
     "output_type": "execute_result"
    }
   ],
   "source": [
    "%%sql\n",
    "\n",
    "SELECT *\n",
    "FROM grades\n",
    "WHERE course LIKE \"CMPT%\";"
   ]
  },
  {
   "cell_type": "markdown",
   "metadata": {},
   "source": [
    "**2.5 (1 point) Please write an SQL query to show ``studentid``, ``course`` and ``mark`` of all rows in the ``grades`` table **"
   ]
  },
  {
   "cell_type": "code",
   "execution_count": 11,
   "metadata": {},
   "outputs": [
    {
     "name": "stdout",
     "output_type": "stream",
     "text": [
      " * sqlite:///coursys\n",
      "Done.\n"
     ]
    },
    {
     "data": {
      "text/html": [
       "<table>\n",
       "    <thead>\n",
       "        <tr>\n",
       "            <th>studentid</th>\n",
       "            <th>course</th>\n",
       "            <th>mark</th>\n",
       "        </tr>\n",
       "    </thead>\n",
       "    <tbody>\n",
       "        <tr>\n",
       "            <td>1</td>\n",
       "            <td>CMPT 354</td>\n",
       "            <td>90.0</td>\n",
       "        </tr>\n",
       "        <tr>\n",
       "            <td>1</td>\n",
       "            <td>MATH 251</td>\n",
       "            <td>85.0</td>\n",
       "        </tr>\n",
       "        <tr>\n",
       "            <td>1</td>\n",
       "            <td>CMPT 120</td>\n",
       "            <td>79.5</td>\n",
       "        </tr>\n",
       "        <tr>\n",
       "            <td>2</td>\n",
       "            <td>CMPT 354</td>\n",
       "            <td>95.0</td>\n",
       "        </tr>\n",
       "        <tr>\n",
       "            <td>2</td>\n",
       "            <td>CMPT 120</td>\n",
       "            <td>59.0</td>\n",
       "        </tr>\n",
       "        <tr>\n",
       "            <td>2</td>\n",
       "            <td>MATH 251</td>\n",
       "            <td>70.0</td>\n",
       "        </tr>\n",
       "    </tbody>\n",
       "</table>"
      ],
      "text/plain": [
       "[(1, 'CMPT 354', 90.0),\n",
       " (1, 'MATH 251', 85.0),\n",
       " (1, 'CMPT 120', 79.5),\n",
       " (2, 'CMPT 354', 95.0),\n",
       " (2, 'CMPT 120', 59.0),\n",
       " (2, 'MATH 251', 70.0)]"
      ]
     },
     "execution_count": 11,
     "metadata": {},
     "output_type": "execute_result"
    }
   ],
   "source": [
    "%%sql\n",
    "\n",
    "SELECT studentid, course, mark\n",
    "FROM grades;"
   ]
  },
  {
   "cell_type": "markdown",
   "metadata": {},
   "source": [
    "**2.6 (1 point) Please write an SQL query to show _distinct_ `course` of all rows in the `grades` table**"
   ]
  },
  {
   "cell_type": "code",
   "execution_count": 12,
   "metadata": {},
   "outputs": [
    {
     "name": "stdout",
     "output_type": "stream",
     "text": [
      " * sqlite:///coursys\n",
      "Done.\n"
     ]
    },
    {
     "data": {
      "text/html": [
       "<table>\n",
       "    <thead>\n",
       "        <tr>\n",
       "            <th>course</th>\n",
       "        </tr>\n",
       "    </thead>\n",
       "    <tbody>\n",
       "        <tr>\n",
       "            <td>CMPT 120</td>\n",
       "        </tr>\n",
       "        <tr>\n",
       "            <td>CMPT 354</td>\n",
       "        </tr>\n",
       "        <tr>\n",
       "            <td>MATH 251</td>\n",
       "        </tr>\n",
       "    </tbody>\n",
       "</table>"
      ],
      "text/plain": [
       "[('CMPT 120',), ('CMPT 354',), ('MATH 251',)]"
      ]
     },
     "execution_count": 12,
     "metadata": {},
     "output_type": "execute_result"
    }
   ],
   "source": [
    "%%sql\n",
    "\n",
    "SELECT DISTINCT course\n",
    "FROM grades;"
   ]
  },
  {
   "cell_type": "markdown",
   "metadata": {},
   "source": [
    "**2.7 (1 point) Please write an SQL query to show `studentid`, `course` and `markpoint` of all rows in the `grades` table. `markpoint` is defined as `markpoint` = `mark` * `credit`. **"
   ]
  },
  {
   "cell_type": "code",
   "execution_count": 13,
   "metadata": {},
   "outputs": [
    {
     "name": "stdout",
     "output_type": "stream",
     "text": [
      " * sqlite:///coursys\n",
      "Done.\n"
     ]
    },
    {
     "data": {
      "text/html": [
       "<table>\n",
       "    <thead>\n",
       "        <tr>\n",
       "            <th>studentid</th>\n",
       "            <th>course</th>\n",
       "            <th>markpoint</th>\n",
       "        </tr>\n",
       "    </thead>\n",
       "    <tbody>\n",
       "        <tr>\n",
       "            <td>1</td>\n",
       "            <td>CMPT 354</td>\n",
       "            <td>315.0</td>\n",
       "        </tr>\n",
       "        <tr>\n",
       "            <td>1</td>\n",
       "            <td>MATH 251</td>\n",
       "            <td>340.0</td>\n",
       "        </tr>\n",
       "        <tr>\n",
       "            <td>1</td>\n",
       "            <td>CMPT 120</td>\n",
       "            <td>397.5</td>\n",
       "        </tr>\n",
       "        <tr>\n",
       "            <td>2</td>\n",
       "            <td>CMPT 354</td>\n",
       "            <td>332.5</td>\n",
       "        </tr>\n",
       "        <tr>\n",
       "            <td>2</td>\n",
       "            <td>CMPT 120</td>\n",
       "            <td>295.0</td>\n",
       "        </tr>\n",
       "        <tr>\n",
       "            <td>2</td>\n",
       "            <td>MATH 251</td>\n",
       "            <td>280.0</td>\n",
       "        </tr>\n",
       "    </tbody>\n",
       "</table>"
      ],
      "text/plain": [
       "[(1, 'CMPT 354', 315.0),\n",
       " (1, 'MATH 251', 340.0),\n",
       " (1, 'CMPT 120', 397.5),\n",
       " (2, 'CMPT 354', 332.5),\n",
       " (2, 'CMPT 120', 295.0),\n",
       " (2, 'MATH 251', 280.0)]"
      ]
     },
     "execution_count": 13,
     "metadata": {},
     "output_type": "execute_result"
    }
   ],
   "source": [
    "%%sql\n",
    "\n",
    "SELECT studentid, course, mark*credit as markpoint\n",
    "FROM grades;"
   ]
  },
  {
   "cell_type": "markdown",
   "metadata": {},
   "source": [
    "** 2.8 (2 points) Please write an SQL query to find the students who have taken \"CMPT 354\" and show their `name`, `mark`. **"
   ]
  },
  {
   "cell_type": "code",
   "execution_count": 14,
   "metadata": {},
   "outputs": [
    {
     "name": "stdout",
     "output_type": "stream",
     "text": [
      " * sqlite:///coursys\n",
      "Done.\n"
     ]
    },
    {
     "data": {
      "text/html": [
       "<table>\n",
       "    <thead>\n",
       "        <tr>\n",
       "            <th>name</th>\n",
       "            <th>mark</th>\n",
       "        </tr>\n",
       "    </thead>\n",
       "    <tbody>\n",
       "        <tr>\n",
       "            <td>Justin Bieber</td>\n",
       "            <td>90.0</td>\n",
       "        </tr>\n",
       "        <tr>\n",
       "            <td>Celine Dion</td>\n",
       "            <td>95.0</td>\n",
       "        </tr>\n",
       "    </tbody>\n",
       "</table>"
      ],
      "text/plain": [
       "[('Justin Bieber', 90.0), ('Celine Dion', 95.0)]"
      ]
     },
     "execution_count": 14,
     "metadata": {},
     "output_type": "execute_result"
    }
   ],
   "source": [
    "%%sql\n",
    "\n",
    "SELECT students.name, grades.mark\n",
    "FROM students, grades\n",
    "WHERE id=studentid AND course=\"CMPT 354\";"
   ]
  },
  {
   "cell_type": "markdown",
   "metadata": {},
   "source": [
    "**2.9 (2 point) Please write an SQL query to compute `lettergrade` of each row in the `grades` table, and show `studentid`, `course` and `lettergrade` of all rows in the `grades` table. `lettergrade` is computed as follows: **\n",
    "\n",
    "* If `mark` >= 90, then `lettergrade` = \"A\"\n",
    "* If 80 <= `mark` < 90, then `lettergrade` = \"B\"\n",
    "* If 70 <= `mark` < 80, then `lettergrade` = \"C\"\n",
    "* If 60 <= `mark` < 70, then `lettergrade` = \"D\"\n",
    "* If `mark` < 60, then `lettergrade` = \"F\"\n",
    "\n",
    "Hint: please use a [CASE expression](http://www.sqlitetutorial.net/sqlite-case/) to transform numerical marks to letters."
   ]
  },
  {
   "cell_type": "code",
   "execution_count": 15,
   "metadata": {},
   "outputs": [
    {
     "name": "stdout",
     "output_type": "stream",
     "text": [
      " * sqlite:///coursys\n",
      "Done.\n"
     ]
    },
    {
     "data": {
      "text/html": [
       "<table>\n",
       "    <thead>\n",
       "        <tr>\n",
       "            <th>studentid</th>\n",
       "            <th>course</th>\n",
       "            <th>lettergrade</th>\n",
       "        </tr>\n",
       "    </thead>\n",
       "    <tbody>\n",
       "        <tr>\n",
       "            <td>1</td>\n",
       "            <td>CMPT 354</td>\n",
       "            <td>A</td>\n",
       "        </tr>\n",
       "        <tr>\n",
       "            <td>1</td>\n",
       "            <td>MATH 251</td>\n",
       "            <td>B</td>\n",
       "        </tr>\n",
       "        <tr>\n",
       "            <td>1</td>\n",
       "            <td>CMPT 120</td>\n",
       "            <td>C</td>\n",
       "        </tr>\n",
       "        <tr>\n",
       "            <td>2</td>\n",
       "            <td>CMPT 354</td>\n",
       "            <td>A</td>\n",
       "        </tr>\n",
       "        <tr>\n",
       "            <td>2</td>\n",
       "            <td>CMPT 120</td>\n",
       "            <td>F</td>\n",
       "        </tr>\n",
       "        <tr>\n",
       "            <td>2</td>\n",
       "            <td>MATH 251</td>\n",
       "            <td>C</td>\n",
       "        </tr>\n",
       "    </tbody>\n",
       "</table>"
      ],
      "text/plain": [
       "[(1, 'CMPT 354', 'A'),\n",
       " (1, 'MATH 251', 'B'),\n",
       " (1, 'CMPT 120', 'C'),\n",
       " (2, 'CMPT 354', 'A'),\n",
       " (2, 'CMPT 120', 'F'),\n",
       " (2, 'MATH 251', 'C')]"
      ]
     },
     "execution_count": 15,
     "metadata": {},
     "output_type": "execute_result"
    }
   ],
   "source": [
    "%%sql\n",
    "\n",
    "SELECT studentid, course,\n",
    "CASE\n",
    "    WHEN mark>=90 THEN 'A'\n",
    "    WHEN mark>=80 AND mark<90 THEN 'B'\n",
    "    WHEN mark>=70 AND mark<80 THEN 'C'\n",
    "    WHEN mark>=60 AND mark<70 THEN 'D'\n",
    "    ELSE 'F'\n",
    "END lettergrade\n",
    "FROM grades;"
   ]
  },
  {
   "cell_type": "markdown",
   "metadata": {},
   "source": [
    "## Submission"
   ]
  },
  {
   "cell_type": "markdown",
   "metadata": {},
   "source": [
    "Complete the code in this notebook [A1.ipynb](A1.ipynb), and submit it to the CourSys activity Assignment 1."
   ]
  }
 ],
 "metadata": {
  "kernelspec": {
   "display_name": "Python 3 (ipykernel)",
   "language": "python",
   "name": "python3"
  },
  "language_info": {
   "codemirror_mode": {
    "name": "ipython",
    "version": 3
   },
   "file_extension": ".py",
   "mimetype": "text/x-python",
   "name": "python",
   "nbconvert_exporter": "python",
   "pygments_lexer": "ipython3",
   "version": "3.9.7"
  }
 },
 "nbformat": 4,
 "nbformat_minor": 2
}
