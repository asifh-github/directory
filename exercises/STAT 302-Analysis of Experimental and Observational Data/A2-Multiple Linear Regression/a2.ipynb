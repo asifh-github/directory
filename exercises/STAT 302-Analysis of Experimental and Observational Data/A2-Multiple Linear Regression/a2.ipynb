{
 "cells": [
  {
   "cell_type": "markdown",
   "id": "2a8b9c72",
   "metadata": {},
   "source": [
    "### Question 1: 2.40"
   ]
  },
  {
   "cell_type": "code",
   "execution_count": 1,
   "id": "ab79e038",
   "metadata": {},
   "outputs": [
    {
     "data": {
      "text/html": [
       "<style>\n",
       ".list-inline {list-style: none; margin:0; padding: 0}\n",
       ".list-inline>li {display: inline-block}\n",
       ".list-inline>li:not(:last-child)::after {content: \"\\00b7\"; padding: 0 .5ex}\n",
       "</style>\n",
       "<ol class=list-inline><li>929</li><li>15</li></ol>\n"
      ],
      "text/latex": [
       "\\begin{enumerate*}\n",
       "\\item 929\n",
       "\\item 15\n",
       "\\end{enumerate*}\n"
      ],
      "text/markdown": [
       "1. 929\n",
       "2. 15\n",
       "\n",
       "\n"
      ],
      "text/plain": [
       "[1] 929  15"
      ]
     },
     "metadata": {},
     "output_type": "display_data"
    },
    {
     "data": {
      "text/html": [
       "<table class=\"dataframe\">\n",
       "<caption>A data.frame: 6 × 15</caption>\n",
       "<thead>\n",
       "\t<tr><th></th><th scope=col>Date</th><th scope=col>Address</th><th scope=col>Bedrooms</th><th scope=col>Baths</th><th scope=col>SquareFeet</th><th scope=col>LotSize</th><th scope=col>YearBuilt</th><th scope=col>YearSold</th><th scope=col>MonthSold</th><th scope=col>DaySold</th><th scope=col>CostPerSqFt</th><th scope=col>OrigPrice</th><th scope=col>ListPrice</th><th scope=col>SalePrice</th><th scope=col>SPLPPct</th></tr>\n",
       "\t<tr><th></th><th scope=col>&lt;int&gt;</th><th scope=col>&lt;chr&gt;</th><th scope=col>&lt;int&gt;</th><th scope=col>&lt;dbl&gt;</th><th scope=col>&lt;int&gt;</th><th scope=col>&lt;dbl&gt;</th><th scope=col>&lt;int&gt;</th><th scope=col>&lt;int&gt;</th><th scope=col>&lt;int&gt;</th><th scope=col>&lt;int&gt;</th><th scope=col>&lt;dbl&gt;</th><th scope=col>&lt;int&gt;</th><th scope=col>&lt;int&gt;</th><th scope=col>&lt;int&gt;</th><th scope=col>&lt;dbl&gt;</th></tr>\n",
       "</thead>\n",
       "<tbody>\n",
       "\t<tr><th scope=row>1</th><td>16695</td><td>1510 First Ave #112    </td><td>2</td><td>1</td><td>1120</td><td>       NA</td><td>1993</td><td>2005</td><td>9</td><td>16</td><td> 6.25</td><td>17000</td><td>10500</td><td> 7000</td><td>66.67</td></tr>\n",
       "\t<tr><th scope=row>2</th><td>16880</td><td>1020 Center St         </td><td>3</td><td>1</td><td>1224</td><td>0.1721763</td><td>1900</td><td>2006</td><td>3</td><td>20</td><td>22.06</td><td>35000</td><td>35000</td><td>27000</td><td>77.14</td></tr>\n",
       "\t<tr><th scope=row>3</th><td>16875</td><td>918 Chatterton St      </td><td>4</td><td>1</td><td>1540</td><td>       NA</td><td>1970</td><td>2006</td><td>3</td><td>15</td><td>18.18</td><td>54000</td><td>47000</td><td>28000</td><td>59.57</td></tr>\n",
       "\t<tr><th scope=row>4</th><td>16833</td><td>1023 &amp; 1025 Spring St. </td><td>3</td><td>1</td><td>1154</td><td><span style=white-space:pre-wrap>       NA</span></td><td>1900</td><td>2006</td><td>2</td><td> 1</td><td>26.00</td><td>65000</td><td>49000</td><td>30000</td><td>61.22</td></tr>\n",
       "\t<tr><th scope=row>5</th><td>16667</td><td>503 2nd Ave            </td><td>3</td><td>1</td><td>1277</td><td>0.2066116</td><td>1900</td><td>2005</td><td>8</td><td>19</td><td>24.08</td><td>35000</td><td>35000</td><td>30750</td><td>87.86</td></tr>\n",
       "\t<tr><th scope=row>6</th><td>16583</td><td>9090 Clay St           </td><td>3</td><td>1</td><td>1079</td><td>0.1993572</td><td>1900</td><td>2005</td><td>5</td><td>27</td><td>38.92</td><td>45900</td><td>45900</td><td>42000</td><td>91.50</td></tr>\n",
       "</tbody>\n",
       "</table>\n"
      ],
      "text/latex": [
       "A data.frame: 6 × 15\n",
       "\\begin{tabular}{r|lllllllllllllll}\n",
       "  & Date & Address & Bedrooms & Baths & SquareFeet & LotSize & YearBuilt & YearSold & MonthSold & DaySold & CostPerSqFt & OrigPrice & ListPrice & SalePrice & SPLPPct\\\\\n",
       "  & <int> & <chr> & <int> & <dbl> & <int> & <dbl> & <int> & <int> & <int> & <int> & <dbl> & <int> & <int> & <int> & <dbl>\\\\\n",
       "\\hline\n",
       "\t1 & 16695 & 1510 First Ave \\#112     & 2 & 1 & 1120 &        NA & 1993 & 2005 & 9 & 16 &  6.25 & 17000 & 10500 &  7000 & 66.67\\\\\n",
       "\t2 & 16880 & 1020 Center St          & 3 & 1 & 1224 & 0.1721763 & 1900 & 2006 & 3 & 20 & 22.06 & 35000 & 35000 & 27000 & 77.14\\\\\n",
       "\t3 & 16875 & 918 Chatterton St       & 4 & 1 & 1540 &        NA & 1970 & 2006 & 3 & 15 & 18.18 & 54000 & 47000 & 28000 & 59.57\\\\\n",
       "\t4 & 16833 & 1023 \\& 1025 Spring St.  & 3 & 1 & 1154 &        NA & 1900 & 2006 & 2 &  1 & 26.00 & 65000 & 49000 & 30000 & 61.22\\\\\n",
       "\t5 & 16667 & 503 2nd Ave             & 3 & 1 & 1277 & 0.2066116 & 1900 & 2005 & 8 & 19 & 24.08 & 35000 & 35000 & 30750 & 87.86\\\\\n",
       "\t6 & 16583 & 9090 Clay St            & 3 & 1 & 1079 & 0.1993572 & 1900 & 2005 & 5 & 27 & 38.92 & 45900 & 45900 & 42000 & 91.50\\\\\n",
       "\\end{tabular}\n"
      ],
      "text/markdown": [
       "\n",
       "A data.frame: 6 × 15\n",
       "\n",
       "| <!--/--> | Date &lt;int&gt; | Address &lt;chr&gt; | Bedrooms &lt;int&gt; | Baths &lt;dbl&gt; | SquareFeet &lt;int&gt; | LotSize &lt;dbl&gt; | YearBuilt &lt;int&gt; | YearSold &lt;int&gt; | MonthSold &lt;int&gt; | DaySold &lt;int&gt; | CostPerSqFt &lt;dbl&gt; | OrigPrice &lt;int&gt; | ListPrice &lt;int&gt; | SalePrice &lt;int&gt; | SPLPPct &lt;dbl&gt; |\n",
       "|---|---|---|---|---|---|---|---|---|---|---|---|---|---|---|---|\n",
       "| 1 | 16695 | 1510 First Ave #112     | 2 | 1 | 1120 |        NA | 1993 | 2005 | 9 | 16 |  6.25 | 17000 | 10500 |  7000 | 66.67 |\n",
       "| 2 | 16880 | 1020 Center St          | 3 | 1 | 1224 | 0.1721763 | 1900 | 2006 | 3 | 20 | 22.06 | 35000 | 35000 | 27000 | 77.14 |\n",
       "| 3 | 16875 | 918 Chatterton St       | 4 | 1 | 1540 |        NA | 1970 | 2006 | 3 | 15 | 18.18 | 54000 | 47000 | 28000 | 59.57 |\n",
       "| 4 | 16833 | 1023 &amp; 1025 Spring St.  | 3 | 1 | 1154 |        NA | 1900 | 2006 | 2 |  1 | 26.00 | 65000 | 49000 | 30000 | 61.22 |\n",
       "| 5 | 16667 | 503 2nd Ave             | 3 | 1 | 1277 | 0.2066116 | 1900 | 2005 | 8 | 19 | 24.08 | 35000 | 35000 | 30750 | 87.86 |\n",
       "| 6 | 16583 | 9090 Clay St            | 3 | 1 | 1079 | 0.1993572 | 1900 | 2005 | 5 | 27 | 38.92 | 45900 | 45900 | 42000 | 91.50 |\n",
       "\n"
      ],
      "text/plain": [
       "  Date  Address                 Bedrooms Baths SquareFeet LotSize   YearBuilt\n",
       "1 16695 1510 First Ave #112     2        1     1120              NA 1993     \n",
       "2 16880 1020 Center St          3        1     1224       0.1721763 1900     \n",
       "3 16875 918 Chatterton St       4        1     1540              NA 1970     \n",
       "4 16833 1023 & 1025 Spring St.  3        1     1154              NA 1900     \n",
       "5 16667 503 2nd Ave             3        1     1277       0.2066116 1900     \n",
       "6 16583 9090 Clay St            3        1     1079       0.1993572 1900     \n",
       "  YearSold MonthSold DaySold CostPerSqFt OrigPrice ListPrice SalePrice SPLPPct\n",
       "1 2005     9         16       6.25       17000     10500      7000     66.67  \n",
       "2 2006     3         20      22.06       35000     35000     27000     77.14  \n",
       "3 2006     3         15      18.18       54000     47000     28000     59.57  \n",
       "4 2006     2          1      26.00       65000     49000     30000     61.22  \n",
       "5 2005     8         19      24.08       35000     35000     30750     87.86  \n",
       "6 2005     5         27      38.92       45900     45900     42000     91.50  "
      ]
     },
     "metadata": {},
     "output_type": "display_data"
    }
   ],
   "source": [
    "# read csv file \n",
    "prices_df <- read.csv('ex02-40Grinnell.csv', header=T)\n",
    "dim(prices_df)\n",
    "head(prices_df)"
   ]
  },
  {
   "cell_type": "code",
   "execution_count": 2,
   "id": "c68fbeb7",
   "metadata": {},
   "outputs": [
    {
     "data": {
      "text/plain": [
       "\n",
       "Call:\n",
       "lm(formula = SalePrice ~ ListPrice, data = prices_df)\n",
       "\n",
       "Residuals:\n",
       "   Min     1Q Median     3Q    Max \n",
       "-55942  -3275    846   4141  44168 \n",
       "\n",
       "Coefficients:\n",
       "              Estimate Std. Error t value Pr(>|t|)    \n",
       "(Intercept) -1.448e+02  5.236e+02  -0.277    0.782    \n",
       "ListPrice    9.431e-01  3.201e-03 294.578   <2e-16 ***\n",
       "---\n",
       "Signif. codes:  0 ‘***’ 0.001 ‘**’ 0.01 ‘*’ 0.05 ‘.’ 0.1 ‘ ’ 1\n",
       "\n",
       "Residual standard error: 8019 on 927 degrees of freedom\n",
       "Multiple R-squared:  0.9894,\tAdjusted R-squared:  0.9894 \n",
       "F-statistic: 8.678e+04 on 1 and 927 DF,  p-value: < 2.2e-16\n"
      ]
     },
     "metadata": {},
     "output_type": "display_data"
    }
   ],
   "source": [
    "# fit a simple linear regression model \n",
    "s_model <- lm(SalePrice~ListPrice, data=prices_df)\n",
    "summary(s_model)"
   ]
  },
  {
   "cell_type": "markdown",
   "id": "bc8976a1",
   "metadata": {},
   "source": [
    "Fitted model: $\\hat{SalePrice} = -144.8 + 0.9431 * ListPrice $ <br/>"
   ]
  },
  {
   "cell_type": "code",
   "execution_count": 3,
   "id": "6c586788",
   "metadata": {},
   "outputs": [
    {
     "data": {
      "text/html": [
       "<table class=\"dataframe\">\n",
       "<caption>A matrix: 1 × 3 of type dbl</caption>\n",
       "<thead>\n",
       "\t<tr><th></th><th scope=col>fit</th><th scope=col>lwr</th><th scope=col>upr</th></tr>\n",
       "</thead>\n",
       "<tbody>\n",
       "\t<tr><th scope=row>1</th><td>282774.6</td><td>281833</td><td>283716.2</td></tr>\n",
       "</tbody>\n",
       "</table>\n"
      ],
      "text/latex": [
       "A matrix: 1 × 3 of type dbl\n",
       "\\begin{tabular}{r|lll}\n",
       "  & fit & lwr & upr\\\\\n",
       "\\hline\n",
       "\t1 & 282774.6 & 281833 & 283716.2\\\\\n",
       "\\end{tabular}\n"
      ],
      "text/markdown": [
       "\n",
       "A matrix: 1 × 3 of type dbl\n",
       "\n",
       "| <!--/--> | fit | lwr | upr |\n",
       "|---|---|---|---|\n",
       "| 1 | 282774.6 | 281833 | 283716.2 |\n",
       "\n"
      ],
      "text/plain": [
       "  fit      lwr    upr     \n",
       "1 282774.6 281833 283716.2"
      ]
     },
     "metadata": {},
     "output_type": "display_data"
    }
   ],
   "source": [
    "## a\n",
    "# calculate 90% confidence interval for mean SalePrice listed at $300,000\n",
    "data <- data.frame(ListPrice=300000)\n",
    "predict(s_model, data, level = 0.90, interval=\"confidence\") "
   ]
  },
  {
   "cell_type": "code",
   "execution_count": 4,
   "id": "d32f326a",
   "metadata": {},
   "outputs": [
    {
     "data": {
      "text/html": [
       "<table class=\"dataframe\">\n",
       "<caption>A matrix: 1 × 3 of type dbl</caption>\n",
       "<thead>\n",
       "\t<tr><th></th><th scope=col>fit</th><th scope=col>lwr</th><th scope=col>upr</th></tr>\n",
       "</thead>\n",
       "<tbody>\n",
       "\t<tr><th scope=row>1</th><td>282774.6</td><td>269537.3</td><td>296011.9</td></tr>\n",
       "</tbody>\n",
       "</table>\n"
      ],
      "text/latex": [
       "A matrix: 1 × 3 of type dbl\n",
       "\\begin{tabular}{r|lll}\n",
       "  & fit & lwr & upr\\\\\n",
       "\\hline\n",
       "\t1 & 282774.6 & 269537.3 & 296011.9\\\\\n",
       "\\end{tabular}\n"
      ],
      "text/markdown": [
       "\n",
       "A matrix: 1 × 3 of type dbl\n",
       "\n",
       "| <!--/--> | fit | lwr | upr |\n",
       "|---|---|---|---|\n",
       "| 1 | 282774.6 | 269537.3 | 296011.9 |\n",
       "\n"
      ],
      "text/plain": [
       "  fit      lwr      upr     \n",
       "1 282774.6 269537.3 296011.9"
      ]
     },
     "metadata": {},
     "output_type": "display_data"
    }
   ],
   "source": [
    "## b\n",
    "# calculate 90% confidence interval for SalePrice listed at $300,000\n",
    "predict(s_model, data, level = 0.90, interval=\"predict\") "
   ]
  },
  {
   "cell_type": "markdown",
   "id": "49ff9517",
   "metadata": {},
   "source": [
    "c. \n",
    "\n",
    "(a) The expected SalePrice of a house with 90% CI that is listed at $300,000 is (281833, 283716.2)\n",
    "\n",
    "(b) The future SalePrice of a house with 90% CI that is listed at $300,000 is (269537.3, 296011.9)"
   ]
  },
  {
   "cell_type": "markdown",
   "id": "110c7df2",
   "metadata": {},
   "source": [
    "### Question 2: 3.2\n",
    "\n",
    "$\\hat{Calories} = 109.3 + 1.0*Suger - 3.7*Fiber $<br/>\n"
   ]
  },
  {
   "cell_type": "markdown",
   "id": "2feccbb3",
   "metadata": {},
   "source": [
    "a. \n",
    "\n",
    "1 gram fiber & 11 grams suger: \n",
    "\n",
    "Therefore, $\\hat{Calories}  = 109.3 + 1.0*11 - 3.7*1 $\n",
    "\n",
    "             = 116.6 \n"
   ]
  },
  {
   "cell_type": "markdown",
   "id": "fc24972d",
   "metadata": {},
   "source": [
    "b.\n",
    "\n",
    "FF cereal has 110 calories:\n",
    "\n",
    "Therefore, residual = y - $\\hat{y}$\n",
    "\n",
    "            = 110 - 116.6\n",
    "            \n",
    "            = -6.6 \n",
    "            \n",
    "Residual is the error value which is the difference between the original value and the estimated/predicted value."
   ]
  },
  {
   "cell_type": "markdown",
   "id": "a5b4aec6",
   "metadata": {},
   "source": [
    "### Question 3: 3.8"
   ]
  },
  {
   "cell_type": "markdown",
   "id": "57afaa41",
   "metadata": {},
   "source": [
    "a. True. Because if we fit a multiple regression model and then add a new predictor to the model then unadjusted $R^2$ will always increase."
   ]
  },
  {
   "cell_type": "markdown",
   "id": "3998e0f3",
   "metadata": {},
   "source": [
    "b. False. Because adjusted $R^2$ only increases if the new predictor improves the model more than would be expected by chance. The adjusted $R^2$ decreases when the new predictor improves the model by less than expected by chance. Therefore, adjusted $R^2$ may or may not be greater than $R1^2$ and $R2^2$."
   ]
  },
  {
   "cell_type": "markdown",
   "id": "119c4bb8",
   "metadata": {},
   "source": [
    "### Question 4: 3.10\n"
   ]
  },
  {
   "cell_type": "markdown",
   "id": "3df53afc",
   "metadata": {},
   "source": [
    "a. Year and Mileage are negatively correlated because, generally, newer cars have less mileage as they are driven less and older cars have more mileage as they are driven more. As new cars represent Year that is always greater than that of old cars, and Mileage being smaller with new cars (and larger with old cars), Year and Milage are negatively correlated. "
   ]
  },
  {
   "cell_type": "markdown",
   "id": "1f7c28d2",
   "metadata": {},
   "source": [
    "b. For a fixed manufacture year, Price and Mileage should be negatively correlated because as Mileage increases, Price should decrease."
   ]
  },
  {
   "cell_type": "markdown",
   "id": "98824564",
   "metadata": {},
   "source": [
    "### Question 5: 3.18"
   ]
  },
  {
   "cell_type": "code",
   "execution_count": 5,
   "id": "930907c9",
   "metadata": {},
   "outputs": [
    {
     "data": {
      "text/html": [
       "<style>\n",
       ".list-inline {list-style: none; margin:0; padding: 0}\n",
       ".list-inline>li {display: inline-block}\n",
       ".list-inline>li:not(:last-child)::after {content: \"\\00b7\"; padding: 0 .5ex}\n",
       "</style>\n",
       "<ol class=list-inline><li>104</li><li>30</li></ol>\n"
      ],
      "text/latex": [
       "\\begin{enumerate*}\n",
       "\\item 104\n",
       "\\item 30\n",
       "\\end{enumerate*}\n"
      ],
      "text/markdown": [
       "1. 104\n",
       "2. 30\n",
       "\n",
       "\n"
      ],
      "text/plain": [
       "[1] 104  30"
      ]
     },
     "metadata": {},
     "output_type": "display_data"
    },
    {
     "data": {
      "text/html": [
       "<table class=\"dataframe\">\n",
       "<caption>A data.frame: 6 × 30</caption>\n",
       "<thead>\n",
       "\t<tr><th></th><th scope=col>housenum</th><th scope=col>acre</th><th scope=col>acregroup</th><th scope=col>adj1998</th><th scope=col>adj2007</th><th scope=col>adj2011</th><th scope=col>bedgroup</th><th scope=col>bedrooms</th><th scope=col>bikescore</th><th scope=col>diff2014</th><th scope=col>⋯</th><th scope=col>price1998</th><th scope=col>price2007</th><th scope=col>price2011</th><th scope=col>price2014</th><th scope=col>sfgroup</th><th scope=col>squarefeet</th><th scope=col>streetname</th><th scope=col>streetno</th><th scope=col>walkscore</th><th scope=col>zip</th></tr>\n",
       "\t<tr><th></th><th scope=col>&lt;int&gt;</th><th scope=col>&lt;dbl&gt;</th><th scope=col>&lt;chr&gt;</th><th scope=col>&lt;dbl&gt;</th><th scope=col>&lt;dbl&gt;</th><th scope=col>&lt;dbl&gt;</th><th scope=col>&lt;chr&gt;</th><th scope=col>&lt;int&gt;</th><th scope=col>&lt;int&gt;</th><th scope=col>&lt;dbl&gt;</th><th scope=col>⋯</th><th scope=col>&lt;dbl&gt;</th><th scope=col>&lt;dbl&gt;</th><th scope=col>&lt;dbl&gt;</th><th scope=col>&lt;dbl&gt;</th><th scope=col>&lt;chr&gt;</th><th scope=col>&lt;dbl&gt;</th><th scope=col>&lt;chr&gt;</th><th scope=col>&lt;int&gt;</th><th scope=col>&lt;int&gt;</th><th scope=col>&lt;int&gt;</th></tr>\n",
       "</thead>\n",
       "<tbody>\n",
       "\t<tr><th scope=row>1</th><td>1</td><td>0.28</td><td>&gt; 1/4 acre</td><td>148.3625</td><td>233.8418</td><td>191.8211</td><td>3 beds </td><td>3</td><td>35</td><td><span style=white-space:pre-wrap>  62.36645</span></td><td>⋯</td><td>101.5</td><td>203.5</td><td>181.1</td><td>210.729</td><td>&lt;= 1500 sf</td><td>0.966</td><td>Acrebrook Drive</td><td>406</td><td> 9</td><td>1062</td></tr>\n",
       "\t<tr><th scope=row>2</th><td>2</td><td>0.29</td><td>&gt; 1/4 acre</td><td>135.2072</td><td>261.4203</td><td>206.9677</td><td>3 beds </td><td>3</td><td>44</td><td><span style=white-space:pre-wrap>  68.96375</span></td><td>⋯</td><td> 92.5</td><td>227.5</td><td>195.4</td><td>204.171</td><td>&lt;= 1500 sf</td><td>0.960</td><td><span style=white-space:pre-wrap>Autumn Dr      </span></td><td> 57</td><td> 5</td><td>1062</td></tr>\n",
       "\t<tr><th scope=row>3</th><td>3</td><td>0.36</td><td>&gt; 1/4 acre</td><td>256.5283</td><td>401.0359</td><td>347.9472</td><td>3 beds </td><td>3</td><td>66</td><td><span style=white-space:pre-wrap>  82.13365</span></td><td>⋯</td><td>175.5</td><td>349.0</td><td>328.5</td><td>338.662</td><td>&gt; 1500 sf </td><td>1.725</td><td><span style=white-space:pre-wrap>Bridge Road    </span></td><td> 31</td><td>46</td><td>1062</td></tr>\n",
       "\t<tr><th scope=row>4</th><td>4</td><td>0.26</td><td>&gt; 1/4 acre</td><td>231.6795</td><td>305.0861</td><td>257.4915</td><td>3 beds </td><td>3</td><td>61</td><td><span style=white-space:pre-wrap>  44.57055</span></td><td>⋯</td><td>158.5</td><td>265.5</td><td>243.1</td><td>276.250</td><td>&gt; 1500 sf </td><td>1.727</td><td><span style=white-space:pre-wrap>Bridge Road    </span></td><td>200</td><td>40</td><td>1060</td></tr>\n",
       "\t<tr><th scope=row>5</th><td>5</td><td>0.31</td><td>&gt; 1/4 acre</td><td>271.8762</td><td>298.7660</td><td>236.6253</td><td>4+ beds</td><td>4</td><td>53</td><td>-102.70320</td><td>⋯</td><td>186.0</td><td>260.0</td><td>223.4</td><td>169.173</td><td>&gt; 1500 sf </td><td>1.576</td><td><span style=white-space:pre-wrap>Bridge Road    </span></td><td>395</td><td>32</td><td>1062</td></tr>\n",
       "\t<tr><th scope=row>6</th><td>6</td><td>0.31</td><td>&gt; 1/4 acre</td><td>192.9444</td><td>275.7840</td><td>243.2982</td><td>3 beds </td><td>3</td><td>36</td><td><span style=white-space:pre-wrap>  18.54260</span></td><td>⋯</td><td>132.0</td><td>240.0</td><td>229.7</td><td>211.487</td><td>&lt;= 1500 sf</td><td>1.320</td><td>Brierwood Drive</td><td> 23</td><td>12</td><td>1062</td></tr>\n",
       "</tbody>\n",
       "</table>\n"
      ],
      "text/latex": [
       "A data.frame: 6 × 30\n",
       "\\begin{tabular}{r|lllllllllllllllllllll}\n",
       "  & housenum & acre & acregroup & adj1998 & adj2007 & adj2011 & bedgroup & bedrooms & bikescore & diff2014 & ⋯ & price1998 & price2007 & price2011 & price2014 & sfgroup & squarefeet & streetname & streetno & walkscore & zip\\\\\n",
       "  & <int> & <dbl> & <chr> & <dbl> & <dbl> & <dbl> & <chr> & <int> & <int> & <dbl> & ⋯ & <dbl> & <dbl> & <dbl> & <dbl> & <chr> & <dbl> & <chr> & <int> & <int> & <int>\\\\\n",
       "\\hline\n",
       "\t1 & 1 & 0.28 & > 1/4 acre & 148.3625 & 233.8418 & 191.8211 & 3 beds  & 3 & 35 &   62.36645 & ⋯ & 101.5 & 203.5 & 181.1 & 210.729 & <= 1500 sf & 0.966 & Acrebrook Drive & 406 &  9 & 1062\\\\\n",
       "\t2 & 2 & 0.29 & > 1/4 acre & 135.2072 & 261.4203 & 206.9677 & 3 beds  & 3 & 44 &   68.96375 & ⋯ &  92.5 & 227.5 & 195.4 & 204.171 & <= 1500 sf & 0.960 & Autumn Dr       &  57 &  5 & 1062\\\\\n",
       "\t3 & 3 & 0.36 & > 1/4 acre & 256.5283 & 401.0359 & 347.9472 & 3 beds  & 3 & 66 &   82.13365 & ⋯ & 175.5 & 349.0 & 328.5 & 338.662 & > 1500 sf  & 1.725 & Bridge Road     &  31 & 46 & 1062\\\\\n",
       "\t4 & 4 & 0.26 & > 1/4 acre & 231.6795 & 305.0861 & 257.4915 & 3 beds  & 3 & 61 &   44.57055 & ⋯ & 158.5 & 265.5 & 243.1 & 276.250 & > 1500 sf  & 1.727 & Bridge Road     & 200 & 40 & 1060\\\\\n",
       "\t5 & 5 & 0.31 & > 1/4 acre & 271.8762 & 298.7660 & 236.6253 & 4+ beds & 4 & 53 & -102.70320 & ⋯ & 186.0 & 260.0 & 223.4 & 169.173 & > 1500 sf  & 1.576 & Bridge Road     & 395 & 32 & 1062\\\\\n",
       "\t6 & 6 & 0.31 & > 1/4 acre & 192.9444 & 275.7840 & 243.2982 & 3 beds  & 3 & 36 &   18.54260 & ⋯ & 132.0 & 240.0 & 229.7 & 211.487 & <= 1500 sf & 1.320 & Brierwood Drive &  23 & 12 & 1062\\\\\n",
       "\\end{tabular}\n"
      ],
      "text/markdown": [
       "\n",
       "A data.frame: 6 × 30\n",
       "\n",
       "| <!--/--> | housenum &lt;int&gt; | acre &lt;dbl&gt; | acregroup &lt;chr&gt; | adj1998 &lt;dbl&gt; | adj2007 &lt;dbl&gt; | adj2011 &lt;dbl&gt; | bedgroup &lt;chr&gt; | bedrooms &lt;int&gt; | bikescore &lt;int&gt; | diff2014 &lt;dbl&gt; | ⋯ ⋯ | price1998 &lt;dbl&gt; | price2007 &lt;dbl&gt; | price2011 &lt;dbl&gt; | price2014 &lt;dbl&gt; | sfgroup &lt;chr&gt; | squarefeet &lt;dbl&gt; | streetname &lt;chr&gt; | streetno &lt;int&gt; | walkscore &lt;int&gt; | zip &lt;int&gt; |\n",
       "|---|---|---|---|---|---|---|---|---|---|---|---|---|---|---|---|---|---|---|---|---|---|\n",
       "| 1 | 1 | 0.28 | &gt; 1/4 acre | 148.3625 | 233.8418 | 191.8211 | 3 beds  | 3 | 35 |   62.36645 | ⋯ | 101.5 | 203.5 | 181.1 | 210.729 | &lt;= 1500 sf | 0.966 | Acrebrook Drive | 406 |  9 | 1062 |\n",
       "| 2 | 2 | 0.29 | &gt; 1/4 acre | 135.2072 | 261.4203 | 206.9677 | 3 beds  | 3 | 44 |   68.96375 | ⋯ |  92.5 | 227.5 | 195.4 | 204.171 | &lt;= 1500 sf | 0.960 | Autumn Dr       |  57 |  5 | 1062 |\n",
       "| 3 | 3 | 0.36 | &gt; 1/4 acre | 256.5283 | 401.0359 | 347.9472 | 3 beds  | 3 | 66 |   82.13365 | ⋯ | 175.5 | 349.0 | 328.5 | 338.662 | &gt; 1500 sf  | 1.725 | Bridge Road     |  31 | 46 | 1062 |\n",
       "| 4 | 4 | 0.26 | &gt; 1/4 acre | 231.6795 | 305.0861 | 257.4915 | 3 beds  | 3 | 61 |   44.57055 | ⋯ | 158.5 | 265.5 | 243.1 | 276.250 | &gt; 1500 sf  | 1.727 | Bridge Road     | 200 | 40 | 1060 |\n",
       "| 5 | 5 | 0.31 | &gt; 1/4 acre | 271.8762 | 298.7660 | 236.6253 | 4+ beds | 4 | 53 | -102.70320 | ⋯ | 186.0 | 260.0 | 223.4 | 169.173 | &gt; 1500 sf  | 1.576 | Bridge Road     | 395 | 32 | 1062 |\n",
       "| 6 | 6 | 0.31 | &gt; 1/4 acre | 192.9444 | 275.7840 | 243.2982 | 3 beds  | 3 | 36 |   18.54260 | ⋯ | 132.0 | 240.0 | 229.7 | 211.487 | &lt;= 1500 sf | 1.320 | Brierwood Drive |  23 | 12 | 1062 |\n",
       "\n"
      ],
      "text/plain": [
       "  housenum acre acregroup  adj1998  adj2007  adj2011  bedgroup bedrooms\n",
       "1 1        0.28 > 1/4 acre 148.3625 233.8418 191.8211 3 beds   3       \n",
       "2 2        0.29 > 1/4 acre 135.2072 261.4203 206.9677 3 beds   3       \n",
       "3 3        0.36 > 1/4 acre 256.5283 401.0359 347.9472 3 beds   3       \n",
       "4 4        0.26 > 1/4 acre 231.6795 305.0861 257.4915 3 beds   3       \n",
       "5 5        0.31 > 1/4 acre 271.8762 298.7660 236.6253 4+ beds  4       \n",
       "6 6        0.31 > 1/4 acre 192.9444 275.7840 243.2982 3 beds   3       \n",
       "  bikescore diff2014   ⋯ price1998 price2007 price2011 price2014 sfgroup   \n",
       "1 35          62.36645 ⋯ 101.5     203.5     181.1     210.729   <= 1500 sf\n",
       "2 44          68.96375 ⋯  92.5     227.5     195.4     204.171   <= 1500 sf\n",
       "3 66          82.13365 ⋯ 175.5     349.0     328.5     338.662   > 1500 sf \n",
       "4 61          44.57055 ⋯ 158.5     265.5     243.1     276.250   > 1500 sf \n",
       "5 53        -102.70320 ⋯ 186.0     260.0     223.4     169.173   > 1500 sf \n",
       "6 36          18.54260 ⋯ 132.0     240.0     229.7     211.487   <= 1500 sf\n",
       "  squarefeet streetname      streetno walkscore zip \n",
       "1 0.966      Acrebrook Drive 406       9        1062\n",
       "2 0.960      Autumn Dr        57       5        1062\n",
       "3 1.725      Bridge Road      31      46        1062\n",
       "4 1.727      Bridge Road     200      40        1060\n",
       "5 1.576      Bridge Road     395      32        1062\n",
       "6 1.320      Brierwood Drive  23      12        1062"
      ]
     },
     "metadata": {},
     "output_type": "display_data"
    }
   ],
   "source": [
    "# read csv file \n",
    "rails_df <- read.csv('ex03-18Rails.csv', header=T)\n",
    "dim(rails_df)\n",
    "head(rails_df)"
   ]
  },
  {
   "cell_type": "code",
   "execution_count": 6,
   "id": "8d79850d",
   "metadata": {},
   "outputs": [
    {
     "data": {
      "text/plain": [
       "\n",
       "Call:\n",
       "lm(formula = adj2007 ~ distance, data = rails_df)\n",
       "\n",
       "Residuals:\n",
       "    Min      1Q  Median      3Q     Max \n",
       "-190.55  -58.19  -17.48   25.22  444.41 \n",
       "\n",
       "Coefficients:\n",
       "            Estimate Std. Error t value Pr(>|t|)    \n",
       "(Intercept)  388.204     14.052  27.626  < 2e-16 ***\n",
       "distance     -54.427      9.659  -5.635 1.56e-07 ***\n",
       "---\n",
       "Signif. codes:  0 ‘***’ 0.001 ‘**’ 0.01 ‘*’ 0.05 ‘.’ 0.1 ‘ ’ 1\n",
       "\n",
       "Residual standard error: 92.13 on 102 degrees of freedom\n",
       "Multiple R-squared:  0.2374,\tAdjusted R-squared:  0.2299 \n",
       "F-statistic: 31.75 on 1 and 102 DF,  p-value: 1.562e-07\n"
      ]
     },
     "metadata": {},
     "output_type": "display_data"
    }
   ],
   "source": [
    "## a\n",
    "# fit a simple linear regression model using distance\n",
    "a_model <- lm(adj2007~distance, data=rails_df)\n",
    "summary(a_model)"
   ]
  },
  {
   "cell_type": "markdown",
   "id": "e3a462c5",
   "metadata": {},
   "source": [
    "Fitted model: $\\hat{adj2007} = 388.204  - 54.427 * distance $ <br/>"
   ]
  },
  {
   "cell_type": "code",
   "execution_count": 7,
   "id": "fba688b5",
   "metadata": {},
   "outputs": [
    {
     "data": {
      "text/plain": [
       "\n",
       "Call:\n",
       "lm(formula = adj2007 ~ distance + squarefeet, data = rails_df)\n",
       "\n",
       "Residuals:\n",
       "     Min       1Q   Median       3Q      Max \n",
       "-138.835  -32.621   -1.903   27.369  145.504 \n",
       "\n",
       "Coefficients:\n",
       "            Estimate Std. Error t value Pr(>|t|)    \n",
       "(Intercept)  109.742     20.057   5.472 3.25e-07 ***\n",
       "distance     -16.486      5.942  -2.775  0.00659 ** \n",
       "squarefeet   150.780      9.998  15.080  < 2e-16 ***\n",
       "---\n",
       "Signif. codes:  0 ‘***’ 0.001 ‘**’ 0.01 ‘*’ 0.05 ‘.’ 0.1 ‘ ’ 1\n",
       "\n",
       "Residual standard error: 51.34 on 101 degrees of freedom\n",
       "Multiple R-squared:  0.7655,\tAdjusted R-squared:  0.7608 \n",
       "F-statistic: 164.8 on 2 and 101 DF,  p-value: < 2.2e-16\n"
      ]
     },
     "metadata": {},
     "output_type": "display_data"
    }
   ],
   "source": [
    "## b\n",
    "# fit a regression model using distance & squarefeet\n",
    "b_model <- lm(adj2007~distance + squarefeet, data=rails_df)\n",
    "summary(b_model)"
   ]
  },
  {
   "cell_type": "markdown",
   "id": "a6aa65f9",
   "metadata": {},
   "source": [
    "Fitted model: $\\hat{adj2007} = 109.742  - 16.486 * distance + 150.78 * squarefeet$ <br/>\n"
   ]
  },
  {
   "cell_type": "markdown",
   "id": "67eefb89",
   "metadata": {},
   "source": [
    "Both the coefficient of distance and $R^2$ value have changed in model (b). In comparison, model (b)'s $R^2$ value is much larger than model (a) which suggests that model (b) is a much better/significant model. Also, model (b)'s coefficient of 'distance' is much smaller than model (a), and model (b)'s additional covariate- 'squarefeet' makes model (b) realistic."
   ]
  },
  {
   "cell_type": "code",
   "execution_count": 8,
   "id": "a32a26dc",
   "metadata": {},
   "outputs": [
    {
     "data": {
      "text/html": [
       "<table class=\"dataframe\">\n",
       "<caption>A matrix: 1 × 2 of type dbl</caption>\n",
       "<thead>\n",
       "\t<tr><th></th><th scope=col>2.5 %</th><th scope=col>97.5 %</th></tr>\n",
       "</thead>\n",
       "<tbody>\n",
       "\t<tr><th scope=row>distance</th><td>-73.5859</td><td>-35.26851</td></tr>\n",
       "</tbody>\n",
       "</table>\n"
      ],
      "text/latex": [
       "A matrix: 1 × 2 of type dbl\n",
       "\\begin{tabular}{r|ll}\n",
       "  & 2.5 \\% & 97.5 \\%\\\\\n",
       "\\hline\n",
       "\tdistance & -73.5859 & -35.26851\\\\\n",
       "\\end{tabular}\n"
      ],
      "text/markdown": [
       "\n",
       "A matrix: 1 × 2 of type dbl\n",
       "\n",
       "| <!--/--> | 2.5 % | 97.5 % |\n",
       "|---|---|---|\n",
       "| distance | -73.5859 | -35.26851 |\n",
       "\n"
      ],
      "text/plain": [
       "         2.5 %    97.5 %   \n",
       "distance -73.5859 -35.26851"
      ]
     },
     "metadata": {},
     "output_type": "display_data"
    },
    {
     "data": {
      "text/html": [
       "<table class=\"dataframe\">\n",
       "<caption>A matrix: 1 × 2 of type dbl</caption>\n",
       "<thead>\n",
       "\t<tr><th></th><th scope=col>2.5 %</th><th scope=col>97.5 %</th></tr>\n",
       "</thead>\n",
       "<tbody>\n",
       "\t<tr><th scope=row>distance</th><td>-28.27307</td><td>-4.698861</td></tr>\n",
       "</tbody>\n",
       "</table>\n"
      ],
      "text/latex": [
       "A matrix: 1 × 2 of type dbl\n",
       "\\begin{tabular}{r|ll}\n",
       "  & 2.5 \\% & 97.5 \\%\\\\\n",
       "\\hline\n",
       "\tdistance & -28.27307 & -4.698861\\\\\n",
       "\\end{tabular}\n"
      ],
      "text/markdown": [
       "\n",
       "A matrix: 1 × 2 of type dbl\n",
       "\n",
       "| <!--/--> | 2.5 % | 97.5 % |\n",
       "|---|---|---|\n",
       "| distance | -28.27307 | -4.698861 |\n",
       "\n"
      ],
      "text/plain": [
       "         2.5 %     97.5 %   \n",
       "distance -28.27307 -4.698861"
      ]
     },
     "metadata": {},
     "output_type": "display_data"
    }
   ],
   "source": [
    "## c\n",
    "# calculate 95% confidence interval for distance in (a)\n",
    "confint(a_model, \"distance\", level=0.95)\n",
    "# calculate 95% confidence interval for distance in (b)\n",
    "confint(b_model, \"distance\", level=0.95)"
   ]
  },
  {
   "cell_type": "markdown",
   "id": "87f9fbbc",
   "metadata": {},
   "source": [
    "Model (a): 95% CI: (-73.5859, -35.26851)\n",
    "\n",
    "Model (b): 95% CI: (-28.27307, -4.698861)"
   ]
  },
  {
   "cell_type": "markdown",
   "id": "e4b5c8ea",
   "metadata": {},
   "source": [
    "Model (b)'s confidence interval of distance is smaller than model (a) which suggests that adj2007 (price) will decrease within 28.27 and 4.7 if one more mile distance is added to model (b), and 73.5 and 35.2 if one more mile distance is added to model (a)."
   ]
  },
  {
   "cell_type": "code",
   "execution_count": 9,
   "id": "ff7d8464",
   "metadata": {},
   "outputs": [
    {
     "data": {
      "text/html": [
       "<table class=\"dataframe\">\n",
       "<caption>A matrix: 1 × 3 of type dbl</caption>\n",
       "<thead>\n",
       "\t<tr><th></th><th scope=col>fit</th><th scope=col>lwr</th><th scope=col>upr</th></tr>\n",
       "</thead>\n",
       "<tbody>\n",
       "\t<tr><th scope=row>1</th><td>360.9902</td><td>177.003</td><td>544.9774</td></tr>\n",
       "</tbody>\n",
       "</table>\n"
      ],
      "text/latex": [
       "A matrix: 1 × 3 of type dbl\n",
       "\\begin{tabular}{r|lll}\n",
       "  & fit & lwr & upr\\\\\n",
       "\\hline\n",
       "\t1 & 360.9902 & 177.003 & 544.9774\\\\\n",
       "\\end{tabular}\n"
      ],
      "text/markdown": [
       "\n",
       "A matrix: 1 × 3 of type dbl\n",
       "\n",
       "| <!--/--> | fit | lwr | upr |\n",
       "|---|---|---|---|\n",
       "| 1 | 360.9902 | 177.003 | 544.9774 |\n",
       "\n"
      ],
      "text/plain": [
       "  fit      lwr     upr     \n",
       "1 360.9902 177.003 544.9774"
      ]
     },
     "metadata": {},
     "output_type": "display_data"
    },
    {
     "data": {
      "text/html": [
       "<table class=\"dataframe\">\n",
       "<caption>A matrix: 1 × 3 of type dbl</caption>\n",
       "<thead>\n",
       "\t<tr><th></th><th scope=col>fit</th><th scope=col>lwr</th><th scope=col>upr</th></tr>\n",
       "</thead>\n",
       "<tbody>\n",
       "\t<tr><th scope=row>1</th><td>226271.7</td><td>196554.5</td><td>255988.9</td></tr>\n",
       "</tbody>\n",
       "</table>\n"
      ],
      "text/latex": [
       "A matrix: 1 × 3 of type dbl\n",
       "\\begin{tabular}{r|lll}\n",
       "  & fit & lwr & upr\\\\\n",
       "\\hline\n",
       "\t1 & 226271.7 & 196554.5 & 255988.9\\\\\n",
       "\\end{tabular}\n"
      ],
      "text/markdown": [
       "\n",
       "A matrix: 1 × 3 of type dbl\n",
       "\n",
       "| <!--/--> | fit | lwr | upr |\n",
       "|---|---|---|---|\n",
       "| 1 | 226271.7 | 196554.5 | 255988.9 |\n",
       "\n"
      ],
      "text/plain": [
       "  fit      lwr      upr     \n",
       "1 226271.7 196554.5 255988.9"
      ]
     },
     "metadata": {},
     "output_type": "display_data"
    }
   ],
   "source": [
    "## d\n",
    "# predict adj2007 of a particular* house with distance = 0.5 mile & squarefeelt= 1500 square feet usinf two models\n",
    "data2 <- data.frame(distance=0.5, squarefeet=1500)\n",
    "predict(a_model, data2, level = 0.95, interval=\"predict\")\n",
    "predict(b_model, data2, level = 0.95, interval=\"predict\")\n",
    "\n"
   ]
  },
  {
   "cell_type": "markdown",
   "id": "d5a9bf00",
   "metadata": {},
   "source": [
    "Model (a): Predicted adj2007 (price) using model a is 360.99\n",
    "\n",
    "Model (b): Predicted adj2007 (price) using model b is 226271.70"
   ]
  },
  {
   "cell_type": "markdown",
   "id": "4cbfdd24",
   "metadata": {},
   "source": [
    "### Question 6: 3.22\n",
    "\n",
    "n = 36\n",
    "\n",
    "k = 2\n",
    "\n",
    "SSTotal = SSModel + SSE\n",
    "\n",
    "17190 = 9350 + 7840"
   ]
  },
  {
   "cell_type": "markdown",
   "id": "c6455e2d",
   "metadata": {},
   "source": [
    "a. \n",
    "\n",
    "$R^2$ = 1 - SSE/SSTotal \n",
    "\n",
    "    = 1 - (7840/17190)\n",
    "    \n",
    "    = 0.5439\n",
    "    \n",
    "The regression model explains 29.6% variability in Calories."
   ]
  },
  {
   "cell_type": "markdown",
   "id": "3fe2516a",
   "metadata": {},
   "source": [
    "b.\n",
    "\n",
    "$SE = \\sqrt{SSE/(n-k)}$\n",
    "\n",
    "  = $\\sqrt{7840/(36-2)}$\n",
    "  \n",
    "  = 15.19"
   ]
  },
  {
   "cell_type": "markdown",
   "id": "27f77969",
   "metadata": {},
   "source": [
    "c.\n",
    "\n",
    " F-ratio = SSModel/SSE\n",
    "    \n",
    "        = 9350/7840\n",
    "        \n",
    "        = 1.19"
   ]
  },
  {
   "cell_type": "markdown",
   "id": "885daabb",
   "metadata": {},
   "source": [
    "d. Since, the p-value is 0.000002 < 0.05, we can conclude that the model is statistically significant for doing statistical analysis."
   ]
  },
  {
   "cell_type": "markdown",
   "id": "2be210a4",
   "metadata": {},
   "source": [
    "### Question 7: 3.32"
   ]
  },
  {
   "cell_type": "code",
   "execution_count": 10,
   "id": "749667d3",
   "metadata": {},
   "outputs": [
    {
     "data": {
      "text/html": [
       "<style>\n",
       ".list-inline {list-style: none; margin:0; padding: 0}\n",
       ".list-inline>li {display: inline-block}\n",
       ".list-inline>li:not(:last-child)::after {content: \"\\00b7\"; padding: 0 .5ex}\n",
       "</style>\n",
       "<ol class=list-inline><li>21</li><li>3</li></ol>\n"
      ],
      "text/latex": [
       "\\begin{enumerate*}\n",
       "\\item 21\n",
       "\\item 3\n",
       "\\end{enumerate*}\n"
      ],
      "text/markdown": [
       "1. 21\n",
       "2. 3\n",
       "\n",
       "\n"
      ],
      "text/plain": [
       "[1] 21  3"
      ]
     },
     "metadata": {},
     "output_type": "display_data"
    },
    {
     "data": {
      "text/html": [
       "<table class=\"dataframe\">\n",
       "<caption>A data.frame: 6 × 3</caption>\n",
       "<thead>\n",
       "\t<tr><th></th><th scope=col>Year</th><th scope=col>FatalityRate</th><th scope=col>StateControl</th></tr>\n",
       "\t<tr><th></th><th scope=col>&lt;int&gt;</th><th scope=col>&lt;dbl&gt;</th><th scope=col>&lt;int&gt;</th></tr>\n",
       "</thead>\n",
       "<tbody>\n",
       "\t<tr><th scope=row>1</th><td>1987</td><td>2.41</td><td>0</td></tr>\n",
       "\t<tr><th scope=row>2</th><td>1988</td><td>2.32</td><td>0</td></tr>\n",
       "\t<tr><th scope=row>3</th><td>1989</td><td>2.17</td><td>0</td></tr>\n",
       "\t<tr><th scope=row>4</th><td>1990</td><td>2.08</td><td>0</td></tr>\n",
       "\t<tr><th scope=row>5</th><td>1991</td><td>1.91</td><td>0</td></tr>\n",
       "\t<tr><th scope=row>6</th><td>1992</td><td>1.75</td><td>0</td></tr>\n",
       "</tbody>\n",
       "</table>\n"
      ],
      "text/latex": [
       "A data.frame: 6 × 3\n",
       "\\begin{tabular}{r|lll}\n",
       "  & Year & FatalityRate & StateControl\\\\\n",
       "  & <int> & <dbl> & <int>\\\\\n",
       "\\hline\n",
       "\t1 & 1987 & 2.41 & 0\\\\\n",
       "\t2 & 1988 & 2.32 & 0\\\\\n",
       "\t3 & 1989 & 2.17 & 0\\\\\n",
       "\t4 & 1990 & 2.08 & 0\\\\\n",
       "\t5 & 1991 & 1.91 & 0\\\\\n",
       "\t6 & 1992 & 1.75 & 0\\\\\n",
       "\\end{tabular}\n"
      ],
      "text/markdown": [
       "\n",
       "A data.frame: 6 × 3\n",
       "\n",
       "| <!--/--> | Year &lt;int&gt; | FatalityRate &lt;dbl&gt; | StateControl &lt;int&gt; |\n",
       "|---|---|---|---|\n",
       "| 1 | 1987 | 2.41 | 0 |\n",
       "| 2 | 1988 | 2.32 | 0 |\n",
       "| 3 | 1989 | 2.17 | 0 |\n",
       "| 4 | 1990 | 2.08 | 0 |\n",
       "| 5 | 1991 | 1.91 | 0 |\n",
       "| 6 | 1992 | 1.75 | 0 |\n",
       "\n"
      ],
      "text/plain": [
       "  Year FatalityRate StateControl\n",
       "1 1987 2.41         0           \n",
       "2 1988 2.32         0           \n",
       "3 1989 2.17         0           \n",
       "4 1990 2.08         0           \n",
       "5 1991 1.91         0           \n",
       "6 1992 1.75         0           "
      ]
     },
     "metadata": {},
     "output_type": "display_data"
    }
   ],
   "source": [
    "# read csv file \n",
    "speed_df <- read.csv('ex03-32Speed.csv', header=T)\n",
    "dim(speed_df)\n",
    "head(speed_df)"
   ]
  },
  {
   "cell_type": "code",
   "execution_count": 11,
   "id": "79171560",
   "metadata": {
    "scrolled": true
   },
   "outputs": [
    {
     "data": {
      "text/plain": [
       "\n",
       "Call:\n",
       "lm(formula = FatalityRate ~ Year, data = speed_df)\n",
       "\n",
       "Residuals:\n",
       "     Min       1Q   Median       3Q      Max \n",
       "-0.18959 -0.07550 -0.02576  0.09346  0.24606 \n",
       "\n",
       "Coefficients:\n",
       "             Estimate Std. Error t value Pr(>|t|)    \n",
       "(Intercept) 91.320887   8.374227    10.9 1.28e-09 ***\n",
       "Year        -0.044870   0.004193   -10.7 1.75e-09 ***\n",
       "---\n",
       "Signif. codes:  0 ‘***’ 0.001 ‘**’ 0.01 ‘*’ 0.05 ‘.’ 0.1 ‘ ’ 1\n",
       "\n",
       "Residual standard error: 0.1164 on 19 degrees of freedom\n",
       "Multiple R-squared:  0.8577,\tAdjusted R-squared:  0.8502 \n",
       "F-statistic: 114.5 on 1 and 19 DF,  p-value: 1.75e-09\n"
      ]
     },
     "metadata": {},
     "output_type": "display_data"
    }
   ],
   "source": [
    "## a\n",
    "# fit a simple linear regression model \n",
    "model <- lm(FatalityRate~Year, data=speed_df)\n",
    "summary(model)"
   ]
  },
  {
   "cell_type": "markdown",
   "id": "494fb4b1",
   "metadata": {},
   "source": [
    "Fitted model: $\\hat{FatalityRate} = 91.320887  - 0.044870 * Year$<br/>\n",
    "\n",
    "Therefore, \n",
    "\n",
    "$\\hat{\\beta_1} = - 0.04487$\n"
   ]
  },
  {
   "cell_type": "code",
   "execution_count": 12,
   "id": "f4aac27a",
   "metadata": {},
   "outputs": [
    {
     "data": {
      "image/png": "[encoded data removed]",
      "text/plain": [
       "Plot with title “Residual vs. Fitted Value Plot”"
      ]
     },
     "metadata": {
      "image/png": {
       "height": 420,
       "width": 420
      }
     },
     "output_type": "display_data"
    }
   ],
   "source": [
    "## b \n",
    "# plot residual vs fitted value \n",
    "plot(model$fitted.values, model$residuals, xlab='Fitted Values', ylab='Residuals', \n",
    "     main='Residual vs. Fitted Value Plot', pch=16, cex=1)\n",
    "abline(h=0, lwd=3, col='red')"
   ]
  },
  {
   "cell_type": "markdown",
   "id": "3c202bef",
   "metadata": {},
   "source": [
    "The residuals are not noramlly distributed, has skewness."
   ]
  },
  {
   "cell_type": "code",
   "execution_count": 13,
   "id": "1539714e",
   "metadata": {},
   "outputs": [
    {
     "data": {
      "text/plain": [
       "\n",
       "Call:\n",
       "lm(formula = FatalityRate ~ Year + StateControl, data = speed_df)\n",
       "\n",
       "Residuals:\n",
       "     Min       1Q   Median       3Q      Max \n",
       "-0.20225 -0.06443 -0.02077  0.08021  0.24859 \n",
       "\n",
       "Coefficients:\n",
       "              Estimate Std. Error t value Pr(>|t|)    \n",
       "(Intercept)  85.278326  15.809290   5.394 3.99e-05 ***\n",
       "Year         -0.041830   0.007942  -5.267 5.23e-05 ***\n",
       "StateControl -0.045012   0.099035  -0.455    0.655    \n",
       "---\n",
       "Signif. codes:  0 ‘***’ 0.001 ‘**’ 0.01 ‘*’ 0.05 ‘.’ 0.1 ‘ ’ 1\n",
       "\n",
       "Residual standard error: 0.1189 on 18 degrees of freedom\n",
       "Multiple R-squared:  0.8593,\tAdjusted R-squared:  0.8437 \n",
       "F-statistic: 54.96 on 2 and 18 DF,  p-value: 2.163e-08\n"
      ]
     },
     "metadata": {},
     "output_type": "display_data"
    }
   ],
   "source": [
    "## c\n",
    "# fit a simple multiple regression model \n",
    "model2 <- lm(FatalityRate~Year+StateControl, data=speed_df)\n",
    "summary(model2)"
   ]
  },
  {
   "cell_type": "markdown",
   "id": "1f4d9dcc",
   "metadata": {},
   "source": [
    "Fitted model: $\\hat{FatalityRate} = 85.278326  - 0.04183 * Year - 0.045012 * StateControl $<br/>"
   ]
  },
  {
   "cell_type": "code",
   "execution_count": 14,
   "id": "daf62fc5",
   "metadata": {},
   "outputs": [
    {
     "data": {
      "image/png": "[encoded data removed]",
      "text/plain": [
       "plot without title"
      ]
     },
     "metadata": {
      "image/png": {
       "height": 420,
       "width": 420
      }
     },
     "output_type": "display_data"
    }
   ],
   "source": [
    "# fit interaction between year and state control\n",
    "pairs(~Year+StateControl, data=speed_df, main=\"Win Percentage vs. Points Scored / Allowed\")"
   ]
  },
  {
   "cell_type": "markdown",
   "id": "54c6fb31",
   "metadata": {},
   "source": [
    "Yes, there is a significant change in the relationship between Year and StateControl starting in 1995."
   ]
  },
  {
   "cell_type": "markdown",
   "id": "8f83efcf",
   "metadata": {},
   "source": [
    "d. \n",
    "\n",
    "Fitted equation Before 1995: $\\hat{FatalityRate} = 85.278326  - 0.04183 * Year$ [StateControl = 0]\n",
    "\n",
    "Fitted equation After 1995: $\\hat{FatalityRate} = 85.233314  - 0.04183 * Year$ [StateControl = 1]"
   ]
  }
 ],
 "metadata": {
  "kernelspec": {
   "display_name": "R",
   "language": "R",
   "name": "ir"
  },
  "language_info": {
   "codemirror_mode": "r",
   "file_extension": ".r",
   "mimetype": "text/x-r-source",
   "name": "R",
   "pygments_lexer": "r",
   "version": "4.1.2"
  }
 },
 "nbformat": 4,
 "nbformat_minor": 5
}
