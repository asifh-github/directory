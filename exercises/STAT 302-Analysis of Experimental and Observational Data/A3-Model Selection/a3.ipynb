{
 "cells": [
  {
   "cell_type": "markdown",
   "id": "20369658",
   "metadata": {},
   "source": [
    "### Q1: 3.38"
   ]
  },
  {
   "cell_type": "code",
   "execution_count": 1,
   "id": "bad03ece",
   "metadata": {},
   "outputs": [
    {
     "data": {
      "text/html": [
       "<style>\n",
       ".list-inline {list-style: none; margin:0; padding: 0}\n",
       ".list-inline>li {display: inline-block}\n",
       ".list-inline>li:not(:last-child)::after {content: \"\\00b7\"; padding: 0 .5ex}\n",
       "</style>\n",
       "<ol class=list-inline><li>351</li><li>6</li></ol>\n"
      ],
      "text/latex": [
       "\\begin{enumerate*}\n",
       "\\item 351\n",
       "\\item 6\n",
       "\\end{enumerate*}\n"
      ],
      "text/markdown": [
       "1. 351\n",
       "2. 6\n",
       "\n",
       "\n"
      ],
      "text/plain": [
       "[1] 351   6"
      ]
     },
     "metadata": {},
     "output_type": "display_data"
    },
    {
     "data": {
      "text/html": [
       "<table class=\"dataframe\">\n",
       "<caption>A data.frame: 6 × 6</caption>\n",
       "<thead>\n",
       "\t<tr><th></th><th scope=col>Carat</th><th scope=col>Color</th><th scope=col>Clarity</th><th scope=col>Depth</th><th scope=col>PricePerCt</th><th scope=col>TotalPrice</th></tr>\n",
       "\t<tr><th></th><th scope=col>&lt;dbl&gt;</th><th scope=col>&lt;chr&gt;</th><th scope=col>&lt;chr&gt;</th><th scope=col>&lt;dbl&gt;</th><th scope=col>&lt;dbl&gt;</th><th scope=col>&lt;dbl&gt;</th></tr>\n",
       "</thead>\n",
       "<tbody>\n",
       "\t<tr><th scope=row>1</th><td>1.08</td><td>E</td><td>VS1 </td><td>68.6</td><td>6693.3</td><td>7228.8</td></tr>\n",
       "\t<tr><th scope=row>2</th><td>0.31</td><td>F</td><td>VVS1</td><td>61.9</td><td>3159.0</td><td> 979.3</td></tr>\n",
       "\t<tr><th scope=row>3</th><td>0.31</td><td>H</td><td>VS1 </td><td>62.1</td><td>1755.0</td><td> 544.1</td></tr>\n",
       "\t<tr><th scope=row>4</th><td>0.32</td><td>F</td><td>VVS1</td><td>60.8</td><td>3159.0</td><td>1010.9</td></tr>\n",
       "\t<tr><th scope=row>5</th><td>0.33</td><td>D</td><td>IF  </td><td>60.8</td><td>4758.8</td><td>1570.4</td></tr>\n",
       "\t<tr><th scope=row>6</th><td>0.33</td><td>G</td><td>VVS1</td><td>61.5</td><td>2895.8</td><td> 955.6</td></tr>\n",
       "</tbody>\n",
       "</table>\n"
      ],
      "text/latex": [
       "A data.frame: 6 × 6\n",
       "\\begin{tabular}{r|llllll}\n",
       "  & Carat & Color & Clarity & Depth & PricePerCt & TotalPrice\\\\\n",
       "  & <dbl> & <chr> & <chr> & <dbl> & <dbl> & <dbl>\\\\\n",
       "\\hline\n",
       "\t1 & 1.08 & E & VS1  & 68.6 & 6693.3 & 7228.8\\\\\n",
       "\t2 & 0.31 & F & VVS1 & 61.9 & 3159.0 &  979.3\\\\\n",
       "\t3 & 0.31 & H & VS1  & 62.1 & 1755.0 &  544.1\\\\\n",
       "\t4 & 0.32 & F & VVS1 & 60.8 & 3159.0 & 1010.9\\\\\n",
       "\t5 & 0.33 & D & IF   & 60.8 & 4758.8 & 1570.4\\\\\n",
       "\t6 & 0.33 & G & VVS1 & 61.5 & 2895.8 &  955.6\\\\\n",
       "\\end{tabular}\n"
      ],
      "text/markdown": [
       "\n",
       "A data.frame: 6 × 6\n",
       "\n",
       "| <!--/--> | Carat &lt;dbl&gt; | Color &lt;chr&gt; | Clarity &lt;chr&gt; | Depth &lt;dbl&gt; | PricePerCt &lt;dbl&gt; | TotalPrice &lt;dbl&gt; |\n",
       "|---|---|---|---|---|---|---|\n",
       "| 1 | 1.08 | E | VS1  | 68.6 | 6693.3 | 7228.8 |\n",
       "| 2 | 0.31 | F | VVS1 | 61.9 | 3159.0 |  979.3 |\n",
       "| 3 | 0.31 | H | VS1  | 62.1 | 1755.0 |  544.1 |\n",
       "| 4 | 0.32 | F | VVS1 | 60.8 | 3159.0 | 1010.9 |\n",
       "| 5 | 0.33 | D | IF   | 60.8 | 4758.8 | 1570.4 |\n",
       "| 6 | 0.33 | G | VVS1 | 61.5 | 2895.8 |  955.6 |\n",
       "\n"
      ],
      "text/plain": [
       "  Carat Color Clarity Depth PricePerCt TotalPrice\n",
       "1 1.08  E     VS1     68.6  6693.3     7228.8    \n",
       "2 0.31  F     VVS1    61.9  3159.0      979.3    \n",
       "3 0.31  H     VS1     62.1  1755.0      544.1    \n",
       "4 0.32  F     VVS1    60.8  3159.0     1010.9    \n",
       "5 0.33  D     IF      60.8  4758.8     1570.4    \n",
       "6 0.33  G     VVS1    61.5  2895.8      955.6    "
      ]
     },
     "metadata": {},
     "output_type": "display_data"
    }
   ],
   "source": [
    "# read csv file \n",
    "main_df <- read.csv('ex03-38Diamond.csv', header=T)\n",
    "dim(main_df)\n",
    "head(main_df)"
   ]
  },
  {
   "cell_type": "markdown",
   "id": "85b30c73",
   "metadata": {},
   "source": [
    "#### a"
   ]
  },
  {
   "cell_type": "code",
   "execution_count": 2,
   "id": "261bf272",
   "metadata": {},
   "outputs": [
    {
     "data": {
      "text/plain": [
       "\n",
       "Call:\n",
       "lm(formula = TotalPrice ~ Depth + Depth2, data = main_df)\n",
       "\n",
       "Residuals:\n",
       "   Min     1Q Median     3Q    Max \n",
       " -9323  -4251  -2676   2134  45513 \n",
       "\n",
       "Coefficients:\n",
       "              Estimate Std. Error t value Pr(>|t|)\n",
       "(Intercept) -28406.783 112211.790  -0.253    0.800\n",
       "Depth          766.369   3353.222   0.229    0.819\n",
       "Depth2          -3.233     24.869  -0.130    0.897\n",
       "\n",
       "Residual standard error: 7616 on 348 degrees of freedom\n",
       "Multiple R-squared:  0.04748,\tAdjusted R-squared:  0.042 \n",
       "F-statistic: 8.673 on 2 and 348 DF,  p-value: 0.0002111\n"
      ]
     },
     "metadata": {},
     "output_type": "display_data"
    }
   ],
   "source": [
    "# create quadratic model using Depth\n",
    "main_df$Depth2 = main_df$Depth^2\n",
    "model1 = lm(TotalPrice~Depth+Depth2, data=main_df)\n",
    "summary(model1)"
   ]
  },
  {
   "cell_type": "markdown",
   "id": "c5f619fe",
   "metadata": {},
   "source": [
    "$\\hat{TotalPrice} = -28406.78 + 766.37 * Depth - 3.23 *  Depth^2$"
   ]
  },
  {
   "cell_type": "markdown",
   "id": "2914dd63",
   "metadata": {},
   "source": [
    "According to invididual T-tests, none of the covariates are significant for the model. On the other hand, the R-squared value for the model is also very small, therefore, the model does not give good predictions."
   ]
  },
  {
   "cell_type": "markdown",
   "id": "89b0c1c6",
   "metadata": {},
   "source": [
    "#### b"
   ]
  },
  {
   "cell_type": "code",
   "execution_count": 3,
   "id": "37e4827d",
   "metadata": {},
   "outputs": [
    {
     "data": {
      "text/plain": [
       "\n",
       "Call:\n",
       "lm(formula = TotalPrice ~ Carat + Depth, data = main_df)\n",
       "\n",
       "Residuals:\n",
       "    Min      1Q  Median      3Q     Max \n",
       "-9234.7 -1223.7  -274.3  1161.0 16368.6 \n",
       "\n",
       "Coefficients:\n",
       "            Estimate Std. Error t value Pr(>|t|)    \n",
       "(Intercept)  1059.24    1918.36   0.552    0.581    \n",
       "Carat       15087.01     320.96  47.006  < 2e-16 ***\n",
       "Depth        -134.94      30.92  -4.364 1.68e-05 ***\n",
       "---\n",
       "Signif. codes:  0 ‘***’ 0.001 ‘**’ 0.01 ‘*’ 0.05 ‘.’ 0.1 ‘ ’ 1\n",
       "\n",
       "Residual standard error: 2809 on 348 degrees of freedom\n",
       "Multiple R-squared:  0.8704,\tAdjusted R-squared:  0.8696 \n",
       "F-statistic:  1168 on 2 and 348 DF,  p-value: < 2.2e-16\n"
      ]
     },
     "metadata": {},
     "output_type": "display_data"
    }
   ],
   "source": [
    "# create a two-predictor model u/ Carat and Depth\n",
    "model2 = lm(TotalPrice~Carat + Depth, data=main_df)\n",
    "summary(model2)"
   ]
  },
  {
   "cell_type": "markdown",
   "id": "1a35cddf",
   "metadata": {},
   "source": [
    "$\\hat{TotalPrice} = 1059.24 + 15087.01 * Carat - 134.94 * Depth$"
   ]
  },
  {
   "cell_type": "markdown",
   "id": "09b416ec",
   "metadata": {},
   "source": [
    "According to invididual T-tests, Depth and Carat (both) covariates are significant for the model. The R-squared value for the model is colse to one, therefore, the model gives somewhat good predictions."
   ]
  },
  {
   "cell_type": "markdown",
   "id": "9acb3fc1",
   "metadata": {},
   "source": [
    "#### c"
   ]
  },
  {
   "cell_type": "code",
   "execution_count": 4,
   "id": "3fbab3f7",
   "metadata": {},
   "outputs": [
    {
     "data": {
      "text/plain": [
       "\n",
       "Call:\n",
       "lm(formula = TotalPrice ~ Carat + Depth + Carat * Depth, data = main_df)\n",
       "\n",
       "Residuals:\n",
       "    Min      1Q  Median      3Q     Max \n",
       "-8254.4 -1311.5  -157.2  1131.8 14513.9 \n",
       "\n",
       "Coefficients:\n",
       "             Estimate Std. Error t value Pr(>|t|)    \n",
       "(Intercept)  31171.41    4219.58   7.387 1.13e-12 ***\n",
       "Carat       -11827.73    3436.47  -3.442 0.000648 ***\n",
       "Depth         -598.18      65.47  -9.137  < 2e-16 ***\n",
       "Carat:Depth    408.45      51.96   7.861 4.84e-14 ***\n",
       "---\n",
       "Signif. codes:  0 ‘***’ 0.001 ‘**’ 0.01 ‘*’ 0.05 ‘.’ 0.1 ‘ ’ 1\n",
       "\n",
       "Residual standard error: 2592 on 347 degrees of freedom\n",
       "Multiple R-squared:   0.89,\tAdjusted R-squared:  0.889 \n",
       "F-statistic: 935.7 on 3 and 347 DF,  p-value: < 2.2e-16\n"
      ]
     },
     "metadata": {},
     "output_type": "display_data"
    }
   ],
   "source": [
    "# create a three-predictor model that adds interaction for Carat and Depth\n",
    "model3 = lm(TotalPrice~Carat+Depth+Carat*Depth, data=main_df)\n",
    "summary(model3)"
   ]
  },
  {
   "cell_type": "markdown",
   "id": "8c1fc575",
   "metadata": {},
   "source": [
    "$\\hat{TotalPrice} = 31171.41 - 11827.73 * Carat - 598.18 * Depth + 408.45 * Carat * Depth$"
   ]
  },
  {
   "cell_type": "markdown",
   "id": "f4991bd6",
   "metadata": {},
   "source": [
    "According to invididual T-tests, all of the covariates, including intercept (${\\beta_0}$), Carat, Depth and interation of Carat and Depth are significant for the model. On the other hand, the R-squared value for the model is larger than the model with two-predictor model using Carat and Depth, therefore, the model gives better prediction than (b) 'model2'. "
   ]
  },
  {
   "cell_type": "markdown",
   "id": "c06797d3",
   "metadata": {},
   "source": [
    "#### d\n"
   ]
  },
  {
   "cell_type": "code",
   "execution_count": 5,
   "id": "26e20c94",
   "metadata": {},
   "outputs": [
    {
     "data": {
      "text/plain": [
       "\n",
       "Call:\n",
       "lm(formula = TotalPrice ~ Depth + Depth2 + Carat + Carat2, data = main_df)\n",
       "\n",
       "Residuals:\n",
       "     Min       1Q   Median       3Q      Max \n",
       "-11239.0   -718.9    -45.4    529.2  11186.6 \n",
       "\n",
       "Coefficients:\n",
       "             Estimate Std. Error t value Pr(>|t|)    \n",
       "(Intercept) 26444.472  30331.725   0.872    0.384    \n",
       "Depth        -715.185    906.299  -0.789    0.431    \n",
       "Depth2          4.459      6.720   0.663    0.507    \n",
       "Carat        2949.556    736.705   4.004 7.63e-05 ***\n",
       "Carat2       4431.449    254.864  17.387  < 2e-16 ***\n",
       "---\n",
       "Signif. codes:  0 ‘***’ 0.001 ‘**’ 0.01 ‘*’ 0.05 ‘.’ 0.1 ‘ ’ 1\n",
       "\n",
       "Residual standard error: 2058 on 346 degrees of freedom\n",
       "Multiple R-squared:  0.9309,\tAdjusted R-squared:  0.9301 \n",
       "F-statistic:  1165 on 4 and 346 DF,  p-value: < 2.2e-16\n"
      ]
     },
     "metadata": {},
     "output_type": "display_data"
    }
   ],
   "source": [
    "# create a complete second-order model u/ Carat and Depth\n",
    "main_df$Carat2 = main_df$Carat^2\n",
    "model4 = lm(TotalPrice~Depth+Depth2+Carat+Carat2, data=main_df)\n",
    "summary(model4)"
   ]
  },
  {
   "cell_type": "markdown",
   "id": "8364aedc",
   "metadata": {},
   "source": [
    "$\\hat{TotalPrice} = 26444.47 + 2949.56 * Carat + 4431.45 * Carat^2 - 715.19 * Depth + 4.46 * Depth^2$"
   ]
  },
  {
   "cell_type": "markdown",
   "id": "913a4030",
   "metadata": {},
   "source": [
    "According to invididual T-tests covariates, Carat and $Carat^2$ are significant for the model. On the other hand, the R-squared value for the model is largest among all other models, therefore, this model gives the best preditions (or explains the data)."
   ]
  },
  {
   "cell_type": "markdown",
   "id": "1924b251",
   "metadata": {
    "slideshow": {
     "slide_type": "slide"
    }
   },
   "source": [
    "I recommend using (c), the three-predictor model using Carat, Depth, and interaction of Carat and Depth to predict total price of diamonds because it has the second largest adjusted R-squared value, 0.89, and all covariates of the model are significant according to individual t-tests.  "
   ]
  },
  {
   "cell_type": "markdown",
   "id": "d9c8c632",
   "metadata": {},
   "source": [
    "### Q2: 4.7"
   ]
  },
  {
   "cell_type": "code",
   "execution_count": 6,
   "id": "b520d81a",
   "metadata": {},
   "outputs": [
    {
     "data": {
      "text/html": [
       "<style>\n",
       ".list-inline {list-style: none; margin:0; padding: 0}\n",
       ".list-inline>li {display: inline-block}\n",
       ".list-inline>li:not(:last-child)::after {content: \"\\00b7\"; padding: 0 .5ex}\n",
       "</style>\n",
       "<ol class=list-inline><li>14</li><li>7</li></ol>\n"
      ],
      "text/latex": [
       "\\begin{enumerate*}\n",
       "\\item 14\n",
       "\\item 7\n",
       "\\end{enumerate*}\n"
      ],
      "text/markdown": [
       "1. 14\n",
       "2. 7\n",
       "\n",
       "\n"
      ],
      "text/plain": [
       "[1] 14  7"
      ]
     },
     "metadata": {},
     "output_type": "display_data"
    },
    {
     "data": {
      "text/html": [
       "<table class=\"dataframe\">\n",
       "<caption>A data.frame: 6 × 7</caption>\n",
       "<thead>\n",
       "\t<tr><th></th><th scope=col>Game</th><th scope=col>League</th><th scope=col>Runs</th><th scope=col>Margin</th><th scope=col>Pitchers</th><th scope=col>Attendance</th><th scope=col>Time</th></tr>\n",
       "\t<tr><th></th><th scope=col>&lt;chr&gt;</th><th scope=col>&lt;chr&gt;</th><th scope=col>&lt;int&gt;</th><th scope=col>&lt;int&gt;</th><th scope=col>&lt;int&gt;</th><th scope=col>&lt;int&gt;</th><th scope=col>&lt;int&gt;</th></tr>\n",
       "</thead>\n",
       "<tbody>\n",
       "\t<tr><th scope=row>1</th><td>CHC-ARI</td><td>NL</td><td>11</td><td>5</td><td>10</td><td>39131</td><td>203</td></tr>\n",
       "\t<tr><th scope=row>2</th><td>KCR-CHW</td><td>AL</td><td> 9</td><td>3</td><td> 7</td><td>18137</td><td>169</td></tr>\n",
       "\t<tr><th scope=row>3</th><td>MIN-DET</td><td>AL</td><td>13</td><td>5</td><td>10</td><td>29733</td><td>201</td></tr>\n",
       "\t<tr><th scope=row>4</th><td>SDP-LAD</td><td>NL</td><td> 7</td><td>1</td><td> 6</td><td>52898</td><td>179</td></tr>\n",
       "\t<tr><th scope=row>5</th><td>COL-MIA</td><td>NL</td><td> 9</td><td>3</td><td>10</td><td>20096</td><td>204</td></tr>\n",
       "\t<tr><th scope=row>6</th><td>CIN-MIL</td><td>NL</td><td>21</td><td>1</td><td>10</td><td>34517</td><td>235</td></tr>\n",
       "</tbody>\n",
       "</table>\n"
      ],
      "text/latex": [
       "A data.frame: 6 × 7\n",
       "\\begin{tabular}{r|lllllll}\n",
       "  & Game & League & Runs & Margin & Pitchers & Attendance & Time\\\\\n",
       "  & <chr> & <chr> & <int> & <int> & <int> & <int> & <int>\\\\\n",
       "\\hline\n",
       "\t1 & CHC-ARI & NL & 11 & 5 & 10 & 39131 & 203\\\\\n",
       "\t2 & KCR-CHW & AL &  9 & 3 &  7 & 18137 & 169\\\\\n",
       "\t3 & MIN-DET & AL & 13 & 5 & 10 & 29733 & 201\\\\\n",
       "\t4 & SDP-LAD & NL &  7 & 1 &  6 & 52898 & 179\\\\\n",
       "\t5 & COL-MIA & NL &  9 & 3 & 10 & 20096 & 204\\\\\n",
       "\t6 & CIN-MIL & NL & 21 & 1 & 10 & 34517 & 235\\\\\n",
       "\\end{tabular}\n"
      ],
      "text/markdown": [
       "\n",
       "A data.frame: 6 × 7\n",
       "\n",
       "| <!--/--> | Game &lt;chr&gt; | League &lt;chr&gt; | Runs &lt;int&gt; | Margin &lt;int&gt; | Pitchers &lt;int&gt; | Attendance &lt;int&gt; | Time &lt;int&gt; |\n",
       "|---|---|---|---|---|---|---|---|\n",
       "| 1 | CHC-ARI | NL | 11 | 5 | 10 | 39131 | 203 |\n",
       "| 2 | KCR-CHW | AL |  9 | 3 |  7 | 18137 | 169 |\n",
       "| 3 | MIN-DET | AL | 13 | 5 | 10 | 29733 | 201 |\n",
       "| 4 | SDP-LAD | NL |  7 | 1 |  6 | 52898 | 179 |\n",
       "| 5 | COL-MIA | NL |  9 | 3 | 10 | 20096 | 204 |\n",
       "| 6 | CIN-MIL | NL | 21 | 1 | 10 | 34517 | 235 |\n",
       "\n"
      ],
      "text/plain": [
       "  Game    League Runs Margin Pitchers Attendance Time\n",
       "1 CHC-ARI NL     11   5      10       39131      203 \n",
       "2 KCR-CHW AL      9   3       7       18137      169 \n",
       "3 MIN-DET AL     13   5      10       29733      201 \n",
       "4 SDP-LAD NL      7   1       6       52898      179 \n",
       "5 COL-MIA NL      9   3      10       20096      204 \n",
       "6 CIN-MIL NL     21   1      10       34517      235 "
      ]
     },
     "metadata": {},
     "output_type": "display_data"
    }
   ],
   "source": [
    "# read csv file \n",
    "bb_df <- read.csv('ex04-07BballT.csv', header=T)\n",
    "dim(bb_df)\n",
    "head(bb_df)"
   ]
  },
  {
   "cell_type": "code",
   "execution_count": 7,
   "id": "a6e2a530",
   "metadata": {},
   "outputs": [
    {
     "data": {
      "text/html": [
       "<table class=\"dataframe\">\n",
       "<caption>A data.frame: 6 × 5</caption>\n",
       "<thead>\n",
       "\t<tr><th></th><th scope=col>Runs</th><th scope=col>Margin</th><th scope=col>Pitchers</th><th scope=col>Attendance</th><th scope=col>Time</th></tr>\n",
       "\t<tr><th></th><th scope=col>&lt;int&gt;</th><th scope=col>&lt;int&gt;</th><th scope=col>&lt;int&gt;</th><th scope=col>&lt;int&gt;</th><th scope=col>&lt;int&gt;</th></tr>\n",
       "</thead>\n",
       "<tbody>\n",
       "\t<tr><th scope=row>1</th><td>11</td><td>5</td><td>10</td><td>39131</td><td>203</td></tr>\n",
       "\t<tr><th scope=row>2</th><td> 9</td><td>3</td><td> 7</td><td>18137</td><td>169</td></tr>\n",
       "\t<tr><th scope=row>3</th><td>13</td><td>5</td><td>10</td><td>29733</td><td>201</td></tr>\n",
       "\t<tr><th scope=row>4</th><td> 7</td><td>1</td><td> 6</td><td>52898</td><td>179</td></tr>\n",
       "\t<tr><th scope=row>5</th><td> 9</td><td>3</td><td>10</td><td>20096</td><td>204</td></tr>\n",
       "\t<tr><th scope=row>6</th><td>21</td><td>1</td><td>10</td><td>34517</td><td>235</td></tr>\n",
       "</tbody>\n",
       "</table>\n"
      ],
      "text/latex": [
       "A data.frame: 6 × 5\n",
       "\\begin{tabular}{r|lllll}\n",
       "  & Runs & Margin & Pitchers & Attendance & Time\\\\\n",
       "  & <int> & <int> & <int> & <int> & <int>\\\\\n",
       "\\hline\n",
       "\t1 & 11 & 5 & 10 & 39131 & 203\\\\\n",
       "\t2 &  9 & 3 &  7 & 18137 & 169\\\\\n",
       "\t3 & 13 & 5 & 10 & 29733 & 201\\\\\n",
       "\t4 &  7 & 1 &  6 & 52898 & 179\\\\\n",
       "\t5 &  9 & 3 & 10 & 20096 & 204\\\\\n",
       "\t6 & 21 & 1 & 10 & 34517 & 235\\\\\n",
       "\\end{tabular}\n"
      ],
      "text/markdown": [
       "\n",
       "A data.frame: 6 × 5\n",
       "\n",
       "| <!--/--> | Runs &lt;int&gt; | Margin &lt;int&gt; | Pitchers &lt;int&gt; | Attendance &lt;int&gt; | Time &lt;int&gt; |\n",
       "|---|---|---|---|---|---|\n",
       "| 1 | 11 | 5 | 10 | 39131 | 203 |\n",
       "| 2 |  9 | 3 |  7 | 18137 | 169 |\n",
       "| 3 | 13 | 5 | 10 | 29733 | 201 |\n",
       "| 4 |  7 | 1 |  6 | 52898 | 179 |\n",
       "| 5 |  9 | 3 | 10 | 20096 | 204 |\n",
       "| 6 | 21 | 1 | 10 | 34517 | 235 |\n",
       "\n"
      ],
      "text/plain": [
       "  Runs Margin Pitchers Attendance Time\n",
       "1 11   5      10       39131      203 \n",
       "2  9   3       7       18137      169 \n",
       "3 13   5      10       29733      201 \n",
       "4  7   1       6       52898      179 \n",
       "5  9   3      10       20096      204 \n",
       "6 21   1      10       34517      235 "
      ]
     },
     "metadata": {},
     "output_type": "display_data"
    }
   ],
   "source": [
    "# drop non-quantitative vars\n",
    "bbq_df = bb_df[,!(names(bb_df) %in% c(\"Game\", \"League\"))]\n",
    "head(bbq_df)"
   ]
  },
  {
   "cell_type": "code",
   "execution_count": 8,
   "id": "7c48f663",
   "metadata": {},
   "outputs": [],
   "source": [
    "# create model:\n",
    "nullmodel = lm(Time~1, bbq_df)\n",
    "fullmodel = lm(Time~., bbq_df)\n",
    "\n",
    "scope = list(lower=formula(nullmodel),upper=formula(fullmodel))"
   ]
  },
  {
   "cell_type": "code",
   "execution_count": 9,
   "id": "57c59507",
   "metadata": {},
   "outputs": [
    {
     "name": "stderr",
     "output_type": "stream",
     "text": [
      "Installing package into ‘/home/jupyter/R/x86_64-pc-linux-gnu-library/4.1’\n",
      "(as ‘lib’ is unspecified)\n",
      "\n",
      "Installing package into ‘/home/jupyter/R/x86_64-pc-linux-gnu-library/4.1’\n",
      "(as ‘lib’ is unspecified)\n",
      "\n",
      "\n",
      "Attaching package: ‘olsrr’\n",
      "\n",
      "\n",
      "The following object is masked from ‘package:datasets’:\n",
      "\n",
      "    rivers\n",
      "\n",
      "\n"
     ]
    }
   ],
   "source": [
    "# install required packages \n",
    "install.packages('SignifReg')\n",
    "install.packages('olsrr')\n",
    "library(olsrr)\n",
    "library(SignifReg)"
   ]
  },
  {
   "cell_type": "markdown",
   "id": "48e64354",
   "metadata": {},
   "source": [
    "###### Backward Elimination"
   ]
  },
  {
   "cell_type": "code",
   "execution_count": 10,
   "id": "695b9299",
   "metadata": {},
   "outputs": [
    {
     "data": {
      "text/plain": [
       "\n",
       "Call:\n",
       "lm(formula = Time ~ Pitchers, data = bbq_df)\n",
       "\n",
       "Residuals:\n",
       "   Min     1Q Median     3Q    Max \n",
       "-20.21 -11.19  -5.25   5.06  31.79 \n",
       "\n",
       "Coefficients:\n",
       "            Estimate Std. Error t value Pr(>|t|)    \n",
       "(Intercept)  124.069     23.412   5.299 0.000189 ***\n",
       "Pitchers       8.017      2.722   2.946 0.012239 *  \n",
       "---\n",
       "Signif. codes:  0 ‘***’ 0.001 ‘**’ 0.01 ‘*’ 0.05 ‘.’ 0.1 ‘ ’ 1\n",
       "\n",
       "Residual standard error: 17.52 on 12 degrees of freedom\n",
       "Multiple R-squared:  0.4197,\tAdjusted R-squared:  0.3713 \n",
       "F-statistic: 8.678 on 1 and 12 DF,  p-value: 0.01224\n"
      ]
     },
     "metadata": {},
     "output_type": "display_data"
    }
   ],
   "source": [
    "# Backward elimination with - p values\n",
    "model11 <- SignifReg(fullmodel, scope=scope, direction='backward', alpha=0.05, criterion='p-value', trace=F)\n",
    "summary(model11)"
   ]
  },
  {
   "cell_type": "markdown",
   "id": "24609688",
   "metadata": {},
   "source": [
    "$\\hat{Time} = 124.07 + 8.02 * Pitchers $"
   ]
  },
  {
   "cell_type": "markdown",
   "id": "84e098a7",
   "metadata": {},
   "source": [
    "###### Stepwise Regression"
   ]
  },
  {
   "cell_type": "code",
   "execution_count": 11,
   "id": "fddbbb45",
   "metadata": {},
   "outputs": [
    {
     "data": {
      "text/plain": [
       "\n",
       "Call:\n",
       "lm(formula = Time ~ Pitchers, data = bbq_df)\n",
       "\n",
       "Residuals:\n",
       "   Min     1Q Median     3Q    Max \n",
       "-20.21 -11.19  -5.25   5.06  31.79 \n",
       "\n",
       "Coefficients:\n",
       "            Estimate Std. Error t value Pr(>|t|)    \n",
       "(Intercept)  124.069     23.412   5.299 0.000189 ***\n",
       "Pitchers       8.017      2.722   2.946 0.012239 *  \n",
       "---\n",
       "Signif. codes:  0 ‘***’ 0.001 ‘**’ 0.01 ‘*’ 0.05 ‘.’ 0.1 ‘ ’ 1\n",
       "\n",
       "Residual standard error: 17.52 on 12 degrees of freedom\n",
       "Multiple R-squared:  0.4197,\tAdjusted R-squared:  0.3713 \n",
       "F-statistic: 8.678 on 1 and 12 DF,  p-value: 0.01224\n"
      ]
     },
     "metadata": {},
     "output_type": "display_data"
    }
   ],
   "source": [
    "# Stepwise regression with - p values\n",
    "model22 <- SignifReg(fullmodel, scope=scope, direction='both', alpha=0.05, criterion='p-value', trace=F)\n",
    "summary(model22)"
   ]
  },
  {
   "cell_type": "markdown",
   "id": "ab19ed01",
   "metadata": {},
   "source": [
    "$\\hat{Time} = 124.07 + 8.02 * Pitchers $"
   ]
  },
  {
   "cell_type": "markdown",
   "id": "f368c605",
   "metadata": {},
   "source": [
    "###### Forward Selection"
   ]
  },
  {
   "cell_type": "code",
   "execution_count": 12,
   "id": "b865fef9",
   "metadata": {
    "scrolled": true
   },
   "outputs": [
    {
     "data": {
      "text/plain": [
       "\n",
       "Call:\n",
       "lm(formula = Time ~ Runs, data = bbq_df)\n",
       "\n",
       "Residuals:\n",
       "    Min      1Q  Median      3Q     Max \n",
       "-17.670 -11.604  -1.117   7.378  34.330 \n",
       "\n",
       "Coefficients:\n",
       "            Estimate Std. Error t value Pr(>|t|)    \n",
       "(Intercept)  148.043     11.995  12.342 3.53e-08 ***\n",
       "Runs           4.181      1.081   3.868  0.00224 ** \n",
       "---\n",
       "Signif. codes:  0 ‘***’ 0.001 ‘**’ 0.01 ‘*’ 0.05 ‘.’ 0.1 ‘ ’ 1\n",
       "\n",
       "Residual standard error: 15.34 on 12 degrees of freedom\n",
       "Multiple R-squared:  0.5549,\tAdjusted R-squared:  0.5178 \n",
       "F-statistic: 14.96 on 1 and 12 DF,  p-value: 0.002237\n"
      ]
     },
     "metadata": {},
     "output_type": "display_data"
    }
   ],
   "source": [
    "# Forward selection with - p values\n",
    "model33 <- SignifReg(nullmodel, scope=scope, direction='forward', alpha=0.05, criterion='p-value', trace=F)\n",
    "summary(model33)"
   ]
  },
  {
   "cell_type": "markdown",
   "id": "62cf88af",
   "metadata": {},
   "source": [
    "$\\hat{Time} = 148.04 + 4.18 * Runs $"
   ]
  },
  {
   "cell_type": "markdown",
   "id": "411e34dc",
   "metadata": {},
   "source": [
    "#### a\n",
    "\n",
    "$\\hat{Time} = 148.04 + 4.18 * Runs $"
   ]
  },
  {
   "cell_type": "markdown",
   "id": "7552c547",
   "metadata": {},
   "source": [
    "Using forward selection maximizes the coefficient of determination of the model, $R^2$, at 0.56."
   ]
  },
  {
   "cell_type": "markdown",
   "id": "99c71af7",
   "metadata": {},
   "source": [
    "#### b\n",
    "\n",
    "$\\hat{Time} = 148.04 + 4.18 * Runs $"
   ]
  },
  {
   "cell_type": "markdown",
   "id": "8902ef19",
   "metadata": {},
   "source": [
    "Using forward selection maximizes the adjusted coefficient of determination of the model, adjusted $R^2$, at 0.52."
   ]
  },
  {
   "cell_type": "code",
   "execution_count": 13,
   "id": "4e4c2053",
   "metadata": {},
   "outputs": [
    {
     "data": {
      "text/html": [
       "13.358207592017"
      ],
      "text/latex": [
       "13.358207592017"
      ],
      "text/markdown": [
       "13.358207592017"
      ],
      "text/plain": [
       "[1] 13.35821"
      ]
     },
     "metadata": {},
     "output_type": "display_data"
    }
   ],
   "source": [
    "# null model\n",
    "ols_mallows_cp(nullmodel, fullmodel)\n"
   ]
  },
  {
   "cell_type": "code",
   "execution_count": 14,
   "id": "a63a77ba",
   "metadata": {},
   "outputs": [
    {
     "data": {
      "text/html": [
       "4.71623500148022"
      ],
      "text/latex": [
       "4.71623500148022"
      ],
      "text/markdown": [
       "4.71623500148022"
      ],
      "text/plain": [
       "[1] 4.716235"
      ]
     },
     "metadata": {},
     "output_type": "display_data"
    }
   ],
   "source": [
    "# adding Pitchers to null model\n",
    "m1 <- lm(Time~Pitchers, data=bbq_df)\n",
    "\n",
    "ols_mallows_cp(m1, fullmodel)"
   ]
  },
  {
   "cell_type": "code",
   "execution_count": 15,
   "id": "1becc1b5",
   "metadata": {},
   "outputs": [
    {
     "data": {
      "text/html": [
       "1.28728008168466"
      ],
      "text/latex": [
       "1.28728008168466"
      ],
      "text/markdown": [
       "1.28728008168466"
      ],
      "text/plain": [
       "[1] 1.28728"
      ]
     },
     "metadata": {},
     "output_type": "display_data"
    }
   ],
   "source": [
    "# adding Runs to null model\n",
    "m2 <- lm(Time~Runs, data=bbq_df)\n",
    "\n",
    "ols_mallows_cp(m2, fullmodel)"
   ]
  },
  {
   "cell_type": "code",
   "execution_count": 16,
   "id": "c45cb2a1",
   "metadata": {},
   "outputs": [
    {
     "data": {
      "text/html": [
       "2.68110285925703"
      ],
      "text/latex": [
       "2.68110285925703"
      ],
      "text/markdown": [
       "2.68110285925703"
      ],
      "text/plain": [
       "[1] 2.681103"
      ]
     },
     "metadata": {},
     "output_type": "display_data"
    }
   ],
   "source": [
    "# adding Pitchers+Runs (2 vars) to null model\n",
    "m3 <- lm(Time~Pitchers+Runs, data=bbq_df)\n",
    "\n",
    "ols_mallows_cp(m3, fullmodel)"
   ]
  },
  {
   "cell_type": "code",
   "execution_count": 17,
   "id": "fea61cdc",
   "metadata": {},
   "outputs": [
    {
     "data": {
      "text/html": [
       "12.7823172716913"
      ],
      "text/latex": [
       "12.7823172716913"
      ],
      "text/markdown": [
       "12.7823172716913"
      ],
      "text/plain": [
       "[1] 12.78232"
      ]
     },
     "metadata": {},
     "output_type": "display_data"
    }
   ],
   "source": [
    "# adding Margin to null model\n",
    "m4 <- lm(Time~Attendance, data=bbq_df)\n",
    "\n",
    "ols_mallows_cp(m4, fullmodel)"
   ]
  },
  {
   "cell_type": "code",
   "execution_count": 18,
   "id": "dd3881dd",
   "metadata": {},
   "outputs": [
    {
     "data": {
      "text/html": [
       "14.6702725941512"
      ],
      "text/latex": [
       "14.6702725941512"
      ],
      "text/markdown": [
       "14.6702725941512"
      ],
      "text/plain": [
       "[1] 14.67027"
      ]
     },
     "metadata": {},
     "output_type": "display_data"
    }
   ],
   "source": [
    "# adding Attendance to null model\n",
    "m5 <- lm(Time~Margin, data=bbq_df)\n",
    "\n",
    "ols_mallows_cp(m5, fullmodel)"
   ]
  },
  {
   "cell_type": "markdown",
   "id": "2074ba98",
   "metadata": {},
   "source": [
    "#### c \n",
    "\n",
    "$\\hat{Time} = {\\beta_0} + {\\beta_1} * Runs $"
   ]
  },
  {
   "cell_type": "markdown",
   "id": "45be48ec",
   "metadata": {},
   "source": [
    "Using the above model minimizes the Mallow's $C_{p}$ at 1.29."
   ]
  },
  {
   "cell_type": "markdown",
   "id": "0efbb115",
   "metadata": {},
   "source": [
    "### Q3: 4.8"
   ]
  },
  {
   "cell_type": "code",
   "execution_count": 19,
   "id": "a47a92ad",
   "metadata": {},
   "outputs": [
    {
     "data": {
      "text/html": [
       "<style>\n",
       ".list-inline {list-style: none; margin:0; padding: 0}\n",
       ".list-inline>li {display: inline-block}\n",
       ".list-inline>li:not(:last-child)::after {content: \"\\00b7\"; padding: 0 .5ex}\n",
       "</style>\n",
       "<ol class=list-inline><li>53</li><li>5</li></ol>\n"
      ],
      "text/latex": [
       "\\begin{enumerate*}\n",
       "\\item 53\n",
       "\\item 5\n",
       "\\end{enumerate*}\n"
      ],
      "text/markdown": [
       "1. 53\n",
       "2. 5\n",
       "\n",
       "\n"
      ],
      "text/plain": [
       "[1] 53  5"
      ]
     },
     "metadata": {},
     "output_type": "display_data"
    },
    {
     "data": {
      "text/html": [
       "<table class=\"dataframe\">\n",
       "<caption>A data.frame: 6 × 5</caption>\n",
       "<thead>\n",
       "\t<tr><th></th><th scope=col>County</th><th scope=col>MDs</th><th scope=col>Hospitals</th><th scope=col>Beds</th><th scope=col>sqrt_MDs</th></tr>\n",
       "\t<tr><th></th><th scope=col>&lt;chr&gt;</th><th scope=col>&lt;int&gt;</th><th scope=col>&lt;int&gt;</th><th scope=col>&lt;int&gt;</th><th scope=col>&lt;dbl&gt;</th></tr>\n",
       "</thead>\n",
       "<tbody>\n",
       "\t<tr><th scope=row>1</th><td>Bay, FL                             </td><td> 351</td><td> 3</td><td> 605</td><td>18.734994</td></tr>\n",
       "\t<tr><th scope=row>2</th><td>Beaufort, NC                        </td><td>  95</td><td> 2</td><td> 134</td><td> 9.746794</td></tr>\n",
       "\t<tr><th scope=row>3</th><td>Beaver, PA                          </td><td> 260</td><td> 2</td><td> 567</td><td>16.124515</td></tr>\n",
       "\t<tr><th scope=row>4</th><td>Bernalillo, NM                      </td><td>2797</td><td>11</td><td>1435</td><td>52.886671</td></tr>\n",
       "\t<tr><th scope=row>5</th><td>Bibb, GA                            </td><td> 769</td><td> 5</td><td> 976</td><td>27.730849</td></tr>\n",
       "\t<tr><th scope=row>6</th><td>Clinton, PA                         </td><td>  42</td><td> 2</td><td> 245</td><td> 6.480741</td></tr>\n",
       "</tbody>\n",
       "</table>\n"
      ],
      "text/latex": [
       "A data.frame: 6 × 5\n",
       "\\begin{tabular}{r|lllll}\n",
       "  & County & MDs & Hospitals & Beds & sqrt\\_MDs\\\\\n",
       "  & <chr> & <int> & <int> & <int> & <dbl>\\\\\n",
       "\\hline\n",
       "\t1 & Bay, FL                              &  351 &  3 &  605 & 18.734994\\\\\n",
       "\t2 & Beaufort, NC                         &   95 &  2 &  134 &  9.746794\\\\\n",
       "\t3 & Beaver, PA                           &  260 &  2 &  567 & 16.124515\\\\\n",
       "\t4 & Bernalillo, NM                       & 2797 & 11 & 1435 & 52.886671\\\\\n",
       "\t5 & Bibb, GA                             &  769 &  5 &  976 & 27.730849\\\\\n",
       "\t6 & Clinton, PA                          &   42 &  2 &  245 &  6.480741\\\\\n",
       "\\end{tabular}\n"
      ],
      "text/markdown": [
       "\n",
       "A data.frame: 6 × 5\n",
       "\n",
       "| <!--/--> | County &lt;chr&gt; | MDs &lt;int&gt; | Hospitals &lt;int&gt; | Beds &lt;int&gt; | sqrt_MDs &lt;dbl&gt; |\n",
       "|---|---|---|---|---|---|\n",
       "| 1 | Bay, FL                              |  351 |  3 |  605 | 18.734994 |\n",
       "| 2 | Beaufort, NC                         |   95 |  2 |  134 |  9.746794 |\n",
       "| 3 | Beaver, PA                           |  260 |  2 |  567 | 16.124515 |\n",
       "| 4 | Bernalillo, NM                       | 2797 | 11 | 1435 | 52.886671 |\n",
       "| 5 | Bibb, GA                             |  769 |  5 |  976 | 27.730849 |\n",
       "| 6 | Clinton, PA                          |   42 |  2 |  245 |  6.480741 |\n",
       "\n"
      ],
      "text/plain": [
       "  County                               MDs  Hospitals Beds sqrt_MDs \n",
       "1 Bay, FL                               351  3         605 18.734994\n",
       "2 Beaufort, NC                           95  2         134  9.746794\n",
       "3 Beaver, PA                            260  2         567 16.124515\n",
       "4 Bernalillo, NM                       2797 11        1435 52.886671\n",
       "5 Bibb, GA                              769  5         976 27.730849\n",
       "6 Clinton, PA                            42  2         245  6.480741"
      ]
     },
     "metadata": {},
     "output_type": "display_data"
    }
   ],
   "source": [
    "# read csv file \n",
    "df <- read.csv('ex04-08CtyHlth.csv', header=T)\n",
    "df$sqrt_MDs = sqrt(df$MDs)\n",
    "dim(df)\n",
    "head(df)"
   ]
  },
  {
   "cell_type": "markdown",
   "id": "38eb76c2",
   "metadata": {},
   "source": [
    "#### a"
   ]
  },
  {
   "cell_type": "code",
   "execution_count": 20,
   "id": "1c7c82e5",
   "metadata": {},
   "outputs": [
    {
     "data": {
      "text/html": [
       "<style>\n",
       ".list-inline {list-style: none; margin:0; padding: 0}\n",
       ".list-inline>li {display: inline-block}\n",
       ".list-inline>li:not(:last-child)::after {content: \"\\00b7\"; padding: 0 .5ex}\n",
       "</style>\n",
       "<ol class=list-inline><li>35</li><li>5</li></ol>\n"
      ],
      "text/latex": [
       "\\begin{enumerate*}\n",
       "\\item 35\n",
       "\\item 5\n",
       "\\end{enumerate*}\n"
      ],
      "text/markdown": [
       "1. 35\n",
       "2. 5\n",
       "\n",
       "\n"
      ],
      "text/plain": [
       "[1] 35  5"
      ]
     },
     "metadata": {},
     "output_type": "display_data"
    },
    {
     "data": {
      "text/html": [
       "<style>\n",
       ".list-inline {list-style: none; margin:0; padding: 0}\n",
       ".list-inline>li {display: inline-block}\n",
       ".list-inline>li:not(:last-child)::after {content: \"\\00b7\"; padding: 0 .5ex}\n",
       "</style>\n",
       "<ol class=list-inline><li>18</li><li>5</li></ol>\n"
      ],
      "text/latex": [
       "\\begin{enumerate*}\n",
       "\\item 18\n",
       "\\item 5\n",
       "\\end{enumerate*}\n"
      ],
      "text/markdown": [
       "1. 18\n",
       "2. 5\n",
       "\n",
       "\n"
      ],
      "text/plain": [
       "[1] 18  5"
      ]
     },
     "metadata": {},
     "output_type": "display_data"
    }
   ],
   "source": [
    "# Split data into train (n=35) and test (n=18)\n",
    "set.seed(444) # setting a seed so that you will get the same output as shown in the script\n",
    "ind <- sample(1:53, 35)\n",
    "\n",
    "train <- df[ind,]\n",
    "test  <- df[-ind,]\n",
    "dim(train)\n",
    "dim(test)"
   ]
  },
  {
   "cell_type": "code",
   "execution_count": 21,
   "id": "0cff8fa1",
   "metadata": {},
   "outputs": [
    {
     "data": {
      "text/plain": [
       "\n",
       "Call:\n",
       "lm(formula = sqrt_MDs ~ Hospitals, data = train)\n",
       "\n",
       "Residuals:\n",
       "    Min      1Q  Median      3Q     Max \n",
       "-14.532  -5.170  -1.194   5.620  18.890 \n",
       "\n",
       "Coefficients:\n",
       "            Estimate Std. Error t value Pr(>|t|)    \n",
       "(Intercept)  -4.4993     2.1620  -2.081   0.0453 *  \n",
       "Hospitals     7.7203     0.4727  16.331   <2e-16 ***\n",
       "---\n",
       "Signif. codes:  0 ‘***’ 0.001 ‘**’ 0.01 ‘*’ 0.05 ‘.’ 0.1 ‘ ’ 1\n",
       "\n",
       "Residual standard error: 7.68 on 33 degrees of freedom\n",
       "Multiple R-squared:  0.8899,\tAdjusted R-squared:  0.8866 \n",
       "F-statistic: 266.7 on 1 and 33 DF,  p-value: < 2.2e-16\n"
      ]
     },
     "metadata": {},
     "output_type": "display_data"
    }
   ],
   "source": [
    "# use training sample to fit a model\n",
    "model = lm(sqrt_MDs~Hospitals, data=train)\n",
    "summary(model)"
   ]
  },
  {
   "cell_type": "markdown",
   "id": "7334b27a",
   "metadata": {},
   "source": [
    "$ \\hat{\\sqrt{MDs}} = -4.50 + 7.72 * Hospitals $"
   ]
  },
  {
   "cell_type": "markdown",
   "id": "882e9b20",
   "metadata": {},
   "source": [
    "#### b\n"
   ]
  },
  {
   "cell_type": "code",
   "execution_count": 22,
   "id": "38be09f0",
   "metadata": {},
   "outputs": [
    {
     "data": {
      "text/html": [
       "<style>\n",
       ".dl-inline {width: auto; margin:0; padding: 0}\n",
       ".dl-inline>dt, .dl-inline>dd {float: none; width: auto; display: inline-block}\n",
       ".dl-inline>dt::after {content: \":\\0020\"; padding-right: .5ex}\n",
       ".dl-inline>dt:not(:first-of-type) {padding-left: .5ex}\n",
       "</style><dl class=dl-inline><dt>1</dt><dd>18.6616525585622</dd><dt>2</dt><dd>80.4242833764904</dd><dt>3</dt><dd>10.9413237063212</dd><dt>4</dt><dd>10.9413237063212</dd><dt>5</dt><dd>57.2632968197673</dd><dt>6</dt><dd>10.9413237063212</dd><dt>7</dt><dd>88.1446122287314</dd><dt>8</dt><dd>64.9836256720084</dd><dt>9</dt><dd>18.6616525585622</dd><dt>10</dt><dd>10.9413237063212</dd><dt>11</dt><dd>10.9413237063212</dd><dt>12</dt><dd>26.3819814108032</dd><dt>13</dt><dd>34.1023102630443</dd><dt>14</dt><dd>26.3819814108032</dd><dt>15</dt><dd>10.9413237063212</dd><dt>16</dt><dd>49.5429679675263</dd><dt>17</dt><dd>10.9413237063212</dd><dt>18</dt><dd>10.9413237063212</dd></dl>\n"
      ],
      "text/latex": [
       "\\begin{description*}\n",
       "\\item[1] 18.6616525585622\n",
       "\\item[2] 80.4242833764904\n",
       "\\item[3] 10.9413237063212\n",
       "\\item[4] 10.9413237063212\n",
       "\\item[5] 57.2632968197673\n",
       "\\item[6] 10.9413237063212\n",
       "\\item[7] 88.1446122287314\n",
       "\\item[8] 64.9836256720084\n",
       "\\item[9] 18.6616525585622\n",
       "\\item[10] 10.9413237063212\n",
       "\\item[11] 10.9413237063212\n",
       "\\item[12] 26.3819814108032\n",
       "\\item[13] 34.1023102630443\n",
       "\\item[14] 26.3819814108032\n",
       "\\item[15] 10.9413237063212\n",
       "\\item[16] 49.5429679675263\n",
       "\\item[17] 10.9413237063212\n",
       "\\item[18] 10.9413237063212\n",
       "\\end{description*}\n"
      ],
      "text/markdown": [
       "1\n",
       ":   18.66165255856222\n",
       ":   80.42428337649043\n",
       ":   10.94132370632124\n",
       ":   10.94132370632125\n",
       ":   57.26329681976736\n",
       ":   10.94132370632127\n",
       ":   88.14461222873148\n",
       ":   64.98362567200849\n",
       ":   18.661652558562210\n",
       ":   10.941323706321211\n",
       ":   10.941323706321212\n",
       ":   26.381981410803213\n",
       ":   34.102310263044314\n",
       ":   26.381981410803215\n",
       ":   10.941323706321216\n",
       ":   49.542967967526317\n",
       ":   10.941323706321218\n",
       ":   10.9413237063212\n",
       "\n"
      ],
      "text/plain": [
       "       1        2        3        4        5        6        7        8 \n",
       "18.66165 80.42428 10.94132 10.94132 57.26330 10.94132 88.14461 64.98363 \n",
       "       9       10       11       12       13       14       15       16 \n",
       "18.66165 10.94132 10.94132 26.38198 34.10231 26.38198 10.94132 49.54297 \n",
       "      17       18 \n",
       "10.94132 10.94132 "
      ]
     },
     "metadata": {},
     "output_type": "display_data"
    }
   ],
   "source": [
    "# compute predictions for the holdout/test sample\n",
    "data = data.frame(Hospitals=test$Hospitals)\n",
    "pred <- predict(model, newdata=data)\n",
    "pred"
   ]
  },
  {
   "cell_type": "code",
   "execution_count": 23,
   "id": "c074b23f",
   "metadata": {},
   "outputs": [
    {
     "data": {
      "text/html": [
       "0.914165176600839"
      ],
      "text/latex": [
       "0.914165176600839"
      ],
      "text/markdown": [
       "0.914165176600839"
      ],
      "text/plain": [
       "[1] 0.9141652"
      ]
     },
     "metadata": {},
     "output_type": "display_data"
    }
   ],
   "source": [
    "# find the cross-validation correlation \n",
    "cor(pred, test$sqrt_MDs)"
   ]
  },
  {
   "cell_type": "markdown",
   "id": "2e23372a",
   "metadata": {},
   "source": [
    "#### c"
   ]
  },
  {
   "cell_type": "code",
   "execution_count": 24,
   "id": "7a6a5d5b",
   "metadata": {},
   "outputs": [
    {
     "data": {
      "text/html": [
       "0.0785020298903569"
      ],
      "text/latex": [
       "0.0785020298903569"
      ],
      "text/markdown": [
       "0.0785020298903569"
      ],
      "text/plain": [
       "[1] 0.07850203"
      ]
     },
     "metadata": {},
     "output_type": "display_data"
    }
   ],
   "source": [
    "# compute the shrinkage and comment on it \n",
    "R_sq <- 0.9142\n",
    "sq_r <- cor(pred, test$sqrt_MDs)^2\n",
    "\n",
    "diff <- R_sq  - sq_r\n",
    "diff"
   ]
  },
  {
   "cell_type": "markdown",
   "id": "65472f26",
   "metadata": {},
   "source": [
    "This means that the model's accuracy score will decrease by a very little proportion when new data is given to the model for predictions."
   ]
  },
  {
   "cell_type": "markdown",
   "id": "f53c9755",
   "metadata": {},
   "source": [
    "### Q4: 4.16"
   ]
  },
  {
   "cell_type": "code",
   "execution_count": 25,
   "id": "6b129540",
   "metadata": {},
   "outputs": [
    {
     "data": {
      "text/html": [
       "<style>\n",
       ".list-inline {list-style: none; margin:0; padding: 0}\n",
       ".list-inline>li {display: inline-block}\n",
       ".list-inline>li:not(:last-child)::after {content: \"\\00b7\"; padding: 0 .5ex}\n",
       "</style>\n",
       "<ol class=list-inline><li>267</li><li>18</li></ol>\n"
      ],
      "text/latex": [
       "\\begin{enumerate*}\n",
       "\\item 267\n",
       "\\item 18\n",
       "\\end{enumerate*}\n"
      ],
      "text/markdown": [
       "1. 267\n",
       "2. 18\n",
       "\n",
       "\n"
      ],
      "text/plain": [
       "[1] 267  18"
      ]
     },
     "metadata": {},
     "output_type": "display_data"
    },
    {
     "data": {
      "text/html": [
       "<table class=\"dataframe\">\n",
       "<caption>A data.frame: 6 × 18</caption>\n",
       "<thead>\n",
       "\t<tr><th></th><th scope=col>Instar</th><th scope=col>ActiveFeeding</th><th scope=col>Fgp</th><th scope=col>Mgp</th><th scope=col>Mass</th><th scope=col>LogMass</th><th scope=col>Intake</th><th scope=col>LogIntake</th><th scope=col>WetFrass</th><th scope=col>LogWetFrass</th><th scope=col>DryFrass</th><th scope=col>LogDryFrass</th><th scope=col>Cassim</th><th scope=col>LogCassim</th><th scope=col>Nfrass</th><th scope=col>LogNfrass</th><th scope=col>Nassim</th><th scope=col>LogNassim</th></tr>\n",
       "\t<tr><th></th><th scope=col>&lt;int&gt;</th><th scope=col>&lt;chr&gt;</th><th scope=col>&lt;chr&gt;</th><th scope=col>&lt;chr&gt;</th><th scope=col>&lt;dbl&gt;</th><th scope=col>&lt;dbl&gt;</th><th scope=col>&lt;dbl&gt;</th><th scope=col>&lt;dbl&gt;</th><th scope=col>&lt;dbl&gt;</th><th scope=col>&lt;dbl&gt;</th><th scope=col>&lt;dbl&gt;</th><th scope=col>&lt;dbl&gt;</th><th scope=col>&lt;dbl&gt;</th><th scope=col>&lt;dbl&gt;</th><th scope=col>&lt;dbl&gt;</th><th scope=col>&lt;dbl&gt;</th><th scope=col>&lt;dbl&gt;</th><th scope=col>&lt;dbl&gt;</th></tr>\n",
       "</thead>\n",
       "<tbody>\n",
       "\t<tr><th scope=row>1</th><td>1</td><td>Y</td><td>Y</td><td>Y</td><td>0.002064</td><td>-2.685290</td><td>0.165118</td><td>-0.7822056</td><td>0.000241</td><td>-3.617983</td><td>0.000208</td><td>-3.681937</td><td>0.01422378</td><td>-1.846985</td><td>6.61e-06</td><td>-5.179510</td><td>0.001858999</td><td>-2.730721</td></tr>\n",
       "\t<tr><th scope=row>2</th><td>1</td><td>Y</td><td>N</td><td>N</td><td>0.005191</td><td>-2.284749</td><td>0.201008</td><td>-0.6967867</td><td>0.000063</td><td>-4.200659</td><td>0.000061</td><td>-4.214670</td><td>0.01739189</td><td>-1.759653</td><td>1.03e-06</td><td>-5.986783</td><td>0.002270091</td><td>-2.643957</td></tr>\n",
       "\t<tr><th scope=row>3</th><td>2</td><td>N</td><td>Y</td><td>N</td><td>0.005603</td><td>-2.251579</td><td>0.189125</td><td>-0.7232511</td><td>0.001401</td><td>-2.853562</td><td>0.000969</td><td>-3.013676</td><td>0.01639923</td><td>-1.785177</td><td>2.78e-05</td><td>-4.555794</td><td>0.002302210</td><td>-2.637855</td></tr>\n",
       "\t<tr><th scope=row>4</th><td>2</td><td>Y</td><td>N</td><td>N</td><td>0.019300</td><td>-1.714443</td><td>0.283280</td><td>-0.5477841</td><td>0.002045</td><td>-2.689307</td><td>0.001834</td><td>-2.736601</td><td>0.02392468</td><td>-1.621154</td><td>4.64e-05</td><td>-4.333480</td><td>0.003041352</td><td>-2.516933</td></tr>\n",
       "\t<tr><th scope=row>5</th><td>2</td><td>N</td><td>Y</td><td>Y</td><td>0.029300</td><td>-1.533132</td><td>0.259569</td><td>-0.5857472</td><td>0.005377</td><td>-2.269460</td><td>0.003523</td><td>-2.453087</td><td>0.02122857</td><td>-1.673079</td><td>9.97e-05</td><td>-4.001301</td><td>0.002791898</td><td>-2.554100</td></tr>\n",
       "\t<tr><th scope=row>6</th><td>3</td><td>Y</td><td>Y</td><td>N</td><td>0.062600</td><td>-1.203426</td><td>0.327864</td><td>-0.4843063</td><td>0.029500</td><td>-1.530178</td><td>0.000789</td><td>-3.102923</td><td>0.02836365</td><td>-1.547238</td><td>1.84e-05</td><td>-4.735567</td><td>0.003627464</td><td>-2.440397</td></tr>\n",
       "</tbody>\n",
       "</table>\n"
      ],
      "text/latex": [
       "A data.frame: 6 × 18\n",
       "\\begin{tabular}{r|llllllllllllllllll}\n",
       "  & Instar & ActiveFeeding & Fgp & Mgp & Mass & LogMass & Intake & LogIntake & WetFrass & LogWetFrass & DryFrass & LogDryFrass & Cassim & LogCassim & Nfrass & LogNfrass & Nassim & LogNassim\\\\\n",
       "  & <int> & <chr> & <chr> & <chr> & <dbl> & <dbl> & <dbl> & <dbl> & <dbl> & <dbl> & <dbl> & <dbl> & <dbl> & <dbl> & <dbl> & <dbl> & <dbl> & <dbl>\\\\\n",
       "\\hline\n",
       "\t1 & 1 & Y & Y & Y & 0.002064 & -2.685290 & 0.165118 & -0.7822056 & 0.000241 & -3.617983 & 0.000208 & -3.681937 & 0.01422378 & -1.846985 & 6.61e-06 & -5.179510 & 0.001858999 & -2.730721\\\\\n",
       "\t2 & 1 & Y & N & N & 0.005191 & -2.284749 & 0.201008 & -0.6967867 & 0.000063 & -4.200659 & 0.000061 & -4.214670 & 0.01739189 & -1.759653 & 1.03e-06 & -5.986783 & 0.002270091 & -2.643957\\\\\n",
       "\t3 & 2 & N & Y & N & 0.005603 & -2.251579 & 0.189125 & -0.7232511 & 0.001401 & -2.853562 & 0.000969 & -3.013676 & 0.01639923 & -1.785177 & 2.78e-05 & -4.555794 & 0.002302210 & -2.637855\\\\\n",
       "\t4 & 2 & Y & N & N & 0.019300 & -1.714443 & 0.283280 & -0.5477841 & 0.002045 & -2.689307 & 0.001834 & -2.736601 & 0.02392468 & -1.621154 & 4.64e-05 & -4.333480 & 0.003041352 & -2.516933\\\\\n",
       "\t5 & 2 & N & Y & Y & 0.029300 & -1.533132 & 0.259569 & -0.5857472 & 0.005377 & -2.269460 & 0.003523 & -2.453087 & 0.02122857 & -1.673079 & 9.97e-05 & -4.001301 & 0.002791898 & -2.554100\\\\\n",
       "\t6 & 3 & Y & Y & N & 0.062600 & -1.203426 & 0.327864 & -0.4843063 & 0.029500 & -1.530178 & 0.000789 & -3.102923 & 0.02836365 & -1.547238 & 1.84e-05 & -4.735567 & 0.003627464 & -2.440397\\\\\n",
       "\\end{tabular}\n"
      ],
      "text/markdown": [
       "\n",
       "A data.frame: 6 × 18\n",
       "\n",
       "| <!--/--> | Instar &lt;int&gt; | ActiveFeeding &lt;chr&gt; | Fgp &lt;chr&gt; | Mgp &lt;chr&gt; | Mass &lt;dbl&gt; | LogMass &lt;dbl&gt; | Intake &lt;dbl&gt; | LogIntake &lt;dbl&gt; | WetFrass &lt;dbl&gt; | LogWetFrass &lt;dbl&gt; | DryFrass &lt;dbl&gt; | LogDryFrass &lt;dbl&gt; | Cassim &lt;dbl&gt; | LogCassim &lt;dbl&gt; | Nfrass &lt;dbl&gt; | LogNfrass &lt;dbl&gt; | Nassim &lt;dbl&gt; | LogNassim &lt;dbl&gt; |\n",
       "|---|---|---|---|---|---|---|---|---|---|---|---|---|---|---|---|---|---|---|\n",
       "| 1 | 1 | Y | Y | Y | 0.002064 | -2.685290 | 0.165118 | -0.7822056 | 0.000241 | -3.617983 | 0.000208 | -3.681937 | 0.01422378 | -1.846985 | 6.61e-06 | -5.179510 | 0.001858999 | -2.730721 |\n",
       "| 2 | 1 | Y | N | N | 0.005191 | -2.284749 | 0.201008 | -0.6967867 | 0.000063 | -4.200659 | 0.000061 | -4.214670 | 0.01739189 | -1.759653 | 1.03e-06 | -5.986783 | 0.002270091 | -2.643957 |\n",
       "| 3 | 2 | N | Y | N | 0.005603 | -2.251579 | 0.189125 | -0.7232511 | 0.001401 | -2.853562 | 0.000969 | -3.013676 | 0.01639923 | -1.785177 | 2.78e-05 | -4.555794 | 0.002302210 | -2.637855 |\n",
       "| 4 | 2 | Y | N | N | 0.019300 | -1.714443 | 0.283280 | -0.5477841 | 0.002045 | -2.689307 | 0.001834 | -2.736601 | 0.02392468 | -1.621154 | 4.64e-05 | -4.333480 | 0.003041352 | -2.516933 |\n",
       "| 5 | 2 | N | Y | Y | 0.029300 | -1.533132 | 0.259569 | -0.5857472 | 0.005377 | -2.269460 | 0.003523 | -2.453087 | 0.02122857 | -1.673079 | 9.97e-05 | -4.001301 | 0.002791898 | -2.554100 |\n",
       "| 6 | 3 | Y | Y | N | 0.062600 | -1.203426 | 0.327864 | -0.4843063 | 0.029500 | -1.530178 | 0.000789 | -3.102923 | 0.02836365 | -1.547238 | 1.84e-05 | -4.735567 | 0.003627464 | -2.440397 |\n",
       "\n"
      ],
      "text/plain": [
       "  Instar ActiveFeeding Fgp Mgp Mass     LogMass   Intake   LogIntake  WetFrass\n",
       "1 1      Y             Y   Y   0.002064 -2.685290 0.165118 -0.7822056 0.000241\n",
       "2 1      Y             N   N   0.005191 -2.284749 0.201008 -0.6967867 0.000063\n",
       "3 2      N             Y   N   0.005603 -2.251579 0.189125 -0.7232511 0.001401\n",
       "4 2      Y             N   N   0.019300 -1.714443 0.283280 -0.5477841 0.002045\n",
       "5 2      N             Y   Y   0.029300 -1.533132 0.259569 -0.5857472 0.005377\n",
       "6 3      Y             Y   N   0.062600 -1.203426 0.327864 -0.4843063 0.029500\n",
       "  LogWetFrass DryFrass LogDryFrass Cassim     LogCassim Nfrass   LogNfrass\n",
       "1 -3.617983   0.000208 -3.681937   0.01422378 -1.846985 6.61e-06 -5.179510\n",
       "2 -4.200659   0.000061 -4.214670   0.01739189 -1.759653 1.03e-06 -5.986783\n",
       "3 -2.853562   0.000969 -3.013676   0.01639923 -1.785177 2.78e-05 -4.555794\n",
       "4 -2.689307   0.001834 -2.736601   0.02392468 -1.621154 4.64e-05 -4.333480\n",
       "5 -2.269460   0.003523 -2.453087   0.02122857 -1.673079 9.97e-05 -4.001301\n",
       "6 -1.530178   0.000789 -3.102923   0.02836365 -1.547238 1.84e-05 -4.735567\n",
       "  Nassim      LogNassim\n",
       "1 0.001858999 -2.730721\n",
       "2 0.002270091 -2.643957\n",
       "3 0.002302210 -2.637855\n",
       "4 0.003041352 -2.516933\n",
       "5 0.002791898 -2.554100\n",
       "6 0.003627464 -2.440397"
      ]
     },
     "metadata": {},
     "output_type": "display_data"
    }
   ],
   "source": [
    "# read csv file \n",
    "cat_df <- read.csv('ex04-16Caterp.csv', header=T)\n",
    "dim(cat_df)\n",
    "head(cat_df)"
   ]
  },
  {
   "cell_type": "markdown",
   "id": "17ae18dc",
   "metadata": {},
   "source": [
    "#### a"
   ]
  },
  {
   "cell_type": "code",
   "execution_count": 26,
   "id": "9846d6b0",
   "metadata": {},
   "outputs": [
    {
     "data": {
      "text/plain": [
       "\n",
       "Call:\n",
       "lm(formula = LogNassim ~ LogMass, data = cat_df)\n",
       "\n",
       "Residuals:\n",
       "     Min       1Q   Median       3Q      Max \n",
       "-1.26089 -0.11558  0.02162  0.16725  0.41862 \n",
       "\n",
       "Coefficients:\n",
       "            Estimate Std. Error t value Pr(>|t|)    \n",
       "(Intercept) -1.88738    0.01841 -102.53   <2e-16 ***\n",
       "LogMass      0.37096    0.01332   27.85   <2e-16 ***\n",
       "---\n",
       "Signif. codes:  0 ‘***’ 0.001 ‘**’ 0.01 ‘*’ 0.05 ‘.’ 0.1 ‘ ’ 1\n",
       "\n",
       "Residual standard error: 0.2501 on 251 degrees of freedom\n",
       "  (14 observations deleted due to missingness)\n",
       "Multiple R-squared:  0.7555,\tAdjusted R-squared:  0.7545 \n",
       "F-statistic: 775.6 on 1 and 251 DF,  p-value: < 2.2e-16\n"
      ]
     },
     "metadata": {},
     "output_type": "display_data"
    }
   ],
   "source": [
    "# Fit a model to predict log nitrogen assimilation (LogNassim) using log body mass(LogMass).\n",
    "# Report the value of R^2 for this model.\n",
    "mod1 = lm(LogNassim~LogMass, data=cat_df)\n",
    "summary(mod1)"
   ]
  },
  {
   "cell_type": "markdown",
   "id": "dcd194d7",
   "metadata": {},
   "source": [
    "$ \\hat{LogNassim} = -1.89 + 0.37 * LogMass $\n",
    "\n",
    "$ R^2-value = 0.756 $"
   ]
  },
  {
   "cell_type": "markdown",
   "id": "6d1bc710",
   "metadata": {},
   "source": [
    "#### b"
   ]
  },
  {
   "cell_type": "code",
   "execution_count": 42,
   "id": "c962303c",
   "metadata": {
    "scrolled": false
   },
   "outputs": [
    {
     "data": {
      "text/plain": [
       "\n",
       " 1  2  3  4  5 \n",
       "51 41 45 64 66 "
      ]
     },
     "metadata": {},
     "output_type": "display_data"
    },
    {
     "data": {
      "text/html": [
       "<style>\n",
       ".list-inline {list-style: none; margin:0; padding: 0}\n",
       ".list-inline>li {display: inline-block}\n",
       ".list-inline>li:not(:last-child)::after {content: \"\\00b7\"; padding: 0 .5ex}\n",
       "</style>\n",
       "<ol class=list-inline><li>1</li><li>1</li><li>2</li><li>2</li><li>2</li><li>3</li><li>3</li><li>4</li><li>4</li><li>4</li><li>4</li><li>5</li><li>5</li><li>5</li><li>5</li><li>1</li><li>1</li><li>1</li><li>2</li><li>2</li><li>3</li><li>3</li><li>3</li><li>4</li><li>4</li><li>4</li><li>5</li><li>5</li><li>5</li><li>5</li><li>5</li><li>1</li><li>1</li><li>1</li><li>1</li><li>2</li><li>2</li><li>2</li><li>3</li><li>3</li><li>3</li><li>4</li><li>4</li><li>4</li><li>4</li><li>5</li><li>5</li><li>5</li><li>5</li><li>1</li><li>1</li><li>1</li><li>1</li><li>2</li><li>2</li><li>3</li><li>3</li><li>3</li><li>4</li><li>4</li><li>4</li><li>4</li><li>5</li><li>5</li><li>5</li><li>5</li><li>1</li><li>1</li><li>1</li><li>2</li><li>2</li><li>3</li><li>3</li><li>3</li><li>3</li><li>4</li><li>4</li><li>4</li><li>5</li><li>5</li><li>5</li><li>5</li><li>1</li><li>1</li><li>1</li><li>2</li><li>2</li><li>2</li><li>3</li><li>3</li><li>4</li><li>4</li><li>4</li><li>4</li><li>5</li><li>5</li><li>5</li><li>5</li><li>1</li><li>1</li><li>1</li><li>2</li><li>2</li><li>3</li><li>3</li><li>4</li><li>4</li><li>4</li><li>4</li><li>5</li><li>5</li><li>5</li><li>5</li><li>1</li><li>1</li><li>1</li><li>2</li><li>2</li><li>3</li><li>3</li><li>3</li><li>4</li><li>4</li><li>4</li><li>5</li><li>5</li><li>5</li><li>1</li><li>1</li><li>1</li><li>2</li><li>2</li><li>2</li><li>3</li><li>3</li><li>3</li><li>4</li><li>4</li><li>4</li><li>4</li><li>5</li><li>5</li><li>5</li><li>1</li><li>1</li><li>2</li><li>2</li><li>2</li><li>3</li><li>3</li><li>4</li><li>4</li><li>4</li><li>4</li><li>5</li><li>5</li><li>5</li><li>1</li><li>1</li><li>1</li><li>2</li><li>2</li><li>2</li><li>3</li><li>3</li><li>4</li><li>4</li><li>4</li><li>4</li><li>5</li><li>5</li><li>5</li><li>5</li><li>1</li><li>1</li><li>1</li><li>2</li><li>2</li><li>3</li><li>3</li><li>3</li><li>4</li><li>4</li><li>4</li><li>4</li><li>5</li><li>5</li><li>5</li><li>5</li><li>1</li><li>1</li><li>1</li><li>2</li><li>2</li><li>3</li><li>3</li><li>3</li><li>4</li><li>4</li><li>4</li><li>5</li><li>5</li><li>5</li><li>5</li><li>5</li><li>1</li><li>1</li><li>1</li><li>2</li><li>2</li><li>2</li><li>3</li><li>3</li><li>3</li><li>4</li><li>4</li><li>4</li><li>4</li><li>5</li><li>5</li><li>5</li><li>5</li><li>1</li><li>1</li><li>1</li><li>2</li><li>2</li><li>3</li><li>3</li><li>3</li><li>4</li><li>4</li><li>4</li><li>4</li><li>5</li><li>5</li><li>5</li><li>5</li><li>1</li><li>1</li><li>1</li><li>2</li><li>2</li><li>3</li><li>3</li><li>4</li><li>4</li><li>4</li><li>4</li><li>5</li><li>5</li><li>5</li><li>5</li><li>1</li><li>1</li><li>1</li><li>2</li><li>2</li><li>3</li><li>3</li><li>4</li><li>4</li><li>4</li><li>4</li><li>5</li><li>5</li><li>5</li></ol>\n",
       "\n",
       "<details>\n",
       "\t<summary style=display:list-item;cursor:pointer>\n",
       "\t\t<strong>Levels</strong>:\n",
       "\t</summary>\n",
       "\t<style>\n",
       "\t.list-inline {list-style: none; margin:0; padding: 0}\n",
       "\t.list-inline>li {display: inline-block}\n",
       "\t.list-inline>li:not(:last-child)::after {content: \"\\00b7\"; padding: 0 .5ex}\n",
       "\t</style>\n",
       "\t<ol class=list-inline><li>'1'</li><li>'2'</li><li>'3'</li><li>'4'</li><li>'5'</li></ol>\n",
       "</details>"
      ],
      "text/latex": [
       "\\begin{enumerate*}\n",
       "\\item 1\n",
       "\\item 1\n",
       "\\item 2\n",
       "\\item 2\n",
       "\\item 2\n",
       "\\item 3\n",
       "\\item 3\n",
       "\\item 4\n",
       "\\item 4\n",
       "\\item 4\n",
       "\\item 4\n",
       "\\item 5\n",
       "\\item 5\n",
       "\\item 5\n",
       "\\item 5\n",
       "\\item 1\n",
       "\\item 1\n",
       "\\item 1\n",
       "\\item 2\n",
       "\\item 2\n",
       "\\item 3\n",
       "\\item 3\n",
       "\\item 3\n",
       "\\item 4\n",
       "\\item 4\n",
       "\\item 4\n",
       "\\item 5\n",
       "\\item 5\n",
       "\\item 5\n",
       "\\item 5\n",
       "\\item 5\n",
       "\\item 1\n",
       "\\item 1\n",
       "\\item 1\n",
       "\\item 1\n",
       "\\item 2\n",
       "\\item 2\n",
       "\\item 2\n",
       "\\item 3\n",
       "\\item 3\n",
       "\\item 3\n",
       "\\item 4\n",
       "\\item 4\n",
       "\\item 4\n",
       "\\item 4\n",
       "\\item 5\n",
       "\\item 5\n",
       "\\item 5\n",
       "\\item 5\n",
       "\\item 1\n",
       "\\item 1\n",
       "\\item 1\n",
       "\\item 1\n",
       "\\item 2\n",
       "\\item 2\n",
       "\\item 3\n",
       "\\item 3\n",
       "\\item 3\n",
       "\\item 4\n",
       "\\item 4\n",
       "\\item 4\n",
       "\\item 4\n",
       "\\item 5\n",
       "\\item 5\n",
       "\\item 5\n",
       "\\item 5\n",
       "\\item 1\n",
       "\\item 1\n",
       "\\item 1\n",
       "\\item 2\n",
       "\\item 2\n",
       "\\item 3\n",
       "\\item 3\n",
       "\\item 3\n",
       "\\item 3\n",
       "\\item 4\n",
       "\\item 4\n",
       "\\item 4\n",
       "\\item 5\n",
       "\\item 5\n",
       "\\item 5\n",
       "\\item 5\n",
       "\\item 1\n",
       "\\item 1\n",
       "\\item 1\n",
       "\\item 2\n",
       "\\item 2\n",
       "\\item 2\n",
       "\\item 3\n",
       "\\item 3\n",
       "\\item 4\n",
       "\\item 4\n",
       "\\item 4\n",
       "\\item 4\n",
       "\\item 5\n",
       "\\item 5\n",
       "\\item 5\n",
       "\\item 5\n",
       "\\item 1\n",
       "\\item 1\n",
       "\\item 1\n",
       "\\item 2\n",
       "\\item 2\n",
       "\\item 3\n",
       "\\item 3\n",
       "\\item 4\n",
       "\\item 4\n",
       "\\item 4\n",
       "\\item 4\n",
       "\\item 5\n",
       "\\item 5\n",
       "\\item 5\n",
       "\\item 5\n",
       "\\item 1\n",
       "\\item 1\n",
       "\\item 1\n",
       "\\item 2\n",
       "\\item 2\n",
       "\\item 3\n",
       "\\item 3\n",
       "\\item 3\n",
       "\\item 4\n",
       "\\item 4\n",
       "\\item 4\n",
       "\\item 5\n",
       "\\item 5\n",
       "\\item 5\n",
       "\\item 1\n",
       "\\item 1\n",
       "\\item 1\n",
       "\\item 2\n",
       "\\item 2\n",
       "\\item 2\n",
       "\\item 3\n",
       "\\item 3\n",
       "\\item 3\n",
       "\\item 4\n",
       "\\item 4\n",
       "\\item 4\n",
       "\\item 4\n",
       "\\item 5\n",
       "\\item 5\n",
       "\\item 5\n",
       "\\item 1\n",
       "\\item 1\n",
       "\\item 2\n",
       "\\item 2\n",
       "\\item 2\n",
       "\\item 3\n",
       "\\item 3\n",
       "\\item 4\n",
       "\\item 4\n",
       "\\item 4\n",
       "\\item 4\n",
       "\\item 5\n",
       "\\item 5\n",
       "\\item 5\n",
       "\\item 1\n",
       "\\item 1\n",
       "\\item 1\n",
       "\\item 2\n",
       "\\item 2\n",
       "\\item 2\n",
       "\\item 3\n",
       "\\item 3\n",
       "\\item 4\n",
       "\\item 4\n",
       "\\item 4\n",
       "\\item 4\n",
       "\\item 5\n",
       "\\item 5\n",
       "\\item 5\n",
       "\\item 5\n",
       "\\item 1\n",
       "\\item 1\n",
       "\\item 1\n",
       "\\item 2\n",
       "\\item 2\n",
       "\\item 3\n",
       "\\item 3\n",
       "\\item 3\n",
       "\\item 4\n",
       "\\item 4\n",
       "\\item 4\n",
       "\\item 4\n",
       "\\item 5\n",
       "\\item 5\n",
       "\\item 5\n",
       "\\item 5\n",
       "\\item 1\n",
       "\\item 1\n",
       "\\item 1\n",
       "\\item 2\n",
       "\\item 2\n",
       "\\item 3\n",
       "\\item 3\n",
       "\\item 3\n",
       "\\item 4\n",
       "\\item 4\n",
       "\\item 4\n",
       "\\item 5\n",
       "\\item 5\n",
       "\\item 5\n",
       "\\item 5\n",
       "\\item 5\n",
       "\\item 1\n",
       "\\item 1\n",
       "\\item 1\n",
       "\\item 2\n",
       "\\item 2\n",
       "\\item 2\n",
       "\\item 3\n",
       "\\item 3\n",
       "\\item 3\n",
       "\\item 4\n",
       "\\item 4\n",
       "\\item 4\n",
       "\\item 4\n",
       "\\item 5\n",
       "\\item 5\n",
       "\\item 5\n",
       "\\item 5\n",
       "\\item 1\n",
       "\\item 1\n",
       "\\item 1\n",
       "\\item 2\n",
       "\\item 2\n",
       "\\item 3\n",
       "\\item 3\n",
       "\\item 3\n",
       "\\item 4\n",
       "\\item 4\n",
       "\\item 4\n",
       "\\item 4\n",
       "\\item 5\n",
       "\\item 5\n",
       "\\item 5\n",
       "\\item 5\n",
       "\\item 1\n",
       "\\item 1\n",
       "\\item 1\n",
       "\\item 2\n",
       "\\item 2\n",
       "\\item 3\n",
       "\\item 3\n",
       "\\item 4\n",
       "\\item 4\n",
       "\\item 4\n",
       "\\item 4\n",
       "\\item 5\n",
       "\\item 5\n",
       "\\item 5\n",
       "\\item 5\n",
       "\\item 1\n",
       "\\item 1\n",
       "\\item 1\n",
       "\\item 2\n",
       "\\item 2\n",
       "\\item 3\n",
       "\\item 3\n",
       "\\item 4\n",
       "\\item 4\n",
       "\\item 4\n",
       "\\item 4\n",
       "\\item 5\n",
       "\\item 5\n",
       "\\item 5\n",
       "\\end{enumerate*}\n",
       "\n",
       "\\emph{Levels}: \\begin{enumerate*}\n",
       "\\item '1'\n",
       "\\item '2'\n",
       "\\item '3'\n",
       "\\item '4'\n",
       "\\item '5'\n",
       "\\end{enumerate*}\n"
      ],
      "text/markdown": [
       "1. 1\n",
       "2. 1\n",
       "3. 2\n",
       "4. 2\n",
       "5. 2\n",
       "6. 3\n",
       "7. 3\n",
       "8. 4\n",
       "9. 4\n",
       "10. 4\n",
       "11. 4\n",
       "12. 5\n",
       "13. 5\n",
       "14. 5\n",
       "15. 5\n",
       "16. 1\n",
       "17. 1\n",
       "18. 1\n",
       "19. 2\n",
       "20. 2\n",
       "21. 3\n",
       "22. 3\n",
       "23. 3\n",
       "24. 4\n",
       "25. 4\n",
       "26. 4\n",
       "27. 5\n",
       "28. 5\n",
       "29. 5\n",
       "30. 5\n",
       "31. 5\n",
       "32. 1\n",
       "33. 1\n",
       "34. 1\n",
       "35. 1\n",
       "36. 2\n",
       "37. 2\n",
       "38. 2\n",
       "39. 3\n",
       "40. 3\n",
       "41. 3\n",
       "42. 4\n",
       "43. 4\n",
       "44. 4\n",
       "45. 4\n",
       "46. 5\n",
       "47. 5\n",
       "48. 5\n",
       "49. 5\n",
       "50. 1\n",
       "51. 1\n",
       "52. 1\n",
       "53. 1\n",
       "54. 2\n",
       "55. 2\n",
       "56. 3\n",
       "57. 3\n",
       "58. 3\n",
       "59. 4\n",
       "60. 4\n",
       "61. 4\n",
       "62. 4\n",
       "63. 5\n",
       "64. 5\n",
       "65. 5\n",
       "66. 5\n",
       "67. 1\n",
       "68. 1\n",
       "69. 1\n",
       "70. 2\n",
       "71. 2\n",
       "72. 3\n",
       "73. 3\n",
       "74. 3\n",
       "75. 3\n",
       "76. 4\n",
       "77. 4\n",
       "78. 4\n",
       "79. 5\n",
       "80. 5\n",
       "81. 5\n",
       "82. 5\n",
       "83. 1\n",
       "84. 1\n",
       "85. 1\n",
       "86. 2\n",
       "87. 2\n",
       "88. 2\n",
       "89. 3\n",
       "90. 3\n",
       "91. 4\n",
       "92. 4\n",
       "93. 4\n",
       "94. 4\n",
       "95. 5\n",
       "96. 5\n",
       "97. 5\n",
       "98. 5\n",
       "99. 1\n",
       "100. 1\n",
       "101. 1\n",
       "102. 2\n",
       "103. 2\n",
       "104. 3\n",
       "105. 3\n",
       "106. 4\n",
       "107. 4\n",
       "108. 4\n",
       "109. 4\n",
       "110. 5\n",
       "111. 5\n",
       "112. 5\n",
       "113. 5\n",
       "114. 1\n",
       "115. 1\n",
       "116. 1\n",
       "117. 2\n",
       "118. 2\n",
       "119. 3\n",
       "120. 3\n",
       "121. 3\n",
       "122. 4\n",
       "123. 4\n",
       "124. 4\n",
       "125. 5\n",
       "126. 5\n",
       "127. 5\n",
       "128. 1\n",
       "129. 1\n",
       "130. 1\n",
       "131. 2\n",
       "132. 2\n",
       "133. 2\n",
       "134. 3\n",
       "135. 3\n",
       "136. 3\n",
       "137. 4\n",
       "138. 4\n",
       "139. 4\n",
       "140. 4\n",
       "141. 5\n",
       "142. 5\n",
       "143. 5\n",
       "144. 1\n",
       "145. 1\n",
       "146. 2\n",
       "147. 2\n",
       "148. 2\n",
       "149. 3\n",
       "150. 3\n",
       "151. 4\n",
       "152. 4\n",
       "153. 4\n",
       "154. 4\n",
       "155. 5\n",
       "156. 5\n",
       "157. 5\n",
       "158. 1\n",
       "159. 1\n",
       "160. 1\n",
       "161. 2\n",
       "162. 2\n",
       "163. 2\n",
       "164. 3\n",
       "165. 3\n",
       "166. 4\n",
       "167. 4\n",
       "168. 4\n",
       "169. 4\n",
       "170. 5\n",
       "171. 5\n",
       "172. 5\n",
       "173. 5\n",
       "174. 1\n",
       "175. 1\n",
       "176. 1\n",
       "177. 2\n",
       "178. 2\n",
       "179. 3\n",
       "180. 3\n",
       "181. 3\n",
       "182. 4\n",
       "183. 4\n",
       "184. 4\n",
       "185. 4\n",
       "186. 5\n",
       "187. 5\n",
       "188. 5\n",
       "189. 5\n",
       "190. 1\n",
       "191. 1\n",
       "192. 1\n",
       "193. 2\n",
       "194. 2\n",
       "195. 3\n",
       "196. 3\n",
       "197. 3\n",
       "198. 4\n",
       "199. 4\n",
       "200. 4\n",
       "201. 5\n",
       "202. 5\n",
       "203. 5\n",
       "204. 5\n",
       "205. 5\n",
       "206. 1\n",
       "207. 1\n",
       "208. 1\n",
       "209. 2\n",
       "210. 2\n",
       "211. 2\n",
       "212. 3\n",
       "213. 3\n",
       "214. 3\n",
       "215. 4\n",
       "216. 4\n",
       "217. 4\n",
       "218. 4\n",
       "219. 5\n",
       "220. 5\n",
       "221. 5\n",
       "222. 5\n",
       "223. 1\n",
       "224. 1\n",
       "225. 1\n",
       "226. 2\n",
       "227. 2\n",
       "228. 3\n",
       "229. 3\n",
       "230. 3\n",
       "231. 4\n",
       "232. 4\n",
       "233. 4\n",
       "234. 4\n",
       "235. 5\n",
       "236. 5\n",
       "237. 5\n",
       "238. 5\n",
       "239. 1\n",
       "240. 1\n",
       "241. 1\n",
       "242. 2\n",
       "243. 2\n",
       "244. 3\n",
       "245. 3\n",
       "246. 4\n",
       "247. 4\n",
       "248. 4\n",
       "249. 4\n",
       "250. 5\n",
       "251. 5\n",
       "252. 5\n",
       "253. 5\n",
       "254. 1\n",
       "255. 1\n",
       "256. 1\n",
       "257. 2\n",
       "258. 2\n",
       "259. 3\n",
       "260. 3\n",
       "261. 4\n",
       "262. 4\n",
       "263. 4\n",
       "264. 4\n",
       "265. 5\n",
       "266. 5\n",
       "267. 5\n",
       "\n",
       "\n",
       "\n",
       "**Levels**: 1. '1'\n",
       "2. '2'\n",
       "3. '3'\n",
       "4. '4'\n",
       "5. '5'\n",
       "\n",
       "\n"
      ],
      "text/plain": [
       "  [1] 1 1 2 2 2 3 3 4 4 4 4 5 5 5 5 1 1 1 2 2 3 3 3 4 4 4 5 5 5 5 5 1 1 1 1 2 2\n",
       " [38] 2 3 3 3 4 4 4 4 5 5 5 5 1 1 1 1 2 2 3 3 3 4 4 4 4 5 5 5 5 1 1 1 2 2 3 3 3\n",
       " [75] 3 4 4 4 5 5 5 5 1 1 1 2 2 2 3 3 4 4 4 4 5 5 5 5 1 1 1 2 2 3 3 4 4 4 4 5 5\n",
       "[112] 5 5 1 1 1 2 2 3 3 3 4 4 4 5 5 5 1 1 1 2 2 2 3 3 3 4 4 4 4 5 5 5 1 1 2 2 2\n",
       "[149] 3 3 4 4 4 4 5 5 5 1 1 1 2 2 2 3 3 4 4 4 4 5 5 5 5 1 1 1 2 2 3 3 3 4 4 4 4\n",
       "[186] 5 5 5 5 1 1 1 2 2 3 3 3 4 4 4 5 5 5 5 5 1 1 1 2 2 2 3 3 3 4 4 4 4 5 5 5 5\n",
       "[223] 1 1 1 2 2 3 3 3 4 4 4 4 5 5 5 5 1 1 1 2 2 3 3 4 4 4 4 5 5 5 5 1 1 1 2 2 3\n",
       "[260] 3 4 4 4 4 5 5 5\n",
       "Levels: 1 2 3 4 5"
      ]
     },
     "metadata": {},
     "output_type": "display_data"
    },
    {
     "data": {
      "text/plain": [
       "\n",
       "Call:\n",
       "lm(formula = LogNassim ~ factor(Instar), data = cat_df)\n",
       "\n",
       "Residuals:\n",
       "     Min       1Q   Median       3Q      Max \n",
       "-1.08300 -0.06971  0.01542  0.10938  0.51487 \n",
       "\n",
       "Coefficients:\n",
       "                Estimate Std. Error t value Pr(>|t|)    \n",
       "(Intercept)     -2.72292    0.03270 -83.261  < 2e-16 ***\n",
       "factor(Instar)2  0.15076    0.04625   3.260  0.00127 ** \n",
       "factor(Instar)3  0.30615    0.04495   6.811 7.27e-11 ***\n",
       "factor(Instar)4  0.69102    0.04169  16.576  < 2e-16 ***\n",
       "factor(Instar)5  1.24924    0.04169  29.966  < 2e-16 ***\n",
       "---\n",
       "Signif. codes:  0 ‘***’ 0.001 ‘**’ 0.01 ‘*’ 0.05 ‘.’ 0.1 ‘ ’ 1\n",
       "\n",
       "Residual standard error: 0.2068 on 248 degrees of freedom\n",
       "  (14 observations deleted due to missingness)\n",
       "Multiple R-squared:  0.8348,\tAdjusted R-squared:  0.8322 \n",
       "F-statistic: 313.4 on 4 and 248 DF,  p-value: < 2.2e-16\n"
      ]
     },
     "metadata": {},
     "output_type": "display_data"
    }
   ],
   "source": [
    "# Fit a model to predict LogNassim using appropriate indicators for the categories of Instar.\n",
    "# Report the value of R^2 for this model and compare it to (a)\n",
    "table(cat_df$Instar)\n",
    "factor(cat_df$Instar)\n",
    "mod2 = lm(LogNassim~factor(Instar), data=cat_df)\n",
    "summary(mod2)"
   ]
  },
  {
   "cell_type": "markdown",
   "id": "8eefc465",
   "metadata": {},
   "source": [
    "$ \\hat{LogNassim} = -2.72 + 0.15 * (Instar==2) + 0.31 * (Instar==3) + 0.69 * (Instar==4) + 1.25 * (Instar==5)$\n",
    "\n",
    "$ R^2-value = 0.835 $"
   ]
  },
  {
   "cell_type": "markdown",
   "id": "f6227bd1",
   "metadata": {},
   "source": [
    "The R-squared value of model in (b) is larger than that of model in (a), therefore, suggesting that this model better explains the observed data."
   ]
  },
  {
   "cell_type": "markdown",
   "id": "fd1bfe64",
   "metadata": {},
   "source": [
    "##### c"
   ]
  },
  {
   "cell_type": "markdown",
   "id": "1e28f99a",
   "metadata": {},
   "source": [
    "First coefficient: This means that when Instar == 0 (base case, caterpillars in development stage 1), the log of  nitrogen assilinlation will decrease by -2.72.\n",
    "\n",
    "Second coefficient: This means that when Instar == 1 (caterpillars in development stage 2), the log of  nitrogen assilinlation will decrease by (-2.72 + 0.15) -2.57."
   ]
  },
  {
   "cell_type": "markdown",
   "id": "70bf0b65",
   "metadata": {},
   "source": [
    "##### d"
   ]
  },
  {
   "cell_type": "code",
   "execution_count": 29,
   "id": "dc2029b5",
   "metadata": {},
   "outputs": [
    {
     "data": {
      "text/plain": [
       "\n",
       "Call:\n",
       "lm(formula = LogNassim ~ LogMass + factor(Instar), data = cat_df)\n",
       "\n",
       "Residuals:\n",
       "     Min       1Q   Median       3Q      Max \n",
       "-1.09910 -0.06945  0.01555  0.10943  0.49154 \n",
       "\n",
       "Coefficients:\n",
       "                Estimate Std. Error t value Pr(>|t|)    \n",
       "(Intercept)     -2.56744    0.11702 -21.939  < 2e-16 ***\n",
       "LogMass          0.06148    0.04444   1.384  0.16776    \n",
       "factor(Instar)2  0.10206    0.05805   1.758  0.07998 .  \n",
       "factor(Instar)3  0.21480    0.07983   2.691  0.00761 ** \n",
       "factor(Instar)4  0.54611    0.11270   4.846 2.23e-06 ***\n",
       "factor(Instar)5  1.04876    0.15077   6.956 3.12e-11 ***\n",
       "---\n",
       "Signif. codes:  0 ‘***’ 0.001 ‘**’ 0.01 ‘*’ 0.05 ‘.’ 0.1 ‘ ’ 1\n",
       "\n",
       "Residual standard error: 0.2065 on 247 degrees of freedom\n",
       "  (14 observations deleted due to missingness)\n",
       "Multiple R-squared:  0.8361,\tAdjusted R-squared:  0.8328 \n",
       "F-statistic:   252 on 5 and 247 DF,  p-value: < 2.2e-16\n"
      ]
     },
     "metadata": {},
     "output_type": "display_data"
    }
   ],
   "source": [
    "# Fit a model to predict LogNassim using LogMass and appropriate indicators for Instar.\n",
    "# Report the value of R^2 and compare it to the earlier models.\n",
    "mod3 = lm(LogNassim~ LogMass + factor(Instar), data=cat_df)\n",
    "summary(mod3)"
   ]
  },
  {
   "cell_type": "markdown",
   "id": "9973093f",
   "metadata": {},
   "source": [
    "$ \\hat{LogNassim} = -2.57 + 0.06 * LogMass + 0.10 * (Instar==2) + 0.21 * (Instar==3) + 0.55 * (Instar==4) + 1.05 * (Instar==5)$\n",
    "\n",
    "$ R^2-value = 0.836 $"
   ]
  },
  {
   "cell_type": "markdown",
   "id": "01abf3b7",
   "metadata": {},
   "source": [
    "The R-squared value of this model is very close to the model in (b), therefore, suggesting that both the models in (b) and (d) explains the observed data similarly and better than the model in (a)."
   ]
  },
  {
   "cell_type": "markdown",
   "id": "d421dc7d",
   "metadata": {},
   "source": [
    "##### e"
   ]
  },
  {
   "cell_type": "markdown",
   "id": "9f65ed4d",
   "metadata": {},
   "source": [
    "No, the variable 𝐿𝑜𝑔𝑀𝑎𝑠𝑠 is not needed in the model in (d) to make good predictions. According to individual T-test, the p-value of the covariate, 𝐿𝑜𝑔𝑀𝑎𝑠𝑠, is > 0.05."
   ]
  },
  {
   "cell_type": "code",
   "execution_count": 31,
   "id": "5994054b",
   "metadata": {},
   "outputs": [
    {
     "data": {
      "image/png": "[encoded data removed]",
      "text/plain": [
       "plot without title"
      ]
     },
     "metadata": {
      "image/png": {
       "height": 420,
       "width": 420
      }
     },
     "output_type": "display_data"
    }
   ],
   "source": [
    "# formal test\n",
    "# LogNassim vs LogMass (numeric)\n",
    "tempdt1 <- cat_df[,c('LogNassim', 'LogMass')]\n",
    "pairs(tempdt1, pch=16, col='blue')"
   ]
  },
  {
   "cell_type": "markdown",
   "id": "37b1843a",
   "metadata": {},
   "source": [
    "The scatter-plot shows large number of outliers at 𝐿𝑜𝑔𝑀𝑎𝑠𝑠 = 0 and also at 𝐿𝑜𝑔𝑀𝑎𝑠𝑠 = 1."
   ]
  },
  {
   "cell_type": "markdown",
   "id": "837caf4a",
   "metadata": {},
   "source": [
    "##### f"
   ]
  },
  {
   "cell_type": "markdown",
   "id": "99b5573b",
   "metadata": {},
   "source": [
    "Yes, we can use all (four) indicators or use three indicators, excluding indicator for Instar==2, for the variable Instar. According to individual T-test, the p-value of the indicator for Instar==2 is slightly > 0.05."
   ]
  },
  {
   "cell_type": "code",
   "execution_count": 40,
   "id": "be14d6bc",
   "metadata": {},
   "outputs": [
    {
     "data": {
      "image/png": "[encoded data removed]",
      "text/plain": [
       "plot without title"
      ]
     },
     "metadata": {
      "image/png": {
       "height": 420,
       "width": 420
      }
     },
     "output_type": "display_data"
    }
   ],
   "source": [
    "# formal test\n",
    "# LogNassim vs Instar (category) \n",
    "tempdt2 <- cat_df[,c('LogNassim', 'Instar')]\n",
    "boxplot(tempdt2$LogNassim~tempdt2$Instar, ylab='Nitrogen Assimilation', xlab='Development Stages')"
   ]
  },
  {
   "cell_type": "markdown",
   "id": "ad3fcdc7",
   "metadata": {},
   "source": [
    "There is a small overlap between the categories, Instar==1 and Instar==2. Other than that, none of the categories, Instar==1-5, overlap with each other."
   ]
  },
  {
   "cell_type": "code",
   "execution_count": null,
   "id": "2710414f",
   "metadata": {},
   "outputs": [],
   "source": []
  }
 ],
 "metadata": {
  "kernelspec": {
   "display_name": "R",
   "language": "R",
   "name": "ir"
  },
  "language_info": {
   "codemirror_mode": "r",
   "file_extension": ".r",
   "mimetype": "text/x-r-source",
   "name": "R",
   "pygments_lexer": "r",
   "version": "4.1.2"
  }
 },
 "nbformat": 4,
 "nbformat_minor": 5
}
