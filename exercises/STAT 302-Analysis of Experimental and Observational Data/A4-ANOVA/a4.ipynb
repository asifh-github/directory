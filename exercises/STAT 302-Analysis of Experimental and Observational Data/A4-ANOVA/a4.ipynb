{
 "cells": [
  {
   "cell_type": "markdown",
   "id": "f96a3da8",
   "metadata": {},
   "source": [
    "#### Q1: 5.6"
   ]
  },
  {
   "cell_type": "markdown",
   "id": "03792100",
   "metadata": {},
   "source": [
    "Which of the following statements is not a condition of the ANOVA model?\n",
    "\n",
    "b. Error terms are all positive."
   ]
  },
  {
   "cell_type": "markdown",
   "id": "a133772f",
   "metadata": {},
   "source": [
    "#### Q2: 5.14"
   ]
  },
  {
   "cell_type": "markdown",
   "id": "bf857f51",
   "metadata": {},
   "source": [
    "##### (a)\n"
   ]
  },
  {
   "cell_type": "markdown",
   "id": "0c62a0fe",
   "metadata": {},
   "source": [
    "One-way ANOVA uses the mean of two or more groups for the computation. The necessary conditions are:\n",
    "\n",
    "i. Error terms of the different groups are independent of each other\n",
    "\n",
    "ii. Error terms of the different groups follow a normal distribution and have constant variance \n",
    "\n",
    "If we satisfy these conditions, we can use ANOVA for statistical analysis of four groups.\n",
    "\n"
   ]
  },
  {
   "cell_type": "markdown",
   "id": "7dc5c61e",
   "metadata": {},
   "source": [
    "##### (b)"
   ]
  },
  {
   "cell_type": "markdown",
   "id": "2447d1fd",
   "metadata": {},
   "source": [
    "Here, the independent response variable is the age of cars. These are numbers and quantitative responses.\n",
    "\n",
    "So, we can use ANOVA."
   ]
  },
  {
   "cell_type": "markdown",
   "id": "bdd7eb98",
   "metadata": {},
   "source": [
    "##### (c)\n"
   ]
  },
  {
   "cell_type": "markdown",
   "id": "3454dc90",
   "metadata": {},
   "source": [
    "One-way ANOVA does not assume that the sample sizes of different groups are equal. Therefore, different sample sizes do not make any difference. It is quite usual for observational studies to have different sample sizes. \n",
    "\n",
    "We can perform ANOVA with unequal sample sizes."
   ]
  },
  {
   "cell_type": "markdown",
   "id": "a381c4ed",
   "metadata": {},
   "source": [
    "##### (d)\n"
   ]
  },
  {
   "cell_type": "markdown",
   "id": "7a9ea876",
   "metadata": {},
   "source": [
    "We can generalise the results to the entire population at the college, but only to a certain level of confidence. By using the F-test statistic (value) from the one-way ANOVA, we can conclude with a 95% confidence level at a significance level of 0.05 if there is a significant difference in the mean of the groups or not (with respect to the age of cars)."
   ]
  },
  {
   "cell_type": "markdown",
   "id": "0e74a75c",
   "metadata": {},
   "source": [
    "#### Q3: 5.16"
   ]
  },
  {
   "cell_type": "markdown",
   "id": "54dbc391",
   "metadata": {},
   "source": [
    "##### (a)\n"
   ]
  },
  {
   "cell_type": "markdown",
   "id": "a0ae8550",
   "metadata": {},
   "source": [
    "The response variable is the amount of energy that the dog has (the average amount of time the dog sleeps).\n",
    "\n",
    "The explanatory variables are the three different groups (category) of the main ingredient in dog food, i.e., salmon, chicken, and beef."
   ]
  },
  {
   "cell_type": "markdown",
   "id": "2ddd3e65",
   "metadata": {},
   "source": [
    "##### (b)"
   ]
  },
  {
   "cell_type": "markdown",
   "id": "7e124da7",
   "metadata": {},
   "source": [
    "This is a randomized experiment because we can determine the cause and effect as the researcher randomly assigns dogs to each of the three groups/categories (cause) and measures the outcome (effect) of the experiment."
   ]
  },
  {
   "cell_type": "markdown",
   "id": "c74b532f",
   "metadata": {},
   "source": [
    "##### (c)"
   ]
  },
  {
   "cell_type": "markdown",
   "id": "d0d75a04",
   "metadata": {},
   "source": [
    "Yes, it is still appropriate because the researcher considered the property of constant variance (homoginity), i.e., the sample population of dogs is selected from the same pupulation group of dogs, \"Border Collies.\"\n",
    "\n",
    "Therefore, we can use ANOVA to conduct the analysis of variance."
   ]
  },
  {
   "cell_type": "markdown",
   "id": "b6145ce1",
   "metadata": {},
   "source": [
    "#### Q4: 5.18"
   ]
  },
  {
   "cell_type": "markdown",
   "id": "9d4cb569",
   "metadata": {},
   "source": [
    "##### (a)"
   ]
  },
  {
   "cell_type": "markdown",
   "id": "89fd34b0",
   "metadata": {},
   "source": [
    "The number of units in this experiment is the number of dogs: 45. \n"
   ]
  },
  {
   "cell_type": "markdown",
   "id": "b105adef",
   "metadata": {},
   "source": [
    "##### (b)"
   ]
  },
  {
   "cell_type": "markdown",
   "id": "1672f5e5",
   "metadata": {},
   "source": [
    "The treatments are the levels of the explanatory variable, the main ingredient of dog food: Salmon, Chicken, and Beef."
   ]
  },
  {
   "cell_type": "markdown",
   "id": "3d93c4fa",
   "metadata": {},
   "source": [
    "##### (c)"
   ]
  },
  {
   "cell_type": "markdown",
   "id": "adda4dba",
   "metadata": {},
   "source": [
    "The researcher should randomly pick 45 \"Border Collies\" dogs from a population of \"Border Collies\" dogs and then assign those samples into three groups (treatments), Salmon, Chicken, and Beef, of equal sizes."
   ]
  },
  {
   "cell_type": "markdown",
   "id": "e67982bc",
   "metadata": {},
   "source": [
    "#### Q5: 5.34 "
   ]
  },
  {
   "cell_type": "markdown",
   "id": "5ca769af",
   "metadata": {},
   "source": [
    "##### (c)"
   ]
  },
  {
   "cell_type": "markdown",
   "id": "ab770dd9",
   "metadata": {},
   "source": [
    "Null hypothesis, $H_{0}$: The (average) amounts of honeydew produced by aphids is the same for different combinations of type of aphid and type of host plant\n",
    "\n",
    "Alternative hypothesis, $H_{1}$: The (average) amounts of honeydew produced by aphids is different for different combinations of type of aphid and type of host plant\n",
    "\n",
    "Here, p-value = 0.000\n",
    "\n",
    "As p-value < 0.05, we can reject the null hypothesis at the 0.05 level of significance .\n",
    "\n",
    "Therefore, we can conclude that the (average) amounts of honeydew produced by aphids is different for different combinations of type of aphid and type of host plant."
   ]
  },
  {
   "cell_type": "markdown",
   "id": "a93bd7ad",
   "metadata": {},
   "source": [
    "#### Q6: 5.40"
   ]
  },
  {
   "cell_type": "code",
   "execution_count": 1,
   "id": "1e778002",
   "metadata": {},
   "outputs": [
    {
     "data": {
      "text/html": [
       "<style>\n",
       ".list-inline {list-style: none; margin:0; padding: 0}\n",
       ".list-inline>li {display: inline-block}\n",
       ".list-inline>li:not(:last-child)::after {content: \"\\00b7\"; padding: 0 .5ex}\n",
       "</style>\n",
       "<ol class=list-inline><li>18</li><li>4</li></ol>\n"
      ],
      "text/latex": [
       "\\begin{enumerate*}\n",
       "\\item 18\n",
       "\\item 4\n",
       "\\end{enumerate*}\n"
      ],
      "text/markdown": [
       "1. 18\n",
       "2. 4\n",
       "\n",
       "\n"
      ],
      "text/plain": [
       "[1] 18  4"
      ]
     },
     "metadata": {},
     "output_type": "display_data"
    },
    {
     "data": {
      "text/html": [
       "<table class=\"dataframe\">\n",
       "<caption>A data.frame: 6 × 4</caption>\n",
       "<thead>\n",
       "\t<tr><th></th><th scope=col>Method</th><th scope=col>FailureLoad</th><th scope=col>Displacement</th><th scope=col>Stiffness</th></tr>\n",
       "\t<tr><th></th><th scope=col>&lt;int&gt;</th><th scope=col>&lt;dbl&gt;</th><th scope=col>&lt;dbl&gt;</th><th scope=col>&lt;dbl&gt;</th></tr>\n",
       "</thead>\n",
       "<tbody>\n",
       "\t<tr><th scope=row>1</th><td>1</td><td> 97.3</td><td>16.9</td><td>8.3</td></tr>\n",
       "\t<tr><th scope=row>2</th><td>1</td><td>106.4</td><td>20.2</td><td>7.2</td></tr>\n",
       "\t<tr><th scope=row>3</th><td>1</td><td>118.2</td><td>20.1</td><td>6.3</td></tr>\n",
       "\t<tr><th scope=row>4</th><td>1</td><td> 99.7</td><td>15.7</td><td>7.3</td></tr>\n",
       "\t<tr><th scope=row>5</th><td>1</td><td>106.5</td><td>13.9</td><td>8.7</td></tr>\n",
       "\t<tr><th scope=row>6</th><td>1</td><td> 84.2</td><td>14.9</td><td>8.7</td></tr>\n",
       "</tbody>\n",
       "</table>\n"
      ],
      "text/latex": [
       "A data.frame: 6 × 4\n",
       "\\begin{tabular}{r|llll}\n",
       "  & Method & FailureLoad & Displacement & Stiffness\\\\\n",
       "  & <int> & <dbl> & <dbl> & <dbl>\\\\\n",
       "\\hline\n",
       "\t1 & 1 &  97.3 & 16.9 & 8.3\\\\\n",
       "\t2 & 1 & 106.4 & 20.2 & 7.2\\\\\n",
       "\t3 & 1 & 118.2 & 20.1 & 6.3\\\\\n",
       "\t4 & 1 &  99.7 & 15.7 & 7.3\\\\\n",
       "\t5 & 1 & 106.5 & 13.9 & 8.7\\\\\n",
       "\t6 & 1 &  84.2 & 14.9 & 8.7\\\\\n",
       "\\end{tabular}\n"
      ],
      "text/markdown": [
       "\n",
       "A data.frame: 6 × 4\n",
       "\n",
       "| <!--/--> | Method &lt;int&gt; | FailureLoad &lt;dbl&gt; | Displacement &lt;dbl&gt; | Stiffness &lt;dbl&gt; |\n",
       "|---|---|---|---|---|\n",
       "| 1 | 1 |  97.3 | 16.9 | 8.3 |\n",
       "| 2 | 1 | 106.4 | 20.2 | 7.2 |\n",
       "| 3 | 1 | 118.2 | 20.1 | 6.3 |\n",
       "| 4 | 1 |  99.7 | 15.7 | 7.3 |\n",
       "| 5 | 1 | 106.5 | 13.9 | 8.7 |\n",
       "| 6 | 1 |  84.2 | 14.9 | 8.7 |\n",
       "\n"
      ],
      "text/plain": [
       "  Method FailureLoad Displacement Stiffness\n",
       "1 1       97.3       16.9         8.3      \n",
       "2 1      106.4       20.2         7.2      \n",
       "3 1      118.2       20.1         6.3      \n",
       "4 1       99.7       15.7         7.3      \n",
       "5 1      106.5       13.9         8.7      \n",
       "6 1       84.2       14.9         8.7      "
      ]
     },
     "metadata": {},
     "output_type": "display_data"
    }
   ],
   "source": [
    "# read csv file\n",
    "menisc_df = read.csv('ex05-40Menisc.csv', header=T)\n",
    "dim(menisc_df)\n",
    "head(menisc_df)\n",
    "# Fit ANOVA model \n",
    "model = aov(Displacement~factor(Method), data=menisc_df)"
   ]
  },
  {
   "cell_type": "markdown",
   "id": "f3dc54a2",
   "metadata": {},
   "source": [
    "##### (a) Hypothesis Testing in ANOVA"
   ]
  },
  {
   "cell_type": "markdown",
   "id": "bcca87f6",
   "metadata": {},
   "source": [
    "Null hypothesis, $H_{0}: \\alpha_1=\\alpha_2=\\alpha_3$\n",
    "\n",
    "Alternative hypothesis, $H_{1}$: atleast one $\\alpha_i \\neq \\alpha_j$ "
   ]
  },
  {
   "cell_type": "markdown",
   "id": "af056027",
   "metadata": {},
   "source": [
    "##### (b) Conditions for ANOVA & F-test "
   ]
  },
  {
   "cell_type": "markdown",
   "id": "1c9425f2",
   "metadata": {},
   "source": [
    "- The experiment is independent and randomized."
   ]
  },
  {
   "cell_type": "code",
   "execution_count": 2,
   "id": "6e7bf25c",
   "metadata": {},
   "outputs": [
    {
     "data": {
      "image/png": "[encoded data removed]",
      "text/plain": [
       "plot without title"
      ]
     },
     "metadata": {
      "image/png": {
       "height": 420,
       "width": 420
      }
     },
     "output_type": "display_data"
    }
   ],
   "source": [
    "# Exploratory Data Analysis (Variability in sample groups) - Boxplot \n",
    "boxplot(Displacement~Method, data=menisc_df, ylab='Knee Displacement', xlab='Treatment Methods')"
   ]
  },
  {
   "cell_type": "markdown",
   "id": "54fdc668",
   "metadata": {},
   "source": [
    "The variability in Method 1 and Method 2 are similar whereas the variability in Method 3 is different than the other two groups.\n",
    "\n",
    "Lets check standard deiviations of each group and compare  𝑆𝑚𝑖𝑛  and  𝑆𝑚𝑎𝑥:"
   ]
  },
  {
   "cell_type": "code",
   "execution_count": 3,
   "id": "dbb21ee9",
   "metadata": {},
   "outputs": [
    {
     "data": {
      "text/html": [
       "2.67"
      ],
      "text/latex": [
       "2.67"
      ],
      "text/markdown": [
       "2.67"
      ],
      "text/plain": [
       "[1] 2.67"
      ]
     },
     "metadata": {},
     "output_type": "display_data"
    }
   ],
   "source": [
    "# SD of Method-1\n",
    "round(sd(menisc_df$Displacement[menisc_df$Method=='1']),2)"
   ]
  },
  {
   "cell_type": "code",
   "execution_count": 4,
   "id": "f7c51371",
   "metadata": {},
   "outputs": [
    {
     "data": {
      "text/html": [
       "2.88"
      ],
      "text/latex": [
       "2.88"
      ],
      "text/markdown": [
       "2.88"
      ],
      "text/plain": [
       "[1] 2.88"
      ]
     },
     "metadata": {},
     "output_type": "display_data"
    }
   ],
   "source": [
    "# SD of Method-2\n",
    "round(sd(menisc_df$Displacement[menisc_df$Method=='2']),2)"
   ]
  },
  {
   "cell_type": "code",
   "execution_count": 5,
   "id": "c13ce298",
   "metadata": {},
   "outputs": [
    {
     "data": {
      "text/html": [
       "4.47"
      ],
      "text/latex": [
       "4.47"
      ],
      "text/markdown": [
       "4.47"
      ],
      "text/plain": [
       "[1] 4.47"
      ]
     },
     "metadata": {},
     "output_type": "display_data"
    }
   ],
   "source": [
    "# SD of Method-3\n",
    "round(sd(menisc_df$Displacement[menisc_df$Method=='3']),2)"
   ]
  },
  {
   "cell_type": "markdown",
   "id": "fbc55385",
   "metadata": {},
   "source": [
    "$S_{max}=4.47$\n",
    "\n",
    "$S_{min}=2.67$\n",
    "\n",
    "$\\frac{S_{max}}{S_{min}} = \\frac{4.47}{2.67} < 2$\n",
    "\n",
    "We can assume that the residuals have the same variability in each group. However, $\\frac{S_{max}}{S_{min}}$ is very close to 2.\n",
    " "
   ]
  },
  {
   "cell_type": "code",
   "execution_count": 6,
   "id": "f995d965",
   "metadata": {},
   "outputs": [
    {
     "data": {
      "image/png": "[encoded data removed]",
      "text/plain": [
       "plot without title"
      ]
     },
     "metadata": {
      "image/png": {
       "height": 420,
       "width": 420
      }
     },
     "output_type": "display_data"
    }
   ],
   "source": [
    "# Variability of residuals in each group (Optional- infers the same info as the box plot above)\n",
    "boxplot(model$residuals~menisc_df$Method, ylab='Residual', xlab='Treamtment Method')"
   ]
  },
  {
   "cell_type": "markdown",
   "id": "539ef659",
   "metadata": {},
   "source": [
    "- Therefore, the assumption that the residuals have the same variability in each group is satisfied.\n",
    "\n",
    "Lets check the normality."
   ]
  },
  {
   "cell_type": "code",
   "execution_count": 7,
   "id": "3db982ca",
   "metadata": {},
   "outputs": [
    {
     "data": {
      "image/png": "[encoded data removed]",
      "text/plain": [
       "Plot with title “Normal Q-Q Plot”"
      ]
     },
     "metadata": {
      "image/png": {
       "height": 420,
       "width": 420
      }
     },
     "output_type": "display_data"
    }
   ],
   "source": [
    "# Normal Probability plot\n",
    "qqnorm(model$residuals, pch=16)\n",
    "qqline(model$residuals, col=\"red\", lwd=3)"
   ]
  },
  {
   "cell_type": "markdown",
   "id": "4da1bc9c",
   "metadata": {},
   "source": [
    "We can see that the residual are normally distributed.\n",
    "\n",
    "- Therefore, the assumption that the residuals are normally distributed is satisfied."
   ]
  },
  {
   "cell_type": "markdown",
   "id": "ef9d71de",
   "metadata": {},
   "source": [
    "Values are taken from the ANOVA table \n",
    "\n",
    "SSGroups = 136.5\n",
    "\n",
    "SSE = 177.0 \n",
    "\n",
    "DF_Groups = 3 - 1 = 2\n",
    "\n",
    "DF_Error = 18 - 3 = 15\n",
    "\n",
    "MSGroups = SSGropus / DF_Groups = 136.5 / 2 = 68.26\n",
    "\n",
    "MSE = SSE / DF_Error = 177.0 / 15 = 11.80\n",
    "\n",
    " F-test: MSGroups / MSE\n",
    "\n",
    "        = 68.26 / 11.80\n",
    "\n",
    "        = 5.784\n",
    "        "
   ]
  },
  {
   "cell_type": "markdown",
   "id": "844cd91e",
   "metadata": {},
   "source": [
    "Thus, we can go ahead with the inference of the experiment."
   ]
  },
  {
   "cell_type": "markdown",
   "id": "bdfad2f0",
   "metadata": {},
   "source": [
    "##### (c) Decision"
   ]
  },
  {
   "cell_type": "code",
   "execution_count": 8,
   "id": "dd2c030f",
   "metadata": {},
   "outputs": [
    {
     "data": {
      "text/plain": [
       "               Df Sum Sq Mean Sq F value Pr(>F)  \n",
       "factor(Method)  2  136.5   68.26   5.784 0.0137 *\n",
       "Residuals      15  177.0   11.80                 \n",
       "---\n",
       "Signif. codes:  0 ‘***’ 0.001 ‘**’ 0.01 ‘*’ 0.05 ‘.’ 0.1 ‘ ’ 1"
      ]
     },
     "metadata": {},
     "output_type": "display_data"
    }
   ],
   "source": [
    "summary(model)"
   ]
  },
  {
   "cell_type": "markdown",
   "id": "80503949",
   "metadata": {},
   "source": [
    "p-value < 0.05\n",
    "\n",
    "Thus, we reject $H_{0}$ at a 0.05 level of significance.\n",
    "\n",
    "We can conclude that there is evidence that displacement differs based on the type of meniscus repair (treatment method), but not strongly (some groups may have same mean)."
   ]
  },
  {
   "cell_type": "markdown",
   "id": "db905fd5",
   "metadata": {},
   "source": [
    "Furthermore, we can identify which differences lead to the rejection."
   ]
  },
  {
   "cell_type": "code",
   "execution_count": 9,
   "id": "adc182f3",
   "metadata": {},
   "outputs": [],
   "source": [
    "#install.packages('agricolae')"
   ]
  },
  {
   "cell_type": "code",
   "execution_count": 10,
   "id": "7370454c",
   "metadata": {},
   "outputs": [
    {
     "data": {
      "text/plain": [
       "$statistics\n",
       "   MSerror Df     Mean       CV  t.value      MSD\n",
       "  11.80244 15 15.26667 22.50307 2.693739 5.342948\n",
       "\n",
       "$parameters\n",
       "        test  p.ajusted         name.t ntr alpha\n",
       "  Fisher-LSD bonferroni factor(Method)   3  0.05\n",
       "\n",
       "$means\n",
       "  Displacement      std r       LCL      UCL  Min  Max    Q25   Q50    Q75\n",
       "1     16.95000 2.666646 6 13.960590 19.93941 13.9 20.2 15.100 16.30 19.300\n",
       "2     11.38333 2.883343 6  8.393924 14.37274  7.9 15.5  9.225 11.35 13.100\n",
       "3     17.46667 4.470198 6 14.477257 20.45608  9.2 22.8 17.625 18.25 18.725\n",
       "\n",
       "$comparison\n",
       "      difference pvalue signif.        LCL        UCL\n",
       "1 - 2  5.5666667 0.0399       *   0.223719 10.9096143\n",
       "1 - 3 -0.5166667 1.0000          -5.859614  4.8262810\n",
       "2 - 3 -6.0833333 0.0235       * -11.426281 -0.7403857\n",
       "\n",
       "$groups\n",
       "NULL\n",
       "\n",
       "attr(,\"class\")\n",
       "[1] \"group\""
      ]
     },
     "metadata": {},
     "output_type": "display_data"
    }
   ],
   "source": [
    "library(agricolae)\n",
    "m = LSD.test(model, \"factor(Method)\", p.adj=\"bonferroni\", group=F)\n",
    "m"
   ]
  },
  {
   "cell_type": "markdown",
   "id": "ab773a9d",
   "metadata": {},
   "source": [
    "With a 95% confidence interval, the mean of Method 1 & Method 2 and the mean of Method 2 & Method 3 do not overlap, which could be the reason for the rejection of the null hypothesis. Otherwise, the mean of Method 1 & Method 3 overlap, which could suggest why the p-value is not extremely small and the evidence is not strong."
   ]
  },
  {
   "cell_type": "code",
   "execution_count": null,
   "id": "095115e6",
   "metadata": {},
   "outputs": [],
   "source": []
  }
 ],
 "metadata": {
  "kernelspec": {
   "display_name": "R",
   "language": "R",
   "name": "ir"
  },
  "language_info": {
   "codemirror_mode": "r",
   "file_extension": ".r",
   "mimetype": "text/x-r-source",
   "name": "R",
   "pygments_lexer": "r",
   "version": "4.1.2"
  }
 },
 "nbformat": 4,
 "nbformat_minor": 5
}
