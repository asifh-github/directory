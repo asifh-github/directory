{
 "cells": [
  {
   "cell_type": "markdown",
   "id": "4c92283e",
   "metadata": {},
   "source": [
    "##### Question 1"
   ]
  },
  {
   "cell_type": "code",
   "execution_count": 1,
   "id": "5a8998af",
   "metadata": {},
   "outputs": [
    {
     "name": "stderr",
     "output_type": "stream",
     "text": [
      "Warning message in system(\"timedatectl\", intern = TRUE):\n",
      "“running command 'timedatectl' had status 1”\n",
      "── \u001b[1mAttaching packages\u001b[22m ─────────────────────────────────────── tidyverse 1.3.2 ──\n",
      "\u001b[32m✔\u001b[39m \u001b[34mggplot2\u001b[39m 3.4.0      \u001b[32m✔\u001b[39m \u001b[34mpurrr  \u001b[39m 1.0.0 \n",
      "\u001b[32m✔\u001b[39m \u001b[34mtibble \u001b[39m 3.1.8      \u001b[32m✔\u001b[39m \u001b[34mdplyr  \u001b[39m 1.0.10\n",
      "\u001b[32m✔\u001b[39m \u001b[34mtidyr  \u001b[39m 1.2.1      \u001b[32m✔\u001b[39m \u001b[34mstringr\u001b[39m 1.5.0 \n",
      "\u001b[32m✔\u001b[39m \u001b[34mreadr  \u001b[39m 2.1.3      \u001b[32m✔\u001b[39m \u001b[34mforcats\u001b[39m 0.5.2 \n",
      "── \u001b[1mConflicts\u001b[22m ────────────────────────────────────────── tidyverse_conflicts() ──\n",
      "\u001b[31m✖\u001b[39m \u001b[34mdplyr\u001b[39m::\u001b[32mfilter()\u001b[39m masks \u001b[34mstats\u001b[39m::filter()\n",
      "\u001b[31m✖\u001b[39m \u001b[34mdplyr\u001b[39m::\u001b[32mlag()\u001b[39m    masks \u001b[34mstats\u001b[39m::lag()\n"
     ]
    }
   ],
   "source": [
    "library(tidyverse)"
   ]
  },
  {
   "cell_type": "code",
   "execution_count": 2,
   "id": "1eec340a",
   "metadata": {},
   "outputs": [
    {
     "data": {
      "text/html": [
       "<style>\n",
       ".list-inline {list-style: none; margin:0; padding: 0}\n",
       ".list-inline>li {display: inline-block}\n",
       ".list-inline>li:not(:last-child)::after {content: \"\\00b7\"; padding: 0 .5ex}\n",
       "</style>\n",
       "<ol class=list-inline><li>'density'</li><li>'rate'</li></ol>\n"
      ],
      "text/latex": [
       "\\begin{enumerate*}\n",
       "\\item 'density'\n",
       "\\item 'rate'\n",
       "\\end{enumerate*}\n"
      ],
      "text/markdown": [
       "1. 'density'\n",
       "2. 'rate'\n",
       "\n",
       "\n"
      ],
      "text/plain": [
       "[1] \"density\" \"rate\"   "
      ]
     },
     "metadata": {},
     "output_type": "display_data"
    },
    {
     "data": {
      "text/html": [
       "<style>\n",
       ".list-inline {list-style: none; margin:0; padding: 0}\n",
       ".list-inline>li {display: inline-block}\n",
       ".list-inline>li:not(:last-child)::after {content: \"\\00b7\"; padding: 0 .5ex}\n",
       "</style>\n",
       "<ol class=list-inline><li>80</li><li>2</li></ol>\n"
      ],
      "text/latex": [
       "\\begin{enumerate*}\n",
       "\\item 80\n",
       "\\item 2\n",
       "\\end{enumerate*}\n"
      ],
      "text/markdown": [
       "1. 80\n",
       "2. 2\n",
       "\n",
       "\n"
      ],
      "text/plain": [
       "[1] 80  2"
      ]
     },
     "metadata": {},
     "output_type": "display_data"
    }
   ],
   "source": [
    "# read csv file into df \n",
    "data_q1 = read.csv(\"question1.csv\")\n",
    "names(data_q1)\n",
    "dim(data_q1)"
   ]
  },
  {
   "cell_type": "markdown",
   "id": "a4a2df2d",
   "metadata": {},
   "source": [
    "##### a. Plot data and comment on the results"
   ]
  },
  {
   "cell_type": "code",
   "execution_count": 3,
   "id": "7fc9bb8e",
   "metadata": {
    "scrolled": false
   },
   "outputs": [
    {
     "data": {
      "image/png": "[encoded data removed]",
      "text/plain": [
       "Plot with title “Boxplots for Two Levels of Density”"
      ]
     },
     "metadata": {
      "image/png": {
       "height": 420,
       "width": 420
      }
     },
     "output_type": "display_data"
    }
   ],
   "source": [
    "# use a boxplot\n",
    "boxplot(rate~density, data=data_q1, main=\"Boxplots for Two Levels of Density\")"
   ]
  },
  {
   "cell_type": "markdown",
   "id": "d885bed5",
   "metadata": {},
   "source": [
    "Comments: Boxplots tells us about the spread of the data. Here, it tells about the spread of values in the two groups. We can say that, the variabilty in group \"High\" is higher than the variability in group \"Low\". Furthermore, values in the two groups does not have any overlap between them. The median absorbtion rate at high density is larger than the medain absorbtion rate at low density."
   ]
  },
  {
   "cell_type": "markdown",
   "id": "5c169f22",
   "metadata": {},
   "source": [
    "##### b. Create a model for this data"
   ]
  },
  {
   "cell_type": "markdown",
   "id": "a2790da5",
   "metadata": {},
   "source": [
    "Model: $y_{ij} = \\mu_{i} + \\epsilon_{ij}$, \n",
    "\n",
    "where:\n",
    "- $y_{ij}$ is the absorption rate for the ith level of density and the jth observation\n",
    "- $\\mu_{i}$ is the mean absorption rate of the ith level of density; i = {High, Low}\n",
    "- $\\epsilon_{ij}$ is the error term, assumed to be independent and normally distributed with mean zero and variance σ^2."
   ]
  },
  {
   "cell_type": "code",
   "execution_count": 4,
   "id": "f548cbc8",
   "metadata": {},
   "outputs": [
    {
     "data": {
      "text/plain": [
       "\n",
       "Call:\n",
       "lm(formula = rate ~ density, data = data_q1)\n",
       "\n",
       "Residuals:\n",
       "     Min       1Q   Median       3Q      Max \n",
       "-1.12848 -0.42659  0.00254  0.37319  1.14582 \n",
       "\n",
       "Coefficients:\n",
       "            Estimate Std. Error t value Pr(>|t|)    \n",
       "(Intercept)  7.22718    0.09289   77.80   <2e-16 ***\n",
       "densityLow  -3.01327    0.13137  -22.94   <2e-16 ***\n",
       "---\n",
       "Signif. codes:  0 ‘***’ 0.001 ‘**’ 0.01 ‘*’ 0.05 ‘.’ 0.1 ‘ ’ 1\n",
       "\n",
       "Residual standard error: 0.5875 on 78 degrees of freedom\n",
       "Multiple R-squared:  0.8709,\tAdjusted R-squared:  0.8692 \n",
       "F-statistic: 526.1 on 1 and 78 DF,  p-value: < 2.2e-16\n"
      ]
     },
     "metadata": {},
     "output_type": "display_data"
    }
   ],
   "source": [
    "# use linear model\n",
    "model_q1 = lm(rate~density, data=data_q1)\n",
    "summary(model_q1)"
   ]
  },
  {
   "cell_type": "code",
   "execution_count": 5,
   "id": "fc8b5e00",
   "metadata": {},
   "outputs": [],
   "source": [
    "# if assumptions need to be checked \n",
    "# plot(model_q1)"
   ]
  },
  {
   "cell_type": "markdown",
   "id": "fe76bc4d",
   "metadata": {},
   "source": [
    "##### c. Power Analysis"
   ]
  },
  {
   "cell_type": "markdown",
   "id": "2aad1469",
   "metadata": {},
   "source": [
    "- the number of\tobservations for each factor level combination is the same (a nicely balanced design)\n",
    "- the mean at the low and high level of\tthe factor differ by 1 (effect size) ratio unit or more\n",
    "- can be detected 80% of the time for each factor (or more) with significance level 0.05"
   ]
  },
  {
   "cell_type": "code",
   "execution_count": 6,
   "id": "b8712a54",
   "metadata": {},
   "outputs": [],
   "source": [
    "library(pwr)"
   ]
  },
  {
   "cell_type": "code",
   "execution_count": 7,
   "id": "4610c91b",
   "metadata": {},
   "outputs": [
    {
     "data": {
      "text/plain": [
       "\n",
       "     Balanced one-way analysis of variance power calculation \n",
       "\n",
       "              k = 2\n",
       "              n = 5.089995\n",
       "              f = 1\n",
       "      sig.level = 0.05\n",
       "          power = 0.8\n",
       "\n",
       "NOTE: n is number in each group\n"
      ]
     },
     "metadata": {},
     "output_type": "display_data"
    }
   ],
   "source": [
    "# using the effect size\n",
    "p_2 = pwr.anova.test(k=2, f=1, power=0.80, sig.level=0.05)\n",
    "p_2"
   ]
  },
  {
   "cell_type": "code",
   "execution_count": 8,
   "id": "161163da",
   "metadata": {},
   "outputs": [
    {
     "data": {
      "text/plain": [
       "\n",
       "     Balanced one-way analysis of variance power calculation \n",
       "\n",
       "         groups = 2\n",
       "              n = 5.704176\n",
       "    between.var = 4.539891\n",
       "     within.var = 2.639488\n",
       "      sig.level = 0.05\n",
       "          power = 0.8\n",
       "\n",
       "NOTE: n is number in each group\n"
      ]
     },
     "metadata": {},
     "output_type": "display_data"
    }
   ],
   "source": [
    "# using the variance between and within groups (experimental try)\n",
    "groupmeans = c(mean(data_q1$rate[data_q1$density == 'Low']), mean(data_q1$rate[data_q1$density == 'High']))\n",
    "p_1 = power.anova.test(groups=length(groupmeans), \n",
    "                    between.var=var(groupmeans), within.var=var(data_q1$rate),\n",
    "                    power=0.80, sig.level=0.05, n=NULL)\n",
    "p_1"
   ]
  },
  {
   "cell_type": "markdown",
   "id": "64158c3d",
   "metadata": {},
   "source": [
    "Therefore, 6 observations are required for each factor level. Total: 6x2 = 12 for 2 levels."
   ]
  },
  {
   "cell_type": "markdown",
   "id": "b5bcc050",
   "metadata": {},
   "source": [
    "#### Question 2"
   ]
  },
  {
   "cell_type": "code",
   "execution_count": 9,
   "id": "ce8cbc4a",
   "metadata": {},
   "outputs": [
    {
     "data": {
      "text/html": [
       "<style>\n",
       ".list-inline {list-style: none; margin:0; padding: 0}\n",
       ".list-inline>li {display: inline-block}\n",
       ".list-inline>li:not(:last-child)::after {content: \"\\00b7\"; padding: 0 .5ex}\n",
       "</style>\n",
       "<ol class=list-inline><li>'X'</li><li>'ethanol'</li><li>'time'</li></ol>\n"
      ],
      "text/latex": [
       "\\begin{enumerate*}\n",
       "\\item 'X'\n",
       "\\item 'ethanol'\n",
       "\\item 'time'\n",
       "\\end{enumerate*}\n"
      ],
      "text/markdown": [
       "1. 'X'\n",
       "2. 'ethanol'\n",
       "3. 'time'\n",
       "\n",
       "\n"
      ],
      "text/plain": [
       "[1] \"X\"       \"ethanol\" \"time\"   "
      ]
     },
     "metadata": {},
     "output_type": "display_data"
    },
    {
     "data": {
      "text/html": [
       "<style>\n",
       ".list-inline {list-style: none; margin:0; padding: 0}\n",
       ".list-inline>li {display: inline-block}\n",
       ".list-inline>li:not(:last-child)::after {content: \"\\00b7\"; padding: 0 .5ex}\n",
       "</style>\n",
       "<ol class=list-inline><li>36</li><li>3</li></ol>\n"
      ],
      "text/latex": [
       "\\begin{enumerate*}\n",
       "\\item 36\n",
       "\\item 3\n",
       "\\end{enumerate*}\n"
      ],
      "text/markdown": [
       "1. 36\n",
       "2. 3\n",
       "\n",
       "\n"
      ],
      "text/plain": [
       "[1] 36  3"
      ]
     },
     "metadata": {},
     "output_type": "display_data"
    },
    {
     "data": {
      "text/html": [
       "<style>\n",
       ".list-inline {list-style: none; margin:0; padding: 0}\n",
       ".list-inline>li {display: inline-block}\n",
       ".list-inline>li:not(:last-child)::after {content: \"\\00b7\"; padding: 0 .5ex}\n",
       "</style>\n",
       "<ol class=list-inline><li>'ethanol'</li><li>'time'</li></ol>\n"
      ],
      "text/latex": [
       "\\begin{enumerate*}\n",
       "\\item 'ethanol'\n",
       "\\item 'time'\n",
       "\\end{enumerate*}\n"
      ],
      "text/markdown": [
       "1. 'ethanol'\n",
       "2. 'time'\n",
       "\n",
       "\n"
      ],
      "text/plain": [
       "[1] \"ethanol\" \"time\"   "
      ]
     },
     "metadata": {},
     "output_type": "display_data"
    },
    {
     "data": {
      "text/html": [
       "<style>\n",
       ".list-inline {list-style: none; margin:0; padding: 0}\n",
       ".list-inline>li {display: inline-block}\n",
       ".list-inline>li:not(:last-child)::after {content: \"\\00b7\"; padding: 0 .5ex}\n",
       "</style>\n",
       "<ol class=list-inline><li>36</li><li>2</li></ol>\n"
      ],
      "text/latex": [
       "\\begin{enumerate*}\n",
       "\\item 36\n",
       "\\item 2\n",
       "\\end{enumerate*}\n"
      ],
      "text/markdown": [
       "1. 36\n",
       "2. 2\n",
       "\n",
       "\n"
      ],
      "text/plain": [
       "[1] 36  2"
      ]
     },
     "metadata": {},
     "output_type": "display_data"
    }
   ],
   "source": [
    "# read csv file into df \n",
    "data_q2 = read.csv(\"sleep.csv\")\n",
    "names(data_q2)\n",
    "dim(data_q2)\n",
    "# drop column X\n",
    "data_q2 = data_q2[c(2,3)]\n",
    "names(data_q2)\n",
    "dim(data_q2)"
   ]
  },
  {
   "cell_type": "markdown",
   "id": "bc60de74",
   "metadata": {},
   "source": [
    "##### a. Plot data and comment on the results"
   ]
  },
  {
   "cell_type": "code",
   "execution_count": 10,
   "id": "71da826a",
   "metadata": {},
   "outputs": [
    {
     "data": {
      "image/png": "[encoded data removed]",
      "text/plain": [
       "Plot with title “Boxplots for Three Levels of Ethanol”"
      ]
     },
     "metadata": {
      "image/png": {
       "height": 420,
       "width": 420
      }
     },
     "output_type": "display_data"
    }
   ],
   "source": [
    "# use a boxplot\n",
    "boxplot(time~ethanol, data=data_q2, main=\"Boxplots for Three Levels of Ethanol\")"
   ]
  },
  {
   "cell_type": "markdown",
   "id": "9f62881e",
   "metadata": {},
   "source": [
    "Comment: We can see that the median sleep time is longest for the rats that did not receive any ethanol, and shortest for the rats that received 4g of ethanol. In addition, the rats given 4g of ethanol appear to have more variability in their sleep times than the other two levels."
   ]
  },
  {
   "cell_type": "markdown",
   "id": "7e4982da",
   "metadata": {},
   "source": [
    "##### b. State the Null and Alternate hypotheses "
   ]
  },
  {
   "cell_type": "markdown",
   "id": "7d2055e7",
   "metadata": {},
   "source": [
    "Null hypothesis: The level of ethanol does not have a significant effect on sleep time. Given by,\n",
    "$H_0: \\mu_{0g} = \\mu_{2g} = \\mu_{4g}$\n",
    "\n",
    "Alternate hypothesis: The level of ethanol does have a significant effect on sleep time. Given by,\n",
    "$H_1$ : Not all $\\mu_{i}$ are equal, where $i \\in \\{0g, 2g, 4g\\}$"
   ]
  },
  {
   "cell_type": "markdown",
   "id": "cb011b96",
   "metadata": {},
   "source": [
    "##### c. Test the hypotheses"
   ]
  },
  {
   "cell_type": "code",
   "execution_count": 11,
   "id": "79e97320",
   "metadata": {},
   "outputs": [
    {
     "data": {
      "text/plain": [
       "            Df Sum Sq Mean Sq F value Pr(>F)    \n",
       "ethanol      2  12048    6024    6501 <2e-16 ***\n",
       "Residuals   33     31       1                   \n",
       "---\n",
       "Signif. codes:  0 ‘***’ 0.001 ‘**’ 0.01 ‘*’ 0.05 ‘.’ 0.1 ‘ ’ 1"
      ]
     },
     "metadata": {},
     "output_type": "display_data"
    }
   ],
   "source": [
    "# use anova \n",
    "model_q2 = aov(time~ethanol, data=data_q2)\n",
    "summary(model_q2)\n",
    "# for normality, independence, and eq-variance check\n",
    "#plot(model_q2)"
   ]
  },
  {
   "cell_type": "markdown",
   "id": "bfa8c271",
   "metadata": {},
   "source": [
    "<u>Test Statistic</u>\n",
    "\n",
    "F-value: 6501\n",
    "\n",
    "P-value: 0 < 0.05\n",
    "\n",
    "Conclusion: The p-value is very small, which gives evidence against the null hypothesis at the 0.05 level of confidence. Thus, we can reject the null hypothesis and conclude that the level of ethanol does have a significant effect on sleep time."
   ]
  },
  {
   "cell_type": "markdown",
   "id": "cb5a6893",
   "metadata": {},
   "source": [
    "##### d. Explain why rats died at higher doses of ethanol\n"
   ]
  },
  {
   "cell_type": "markdown",
   "id": "03b2c095",
   "metadata": {},
   "source": [
    "If more rats died at a higher dose of ethanol, this would suggest that a higher level of ethanol is related to a higher mortality rate. This presents a few problems with the analysis and interpretation of the experiment. Firstly, the mortality rate influences sleep time (confounding effect). Suppose rats that received a higher level of ethanol often died. Then, it would be difficult to identify if the observed difference in sleep times were due to the higher level of ethanol or the fact that some rats died before the time measurements were taken. Secondly, there is a chance of ending up with an uneven sample size across different treatment groups. And lastly, it raises ethical concerns because a higher level of ethanol is deadly to rats.\n",
    "\n",
    "Therefore, to ensure that the experiment produces reliable results and maintains ethical standards, we need to monitor the mortality rate of rats and adjust the level of ethanol given to them (to a lower amount)."
   ]
  },
  {
   "cell_type": "markdown",
   "id": "61f71fe8",
   "metadata": {},
   "source": [
    "##### e. Explain how would you modify the experiment to account for differences in the body mass of rats"
   ]
  },
  {
   "cell_type": "markdown",
   "id": "3f8003f6",
   "metadata": {},
   "source": [
    "To account for differences in body mass, we can use a randomized complete block design. For this, we will have to divide rats into groups or blocks based on their body mass. Then, within each block, we will randomly assign one out of the three treatments to rats, i.e., the level of ethanol: 0g, 2g, or 4g. This method will allow us to make a more precise estimation of the effect of ethanol on sleep time because it will account for the effect of differences in body mass for each block. Thus, the power of the experiment will increase due to accounting for individual differences in body mass, and as a result, the variability in the observed sleep time (response variable) will decrease."
   ]
  },
  {
   "cell_type": "markdown",
   "id": "7189b915",
   "metadata": {},
   "source": [
    "#### Question 3"
   ]
  },
  {
   "cell_type": "markdown",
   "id": "bdd33ee9",
   "metadata": {},
   "source": [
    "##### a. Explain what is the problem with critics report"
   ]
  },
  {
   "cell_type": "markdown",
   "id": "a448f0eb",
   "metadata": {},
   "source": [
    "Observational data does not reveal the cause-and-effect relationship between the clear cutting of trees and the decreased production of salmon. Other factors may be responsible for the observed difference, making it difficult to conclude that the decreased production of salmon is caused by clear cutting of trees alone."
   ]
  },
  {
   "cell_type": "markdown",
   "id": "b78bdb37",
   "metadata": {},
   "source": [
    "##### b. Parameters"
   ]
  },
  {
   "cell_type": "markdown",
   "id": "4aa9f239",
   "metadata": {},
   "source": [
    "i. Factor of interest:  The harvesting method (clear cutting or selective harvesting)\n",
    "\n",
    "\n",
    "ii. Factor levels: Clear cutting and selective harvesting; two levels\n",
    "\n",
    "\n",
    "iii. Experimental unit: The locations where the harvesting takes place\n",
    "\n",
    "\n",
    "iv. Observational unit: The streams within each harvesting location\n",
    "\n",
    "\n",
    "v. Response variable: The total amount of salmon (kg/km) in each harvesting location"
   ]
  },
  {
   "cell_type": "markdown",
   "id": "3430c29a",
   "metadata": {},
   "source": [
    "##### c. Design an new experiment"
   ]
  },
  {
   "cell_type": "markdown",
   "id": "d3b37e21",
   "metadata": {},
   "source": [
    "For a new experiment, we can use a randomized complete block design. We will divide the harvesting locations with two different types of soil into two groups or blocks. Since there are 12 locations, with 6 having silty soil and the other 6 having sandy soil, we will have two blocks, each containing 6 locations. Then, within each block, we will randomly assign locations to each of the harvesting methods, i.e., clear cutting or selective harvesting. After the harvesting is complete, we will measure the total amount of salmon (kg/km) in the 10 streams within each location. This method will ensure that the effect of the type of soil is considered when accounting for the differences in salmon production.\n",
    "\n",
    "Note: This experimental design does not account for the effect that individual streams have on the production of salmon."
   ]
  },
  {
   "cell_type": "markdown",
   "id": "4e22c2fd",
   "metadata": {},
   "source": [
    "Experiment layout: Treatments (2 levels) are chosen randomly"
   ]
  },
  {
   "cell_type": "markdown",
   "id": "b7f2070a",
   "metadata": {},
   "source": [
    "| Location | Soil Type/Block | Treatment |\n",
    "| --- | --- | --- |\n",
    "| 1| Sandy | Clear |\n",
    "| 2| Sandy | Selective | \n",
    "| 3| Sandy | Clear | \n",
    "| 4| Sandy  | Selective | \n",
    "| 5| Sandy  | Clear | \n",
    "| 6| Sandy  | Selective \n",
    "| 7| Silty | Clear | \n",
    "| 8| Silty | Selective |\n",
    "| 9| Silty | Clear |\n",
    "| 10| Silty | Selective | \n",
    "| 11| Silty | Clear |\n",
    "| 12| Silty | Selective | "
   ]
  }
 ],
 "metadata": {
  "kernelspec": {
   "display_name": "R",
   "language": "R",
   "name": "ir"
  },
  "language_info": {
   "codemirror_mode": "r",
   "file_extension": ".r",
   "mimetype": "text/x-r-source",
   "name": "R",
   "pygments_lexer": "r",
   "version": "4.2.2"
  }
 },
 "nbformat": 4,
 "nbformat_minor": 5
}
