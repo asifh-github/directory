{
 "cells": [
  {
   "cell_type": "code",
   "execution_count": 1,
   "id": "1df3312d",
   "metadata": {},
   "outputs": [
    {
     "name": "stderr",
     "output_type": "stream",
     "text": [
      "Warning message in system(\"timedatectl\", intern = TRUE):\n",
      "“running command 'timedatectl' had status 1”\n",
      "── \u001b[1mAttaching packages\u001b[22m ─────────────────────────────────────── tidyverse 1.3.2 ──\n",
      "\u001b[32m✔\u001b[39m \u001b[34mggplot2\u001b[39m 3.4.0      \u001b[32m✔\u001b[39m \u001b[34mpurrr  \u001b[39m 1.0.0 \n",
      "\u001b[32m✔\u001b[39m \u001b[34mtibble \u001b[39m 3.1.8      \u001b[32m✔\u001b[39m \u001b[34mdplyr  \u001b[39m 1.0.10\n",
      "\u001b[32m✔\u001b[39m \u001b[34mtidyr  \u001b[39m 1.2.1      \u001b[32m✔\u001b[39m \u001b[34mstringr\u001b[39m 1.5.0 \n",
      "\u001b[32m✔\u001b[39m \u001b[34mreadr  \u001b[39m 2.1.3      \u001b[32m✔\u001b[39m \u001b[34mforcats\u001b[39m 0.5.2 \n",
      "── \u001b[1mConflicts\u001b[22m ────────────────────────────────────────── tidyverse_conflicts() ──\n",
      "\u001b[31m✖\u001b[39m \u001b[34mdplyr\u001b[39m::\u001b[32mfilter()\u001b[39m masks \u001b[34mstats\u001b[39m::filter()\n",
      "\u001b[31m✖\u001b[39m \u001b[34mdplyr\u001b[39m::\u001b[32mlag()\u001b[39m    masks \u001b[34mstats\u001b[39m::lag()\n"
     ]
    }
   ],
   "source": [
    "library(tidyverse)"
   ]
  },
  {
   "cell_type": "markdown",
   "id": "a6dffb01",
   "metadata": {},
   "source": [
    "#### Question 1"
   ]
  },
  {
   "cell_type": "markdown",
   "id": "bedccd65",
   "metadata": {},
   "source": [
    "##### Part a. State null and alternate hypotheses"
   ]
  },
  {
   "cell_type": "markdown",
   "id": "45f8acce",
   "metadata": {},
   "source": [
    "$H_0$: There is no relationship between gender and the decision to consider energy efficiency labeling when purchasing large home appliances\n",
    "\n",
    "\n",
    "$H_1$: There is a relationship between gender and the decision to consider energy efficiency labeling when purchasing large home appliances"
   ]
  },
  {
   "cell_type": "markdown",
   "id": "8ee14e67",
   "metadata": {},
   "source": [
    "##### Part b. Compute test statistic"
   ]
  },
  {
   "cell_type": "code",
   "execution_count": 2,
   "id": "449484aa",
   "metadata": {},
   "outputs": [
    {
     "data": {
      "text/plain": [
       "      Yes  No Undecided\n",
       "Men   115  32         8\n",
       "Women 135  16         8"
      ]
     },
     "metadata": {},
     "output_type": "display_data"
    },
    {
     "data": {
      "text/plain": [
       "\n",
       "\tPearson's Chi-squared test\n",
       "\n",
       "data:  h_app\n",
       "X-squared = 6.8835, df = 2, p-value = 0.03201\n"
      ]
     },
     "metadata": {},
     "output_type": "display_data"
    }
   ],
   "source": [
    "# create a table from data\n",
    "h_app <- matrix(c(115, 32, 8, 135, 16, 8), ncol=3, byrow=TRUE)\n",
    "colnames(h_app) <- c(\"Yes\",\"No\", \"Undecided\")\n",
    "rownames(h_app) <- c(\"Men\",\"Women\")\n",
    "h_app <- as.table(h_app)\n",
    "h_app\n",
    "# perform chi-squared test\n",
    "chisq.test(h_app)"
   ]
  },
  {
   "cell_type": "markdown",
   "id": "1a82a1a6",
   "metadata": {},
   "source": [
    "Test statistic: $X^2$ = $6.8835$"
   ]
  },
  {
   "cell_type": "markdown",
   "id": "4733683e",
   "metadata": {},
   "source": [
    "##### Part c. Compute p-value"
   ]
  },
  {
   "cell_type": "markdown",
   "id": "a61d7988",
   "metadata": {},
   "source": [
    "p-value = $0.03201$"
   ]
  },
  {
   "cell_type": "markdown",
   "id": "7f8c922e",
   "metadata": {},
   "source": [
    "##### Part d. Conclusion using  significance level of $\\alpha$ = 0.05"
   ]
  },
  {
   "cell_type": "markdown",
   "id": "72272f1a",
   "metadata": {},
   "source": [
    "Since the p-value is less than $\\alpha$ = 0.05, we reject the null hypothesis and conclude that the data give evidence that there is a relationship between gender and the decision to consider energy efficiency labeling when purchasing large home appliances."
   ]
  },
  {
   "cell_type": "markdown",
   "id": "8a7d0c54",
   "metadata": {},
   "source": [
    "#### Question 2"
   ]
  },
  {
   "cell_type": "markdown",
   "id": "e8d02f37",
   "metadata": {},
   "source": [
    "Let's denote the proportion of Canadian workers using a certain type of transportation by $p$, and the proportion of American workers using that same type of transportation by $p_0$. Then, our hypotheses are:\n",
    "\n",
    "$H_0$: The proportion of Canadian workers using a certain type of transportation is equal to the proportion of American workers using that same type of transportation, given by: \n",
    "\n",
    "$$p_1 = p_{10}, ..., p_6 = p_{60}$$\n",
    "\n",
    "$H_1$: The proportion of Canadian workers using a certain type of transportation is different from the proportion of American workers using that same type of transportation in at least one transportation category, given by: \n",
    "\n",
    "$$ \\text{At least one  } p_1 \\neq p_{10}, ..., p_6 \\neq p_{60}$$\n"
   ]
  },
  {
   "cell_type": "code",
   "execution_count": 3,
   "id": "ac8a24a4",
   "metadata": {},
   "outputs": [
    {
     "data": {
      "text/plain": [
       "\n",
       "\tChi-squared test for given probabilities\n",
       "\n",
       "data:  ca_counts\n",
       "X-squared = 41.269, df = 5, p-value = 8.278e-08\n"
      ]
     },
     "metadata": {},
     "output_type": "display_data"
    }
   ],
   "source": [
    "# create two vectors for data, length is 6\n",
    "ca_counts = c(320, 100, 30, 20, 10, 20)\n",
    "usa_proportions = c(.757, .122, .047, .029, .012, .033)\n",
    "chisq.test(ca_counts, p=usa_proportions)"
   ]
  },
  {
   "cell_type": "markdown",
   "id": "98f4a368",
   "metadata": {},
   "source": [
    "Test statistic: $X^2$ = $41.269$\n",
    "\n",
    "p-value = $8.278$ x $10^{-8}$"
   ]
  },
  {
   "cell_type": "markdown",
   "id": "31bdffa4",
   "metadata": {},
   "source": [
    "Conclusion: Since the p-value is less than $\\alpha$ = 0.01, we reject the null hypothesis and conclude that the data give evidence that the proportion of Canadian workers using a certain type of transportation is different from the proportion of American workers using that same type of transportation in at least one transportation category."
   ]
  },
  {
   "cell_type": "markdown",
   "id": "28c74cd2",
   "metadata": {},
   "source": [
    "#### Question 3"
   ]
  },
  {
   "cell_type": "code",
   "execution_count": 4,
   "id": "6098f5f0",
   "metadata": {},
   "outputs": [
    {
     "data": {
      "text/html": [
       "<table class=\"dataframe\">\n",
       "<caption>A data.frame: 16 × 4</caption>\n",
       "<thead>\n",
       "\t<tr><th scope=col>Observation</th><th scope=col>Greenhouse</th><th scope=col>Humidity.Level</th><th scope=col>Plant</th></tr>\n",
       "\t<tr><th scope=col>&lt;int&gt;</th><th scope=col>&lt;int&gt;</th><th scope=col>&lt;chr&gt;</th><th scope=col>&lt;chr&gt;</th></tr>\n",
       "</thead>\n",
       "<tbody>\n",
       "\t<tr><td> 1</td><td>1</td><td>H</td><td>Northern Light</td></tr>\n",
       "\t<tr><td> 2</td><td>1</td><td>H</td><td>Northern Light</td></tr>\n",
       "\t<tr><td> 3</td><td>1</td><td>H</td><td>B52           </td></tr>\n",
       "\t<tr><td> 4</td><td>1</td><td>H</td><td>B52           </td></tr>\n",
       "\t<tr><td> 5</td><td>2</td><td>H</td><td>Northern Light</td></tr>\n",
       "\t<tr><td> 6</td><td>2</td><td>H</td><td>Northern Light</td></tr>\n",
       "\t<tr><td> 7</td><td>2</td><td>H</td><td>B52           </td></tr>\n",
       "\t<tr><td> 8</td><td>2</td><td>H</td><td>B52           </td></tr>\n",
       "\t<tr><td> 9</td><td>3</td><td>L</td><td>Northern Light</td></tr>\n",
       "\t<tr><td>10</td><td>3</td><td>L</td><td>Northern Light</td></tr>\n",
       "\t<tr><td>11</td><td>3</td><td>L</td><td>B52           </td></tr>\n",
       "\t<tr><td>12</td><td>3</td><td>L</td><td>B52           </td></tr>\n",
       "\t<tr><td>13</td><td>4</td><td>L</td><td>Northern Light</td></tr>\n",
       "\t<tr><td>14</td><td>4</td><td>L</td><td>Northern Light</td></tr>\n",
       "\t<tr><td>15</td><td>4</td><td>L</td><td>B52           </td></tr>\n",
       "\t<tr><td>16</td><td>4</td><td>L</td><td>B52           </td></tr>\n",
       "</tbody>\n",
       "</table>\n"
      ],
      "text/latex": [
       "A data.frame: 16 × 4\n",
       "\\begin{tabular}{llll}\n",
       " Observation & Greenhouse & Humidity.Level & Plant\\\\\n",
       " <int> & <int> & <chr> & <chr>\\\\\n",
       "\\hline\n",
       "\t  1 & 1 & H & Northern Light\\\\\n",
       "\t  2 & 1 & H & Northern Light\\\\\n",
       "\t  3 & 1 & H & B52           \\\\\n",
       "\t  4 & 1 & H & B52           \\\\\n",
       "\t  5 & 2 & H & Northern Light\\\\\n",
       "\t  6 & 2 & H & Northern Light\\\\\n",
       "\t  7 & 2 & H & B52           \\\\\n",
       "\t  8 & 2 & H & B52           \\\\\n",
       "\t  9 & 3 & L & Northern Light\\\\\n",
       "\t 10 & 3 & L & Northern Light\\\\\n",
       "\t 11 & 3 & L & B52           \\\\\n",
       "\t 12 & 3 & L & B52           \\\\\n",
       "\t 13 & 4 & L & Northern Light\\\\\n",
       "\t 14 & 4 & L & Northern Light\\\\\n",
       "\t 15 & 4 & L & B52           \\\\\n",
       "\t 16 & 4 & L & B52           \\\\\n",
       "\\end{tabular}\n"
      ],
      "text/markdown": [
       "\n",
       "A data.frame: 16 × 4\n",
       "\n",
       "| Observation &lt;int&gt; | Greenhouse &lt;int&gt; | Humidity.Level &lt;chr&gt; | Plant &lt;chr&gt; |\n",
       "|---|---|---|---|\n",
       "|  1 | 1 | H | Northern Light |\n",
       "|  2 | 1 | H | Northern Light |\n",
       "|  3 | 1 | H | B52            |\n",
       "|  4 | 1 | H | B52            |\n",
       "|  5 | 2 | H | Northern Light |\n",
       "|  6 | 2 | H | Northern Light |\n",
       "|  7 | 2 | H | B52            |\n",
       "|  8 | 2 | H | B52            |\n",
       "|  9 | 3 | L | Northern Light |\n",
       "| 10 | 3 | L | Northern Light |\n",
       "| 11 | 3 | L | B52            |\n",
       "| 12 | 3 | L | B52            |\n",
       "| 13 | 4 | L | Northern Light |\n",
       "| 14 | 4 | L | Northern Light |\n",
       "| 15 | 4 | L | B52            |\n",
       "| 16 | 4 | L | B52            |\n",
       "\n"
      ],
      "text/plain": [
       "   Observation Greenhouse Humidity.Level Plant         \n",
       "1   1          1          H              Northern Light\n",
       "2   2          1          H              Northern Light\n",
       "3   3          1          H              B52           \n",
       "4   4          1          H              B52           \n",
       "5   5          2          H              Northern Light\n",
       "6   6          2          H              Northern Light\n",
       "7   7          2          H              B52           \n",
       "8   8          2          H              B52           \n",
       "9   9          3          L              Northern Light\n",
       "10 10          3          L              Northern Light\n",
       "11 11          3          L              B52           \n",
       "12 12          3          L              B52           \n",
       "13 13          4          L              Northern Light\n",
       "14 14          4          L              Northern Light\n",
       "15 15          4          L              B52           \n",
       "16 16          4          L              B52           "
      ]
     },
     "metadata": {},
     "output_type": "display_data"
    }
   ],
   "source": [
    "# set counter \n",
    "counter = 0\n",
    "# set iteration\n",
    "iter = 1000\n",
    "# read the pre-made csv \n",
    "gh = read.csv(\"q3.csv\", header=TRUE, sep=\",\")\n",
    "gh"
   ]
  },
  {
   "cell_type": "code",
   "execution_count": 5,
   "id": "27c11506",
   "metadata": {},
   "outputs": [
    {
     "data": {
      "text/html": [
       "4"
      ],
      "text/latex": [
       "4"
      ],
      "text/markdown": [
       "4"
      ],
      "text/plain": [
       "[1] 4"
      ]
     },
     "metadata": {},
     "output_type": "display_data"
    }
   ],
   "source": [
    "# count the number of unique of greenhouses\n",
    "num.gh = unique(gh$Greenhouse) # 1,2,3,4\n",
    "num.gh = length(num.gh) # 4\n",
    "num.gh "
   ]
  },
  {
   "cell_type": "code",
   "execution_count": 6,
   "id": "ca343694",
   "metadata": {},
   "outputs": [
    {
     "data": {
      "text/html": [
       "<table class=\"dataframe\">\n",
       "<caption>A data.frame: 16 × 5</caption>\n",
       "<thead>\n",
       "\t<tr><th scope=col>Observation</th><th scope=col>Greenhouse</th><th scope=col>Humidity.Level</th><th scope=col>Plant</th><th scope=col>error1</th></tr>\n",
       "\t<tr><th scope=col>&lt;int&gt;</th><th scope=col>&lt;int&gt;</th><th scope=col>&lt;chr&gt;</th><th scope=col>&lt;chr&gt;</th><th scope=col>&lt;dbl&gt;</th></tr>\n",
       "</thead>\n",
       "<tbody>\n",
       "\t<tr><td> 1</td><td>1</td><td>H</td><td>Northern Light</td><td>-0.9985371</td></tr>\n",
       "\t<tr><td> 2</td><td>1</td><td>H</td><td>Northern Light</td><td>-0.9985371</td></tr>\n",
       "\t<tr><td> 3</td><td>1</td><td>H</td><td>B52           </td><td>-0.9985371</td></tr>\n",
       "\t<tr><td> 4</td><td>1</td><td>H</td><td>B52           </td><td>-0.9985371</td></tr>\n",
       "\t<tr><td> 5</td><td>2</td><td>H</td><td>Northern Light</td><td>-1.0684437</td></tr>\n",
       "\t<tr><td> 6</td><td>2</td><td>H</td><td>Northern Light</td><td>-1.0684437</td></tr>\n",
       "\t<tr><td> 7</td><td>2</td><td>H</td><td>B52           </td><td>-1.0684437</td></tr>\n",
       "\t<tr><td> 8</td><td>2</td><td>H</td><td>B52           </td><td>-1.0684437</td></tr>\n",
       "\t<tr><td> 9</td><td>3</td><td>L</td><td>Northern Light</td><td> 1.8086484</td></tr>\n",
       "\t<tr><td>10</td><td>3</td><td>L</td><td>Northern Light</td><td> 1.8086484</td></tr>\n",
       "\t<tr><td>11</td><td>3</td><td>L</td><td>B52           </td><td> 1.8086484</td></tr>\n",
       "\t<tr><td>12</td><td>3</td><td>L</td><td>B52           </td><td> 1.8086484</td></tr>\n",
       "\t<tr><td>13</td><td>4</td><td>L</td><td>Northern Light</td><td> 0.7632905</td></tr>\n",
       "\t<tr><td>14</td><td>4</td><td>L</td><td>Northern Light</td><td> 0.7632905</td></tr>\n",
       "\t<tr><td>15</td><td>4</td><td>L</td><td>B52           </td><td> 0.7632905</td></tr>\n",
       "\t<tr><td>16</td><td>4</td><td>L</td><td>B52           </td><td> 0.7632905</td></tr>\n",
       "</tbody>\n",
       "</table>\n"
      ],
      "text/latex": [
       "A data.frame: 16 × 5\n",
       "\\begin{tabular}{lllll}\n",
       " Observation & Greenhouse & Humidity.Level & Plant & error1\\\\\n",
       " <int> & <int> & <chr> & <chr> & <dbl>\\\\\n",
       "\\hline\n",
       "\t  1 & 1 & H & Northern Light & -0.9985371\\\\\n",
       "\t  2 & 1 & H & Northern Light & -0.9985371\\\\\n",
       "\t  3 & 1 & H & B52            & -0.9985371\\\\\n",
       "\t  4 & 1 & H & B52            & -0.9985371\\\\\n",
       "\t  5 & 2 & H & Northern Light & -1.0684437\\\\\n",
       "\t  6 & 2 & H & Northern Light & -1.0684437\\\\\n",
       "\t  7 & 2 & H & B52            & -1.0684437\\\\\n",
       "\t  8 & 2 & H & B52            & -1.0684437\\\\\n",
       "\t  9 & 3 & L & Northern Light &  1.8086484\\\\\n",
       "\t 10 & 3 & L & Northern Light &  1.8086484\\\\\n",
       "\t 11 & 3 & L & B52            &  1.8086484\\\\\n",
       "\t 12 & 3 & L & B52            &  1.8086484\\\\\n",
       "\t 13 & 4 & L & Northern Light &  0.7632905\\\\\n",
       "\t 14 & 4 & L & Northern Light &  0.7632905\\\\\n",
       "\t 15 & 4 & L & B52            &  0.7632905\\\\\n",
       "\t 16 & 4 & L & B52            &  0.7632905\\\\\n",
       "\\end{tabular}\n"
      ],
      "text/markdown": [
       "\n",
       "A data.frame: 16 × 5\n",
       "\n",
       "| Observation &lt;int&gt; | Greenhouse &lt;int&gt; | Humidity.Level &lt;chr&gt; | Plant &lt;chr&gt; | error1 &lt;dbl&gt; |\n",
       "|---|---|---|---|---|\n",
       "|  1 | 1 | H | Northern Light | -0.9985371 |\n",
       "|  2 | 1 | H | Northern Light | -0.9985371 |\n",
       "|  3 | 1 | H | B52            | -0.9985371 |\n",
       "|  4 | 1 | H | B52            | -0.9985371 |\n",
       "|  5 | 2 | H | Northern Light | -1.0684437 |\n",
       "|  6 | 2 | H | Northern Light | -1.0684437 |\n",
       "|  7 | 2 | H | B52            | -1.0684437 |\n",
       "|  8 | 2 | H | B52            | -1.0684437 |\n",
       "|  9 | 3 | L | Northern Light |  1.8086484 |\n",
       "| 10 | 3 | L | Northern Light |  1.8086484 |\n",
       "| 11 | 3 | L | B52            |  1.8086484 |\n",
       "| 12 | 3 | L | B52            |  1.8086484 |\n",
       "| 13 | 4 | L | Northern Light |  0.7632905 |\n",
       "| 14 | 4 | L | Northern Light |  0.7632905 |\n",
       "| 15 | 4 | L | B52            |  0.7632905 |\n",
       "| 16 | 4 | L | B52            |  0.7632905 |\n",
       "\n"
      ],
      "text/plain": [
       "   Observation Greenhouse Humidity.Level Plant          error1    \n",
       "1   1          1          H              Northern Light -0.9985371\n",
       "2   2          1          H              Northern Light -0.9985371\n",
       "3   3          1          H              B52            -0.9985371\n",
       "4   4          1          H              B52            -0.9985371\n",
       "5   5          2          H              Northern Light -1.0684437\n",
       "6   6          2          H              Northern Light -1.0684437\n",
       "7   7          2          H              B52            -1.0684437\n",
       "8   8          2          H              B52            -1.0684437\n",
       "9   9          3          L              Northern Light  1.8086484\n",
       "10 10          3          L              Northern Light  1.8086484\n",
       "11 11          3          L              B52             1.8086484\n",
       "12 12          3          L              B52             1.8086484\n",
       "13 13          4          L              Northern Light  0.7632905\n",
       "14 14          4          L              Northern Light  0.7632905\n",
       "15 15          4          L              B52             0.7632905\n",
       "16 16          4          L              B52             0.7632905"
      ]
     },
     "metadata": {},
     "output_type": "display_data"
    }
   ],
   "source": [
    "# generate the error terms for between greenhouses (1 kg)\n",
    "error1 = rnorm(num.gh, mean=0, sd=1)\n",
    "gh$error1 = rep(error1, each=num.gh)\n",
    "gh"
   ]
  },
  {
   "cell_type": "code",
   "execution_count": 7,
   "id": "08605a7d",
   "metadata": {},
   "outputs": [
    {
     "data": {
      "text/html": [
       "<table class=\"dataframe\">\n",
       "<caption>A data.frame: 16 × 6</caption>\n",
       "<thead>\n",
       "\t<tr><th scope=col>Observation</th><th scope=col>Greenhouse</th><th scope=col>Humidity.Level</th><th scope=col>Plant</th><th scope=col>error1</th><th scope=col>error2</th></tr>\n",
       "\t<tr><th scope=col>&lt;int&gt;</th><th scope=col>&lt;int&gt;</th><th scope=col>&lt;chr&gt;</th><th scope=col>&lt;chr&gt;</th><th scope=col>&lt;dbl&gt;</th><th scope=col>&lt;dbl&gt;</th></tr>\n",
       "</thead>\n",
       "<tbody>\n",
       "\t<tr><td> 1</td><td>1</td><td>H</td><td>Northern Light</td><td>-0.9985371</td><td> 0.205707113</td></tr>\n",
       "\t<tr><td> 2</td><td>1</td><td>H</td><td>Northern Light</td><td>-0.9985371</td><td>-0.263541164</td></tr>\n",
       "\t<tr><td> 3</td><td>1</td><td>H</td><td>B52           </td><td>-0.9985371</td><td>-0.547475391</td></tr>\n",
       "\t<tr><td> 4</td><td>1</td><td>H</td><td>B52           </td><td>-0.9985371</td><td> 0.044597098</td></tr>\n",
       "\t<tr><td> 5</td><td>2</td><td>H</td><td>Northern Light</td><td>-1.0684437</td><td>-0.368651355</td></tr>\n",
       "\t<tr><td> 6</td><td>2</td><td>H</td><td>Northern Light</td><td>-1.0684437</td><td> 1.185826310</td></tr>\n",
       "\t<tr><td> 7</td><td>2</td><td>H</td><td>B52           </td><td>-1.0684437</td><td>-0.203617268</td></tr>\n",
       "\t<tr><td> 8</td><td>2</td><td>H</td><td>B52           </td><td>-1.0684437</td><td>-0.472470849</td></tr>\n",
       "\t<tr><td> 9</td><td>3</td><td>L</td><td>Northern Light</td><td> 1.8086484</td><td> 0.300097391</td></tr>\n",
       "\t<tr><td>10</td><td>3</td><td>L</td><td>Northern Light</td><td> 1.8086484</td><td> 0.412981977</td></tr>\n",
       "\t<tr><td>11</td><td>3</td><td>L</td><td>B52           </td><td> 1.8086484</td><td>-0.022067605</td></tr>\n",
       "\t<tr><td>12</td><td>3</td><td>L</td><td>B52           </td><td> 1.8086484</td><td>-0.235413058</td></tr>\n",
       "\t<tr><td>13</td><td>4</td><td>L</td><td>Northern Light</td><td> 0.7632905</td><td> 0.066038654</td></tr>\n",
       "\t<tr><td>14</td><td>4</td><td>L</td><td>Northern Light</td><td> 0.7632905</td><td> 0.594986745</td></tr>\n",
       "\t<tr><td>15</td><td>4</td><td>L</td><td>B52           </td><td> 0.7632905</td><td> 0.211189843</td></tr>\n",
       "\t<tr><td>16</td><td>4</td><td>L</td><td>B52           </td><td> 0.7632905</td><td> 0.001598197</td></tr>\n",
       "</tbody>\n",
       "</table>\n"
      ],
      "text/latex": [
       "A data.frame: 16 × 6\n",
       "\\begin{tabular}{llllll}\n",
       " Observation & Greenhouse & Humidity.Level & Plant & error1 & error2\\\\\n",
       " <int> & <int> & <chr> & <chr> & <dbl> & <dbl>\\\\\n",
       "\\hline\n",
       "\t  1 & 1 & H & Northern Light & -0.9985371 &  0.205707113\\\\\n",
       "\t  2 & 1 & H & Northern Light & -0.9985371 & -0.263541164\\\\\n",
       "\t  3 & 1 & H & B52            & -0.9985371 & -0.547475391\\\\\n",
       "\t  4 & 1 & H & B52            & -0.9985371 &  0.044597098\\\\\n",
       "\t  5 & 2 & H & Northern Light & -1.0684437 & -0.368651355\\\\\n",
       "\t  6 & 2 & H & Northern Light & -1.0684437 &  1.185826310\\\\\n",
       "\t  7 & 2 & H & B52            & -1.0684437 & -0.203617268\\\\\n",
       "\t  8 & 2 & H & B52            & -1.0684437 & -0.472470849\\\\\n",
       "\t  9 & 3 & L & Northern Light &  1.8086484 &  0.300097391\\\\\n",
       "\t 10 & 3 & L & Northern Light &  1.8086484 &  0.412981977\\\\\n",
       "\t 11 & 3 & L & B52            &  1.8086484 & -0.022067605\\\\\n",
       "\t 12 & 3 & L & B52            &  1.8086484 & -0.235413058\\\\\n",
       "\t 13 & 4 & L & Northern Light &  0.7632905 &  0.066038654\\\\\n",
       "\t 14 & 4 & L & Northern Light &  0.7632905 &  0.594986745\\\\\n",
       "\t 15 & 4 & L & B52            &  0.7632905 &  0.211189843\\\\\n",
       "\t 16 & 4 & L & B52            &  0.7632905 &  0.001598197\\\\\n",
       "\\end{tabular}\n"
      ],
      "text/markdown": [
       "\n",
       "A data.frame: 16 × 6\n",
       "\n",
       "| Observation &lt;int&gt; | Greenhouse &lt;int&gt; | Humidity.Level &lt;chr&gt; | Plant &lt;chr&gt; | error1 &lt;dbl&gt; | error2 &lt;dbl&gt; |\n",
       "|---|---|---|---|---|---|\n",
       "|  1 | 1 | H | Northern Light | -0.9985371 |  0.205707113 |\n",
       "|  2 | 1 | H | Northern Light | -0.9985371 | -0.263541164 |\n",
       "|  3 | 1 | H | B52            | -0.9985371 | -0.547475391 |\n",
       "|  4 | 1 | H | B52            | -0.9985371 |  0.044597098 |\n",
       "|  5 | 2 | H | Northern Light | -1.0684437 | -0.368651355 |\n",
       "|  6 | 2 | H | Northern Light | -1.0684437 |  1.185826310 |\n",
       "|  7 | 2 | H | B52            | -1.0684437 | -0.203617268 |\n",
       "|  8 | 2 | H | B52            | -1.0684437 | -0.472470849 |\n",
       "|  9 | 3 | L | Northern Light |  1.8086484 |  0.300097391 |\n",
       "| 10 | 3 | L | Northern Light |  1.8086484 |  0.412981977 |\n",
       "| 11 | 3 | L | B52            |  1.8086484 | -0.022067605 |\n",
       "| 12 | 3 | L | B52            |  1.8086484 | -0.235413058 |\n",
       "| 13 | 4 | L | Northern Light |  0.7632905 |  0.066038654 |\n",
       "| 14 | 4 | L | Northern Light |  0.7632905 |  0.594986745 |\n",
       "| 15 | 4 | L | B52            |  0.7632905 |  0.211189843 |\n",
       "| 16 | 4 | L | B52            |  0.7632905 |  0.001598197 |\n",
       "\n"
      ],
      "text/plain": [
       "   Observation Greenhouse Humidity.Level Plant          error1     error2      \n",
       "1   1          1          H              Northern Light -0.9985371  0.205707113\n",
       "2   2          1          H              Northern Light -0.9985371 -0.263541164\n",
       "3   3          1          H              B52            -0.9985371 -0.547475391\n",
       "4   4          1          H              B52            -0.9985371  0.044597098\n",
       "5   5          2          H              Northern Light -1.0684437 -0.368651355\n",
       "6   6          2          H              Northern Light -1.0684437  1.185826310\n",
       "7   7          2          H              B52            -1.0684437 -0.203617268\n",
       "8   8          2          H              B52            -1.0684437 -0.472470849\n",
       "9   9          3          L              Northern Light  1.8086484  0.300097391\n",
       "10 10          3          L              Northern Light  1.8086484  0.412981977\n",
       "11 11          3          L              B52             1.8086484 -0.022067605\n",
       "12 12          3          L              B52             1.8086484 -0.235413058\n",
       "13 13          4          L              Northern Light  0.7632905  0.066038654\n",
       "14 14          4          L              Northern Light  0.7632905  0.594986745\n",
       "15 15          4          L              B52             0.7632905  0.211189843\n",
       "16 16          4          L              B52             0.7632905  0.001598197"
      ]
     },
     "metadata": {},
     "output_type": "display_data"
    }
   ],
   "source": [
    "# generate the error terms for within greenhouses (0.5 kg)\n",
    "num.plants = length(gh$Observation)\n",
    "gh$error2 = rnorm(num.plants, mean = 0, sd=0.5)\n",
    "gh"
   ]
  },
  {
   "cell_type": "code",
   "execution_count": 8,
   "id": "799b94a7",
   "metadata": {},
   "outputs": [
    {
     "data": {
      "text/html": [
       "<table class=\"dataframe\">\n",
       "<caption>A data.frame: 16 × 3</caption>\n",
       "<thead>\n",
       "\t<tr><th scope=col>error1</th><th scope=col>error2</th><th scope=col>humidity.effect</th></tr>\n",
       "\t<tr><th scope=col>&lt;dbl&gt;</th><th scope=col>&lt;dbl&gt;</th><th scope=col>&lt;dbl&gt;</th></tr>\n",
       "</thead>\n",
       "<tbody>\n",
       "\t<tr><td>-0.9985371</td><td> 0.205707113</td><td>2</td></tr>\n",
       "\t<tr><td>-0.9985371</td><td>-0.263541164</td><td>2</td></tr>\n",
       "\t<tr><td>-0.9985371</td><td>-0.547475391</td><td>2</td></tr>\n",
       "\t<tr><td>-0.9985371</td><td> 0.044597098</td><td>2</td></tr>\n",
       "\t<tr><td>-1.0684437</td><td>-0.368651355</td><td>2</td></tr>\n",
       "\t<tr><td>-1.0684437</td><td> 1.185826310</td><td>2</td></tr>\n",
       "\t<tr><td>-1.0684437</td><td>-0.203617268</td><td>2</td></tr>\n",
       "\t<tr><td>-1.0684437</td><td>-0.472470849</td><td>2</td></tr>\n",
       "\t<tr><td> 1.8086484</td><td> 0.300097391</td><td>1</td></tr>\n",
       "\t<tr><td> 1.8086484</td><td> 0.412981977</td><td>1</td></tr>\n",
       "\t<tr><td> 1.8086484</td><td>-0.022067605</td><td>1</td></tr>\n",
       "\t<tr><td> 1.8086484</td><td>-0.235413058</td><td>1</td></tr>\n",
       "\t<tr><td> 0.7632905</td><td> 0.066038654</td><td>1</td></tr>\n",
       "\t<tr><td> 0.7632905</td><td> 0.594986745</td><td>1</td></tr>\n",
       "\t<tr><td> 0.7632905</td><td> 0.211189843</td><td>1</td></tr>\n",
       "\t<tr><td> 0.7632905</td><td> 0.001598197</td><td>1</td></tr>\n",
       "</tbody>\n",
       "</table>\n"
      ],
      "text/latex": [
       "A data.frame: 16 × 3\n",
       "\\begin{tabular}{lll}\n",
       " error1 & error2 & humidity.effect\\\\\n",
       " <dbl> & <dbl> & <dbl>\\\\\n",
       "\\hline\n",
       "\t -0.9985371 &  0.205707113 & 2\\\\\n",
       "\t -0.9985371 & -0.263541164 & 2\\\\\n",
       "\t -0.9985371 & -0.547475391 & 2\\\\\n",
       "\t -0.9985371 &  0.044597098 & 2\\\\\n",
       "\t -1.0684437 & -0.368651355 & 2\\\\\n",
       "\t -1.0684437 &  1.185826310 & 2\\\\\n",
       "\t -1.0684437 & -0.203617268 & 2\\\\\n",
       "\t -1.0684437 & -0.472470849 & 2\\\\\n",
       "\t  1.8086484 &  0.300097391 & 1\\\\\n",
       "\t  1.8086484 &  0.412981977 & 1\\\\\n",
       "\t  1.8086484 & -0.022067605 & 1\\\\\n",
       "\t  1.8086484 & -0.235413058 & 1\\\\\n",
       "\t  0.7632905 &  0.066038654 & 1\\\\\n",
       "\t  0.7632905 &  0.594986745 & 1\\\\\n",
       "\t  0.7632905 &  0.211189843 & 1\\\\\n",
       "\t  0.7632905 &  0.001598197 & 1\\\\\n",
       "\\end{tabular}\n"
      ],
      "text/markdown": [
       "\n",
       "A data.frame: 16 × 3\n",
       "\n",
       "| error1 &lt;dbl&gt; | error2 &lt;dbl&gt; | humidity.effect &lt;dbl&gt; |\n",
       "|---|---|---|\n",
       "| -0.9985371 |  0.205707113 | 2 |\n",
       "| -0.9985371 | -0.263541164 | 2 |\n",
       "| -0.9985371 | -0.547475391 | 2 |\n",
       "| -0.9985371 |  0.044597098 | 2 |\n",
       "| -1.0684437 | -0.368651355 | 2 |\n",
       "| -1.0684437 |  1.185826310 | 2 |\n",
       "| -1.0684437 | -0.203617268 | 2 |\n",
       "| -1.0684437 | -0.472470849 | 2 |\n",
       "|  1.8086484 |  0.300097391 | 1 |\n",
       "|  1.8086484 |  0.412981977 | 1 |\n",
       "|  1.8086484 | -0.022067605 | 1 |\n",
       "|  1.8086484 | -0.235413058 | 1 |\n",
       "|  0.7632905 |  0.066038654 | 1 |\n",
       "|  0.7632905 |  0.594986745 | 1 |\n",
       "|  0.7632905 |  0.211189843 | 1 |\n",
       "|  0.7632905 |  0.001598197 | 1 |\n",
       "\n"
      ],
      "text/plain": [
       "   error1     error2       humidity.effect\n",
       "1  -0.9985371  0.205707113 2              \n",
       "2  -0.9985371 -0.263541164 2              \n",
       "3  -0.9985371 -0.547475391 2              \n",
       "4  -0.9985371  0.044597098 2              \n",
       "5  -1.0684437 -0.368651355 2              \n",
       "6  -1.0684437  1.185826310 2              \n",
       "7  -1.0684437 -0.203617268 2              \n",
       "8  -1.0684437 -0.472470849 2              \n",
       "9   1.8086484  0.300097391 1              \n",
       "10  1.8086484  0.412981977 1              \n",
       "11  1.8086484 -0.022067605 1              \n",
       "12  1.8086484 -0.235413058 1              \n",
       "13  0.7632905  0.066038654 1              \n",
       "14  0.7632905  0.594986745 1              \n",
       "15  0.7632905  0.211189843 1              \n",
       "16  0.7632905  0.001598197 1              "
      ]
     },
     "metadata": {},
     "output_type": "display_data"
    }
   ],
   "source": [
    "# generate the effects for humidity, difference can by anything but considered 1 kg\n",
    "# the df has 8 Hs followed by 8 Ls\n",
    "gh$humidity.effect[1:8] = 2\n",
    "gh$humidity.effect[9:16] = 1\n",
    "# not showing LHS df becaues of larger-size printing issue\n",
    "gh[, 5:7]"
   ]
  },
  {
   "cell_type": "code",
   "execution_count": 9,
   "id": "cf3596ff",
   "metadata": {},
   "outputs": [
    {
     "data": {
      "text/html": [
       "<table class=\"dataframe\">\n",
       "<caption>A data.frame: 16 × 4</caption>\n",
       "<thead>\n",
       "\t<tr><th scope=col>error1</th><th scope=col>error2</th><th scope=col>humidity.effect</th><th scope=col>plant.effect</th></tr>\n",
       "\t<tr><th scope=col>&lt;dbl&gt;</th><th scope=col>&lt;dbl&gt;</th><th scope=col>&lt;dbl&gt;</th><th scope=col>&lt;dbl&gt;</th></tr>\n",
       "</thead>\n",
       "<tbody>\n",
       "\t<tr><td>-0.9985371</td><td> 0.205707113</td><td>2</td><td>2</td></tr>\n",
       "\t<tr><td>-0.9985371</td><td>-0.263541164</td><td>2</td><td>2</td></tr>\n",
       "\t<tr><td>-0.9985371</td><td>-0.547475391</td><td>2</td><td>1</td></tr>\n",
       "\t<tr><td>-0.9985371</td><td> 0.044597098</td><td>2</td><td>1</td></tr>\n",
       "\t<tr><td>-1.0684437</td><td>-0.368651355</td><td>2</td><td>2</td></tr>\n",
       "\t<tr><td>-1.0684437</td><td> 1.185826310</td><td>2</td><td>2</td></tr>\n",
       "\t<tr><td>-1.0684437</td><td>-0.203617268</td><td>2</td><td>1</td></tr>\n",
       "\t<tr><td>-1.0684437</td><td>-0.472470849</td><td>2</td><td>1</td></tr>\n",
       "\t<tr><td> 1.8086484</td><td> 0.300097391</td><td>1</td><td>2</td></tr>\n",
       "\t<tr><td> 1.8086484</td><td> 0.412981977</td><td>1</td><td>2</td></tr>\n",
       "\t<tr><td> 1.8086484</td><td>-0.022067605</td><td>1</td><td>1</td></tr>\n",
       "\t<tr><td> 1.8086484</td><td>-0.235413058</td><td>1</td><td>1</td></tr>\n",
       "\t<tr><td> 0.7632905</td><td> 0.066038654</td><td>1</td><td>2</td></tr>\n",
       "\t<tr><td> 0.7632905</td><td> 0.594986745</td><td>1</td><td>2</td></tr>\n",
       "\t<tr><td> 0.7632905</td><td> 0.211189843</td><td>1</td><td>1</td></tr>\n",
       "\t<tr><td> 0.7632905</td><td> 0.001598197</td><td>1</td><td>1</td></tr>\n",
       "</tbody>\n",
       "</table>\n"
      ],
      "text/latex": [
       "A data.frame: 16 × 4\n",
       "\\begin{tabular}{llll}\n",
       " error1 & error2 & humidity.effect & plant.effect\\\\\n",
       " <dbl> & <dbl> & <dbl> & <dbl>\\\\\n",
       "\\hline\n",
       "\t -0.9985371 &  0.205707113 & 2 & 2\\\\\n",
       "\t -0.9985371 & -0.263541164 & 2 & 2\\\\\n",
       "\t -0.9985371 & -0.547475391 & 2 & 1\\\\\n",
       "\t -0.9985371 &  0.044597098 & 2 & 1\\\\\n",
       "\t -1.0684437 & -0.368651355 & 2 & 2\\\\\n",
       "\t -1.0684437 &  1.185826310 & 2 & 2\\\\\n",
       "\t -1.0684437 & -0.203617268 & 2 & 1\\\\\n",
       "\t -1.0684437 & -0.472470849 & 2 & 1\\\\\n",
       "\t  1.8086484 &  0.300097391 & 1 & 2\\\\\n",
       "\t  1.8086484 &  0.412981977 & 1 & 2\\\\\n",
       "\t  1.8086484 & -0.022067605 & 1 & 1\\\\\n",
       "\t  1.8086484 & -0.235413058 & 1 & 1\\\\\n",
       "\t  0.7632905 &  0.066038654 & 1 & 2\\\\\n",
       "\t  0.7632905 &  0.594986745 & 1 & 2\\\\\n",
       "\t  0.7632905 &  0.211189843 & 1 & 1\\\\\n",
       "\t  0.7632905 &  0.001598197 & 1 & 1\\\\\n",
       "\\end{tabular}\n"
      ],
      "text/markdown": [
       "\n",
       "A data.frame: 16 × 4\n",
       "\n",
       "| error1 &lt;dbl&gt; | error2 &lt;dbl&gt; | humidity.effect &lt;dbl&gt; | plant.effect &lt;dbl&gt; |\n",
       "|---|---|---|---|\n",
       "| -0.9985371 |  0.205707113 | 2 | 2 |\n",
       "| -0.9985371 | -0.263541164 | 2 | 2 |\n",
       "| -0.9985371 | -0.547475391 | 2 | 1 |\n",
       "| -0.9985371 |  0.044597098 | 2 | 1 |\n",
       "| -1.0684437 | -0.368651355 | 2 | 2 |\n",
       "| -1.0684437 |  1.185826310 | 2 | 2 |\n",
       "| -1.0684437 | -0.203617268 | 2 | 1 |\n",
       "| -1.0684437 | -0.472470849 | 2 | 1 |\n",
       "|  1.8086484 |  0.300097391 | 1 | 2 |\n",
       "|  1.8086484 |  0.412981977 | 1 | 2 |\n",
       "|  1.8086484 | -0.022067605 | 1 | 1 |\n",
       "|  1.8086484 | -0.235413058 | 1 | 1 |\n",
       "|  0.7632905 |  0.066038654 | 1 | 2 |\n",
       "|  0.7632905 |  0.594986745 | 1 | 2 |\n",
       "|  0.7632905 |  0.211189843 | 1 | 1 |\n",
       "|  0.7632905 |  0.001598197 | 1 | 1 |\n",
       "\n"
      ],
      "text/plain": [
       "   error1     error2       humidity.effect plant.effect\n",
       "1  -0.9985371  0.205707113 2               2           \n",
       "2  -0.9985371 -0.263541164 2               2           \n",
       "3  -0.9985371 -0.547475391 2               1           \n",
       "4  -0.9985371  0.044597098 2               1           \n",
       "5  -1.0684437 -0.368651355 2               2           \n",
       "6  -1.0684437  1.185826310 2               2           \n",
       "7  -1.0684437 -0.203617268 2               1           \n",
       "8  -1.0684437 -0.472470849 2               1           \n",
       "9   1.8086484  0.300097391 1               2           \n",
       "10  1.8086484  0.412981977 1               2           \n",
       "11  1.8086484 -0.022067605 1               1           \n",
       "12  1.8086484 -0.235413058 1               1           \n",
       "13  0.7632905  0.066038654 1               2           \n",
       "14  0.7632905  0.594986745 1               2           \n",
       "15  0.7632905  0.211189843 1               1           \n",
       "16  0.7632905  0.001598197 1               1           "
      ]
     },
     "metadata": {},
     "output_type": "display_data"
    }
   ],
   "source": [
    "# generate the effects for plant variety, difference is 1 kg\n",
    "# the df has 2 Northern Lights followed by 2 B52s and is repeated 4 times\n",
    "plant.effect = c(2,2,1,1)\n",
    "gh$plant.effect = rep(plant.effect, times=4)\n",
    "gh[, 5:8]"
   ]
  },
  {
   "cell_type": "code",
   "execution_count": 10,
   "id": "3e2d0892",
   "metadata": {},
   "outputs": [
    {
     "data": {
      "text/html": [
       "<table class=\"dataframe\">\n",
       "<caption>A data.frame: 16 × 5</caption>\n",
       "<thead>\n",
       "\t<tr><th scope=col>error1</th><th scope=col>error2</th><th scope=col>humidity.effect</th><th scope=col>plant.effect</th><th scope=col>yeild</th></tr>\n",
       "\t<tr><th scope=col>&lt;dbl&gt;</th><th scope=col>&lt;dbl&gt;</th><th scope=col>&lt;dbl&gt;</th><th scope=col>&lt;dbl&gt;</th><th scope=col>&lt;dbl&gt;</th></tr>\n",
       "</thead>\n",
       "<tbody>\n",
       "\t<tr><td>-0.9985371</td><td> 0.205707113</td><td>2</td><td>2</td><td>3.207170</td></tr>\n",
       "\t<tr><td>-0.9985371</td><td>-0.263541164</td><td>2</td><td>2</td><td>2.737922</td></tr>\n",
       "\t<tr><td>-0.9985371</td><td>-0.547475391</td><td>2</td><td>1</td><td>1.453988</td></tr>\n",
       "\t<tr><td>-0.9985371</td><td> 0.044597098</td><td>2</td><td>1</td><td>2.046060</td></tr>\n",
       "\t<tr><td>-1.0684437</td><td>-0.368651355</td><td>2</td><td>2</td><td>2.562905</td></tr>\n",
       "\t<tr><td>-1.0684437</td><td> 1.185826310</td><td>2</td><td>2</td><td>4.117383</td></tr>\n",
       "\t<tr><td>-1.0684437</td><td>-0.203617268</td><td>2</td><td>1</td><td>1.727939</td></tr>\n",
       "\t<tr><td>-1.0684437</td><td>-0.472470849</td><td>2</td><td>1</td><td>1.459085</td></tr>\n",
       "\t<tr><td> 1.8086484</td><td> 0.300097391</td><td>1</td><td>2</td><td>5.108746</td></tr>\n",
       "\t<tr><td> 1.8086484</td><td> 0.412981977</td><td>1</td><td>2</td><td>5.221630</td></tr>\n",
       "\t<tr><td> 1.8086484</td><td>-0.022067605</td><td>1</td><td>1</td><td>3.786581</td></tr>\n",
       "\t<tr><td> 1.8086484</td><td>-0.235413058</td><td>1</td><td>1</td><td>3.573235</td></tr>\n",
       "\t<tr><td> 0.7632905</td><td> 0.066038654</td><td>1</td><td>2</td><td>3.829329</td></tr>\n",
       "\t<tr><td> 0.7632905</td><td> 0.594986745</td><td>1</td><td>2</td><td>4.358277</td></tr>\n",
       "\t<tr><td> 0.7632905</td><td> 0.211189843</td><td>1</td><td>1</td><td>2.974480</td></tr>\n",
       "\t<tr><td> 0.7632905</td><td> 0.001598197</td><td>1</td><td>1</td><td>2.764889</td></tr>\n",
       "</tbody>\n",
       "</table>\n"
      ],
      "text/latex": [
       "A data.frame: 16 × 5\n",
       "\\begin{tabular}{lllll}\n",
       " error1 & error2 & humidity.effect & plant.effect & yeild\\\\\n",
       " <dbl> & <dbl> & <dbl> & <dbl> & <dbl>\\\\\n",
       "\\hline\n",
       "\t -0.9985371 &  0.205707113 & 2 & 2 & 3.207170\\\\\n",
       "\t -0.9985371 & -0.263541164 & 2 & 2 & 2.737922\\\\\n",
       "\t -0.9985371 & -0.547475391 & 2 & 1 & 1.453988\\\\\n",
       "\t -0.9985371 &  0.044597098 & 2 & 1 & 2.046060\\\\\n",
       "\t -1.0684437 & -0.368651355 & 2 & 2 & 2.562905\\\\\n",
       "\t -1.0684437 &  1.185826310 & 2 & 2 & 4.117383\\\\\n",
       "\t -1.0684437 & -0.203617268 & 2 & 1 & 1.727939\\\\\n",
       "\t -1.0684437 & -0.472470849 & 2 & 1 & 1.459085\\\\\n",
       "\t  1.8086484 &  0.300097391 & 1 & 2 & 5.108746\\\\\n",
       "\t  1.8086484 &  0.412981977 & 1 & 2 & 5.221630\\\\\n",
       "\t  1.8086484 & -0.022067605 & 1 & 1 & 3.786581\\\\\n",
       "\t  1.8086484 & -0.235413058 & 1 & 1 & 3.573235\\\\\n",
       "\t  0.7632905 &  0.066038654 & 1 & 2 & 3.829329\\\\\n",
       "\t  0.7632905 &  0.594986745 & 1 & 2 & 4.358277\\\\\n",
       "\t  0.7632905 &  0.211189843 & 1 & 1 & 2.974480\\\\\n",
       "\t  0.7632905 &  0.001598197 & 1 & 1 & 2.764889\\\\\n",
       "\\end{tabular}\n"
      ],
      "text/markdown": [
       "\n",
       "A data.frame: 16 × 5\n",
       "\n",
       "| error1 &lt;dbl&gt; | error2 &lt;dbl&gt; | humidity.effect &lt;dbl&gt; | plant.effect &lt;dbl&gt; | yeild &lt;dbl&gt; |\n",
       "|---|---|---|---|---|\n",
       "| -0.9985371 |  0.205707113 | 2 | 2 | 3.207170 |\n",
       "| -0.9985371 | -0.263541164 | 2 | 2 | 2.737922 |\n",
       "| -0.9985371 | -0.547475391 | 2 | 1 | 1.453988 |\n",
       "| -0.9985371 |  0.044597098 | 2 | 1 | 2.046060 |\n",
       "| -1.0684437 | -0.368651355 | 2 | 2 | 2.562905 |\n",
       "| -1.0684437 |  1.185826310 | 2 | 2 | 4.117383 |\n",
       "| -1.0684437 | -0.203617268 | 2 | 1 | 1.727939 |\n",
       "| -1.0684437 | -0.472470849 | 2 | 1 | 1.459085 |\n",
       "|  1.8086484 |  0.300097391 | 1 | 2 | 5.108746 |\n",
       "|  1.8086484 |  0.412981977 | 1 | 2 | 5.221630 |\n",
       "|  1.8086484 | -0.022067605 | 1 | 1 | 3.786581 |\n",
       "|  1.8086484 | -0.235413058 | 1 | 1 | 3.573235 |\n",
       "|  0.7632905 |  0.066038654 | 1 | 2 | 3.829329 |\n",
       "|  0.7632905 |  0.594986745 | 1 | 2 | 4.358277 |\n",
       "|  0.7632905 |  0.211189843 | 1 | 1 | 2.974480 |\n",
       "|  0.7632905 |  0.001598197 | 1 | 1 | 2.764889 |\n",
       "\n"
      ],
      "text/plain": [
       "   error1     error2       humidity.effect plant.effect yeild   \n",
       "1  -0.9985371  0.205707113 2               2            3.207170\n",
       "2  -0.9985371 -0.263541164 2               2            2.737922\n",
       "3  -0.9985371 -0.547475391 2               1            1.453988\n",
       "4  -0.9985371  0.044597098 2               1            2.046060\n",
       "5  -1.0684437 -0.368651355 2               2            2.562905\n",
       "6  -1.0684437  1.185826310 2               2            4.117383\n",
       "7  -1.0684437 -0.203617268 2               1            1.727939\n",
       "8  -1.0684437 -0.472470849 2               1            1.459085\n",
       "9   1.8086484  0.300097391 1               2            5.108746\n",
       "10  1.8086484  0.412981977 1               2            5.221630\n",
       "11  1.8086484 -0.022067605 1               1            3.786581\n",
       "12  1.8086484 -0.235413058 1               1            3.573235\n",
       "13  0.7632905  0.066038654 1               2            3.829329\n",
       "14  0.7632905  0.594986745 1               2            4.358277\n",
       "15  0.7632905  0.211189843 1               1            2.974480\n",
       "16  0.7632905  0.001598197 1               1            2.764889"
      ]
     },
     "metadata": {},
     "output_type": "display_data"
    }
   ],
   "source": [
    "# generate the yeilds\n",
    "# yeild = humidity.effect + plant.effect + error1 + error2 (no interaction)\n",
    "gh$yeild = gh$humidity.effect + gh$plant.effect + gh$error1 + gh$error2\n",
    "gh[, 5:9]"
   ]
  },
  {
   "cell_type": "code",
   "execution_count": 11,
   "id": "e4b643f5",
   "metadata": {},
   "outputs": [
    {
     "data": {
      "text/plain": [
       "\n",
       "Error: Greenhouse:Humidity.Level\n",
       "               Df Sum Sq Mean Sq F value Pr(>F)  \n",
       "Humidity.Level  1  7.787   7.787   52.01 0.0877 .\n",
       "Residuals       1  0.150   0.150                 \n",
       "---\n",
       "Signif. codes:  0 ‘***’ 0.001 ‘**’ 0.01 ‘*’ 0.05 ‘.’ 0.1 ‘ ’ 1\n",
       "\n",
       "Error: Within\n",
       "                     Df Sum Sq Mean Sq F value   Pr(>F)    \n",
       "Humidity.Level        1  3.319   3.319  17.541  0.00186 ** \n",
       "Plant                 1  8.061   8.061  42.605 6.66e-05 ***\n",
       "Humidity.Level:Plant  1  0.017   0.017   0.089  0.77138    \n",
       "Residuals            10  1.892   0.189                     \n",
       "---\n",
       "Signif. codes:  0 ‘***’ 0.001 ‘**’ 0.01 ‘*’ 0.05 ‘.’ 0.1 ‘ ’ 1"
      ]
     },
     "metadata": {},
     "output_type": "display_data"
    },
    {
     "data": {
      "text/html": [
       "<strong>Pr(&gt;F)2:</strong> 1"
      ],
      "text/latex": [
       "\\textbf{Pr(>F)2:} 1"
      ],
      "text/markdown": [
       "**Pr(&amp;gt;F)2:** 1"
      ],
      "text/plain": [
       "Pr(>F)2 \n",
       "      1 "
      ]
     },
     "metadata": {},
     "output_type": "display_data"
    }
   ],
   "source": [
    "# perform ANOVA analysis on the model including the interation\n",
    "result = aov(yeild~Humidity.Level * Plant + Error(Greenhouse:Humidity.Level), data=gh)\n",
    "x=summary(result)\n",
    "# view summary \n",
    "x\n",
    "# get p-value for plant effect\n",
    "x = x$`Error: Within`\n",
    "z = unlist(x)\n",
    "pval = z[18]\n",
    "# check if p-value < 0.05\n",
    "counter = counter + (pval<0.05)\n",
    "# check yes/no\n",
    "counter"
   ]
  },
  {
   "cell_type": "code",
   "execution_count": 12,
   "id": "e91a1b3c",
   "metadata": {},
   "outputs": [],
   "source": [
    "# repeat above procedure 1000 times and check the proportions of time we reject null hypothesis\n",
    "for(i in 2:iter) {\n",
    "    gh = read.csv(\"q3.csv\", header=TRUE, sep=\",\")\n",
    "    num.gh = unique(gh$Greenhouse) \n",
    "    num.gh = length(num.gh) \n",
    "    error1 = rnorm(num.gh, mean=0, sd=1)\n",
    "    gh$error1 = rep(error1, each=num.gh)\n",
    "    num.plants = length(gh$Observation)\n",
    "    gh$error2 = rnorm(num.plants, mean = 0, sd=0.5)\n",
    "    gh$humidity.effect[1:8] = 2\n",
    "    gh$humidity.effect[9:16] = 1\n",
    "    plant.effect = c(2,2,1,1)\n",
    "    gh$plant.effect = rep(plant.effect, times=4)\n",
    "    gh$yeild = gh$humidity.effect + gh$plant.effect + gh$error1 + gh$error2\n",
    "    result = aov(yeild~Humidity.Level * Plant + Error(Greenhouse:Humidity.Level), data=gh)\n",
    "    x = summary(result)\n",
    "    x = x$`Error: Within`\n",
    "    z = unlist(x)\n",
    "    pval = z[18]\n",
    "    counter = counter + (pval<0.05)\n",
    "}"
   ]
  },
  {
   "cell_type": "code",
   "execution_count": 13,
   "id": "23984ed7",
   "metadata": {},
   "outputs": [
    {
     "data": {
      "text/html": [
       "<strong>Pr(&gt;F)2:</strong> 0.957"
      ],
      "text/latex": [
       "\\textbf{Pr(>F)2:} 0.957"
      ],
      "text/markdown": [
       "**Pr(&amp;gt;F)2:** 0.957"
      ],
      "text/plain": [
       "Pr(>F)2 \n",
       "  0.957 "
      ]
     },
     "metadata": {},
     "output_type": "display_data"
    }
   ],
   "source": [
    "# compute proportion\n",
    "proportion = counter/iter\n",
    "proportion"
   ]
  },
  {
   "cell_type": "markdown",
   "id": "b7b28967",
   "metadata": {},
   "source": [
    "Based on the simulation with this design, we have a power of 0.95 for the experiment, which is higher than the proposed power of 0.80. This indicates that we can confidently detect the effects of the different plant varieties on the mean yield within 1 kg. Therefore, we will need $2$ greenhouses for each level of humidity, resulting in a total of $4$ greenhouses for the two levels of humidity (i.e., high and low)."
   ]
  }
 ],
 "metadata": {
  "kernelspec": {
   "display_name": "R",
   "language": "R",
   "name": "ir"
  },
  "language_info": {
   "codemirror_mode": "r",
   "file_extension": ".r",
   "mimetype": "text/x-r-source",
   "name": "R",
   "pygments_lexer": "r",
   "version": "4.2.2"
  }
 },
 "nbformat": 4,
 "nbformat_minor": 5
}
